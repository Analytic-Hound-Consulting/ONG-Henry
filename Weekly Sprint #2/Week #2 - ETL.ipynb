{
 "cells": [
  {
   "attachments": {},
   "cell_type": "markdown",
   "metadata": {},
   "source": [
    "<img src=https://i.imgur.com/QnKVI6k.jpg>"
   ]
  },
  {
   "attachments": {},
   "cell_type": "markdown",
   "metadata": {},
   "source": [
    "---"
   ]
  },
  {
   "attachments": {},
   "cell_type": "markdown",
   "metadata": {},
   "source": [
    "# Intruduction"
   ]
  },
  {
   "attachments": {},
   "cell_type": "markdown",
   "metadata": {},
   "source": [
    "In this notebook you'll find all the ETL processes through pipelines to make the transforming data automatic in the future. "
   ]
  },
  {
   "attachments": {},
   "cell_type": "markdown",
   "metadata": {},
   "source": [
    "---"
   ]
  },
  {
   "attachments": {},
   "cell_type": "markdown",
   "metadata": {},
   "source": [
    "# ETL"
   ]
  },
  {
   "attachments": {},
   "cell_type": "markdown",
   "metadata": {},
   "source": [
    "🔹 We begin importing all the necessary libraries: "
   ]
  },
  {
   "cell_type": "code",
   "execution_count": 137,
   "metadata": {},
   "outputs": [],
   "source": [
    "#Libraries to work on the databases:\n",
    "from pandas_datareader import wb\n",
    "import wbgapi as wb\n",
    "import datetime\n",
    "import datapackage \n",
    "\n",
    "#Libraries to work on the pipeline:\n",
    "import pandas as pd\n",
    "from sklearn.base import BaseEstimator, TransformerMixin\n",
    "from sklearn.pipeline import Pipeline"
   ]
  },
  {
   "attachments": {},
   "cell_type": "markdown",
   "metadata": {},
   "source": [
    "# Importing the databases\n",
    "    We have different sources where the data comes from, therefore different methods are requiered.\n",
    "    All this data comes from the web, and so each time you call it, if theres's been an update, that will be shown here without problems. "
   ]
  },
  {
   "attachments": {},
   "cell_type": "markdown",
   "metadata": {},
   "source": [
    "For some dataframes, we need to stablish today's date, so in the future, the database will update itself:"
   ]
  },
  {
   "cell_type": "code",
   "execution_count": 138,
   "metadata": {},
   "outputs": [],
   "source": [
    "today = datetime.date.today()\n",
    "year = today.year"
   ]
  },
  {
   "attachments": {},
   "cell_type": "markdown",
   "metadata": {},
   "source": [
    "## Economy\n",
    "All of the databases come from the same source, therefore we only need to use one block of code."
   ]
  },
  {
   "cell_type": "code",
   "execution_count": 139,
   "metadata": {},
   "outputs": [],
   "source": [
    "#Economy series\n",
    "economy_worldbank_series = ['NY.GDP.MKTP.CD', 'NY.GDP.MKTP.KD.ZG', \"NE.CON.TOTL.KD.ZG\", \"NY.GNP.PCAP.CD\", \"NY.GNS.ICTR.ZS\", \"FP.CPI.TOTL\"]\n",
    "    # We indicate which data from the economy series we want.\n",
    "\n",
    "#Economoy DF load\n",
    "economy = wb.data.DataFrame((economy_worldbank_series), labels = True, time=range(2000, year), skipBlanks=True, columns='series').reset_index()\n",
    "    # We indicate the range of years we want and various details to have a clean database.\n",
    "\n",
    "#Economy rename columns \n",
    "economy.rename(columns={'NY.GDP.MKTP.CD': 'GDP', 'NY.GDP.MKTP.KD.ZG': 'GDP_GROWTH', 'NE.CON.TOTL.KD.ZG': 'CONS_EXPEND',\n",
    "'NY.GNP.PCAP.CD': 'GNI_CAPITA', 'NY.GNS.ICTR.ZS': 'GROSS_SAVINGS', 'FP.CPI.TOTL': 'CONSUMER_PRICE' }, inplace=True)\n",
    "    # In this stage, we can rename the columns with what those values represent."
   ]
  },
  {
   "attachments": {},
   "cell_type": "markdown",
   "metadata": {},
   "source": [
    "We check everything was loaded properly and see some info:"
   ]
  },
  {
   "cell_type": "code",
   "execution_count": 140,
   "metadata": {},
   "outputs": [
    {
     "data": {
      "text/html": [
       "<div>\n",
       "<style scoped>\n",
       "    .dataframe tbody tr th:only-of-type {\n",
       "        vertical-align: middle;\n",
       "    }\n",
       "\n",
       "    .dataframe tbody tr th {\n",
       "        vertical-align: top;\n",
       "    }\n",
       "\n",
       "    .dataframe thead th {\n",
       "        text-align: right;\n",
       "    }\n",
       "</style>\n",
       "<table border=\"1\" class=\"dataframe\">\n",
       "  <thead>\n",
       "    <tr style=\"text-align: right;\">\n",
       "      <th></th>\n",
       "      <th>economy</th>\n",
       "      <th>time</th>\n",
       "      <th>Country</th>\n",
       "      <th>Time</th>\n",
       "      <th>CONSUMER_PRICE</th>\n",
       "      <th>CONS_EXPEND</th>\n",
       "      <th>GDP</th>\n",
       "      <th>GDP_GROWTH</th>\n",
       "      <th>GNI_CAPITA</th>\n",
       "      <th>GROSS_SAVINGS</th>\n",
       "    </tr>\n",
       "  </thead>\n",
       "  <tbody>\n",
       "    <tr>\n",
       "      <th>0</th>\n",
       "      <td>ZWE</td>\n",
       "      <td>YR2021</td>\n",
       "      <td>Zimbabwe</td>\n",
       "      <td>2021</td>\n",
       "      <td>5411.002445</td>\n",
       "      <td>14.261391</td>\n",
       "      <td>2.837124e+10</td>\n",
       "      <td>8.468017</td>\n",
       "      <td>1530.0</td>\n",
       "      <td>NaN</td>\n",
       "    </tr>\n",
       "    <tr>\n",
       "      <th>1</th>\n",
       "      <td>ZWE</td>\n",
       "      <td>YR2020</td>\n",
       "      <td>Zimbabwe</td>\n",
       "      <td>2020</td>\n",
       "      <td>2725.312815</td>\n",
       "      <td>-4.540536</td>\n",
       "      <td>2.150970e+10</td>\n",
       "      <td>-7.816951</td>\n",
       "      <td>1460.0</td>\n",
       "      <td>16.452763</td>\n",
       "    </tr>\n",
       "    <tr>\n",
       "      <th>2</th>\n",
       "      <td>ZWE</td>\n",
       "      <td>YR2019</td>\n",
       "      <td>Zimbabwe</td>\n",
       "      <td>2019</td>\n",
       "      <td>414.684309</td>\n",
       "      <td>-10.119249</td>\n",
       "      <td>2.183223e+10</td>\n",
       "      <td>-6.332446</td>\n",
       "      <td>1450.0</td>\n",
       "      <td>20.231198</td>\n",
       "    </tr>\n",
       "    <tr>\n",
       "      <th>3</th>\n",
       "      <td>ZWE</td>\n",
       "      <td>YR2018</td>\n",
       "      <td>Zimbabwe</td>\n",
       "      <td>2018</td>\n",
       "      <td>116.712211</td>\n",
       "      <td>-0.462873</td>\n",
       "      <td>3.415607e+10</td>\n",
       "      <td>5.009867</td>\n",
       "      <td>1550.0</td>\n",
       "      <td>13.923906</td>\n",
       "    </tr>\n",
       "    <tr>\n",
       "      <th>4</th>\n",
       "      <td>ZWE</td>\n",
       "      <td>YR2017</td>\n",
       "      <td>Zimbabwe</td>\n",
       "      <td>2017</td>\n",
       "      <td>105.508414</td>\n",
       "      <td>3.920652</td>\n",
       "      <td>1.758489e+10</td>\n",
       "      <td>4.080264</td>\n",
       "      <td>1170.0</td>\n",
       "      <td>-2.682417</td>\n",
       "    </tr>\n",
       "  </tbody>\n",
       "</table>\n",
       "</div>"
      ],
      "text/plain": [
       "  economy    time   Country  Time  CONSUMER_PRICE  CONS_EXPEND           GDP  \\\n",
       "0     ZWE  YR2021  Zimbabwe  2021     5411.002445    14.261391  2.837124e+10   \n",
       "1     ZWE  YR2020  Zimbabwe  2020     2725.312815    -4.540536  2.150970e+10   \n",
       "2     ZWE  YR2019  Zimbabwe  2019      414.684309   -10.119249  2.183223e+10   \n",
       "3     ZWE  YR2018  Zimbabwe  2018      116.712211    -0.462873  3.415607e+10   \n",
       "4     ZWE  YR2017  Zimbabwe  2017      105.508414     3.920652  1.758489e+10   \n",
       "\n",
       "   GDP_GROWTH  GNI_CAPITA  GROSS_SAVINGS  \n",
       "0    8.468017      1530.0            NaN  \n",
       "1   -7.816951      1460.0      16.452763  \n",
       "2   -6.332446      1450.0      20.231198  \n",
       "3    5.009867      1550.0      13.923906  \n",
       "4    4.080264      1170.0      -2.682417  "
      ]
     },
     "execution_count": 140,
     "metadata": {},
     "output_type": "execute_result"
    }
   ],
   "source": [
    "economy.head()"
   ]
  },
  {
   "cell_type": "code",
   "execution_count": 141,
   "metadata": {},
   "outputs": [
    {
     "name": "stdout",
     "output_type": "stream",
     "text": [
      "<class 'pandas.core.frame.DataFrame'>\n",
      "RangeIndex: 5648 entries, 0 to 5647\n",
      "Data columns (total 10 columns):\n",
      " #   Column          Non-Null Count  Dtype  \n",
      "---  ------          --------------  -----  \n",
      " 0   economy         5648 non-null   object \n",
      " 1   time            5648 non-null   object \n",
      " 2   Country         5648 non-null   object \n",
      " 3   Time            5648 non-null   object \n",
      " 4   CONSUMER_PRICE  3966 non-null   float64\n",
      " 5   CONS_EXPEND     4400 non-null   float64\n",
      " 6   GDP             5609 non-null   float64\n",
      " 7   GDP_GROWTH      5529 non-null   float64\n",
      " 8   GNI_CAPITA      5285 non-null   float64\n",
      " 9   GROSS_SAVINGS   4337 non-null   float64\n",
      "dtypes: float64(6), object(4)\n",
      "memory usage: 441.4+ KB\n"
     ]
    }
   ],
   "source": [
    "economy.info()"
   ]
  },
  {
   "attachments": {},
   "cell_type": "markdown",
   "metadata": {},
   "source": [
    "---"
   ]
  },
  {
   "attachments": {},
   "cell_type": "markdown",
   "metadata": {},
   "source": [
    "# People\n",
    "All of the databases come from the same source, therefore we only need to use one block of code."
   ]
  },
  {
   "cell_type": "code",
   "execution_count": 142,
   "metadata": {},
   "outputs": [],
   "source": [
    "#People series\n",
    "people_worldbank_series = ['SE.XPD.TOTL.GD.ZS', 'SL.UEM.TOTL.ZS']\n",
    "    # We indicate which data from the people series we want.\n",
    "\n",
    "#People DF load\n",
    "people = wb.data.DataFrame((people_worldbank_series), labels = True, time=range(2000, year), skipBlanks=True, columns='series').reset_index()\n",
    "    # We indicate the range of years we want and various details to have a clean database.\n",
    "\n",
    "#Economy rename columns \n",
    "people.rename(columns={'SE.XPD.TOTL.GD.ZS': 'gover_exp', 'SL.UEM.TOTL.ZS': 'unemploy'}, inplace=True)\n",
    "    # In this stage, we can rename the columns with what those values represent."
   ]
  },
  {
   "attachments": {},
   "cell_type": "markdown",
   "metadata": {},
   "source": [
    "We check everything was loaded properly and see some info:"
   ]
  },
  {
   "cell_type": "code",
   "execution_count": 143,
   "metadata": {},
   "outputs": [
    {
     "data": {
      "text/html": [
       "<div>\n",
       "<style scoped>\n",
       "    .dataframe tbody tr th:only-of-type {\n",
       "        vertical-align: middle;\n",
       "    }\n",
       "\n",
       "    .dataframe tbody tr th {\n",
       "        vertical-align: top;\n",
       "    }\n",
       "\n",
       "    .dataframe thead th {\n",
       "        text-align: right;\n",
       "    }\n",
       "</style>\n",
       "<table border=\"1\" class=\"dataframe\">\n",
       "  <thead>\n",
       "    <tr style=\"text-align: right;\">\n",
       "      <th></th>\n",
       "      <th>economy</th>\n",
       "      <th>time</th>\n",
       "      <th>Country</th>\n",
       "      <th>Time</th>\n",
       "      <th>gover_exp</th>\n",
       "      <th>unemploy</th>\n",
       "    </tr>\n",
       "  </thead>\n",
       "  <tbody>\n",
       "    <tr>\n",
       "      <th>0</th>\n",
       "      <td>ZWE</td>\n",
       "      <td>YR2018</td>\n",
       "      <td>Zimbabwe</td>\n",
       "      <td>2018</td>\n",
       "      <td>3.86611</td>\n",
       "      <td>4.796</td>\n",
       "    </tr>\n",
       "    <tr>\n",
       "      <th>1</th>\n",
       "      <td>ZWE</td>\n",
       "      <td>YR2017</td>\n",
       "      <td>Zimbabwe</td>\n",
       "      <td>2017</td>\n",
       "      <td>5.81878</td>\n",
       "      <td>4.785</td>\n",
       "    </tr>\n",
       "    <tr>\n",
       "      <th>2</th>\n",
       "      <td>ZWE</td>\n",
       "      <td>YR2016</td>\n",
       "      <td>Zimbabwe</td>\n",
       "      <td>2016</td>\n",
       "      <td>5.47262</td>\n",
       "      <td>4.788</td>\n",
       "    </tr>\n",
       "    <tr>\n",
       "      <th>3</th>\n",
       "      <td>ZWE</td>\n",
       "      <td>YR2015</td>\n",
       "      <td>Zimbabwe</td>\n",
       "      <td>2015</td>\n",
       "      <td>5.81279</td>\n",
       "      <td>4.778</td>\n",
       "    </tr>\n",
       "    <tr>\n",
       "      <th>4</th>\n",
       "      <td>ZWE</td>\n",
       "      <td>YR2014</td>\n",
       "      <td>Zimbabwe</td>\n",
       "      <td>2014</td>\n",
       "      <td>6.13835</td>\n",
       "      <td>4.770</td>\n",
       "    </tr>\n",
       "  </tbody>\n",
       "</table>\n",
       "</div>"
      ],
      "text/plain": [
       "  economy    time   Country  Time  gover_exp  unemploy\n",
       "0     ZWE  YR2018  Zimbabwe  2018    3.86611     4.796\n",
       "1     ZWE  YR2017  Zimbabwe  2017    5.81878     4.785\n",
       "2     ZWE  YR2016  Zimbabwe  2016    5.47262     4.788\n",
       "3     ZWE  YR2015  Zimbabwe  2015    5.81279     4.778\n",
       "4     ZWE  YR2014  Zimbabwe  2014    6.13835     4.770"
      ]
     },
     "execution_count": 143,
     "metadata": {},
     "output_type": "execute_result"
    }
   ],
   "source": [
    "people.head()"
   ]
  },
  {
   "cell_type": "code",
   "execution_count": 144,
   "metadata": {},
   "outputs": [
    {
     "name": "stdout",
     "output_type": "stream",
     "text": [
      "<class 'pandas.core.frame.DataFrame'>\n",
      "RangeIndex: 5406 entries, 0 to 5405\n",
      "Data columns (total 6 columns):\n",
      " #   Column     Non-Null Count  Dtype  \n",
      "---  ------     --------------  -----  \n",
      " 0   economy    5406 non-null   object \n",
      " 1   time       5406 non-null   object \n",
      " 2   Country    5406 non-null   object \n",
      " 3   Time       5406 non-null   object \n",
      " 4   gover_exp  4013 non-null   float64\n",
      " 5   unemploy   5170 non-null   float64\n",
      "dtypes: float64(2), object(4)\n",
      "memory usage: 253.5+ KB\n"
     ]
    }
   ],
   "source": [
    "people.info()"
   ]
  },
  {
   "attachments": {},
   "cell_type": "markdown",
   "metadata": {},
   "source": [
    "---"
   ]
  },
  {
   "attachments": {},
   "cell_type": "markdown",
   "metadata": {},
   "source": [
    "# Environment\n",
    "These datasets come from different sources, therefore two blocks of code are used."
   ]
  },
  {
   "attachments": {},
   "cell_type": "markdown",
   "metadata": {},
   "source": [
    "🔹 Access to electricity (% of population) & People using at least basic sanitation services in urban areas."
   ]
  },
  {
   "cell_type": "code",
   "execution_count": 145,
   "metadata": {},
   "outputs": [],
   "source": [
    "#Enviroment series\n",
    "enviroment_worldbank_series = ['EG.ELC.ACCS.ZS', 'SH.STA.BASS.UR.ZS']\n",
    "    # We indicate which data from the environment series we want.\n",
    "\n",
    "#Enviroment DF load\n",
    "enviroment = wb.data.DataFrame((enviroment_worldbank_series), labels = True, time=range(2000, year), skipBlanks=True, columns='series').reset_index()\n",
    "    # We indicate the range of years we want and various details to have a clean database.\n",
    "\n",
    "#Enviroment rename columns \n",
    "enviroment.rename(columns={'EG.ELC.ACCS.ZS': 'elect', 'SH.STA.BASS.UR.ZS': 'basic_sanitation'}, inplace=True)\n",
    "    # In this stage, we can rename the columns with what those values represent."
   ]
  },
  {
   "attachments": {},
   "cell_type": "markdown",
   "metadata": {},
   "source": [
    "We check everything was loaded properly and see some info:"
   ]
  },
  {
   "cell_type": "code",
   "execution_count": 146,
   "metadata": {},
   "outputs": [
    {
     "data": {
      "text/html": [
       "<div>\n",
       "<style scoped>\n",
       "    .dataframe tbody tr th:only-of-type {\n",
       "        vertical-align: middle;\n",
       "    }\n",
       "\n",
       "    .dataframe tbody tr th {\n",
       "        vertical-align: top;\n",
       "    }\n",
       "\n",
       "    .dataframe thead th {\n",
       "        text-align: right;\n",
       "    }\n",
       "</style>\n",
       "<table border=\"1\" class=\"dataframe\">\n",
       "  <thead>\n",
       "    <tr style=\"text-align: right;\">\n",
       "      <th></th>\n",
       "      <th>economy</th>\n",
       "      <th>time</th>\n",
       "      <th>Country</th>\n",
       "      <th>Time</th>\n",
       "      <th>elect</th>\n",
       "      <th>basic_sanitation</th>\n",
       "    </tr>\n",
       "  </thead>\n",
       "  <tbody>\n",
       "    <tr>\n",
       "      <th>0</th>\n",
       "      <td>ZWE</td>\n",
       "      <td>YR2020</td>\n",
       "      <td>Zimbabwe</td>\n",
       "      <td>2020</td>\n",
       "      <td>52.747669</td>\n",
       "      <td>41.829436</td>\n",
       "    </tr>\n",
       "    <tr>\n",
       "      <th>1</th>\n",
       "      <td>ZWE</td>\n",
       "      <td>YR2019</td>\n",
       "      <td>Zimbabwe</td>\n",
       "      <td>2019</td>\n",
       "      <td>46.781475</td>\n",
       "      <td>43.223952</td>\n",
       "    </tr>\n",
       "    <tr>\n",
       "      <th>2</th>\n",
       "      <td>ZWE</td>\n",
       "      <td>YR2018</td>\n",
       "      <td>Zimbabwe</td>\n",
       "      <td>2018</td>\n",
       "      <td>45.572647</td>\n",
       "      <td>44.613054</td>\n",
       "    </tr>\n",
       "    <tr>\n",
       "      <th>3</th>\n",
       "      <td>ZWE</td>\n",
       "      <td>YR2017</td>\n",
       "      <td>Zimbabwe</td>\n",
       "      <td>2017</td>\n",
       "      <td>44.178635</td>\n",
       "      <td>45.996743</td>\n",
       "    </tr>\n",
       "    <tr>\n",
       "      <th>4</th>\n",
       "      <td>ZWE</td>\n",
       "      <td>YR2016</td>\n",
       "      <td>Zimbabwe</td>\n",
       "      <td>2016</td>\n",
       "      <td>42.561729</td>\n",
       "      <td>47.375018</td>\n",
       "    </tr>\n",
       "  </tbody>\n",
       "</table>\n",
       "</div>"
      ],
      "text/plain": [
       "  economy    time   Country  Time      elect  basic_sanitation\n",
       "0     ZWE  YR2020  Zimbabwe  2020  52.747669         41.829436\n",
       "1     ZWE  YR2019  Zimbabwe  2019  46.781475         43.223952\n",
       "2     ZWE  YR2018  Zimbabwe  2018  45.572647         44.613054\n",
       "3     ZWE  YR2017  Zimbabwe  2017  44.178635         45.996743\n",
       "4     ZWE  YR2016  Zimbabwe  2016  42.561729         47.375018"
      ]
     },
     "execution_count": 146,
     "metadata": {},
     "output_type": "execute_result"
    }
   ],
   "source": [
    "enviroment.head()"
   ]
  },
  {
   "cell_type": "code",
   "execution_count": 147,
   "metadata": {},
   "outputs": [
    {
     "name": "stdout",
     "output_type": "stream",
     "text": [
      "<class 'pandas.core.frame.DataFrame'>\n",
      "RangeIndex: 5523 entries, 0 to 5522\n",
      "Data columns (total 6 columns):\n",
      " #   Column            Non-Null Count  Dtype  \n",
      "---  ------            --------------  -----  \n",
      " 0   economy           5523 non-null   object \n",
      " 1   time              5523 non-null   object \n",
      " 2   Country           5523 non-null   object \n",
      " 3   Time              5523 non-null   object \n",
      " 4   elect             5507 non-null   float64\n",
      " 5   basic_sanitation  4659 non-null   float64\n",
      "dtypes: float64(2), object(4)\n",
      "memory usage: 259.0+ KB\n"
     ]
    }
   ],
   "source": [
    "enviroment.info()"
   ]
  },
  {
   "attachments": {},
   "cell_type": "markdown",
   "metadata": {},
   "source": [
    "🔹 Population Density"
   ]
  },
  {
   "cell_type": "code",
   "execution_count": 148,
   "metadata": {},
   "outputs": [],
   "source": [
    "data_url = 'https://datahub.io/world-bank/en.pop.dnst/datapackage.json'\n",
    "    # Storing the dataset into a generic variable:\n",
    "\n",
    "package = datapackage.Package(data_url)\n",
    "    # Loading Data Package into storage\n",
    "\n",
    "resources = package.resources\n",
    "for resource in resources:\n",
    "    if resource.tabular:\n",
    "        pop_density = pd.read_csv(resource.descriptor['path'])\n",
    "    # Loading only tabular data"
   ]
  },
  {
   "attachments": {},
   "cell_type": "markdown",
   "metadata": {},
   "source": [
    "We check everything was loaded properly and see some info:"
   ]
  },
  {
   "cell_type": "code",
   "execution_count": 149,
   "metadata": {},
   "outputs": [
    {
     "data": {
      "text/html": [
       "<div>\n",
       "<style scoped>\n",
       "    .dataframe tbody tr th:only-of-type {\n",
       "        vertical-align: middle;\n",
       "    }\n",
       "\n",
       "    .dataframe tbody tr th {\n",
       "        vertical-align: top;\n",
       "    }\n",
       "\n",
       "    .dataframe thead th {\n",
       "        text-align: right;\n",
       "    }\n",
       "</style>\n",
       "<table border=\"1\" class=\"dataframe\">\n",
       "  <thead>\n",
       "    <tr style=\"text-align: right;\">\n",
       "      <th></th>\n",
       "      <th>Country Name</th>\n",
       "      <th>Country Code</th>\n",
       "      <th>Year</th>\n",
       "      <th>Value</th>\n",
       "    </tr>\n",
       "  </thead>\n",
       "  <tbody>\n",
       "    <tr>\n",
       "      <th>0</th>\n",
       "      <td>Arab World</td>\n",
       "      <td>ARB</td>\n",
       "      <td>1961</td>\n",
       "      <td>6.976239</td>\n",
       "    </tr>\n",
       "    <tr>\n",
       "      <th>1</th>\n",
       "      <td>Arab World</td>\n",
       "      <td>ARB</td>\n",
       "      <td>1962</td>\n",
       "      <td>7.169853</td>\n",
       "    </tr>\n",
       "    <tr>\n",
       "      <th>2</th>\n",
       "      <td>Arab World</td>\n",
       "      <td>ARB</td>\n",
       "      <td>1963</td>\n",
       "      <td>7.370144</td>\n",
       "    </tr>\n",
       "    <tr>\n",
       "      <th>3</th>\n",
       "      <td>Arab World</td>\n",
       "      <td>ARB</td>\n",
       "      <td>1964</td>\n",
       "      <td>7.577779</td>\n",
       "    </tr>\n",
       "    <tr>\n",
       "      <th>4</th>\n",
       "      <td>Arab World</td>\n",
       "      <td>ARB</td>\n",
       "      <td>1965</td>\n",
       "      <td>7.793214</td>\n",
       "    </tr>\n",
       "  </tbody>\n",
       "</table>\n",
       "</div>"
      ],
      "text/plain": [
       "  Country Name Country Code  Year     Value\n",
       "0   Arab World          ARB  1961  6.976239\n",
       "1   Arab World          ARB  1962  7.169853\n",
       "2   Arab World          ARB  1963  7.370144\n",
       "3   Arab World          ARB  1964  7.577779\n",
       "4   Arab World          ARB  1965  7.793214"
      ]
     },
     "execution_count": 149,
     "metadata": {},
     "output_type": "execute_result"
    }
   ],
   "source": [
    "pop_density.head()"
   ]
  },
  {
   "cell_type": "code",
   "execution_count": 150,
   "metadata": {},
   "outputs": [
    {
     "name": "stdout",
     "output_type": "stream",
     "text": [
      "<class 'pandas.core.frame.DataFrame'>\n",
      "RangeIndex: 14339 entries, 0 to 14338\n",
      "Data columns (total 4 columns):\n",
      " #   Column        Non-Null Count  Dtype  \n",
      "---  ------        --------------  -----  \n",
      " 0   Country Name  14339 non-null  object \n",
      " 1   Country Code  14339 non-null  object \n",
      " 2   Year          14339 non-null  int64  \n",
      " 3   Value         14339 non-null  float64\n",
      "dtypes: float64(1), int64(1), object(2)\n",
      "memory usage: 448.2+ KB\n"
     ]
    }
   ],
   "source": [
    "pop_density.info()"
   ]
  },
  {
   "attachments": {},
   "cell_type": "markdown",
   "metadata": {},
   "source": [
    "---"
   ]
  },
  {
   "attachments": {},
   "cell_type": "markdown",
   "metadata": {},
   "source": [
    "# Poverty\n",
    "All of these datasets come from the same source ('Datahub'), however, one block of code per dataset are needed."
   ]
  },
  {
   "attachments": {},
   "cell_type": "markdown",
   "metadata": {},
   "source": [
    "🔹 Population below $1.90 a day:"
   ]
  },
  {
   "cell_type": "code",
   "execution_count": 151,
   "metadata": {},
   "outputs": [],
   "source": [
    "data_url = 'https://datahub.io/world-bank/si.pov.dday/datapackage.json'\n",
    "    # Storing the dataset into a generic variable:\n",
    "\n",
    "package = datapackage.Package(data_url)\n",
    "    # Loading Data Package into storage\n",
    "\n",
    "resources = package.resources\n",
    "for resource in resources:\n",
    "    if resource.tabular:\n",
    "        population_below = pd.read_csv(resource.descriptor['path'])\n",
    "    # Loading only tabular data"
   ]
  },
  {
   "attachments": {},
   "cell_type": "markdown",
   "metadata": {},
   "source": [
    "We check everything was loaded properly and see some info:"
   ]
  },
  {
   "cell_type": "code",
   "execution_count": 152,
   "metadata": {},
   "outputs": [
    {
     "data": {
      "text/html": [
       "<div>\n",
       "<style scoped>\n",
       "    .dataframe tbody tr th:only-of-type {\n",
       "        vertical-align: middle;\n",
       "    }\n",
       "\n",
       "    .dataframe tbody tr th {\n",
       "        vertical-align: top;\n",
       "    }\n",
       "\n",
       "    .dataframe thead th {\n",
       "        text-align: right;\n",
       "    }\n",
       "</style>\n",
       "<table border=\"1\" class=\"dataframe\">\n",
       "  <thead>\n",
       "    <tr style=\"text-align: right;\">\n",
       "      <th></th>\n",
       "      <th>Country Name</th>\n",
       "      <th>Country Code</th>\n",
       "      <th>Year</th>\n",
       "      <th>Value</th>\n",
       "    </tr>\n",
       "  </thead>\n",
       "  <tbody>\n",
       "    <tr>\n",
       "      <th>0</th>\n",
       "      <td>East Asia &amp; Pacific</td>\n",
       "      <td>EAS</td>\n",
       "      <td>1981</td>\n",
       "      <td>80.8</td>\n",
       "    </tr>\n",
       "    <tr>\n",
       "      <th>1</th>\n",
       "      <td>East Asia &amp; Pacific</td>\n",
       "      <td>EAS</td>\n",
       "      <td>1984</td>\n",
       "      <td>70.5</td>\n",
       "    </tr>\n",
       "    <tr>\n",
       "      <th>2</th>\n",
       "      <td>East Asia &amp; Pacific</td>\n",
       "      <td>EAS</td>\n",
       "      <td>1987</td>\n",
       "      <td>59.5</td>\n",
       "    </tr>\n",
       "    <tr>\n",
       "      <th>3</th>\n",
       "      <td>East Asia &amp; Pacific</td>\n",
       "      <td>EAS</td>\n",
       "      <td>1990</td>\n",
       "      <td>61.6</td>\n",
       "    </tr>\n",
       "    <tr>\n",
       "      <th>4</th>\n",
       "      <td>East Asia &amp; Pacific</td>\n",
       "      <td>EAS</td>\n",
       "      <td>1993</td>\n",
       "      <td>54.0</td>\n",
       "    </tr>\n",
       "  </tbody>\n",
       "</table>\n",
       "</div>"
      ],
      "text/plain": [
       "          Country Name Country Code  Year  Value\n",
       "0  East Asia & Pacific          EAS  1981   80.8\n",
       "1  East Asia & Pacific          EAS  1984   70.5\n",
       "2  East Asia & Pacific          EAS  1987   59.5\n",
       "3  East Asia & Pacific          EAS  1990   61.6\n",
       "4  East Asia & Pacific          EAS  1993   54.0"
      ]
     },
     "execution_count": 152,
     "metadata": {},
     "output_type": "execute_result"
    }
   ],
   "source": [
    "population_below.head()"
   ]
  },
  {
   "cell_type": "code",
   "execution_count": 153,
   "metadata": {},
   "outputs": [
    {
     "name": "stdout",
     "output_type": "stream",
     "text": [
      "<class 'pandas.core.frame.DataFrame'>\n",
      "RangeIndex: 1611 entries, 0 to 1610\n",
      "Data columns (total 4 columns):\n",
      " #   Column        Non-Null Count  Dtype  \n",
      "---  ------        --------------  -----  \n",
      " 0   Country Name  1611 non-null   object \n",
      " 1   Country Code  1611 non-null   object \n",
      " 2   Year          1611 non-null   int64  \n",
      " 3   Value         1611 non-null   float64\n",
      "dtypes: float64(1), int64(1), object(2)\n",
      "memory usage: 50.5+ KB\n"
     ]
    }
   ],
   "source": [
    "population_below.info()"
   ]
  },
  {
   "attachments": {},
   "cell_type": "markdown",
   "metadata": {},
   "source": [
    "🔹 Maternal mortality ratio:"
   ]
  },
  {
   "cell_type": "code",
   "execution_count": 154,
   "metadata": {},
   "outputs": [],
   "source": [
    "data_url = 'https://datahub.io/world-bank/sh.sta.mmrt/datapackage.json'\n",
    "    # Storing the dataset into a generic variable\n",
    "\n",
    "package = datapackage.Package(data_url)\n",
    "    # Loading Data Package into storage\n",
    "\n",
    "resources = package.resources\n",
    "for resource in resources:\n",
    "    if resource.tabular:\n",
    "        maternal_mortality = pd.read_csv(resource.descriptor['path'])\n",
    "    # Loading only tabular data"
   ]
  },
  {
   "attachments": {},
   "cell_type": "markdown",
   "metadata": {},
   "source": [
    "We check everything was loaded properly and see some info:"
   ]
  },
  {
   "cell_type": "code",
   "execution_count": 155,
   "metadata": {},
   "outputs": [
    {
     "data": {
      "text/html": [
       "<div>\n",
       "<style scoped>\n",
       "    .dataframe tbody tr th:only-of-type {\n",
       "        vertical-align: middle;\n",
       "    }\n",
       "\n",
       "    .dataframe tbody tr th {\n",
       "        vertical-align: top;\n",
       "    }\n",
       "\n",
       "    .dataframe thead th {\n",
       "        text-align: right;\n",
       "    }\n",
       "</style>\n",
       "<table border=\"1\" class=\"dataframe\">\n",
       "  <thead>\n",
       "    <tr style=\"text-align: right;\">\n",
       "      <th></th>\n",
       "      <th>Country Name</th>\n",
       "      <th>Country Code</th>\n",
       "      <th>Year</th>\n",
       "      <th>Value</th>\n",
       "    </tr>\n",
       "  </thead>\n",
       "  <tbody>\n",
       "    <tr>\n",
       "      <th>0</th>\n",
       "      <td>Arab World</td>\n",
       "      <td>ARB</td>\n",
       "      <td>1990</td>\n",
       "      <td>289</td>\n",
       "    </tr>\n",
       "    <tr>\n",
       "      <th>1</th>\n",
       "      <td>Arab World</td>\n",
       "      <td>ARB</td>\n",
       "      <td>1991</td>\n",
       "      <td>285</td>\n",
       "    </tr>\n",
       "    <tr>\n",
       "      <th>2</th>\n",
       "      <td>Arab World</td>\n",
       "      <td>ARB</td>\n",
       "      <td>1992</td>\n",
       "      <td>281</td>\n",
       "    </tr>\n",
       "    <tr>\n",
       "      <th>3</th>\n",
       "      <td>Arab World</td>\n",
       "      <td>ARB</td>\n",
       "      <td>1993</td>\n",
       "      <td>278</td>\n",
       "    </tr>\n",
       "    <tr>\n",
       "      <th>4</th>\n",
       "      <td>Arab World</td>\n",
       "      <td>ARB</td>\n",
       "      <td>1994</td>\n",
       "      <td>274</td>\n",
       "    </tr>\n",
       "  </tbody>\n",
       "</table>\n",
       "</div>"
      ],
      "text/plain": [
       "  Country Name Country Code  Year  Value\n",
       "0   Arab World          ARB  1990    289\n",
       "1   Arab World          ARB  1991    285\n",
       "2   Arab World          ARB  1992    281\n",
       "3   Arab World          ARB  1993    278\n",
       "4   Arab World          ARB  1994    274"
      ]
     },
     "execution_count": 155,
     "metadata": {},
     "output_type": "execute_result"
    }
   ],
   "source": [
    "maternal_mortality.head()"
   ]
  },
  {
   "cell_type": "code",
   "execution_count": 156,
   "metadata": {},
   "outputs": [
    {
     "name": "stdout",
     "output_type": "stream",
     "text": [
      "<class 'pandas.core.frame.DataFrame'>\n",
      "RangeIndex: 5954 entries, 0 to 5953\n",
      "Data columns (total 4 columns):\n",
      " #   Column        Non-Null Count  Dtype \n",
      "---  ------        --------------  ----- \n",
      " 0   Country Name  5954 non-null   object\n",
      " 1   Country Code  5954 non-null   object\n",
      " 2   Year          5954 non-null   int64 \n",
      " 3   Value         5954 non-null   int64 \n",
      "dtypes: int64(2), object(2)\n",
      "memory usage: 186.2+ KB\n"
     ]
    }
   ],
   "source": [
    "maternal_mortality.info()"
   ]
  },
  {
   "attachments": {},
   "cell_type": "markdown",
   "metadata": {},
   "source": [
    "🔹 Incidence of tuberculosis"
   ]
  },
  {
   "cell_type": "code",
   "execution_count": 157,
   "metadata": {},
   "outputs": [],
   "source": [
    "data_url = 'https://datahub.io/world-bank/sh.tbs.incd/datapackage.json'\n",
    "    # Storing the dataset into a generic variable\n",
    "\n",
    "package = datapackage.Package(data_url)\n",
    "    # Loading Data Package into storage\n",
    "\n",
    "resources = package.resources\n",
    "for resource in resources:\n",
    "    if resource.tabular:\n",
    "       tuberculosis = pd.read_csv(resource.descriptor['path'])\n",
    "    # Loading only tabular data"
   ]
  },
  {
   "attachments": {},
   "cell_type": "markdown",
   "metadata": {},
   "source": [
    "We check everything was loaded properly and see some info:"
   ]
  },
  {
   "cell_type": "code",
   "execution_count": 158,
   "metadata": {},
   "outputs": [
    {
     "data": {
      "text/html": [
       "<div>\n",
       "<style scoped>\n",
       "    .dataframe tbody tr th:only-of-type {\n",
       "        vertical-align: middle;\n",
       "    }\n",
       "\n",
       "    .dataframe tbody tr th {\n",
       "        vertical-align: top;\n",
       "    }\n",
       "\n",
       "    .dataframe thead th {\n",
       "        text-align: right;\n",
       "    }\n",
       "</style>\n",
       "<table border=\"1\" class=\"dataframe\">\n",
       "  <thead>\n",
       "    <tr style=\"text-align: right;\">\n",
       "      <th></th>\n",
       "      <th>Country Name</th>\n",
       "      <th>Country Code</th>\n",
       "      <th>Year</th>\n",
       "      <th>Value</th>\n",
       "    </tr>\n",
       "  </thead>\n",
       "  <tbody>\n",
       "    <tr>\n",
       "      <th>0</th>\n",
       "      <td>East Asia &amp; Pacific</td>\n",
       "      <td>EAS</td>\n",
       "      <td>2000</td>\n",
       "      <td>178.0</td>\n",
       "    </tr>\n",
       "    <tr>\n",
       "      <th>1</th>\n",
       "      <td>East Asia &amp; Pacific</td>\n",
       "      <td>EAS</td>\n",
       "      <td>2001</td>\n",
       "      <td>176.0</td>\n",
       "    </tr>\n",
       "    <tr>\n",
       "      <th>2</th>\n",
       "      <td>East Asia &amp; Pacific</td>\n",
       "      <td>EAS</td>\n",
       "      <td>2002</td>\n",
       "      <td>173.0</td>\n",
       "    </tr>\n",
       "    <tr>\n",
       "      <th>3</th>\n",
       "      <td>East Asia &amp; Pacific</td>\n",
       "      <td>EAS</td>\n",
       "      <td>2003</td>\n",
       "      <td>171.0</td>\n",
       "    </tr>\n",
       "    <tr>\n",
       "      <th>4</th>\n",
       "      <td>East Asia &amp; Pacific</td>\n",
       "      <td>EAS</td>\n",
       "      <td>2004</td>\n",
       "      <td>168.0</td>\n",
       "    </tr>\n",
       "  </tbody>\n",
       "</table>\n",
       "</div>"
      ],
      "text/plain": [
       "          Country Name Country Code  Year  Value\n",
       "0  East Asia & Pacific          EAS  2000  178.0\n",
       "1  East Asia & Pacific          EAS  2001  176.0\n",
       "2  East Asia & Pacific          EAS  2002  173.0\n",
       "3  East Asia & Pacific          EAS  2003  171.0\n",
       "4  East Asia & Pacific          EAS  2004  168.0"
      ]
     },
     "execution_count": 158,
     "metadata": {},
     "output_type": "execute_result"
    }
   ],
   "source": [
    "tuberculosis.head()"
   ]
  },
  {
   "cell_type": "code",
   "execution_count": 159,
   "metadata": {},
   "outputs": [
    {
     "name": "stdout",
     "output_type": "stream",
     "text": [
      "<class 'pandas.core.frame.DataFrame'>\n",
      "RangeIndex: 3850 entries, 0 to 3849\n",
      "Data columns (total 4 columns):\n",
      " #   Column        Non-Null Count  Dtype  \n",
      "---  ------        --------------  -----  \n",
      " 0   Country Name  3850 non-null   object \n",
      " 1   Country Code  3850 non-null   object \n",
      " 2   Year          3850 non-null   int64  \n",
      " 3   Value         3850 non-null   float64\n",
      "dtypes: float64(1), int64(1), object(2)\n",
      "memory usage: 120.4+ KB\n"
     ]
    }
   ],
   "source": [
    "tuberculosis.info()"
   ]
  },
  {
   "attachments": {},
   "cell_type": "markdown",
   "metadata": {},
   "source": [
    "🔹 Contributing family workers and own-account workers, female"
   ]
  },
  {
   "cell_type": "code",
   "execution_count": 160,
   "metadata": {},
   "outputs": [],
   "source": [
    "data_url = 'https://datahub.io/world-bank/sl.fam.work.fe.zs/datapackage.json'\n",
    "    # Storing the dataset into a generic variable\n",
    "\n",
    "package = datapackage.Package(data_url)\n",
    "    # Loading Data Package into storage\n",
    "\n",
    "resources = package.resources\n",
    "for resource in resources:\n",
    "    if resource.tabular:\n",
    "       contributing_f = pd.read_csv(resource.descriptor['path'])\n",
    "    # Loading only tabular data"
   ]
  },
  {
   "attachments": {},
   "cell_type": "markdown",
   "metadata": {},
   "source": [
    "We check everything was loaded properly and see some info:"
   ]
  },
  {
   "cell_type": "code",
   "execution_count": 161,
   "metadata": {},
   "outputs": [
    {
     "data": {
      "text/html": [
       "<div>\n",
       "<style scoped>\n",
       "    .dataframe tbody tr th:only-of-type {\n",
       "        vertical-align: middle;\n",
       "    }\n",
       "\n",
       "    .dataframe tbody tr th {\n",
       "        vertical-align: top;\n",
       "    }\n",
       "\n",
       "    .dataframe thead th {\n",
       "        text-align: right;\n",
       "    }\n",
       "</style>\n",
       "<table border=\"1\" class=\"dataframe\">\n",
       "  <thead>\n",
       "    <tr style=\"text-align: right;\">\n",
       "      <th></th>\n",
       "      <th>Country Name</th>\n",
       "      <th>Country Code</th>\n",
       "      <th>Year</th>\n",
       "      <th>Value</th>\n",
       "    </tr>\n",
       "  </thead>\n",
       "  <tbody>\n",
       "    <tr>\n",
       "      <th>0</th>\n",
       "      <td>Arab World</td>\n",
       "      <td>ARB</td>\n",
       "      <td>1991</td>\n",
       "      <td>23.202541</td>\n",
       "    </tr>\n",
       "    <tr>\n",
       "      <th>1</th>\n",
       "      <td>Arab World</td>\n",
       "      <td>ARB</td>\n",
       "      <td>1992</td>\n",
       "      <td>24.240175</td>\n",
       "    </tr>\n",
       "    <tr>\n",
       "      <th>2</th>\n",
       "      <td>Arab World</td>\n",
       "      <td>ARB</td>\n",
       "      <td>1993</td>\n",
       "      <td>23.876738</td>\n",
       "    </tr>\n",
       "    <tr>\n",
       "      <th>3</th>\n",
       "      <td>Arab World</td>\n",
       "      <td>ARB</td>\n",
       "      <td>1994</td>\n",
       "      <td>23.389433</td>\n",
       "    </tr>\n",
       "    <tr>\n",
       "      <th>4</th>\n",
       "      <td>Arab World</td>\n",
       "      <td>ARB</td>\n",
       "      <td>1995</td>\n",
       "      <td>26.585767</td>\n",
       "    </tr>\n",
       "  </tbody>\n",
       "</table>\n",
       "</div>"
      ],
      "text/plain": [
       "  Country Name Country Code  Year      Value\n",
       "0   Arab World          ARB  1991  23.202541\n",
       "1   Arab World          ARB  1992  24.240175\n",
       "2   Arab World          ARB  1993  23.876738\n",
       "3   Arab World          ARB  1994  23.389433\n",
       "4   Arab World          ARB  1995  26.585767"
      ]
     },
     "execution_count": 161,
     "metadata": {},
     "output_type": "execute_result"
    }
   ],
   "source": [
    "contributing_f.head()"
   ]
  },
  {
   "cell_type": "code",
   "execution_count": 162,
   "metadata": {},
   "outputs": [
    {
     "name": "stdout",
     "output_type": "stream",
     "text": [
      "<class 'pandas.core.frame.DataFrame'>\n",
      "RangeIndex: 6291 entries, 0 to 6290\n",
      "Data columns (total 4 columns):\n",
      " #   Column        Non-Null Count  Dtype  \n",
      "---  ------        --------------  -----  \n",
      " 0   Country Name  6291 non-null   object \n",
      " 1   Country Code  6291 non-null   object \n",
      " 2   Year          6291 non-null   int64  \n",
      " 3   Value         6291 non-null   float64\n",
      "dtypes: float64(1), int64(1), object(2)\n",
      "memory usage: 196.7+ KB\n"
     ]
    }
   ],
   "source": [
    "contributing_f.info()"
   ]
  },
  {
   "attachments": {},
   "cell_type": "markdown",
   "metadata": {},
   "source": [
    "🔹 Contributing family workers and own-account workers, male"
   ]
  },
  {
   "cell_type": "code",
   "execution_count": 163,
   "metadata": {},
   "outputs": [],
   "source": [
    "data_url = 'https://datahub.io/world-bank/sl.fam.work.ma.zs/datapackage.json'\n",
    "    # Storing the dataset into a generic variable\n",
    "\n",
    "package = datapackage.Package(data_url)\n",
    "    # Loading Data Package into storage\n",
    "\n",
    "resources = package.resources\n",
    "for resource in resources:\n",
    "    if resource.tabular:\n",
    "        contributing_m = pd.read_csv(resource.descriptor['path'])\n",
    "    # Loading only tabular data"
   ]
  },
  {
   "attachments": {},
   "cell_type": "markdown",
   "metadata": {},
   "source": [
    "We check everything was loaded properly and see some info:"
   ]
  },
  {
   "cell_type": "code",
   "execution_count": 164,
   "metadata": {},
   "outputs": [
    {
     "data": {
      "text/html": [
       "<div>\n",
       "<style scoped>\n",
       "    .dataframe tbody tr th:only-of-type {\n",
       "        vertical-align: middle;\n",
       "    }\n",
       "\n",
       "    .dataframe tbody tr th {\n",
       "        vertical-align: top;\n",
       "    }\n",
       "\n",
       "    .dataframe thead th {\n",
       "        text-align: right;\n",
       "    }\n",
       "</style>\n",
       "<table border=\"1\" class=\"dataframe\">\n",
       "  <thead>\n",
       "    <tr style=\"text-align: right;\">\n",
       "      <th></th>\n",
       "      <th>Country Name</th>\n",
       "      <th>Country Code</th>\n",
       "      <th>Year</th>\n",
       "      <th>Value</th>\n",
       "    </tr>\n",
       "  </thead>\n",
       "  <tbody>\n",
       "    <tr>\n",
       "      <th>0</th>\n",
       "      <td>Arab World</td>\n",
       "      <td>ARB</td>\n",
       "      <td>1991</td>\n",
       "      <td>8.541916</td>\n",
       "    </tr>\n",
       "    <tr>\n",
       "      <th>1</th>\n",
       "      <td>Arab World</td>\n",
       "      <td>ARB</td>\n",
       "      <td>1992</td>\n",
       "      <td>8.650984</td>\n",
       "    </tr>\n",
       "    <tr>\n",
       "      <th>2</th>\n",
       "      <td>Arab World</td>\n",
       "      <td>ARB</td>\n",
       "      <td>1993</td>\n",
       "      <td>8.591657</td>\n",
       "    </tr>\n",
       "    <tr>\n",
       "      <th>3</th>\n",
       "      <td>Arab World</td>\n",
       "      <td>ARB</td>\n",
       "      <td>1994</td>\n",
       "      <td>8.023385</td>\n",
       "    </tr>\n",
       "    <tr>\n",
       "      <th>4</th>\n",
       "      <td>Arab World</td>\n",
       "      <td>ARB</td>\n",
       "      <td>1995</td>\n",
       "      <td>8.329218</td>\n",
       "    </tr>\n",
       "  </tbody>\n",
       "</table>\n",
       "</div>"
      ],
      "text/plain": [
       "  Country Name Country Code  Year     Value\n",
       "0   Arab World          ARB  1991  8.541916\n",
       "1   Arab World          ARB  1992  8.650984\n",
       "2   Arab World          ARB  1993  8.591657\n",
       "3   Arab World          ARB  1994  8.023385\n",
       "4   Arab World          ARB  1995  8.329218"
      ]
     },
     "execution_count": 164,
     "metadata": {},
     "output_type": "execute_result"
    }
   ],
   "source": [
    "contributing_m.head()"
   ]
  },
  {
   "cell_type": "code",
   "execution_count": 165,
   "metadata": {},
   "outputs": [
    {
     "name": "stdout",
     "output_type": "stream",
     "text": [
      "<class 'pandas.core.frame.DataFrame'>\n",
      "RangeIndex: 6291 entries, 0 to 6290\n",
      "Data columns (total 4 columns):\n",
      " #   Column        Non-Null Count  Dtype  \n",
      "---  ------        --------------  -----  \n",
      " 0   Country Name  6291 non-null   object \n",
      " 1   Country Code  6291 non-null   object \n",
      " 2   Year          6291 non-null   int64  \n",
      " 3   Value         6291 non-null   float64\n",
      "dtypes: float64(1), int64(1), object(2)\n",
      "memory usage: 196.7+ KB\n"
     ]
    }
   ],
   "source": [
    "contributing_m.info()"
   ]
  },
  {
   "attachments": {},
   "cell_type": "markdown",
   "metadata": {},
   "source": [
    "---"
   ]
  },
  {
   "attachments": {},
   "cell_type": "markdown",
   "metadata": {},
   "source": [
    "# States\n",
    "These datasets come from different sources, therefore two blocks of code are used."
   ]
  },
  {
   "attachments": {},
   "cell_type": "markdown",
   "metadata": {},
   "source": [
    "🔹 Profit tax & Mobile cellular subscriptions"
   ]
  },
  {
   "cell_type": "code",
   "execution_count": 166,
   "metadata": {},
   "outputs": [],
   "source": [
    "#States series\n",
    "state_worldbank_series = ['IC.TAX.PRFT.CP.ZS', 'IT.CEL.SETS.P2']\n",
    "#State DF load\n",
    "state = wb.data.DataFrame((state_worldbank_series), labels = True, time=range(2000, year), skipBlanks=True, columns='series').reset_index()\n",
    "#State rename columns \n",
    "state.rename(columns={'IC.TAX.PRFT.CP.ZS': 'profit_tax', 'IT.CEL.SETS.P2': 'mobilesubs'}, inplace=True)"
   ]
  },
  {
   "attachments": {},
   "cell_type": "markdown",
   "metadata": {},
   "source": [
    "We check everything was loaded properly and see some info:"
   ]
  },
  {
   "cell_type": "code",
   "execution_count": 167,
   "metadata": {},
   "outputs": [
    {
     "data": {
      "text/html": [
       "<div>\n",
       "<style scoped>\n",
       "    .dataframe tbody tr th:only-of-type {\n",
       "        vertical-align: middle;\n",
       "    }\n",
       "\n",
       "    .dataframe tbody tr th {\n",
       "        vertical-align: top;\n",
       "    }\n",
       "\n",
       "    .dataframe thead th {\n",
       "        text-align: right;\n",
       "    }\n",
       "</style>\n",
       "<table border=\"1\" class=\"dataframe\">\n",
       "  <thead>\n",
       "    <tr style=\"text-align: right;\">\n",
       "      <th></th>\n",
       "      <th>economy</th>\n",
       "      <th>time</th>\n",
       "      <th>Country</th>\n",
       "      <th>Time</th>\n",
       "      <th>profit_tax</th>\n",
       "      <th>mobilesubs</th>\n",
       "    </tr>\n",
       "  </thead>\n",
       "  <tbody>\n",
       "    <tr>\n",
       "      <th>0</th>\n",
       "      <td>ZWE</td>\n",
       "      <td>YR2019</td>\n",
       "      <td>Zimbabwe</td>\n",
       "      <td>2019</td>\n",
       "      <td>17.6</td>\n",
       "      <td>85.940989</td>\n",
       "    </tr>\n",
       "    <tr>\n",
       "      <th>1</th>\n",
       "      <td>ZWE</td>\n",
       "      <td>YR2018</td>\n",
       "      <td>Zimbabwe</td>\n",
       "      <td>2018</td>\n",
       "      <td>17.6</td>\n",
       "      <td>85.761588</td>\n",
       "    </tr>\n",
       "    <tr>\n",
       "      <th>2</th>\n",
       "      <td>ZWE</td>\n",
       "      <td>YR2017</td>\n",
       "      <td>Zimbabwe</td>\n",
       "      <td>2017</td>\n",
       "      <td>17.6</td>\n",
       "      <td>95.532557</td>\n",
       "    </tr>\n",
       "    <tr>\n",
       "      <th>3</th>\n",
       "      <td>ZWE</td>\n",
       "      <td>YR2016</td>\n",
       "      <td>Zimbabwe</td>\n",
       "      <td>2016</td>\n",
       "      <td>17.6</td>\n",
       "      <td>89.110840</td>\n",
       "    </tr>\n",
       "    <tr>\n",
       "      <th>4</th>\n",
       "      <td>ZWE</td>\n",
       "      <td>YR2015</td>\n",
       "      <td>Zimbabwe</td>\n",
       "      <td>2015</td>\n",
       "      <td>17.6</td>\n",
       "      <td>90.126929</td>\n",
       "    </tr>\n",
       "  </tbody>\n",
       "</table>\n",
       "</div>"
      ],
      "text/plain": [
       "  economy    time   Country  Time  profit_tax  mobilesubs\n",
       "0     ZWE  YR2019  Zimbabwe  2019        17.6   85.940989\n",
       "1     ZWE  YR2018  Zimbabwe  2018        17.6   85.761588\n",
       "2     ZWE  YR2017  Zimbabwe  2017        17.6   95.532557\n",
       "3     ZWE  YR2016  Zimbabwe  2016        17.6   89.110840\n",
       "4     ZWE  YR2015  Zimbabwe  2015        17.6   90.126929"
      ]
     },
     "execution_count": 167,
     "metadata": {},
     "output_type": "execute_result"
    }
   ],
   "source": [
    "state.head()"
   ]
  },
  {
   "cell_type": "code",
   "execution_count": 168,
   "metadata": {},
   "outputs": [
    {
     "name": "stdout",
     "output_type": "stream",
     "text": [
      "<class 'pandas.core.frame.DataFrame'>\n",
      "RangeIndex: 5529 entries, 0 to 5528\n",
      "Data columns (total 6 columns):\n",
      " #   Column      Non-Null Count  Dtype  \n",
      "---  ------      --------------  -----  \n",
      " 0   economy     5529 non-null   object \n",
      " 1   time        5529 non-null   object \n",
      " 2   Country     5529 non-null   object \n",
      " 3   Time        5529 non-null   object \n",
      " 4   profit_tax  3397 non-null   float64\n",
      " 5   mobilesubs  5491 non-null   float64\n",
      "dtypes: float64(2), object(4)\n",
      "memory usage: 259.3+ KB\n"
     ]
    }
   ],
   "source": [
    "state.info()"
   ]
  },
  {
   "attachments": {},
   "cell_type": "markdown",
   "metadata": {},
   "source": [
    "🔹 GDP per capita"
   ]
  },
  {
   "cell_type": "code",
   "execution_count": 169,
   "metadata": {},
   "outputs": [],
   "source": [
    "data_url = 'https://datahub.io/world-bank/ny.gdp.pcap.pp.cd/datapackage.json'\n",
    "    # Storing the dataset into a generic variable\n",
    "\n",
    "package = datapackage.Package(data_url)\n",
    "    # Loading Data Package into storage\n",
    "\n",
    "resources = package.resources\n",
    "for resource in resources:\n",
    "    if resource.tabular:\n",
    "        gdp_percapita = pd.read_csv(resource.descriptor['path'])\n",
    "    # Loading only tabular data"
   ]
  },
  {
   "attachments": {},
   "cell_type": "markdown",
   "metadata": {},
   "source": [
    "We check everything was loaded properly and see some info:"
   ]
  },
  {
   "cell_type": "code",
   "execution_count": 170,
   "metadata": {},
   "outputs": [
    {
     "data": {
      "text/html": [
       "<div>\n",
       "<style scoped>\n",
       "    .dataframe tbody tr th:only-of-type {\n",
       "        vertical-align: middle;\n",
       "    }\n",
       "\n",
       "    .dataframe tbody tr th {\n",
       "        vertical-align: top;\n",
       "    }\n",
       "\n",
       "    .dataframe thead th {\n",
       "        text-align: right;\n",
       "    }\n",
       "</style>\n",
       "<table border=\"1\" class=\"dataframe\">\n",
       "  <thead>\n",
       "    <tr style=\"text-align: right;\">\n",
       "      <th></th>\n",
       "      <th>Country Name</th>\n",
       "      <th>Country Code</th>\n",
       "      <th>Year</th>\n",
       "      <th>Value</th>\n",
       "    </tr>\n",
       "  </thead>\n",
       "  <tbody>\n",
       "    <tr>\n",
       "      <th>0</th>\n",
       "      <td>Arab World</td>\n",
       "      <td>ARB</td>\n",
       "      <td>1990</td>\n",
       "      <td>6759.785391</td>\n",
       "    </tr>\n",
       "    <tr>\n",
       "      <th>1</th>\n",
       "      <td>Arab World</td>\n",
       "      <td>ARB</td>\n",
       "      <td>1991</td>\n",
       "      <td>6821.770961</td>\n",
       "    </tr>\n",
       "    <tr>\n",
       "      <th>2</th>\n",
       "      <td>Arab World</td>\n",
       "      <td>ARB</td>\n",
       "      <td>1992</td>\n",
       "      <td>7193.242012</td>\n",
       "    </tr>\n",
       "    <tr>\n",
       "      <th>3</th>\n",
       "      <td>Arab World</td>\n",
       "      <td>ARB</td>\n",
       "      <td>1993</td>\n",
       "      <td>7394.499977</td>\n",
       "    </tr>\n",
       "    <tr>\n",
       "      <th>4</th>\n",
       "      <td>Arab World</td>\n",
       "      <td>ARB</td>\n",
       "      <td>1994</td>\n",
       "      <td>7583.281922</td>\n",
       "    </tr>\n",
       "  </tbody>\n",
       "</table>\n",
       "</div>"
      ],
      "text/plain": [
       "  Country Name Country Code  Year        Value\n",
       "0   Arab World          ARB  1990  6759.785391\n",
       "1   Arab World          ARB  1991  6821.770961\n",
       "2   Arab World          ARB  1992  7193.242012\n",
       "3   Arab World          ARB  1993  7394.499977\n",
       "4   Arab World          ARB  1994  7583.281922"
      ]
     },
     "execution_count": 170,
     "metadata": {},
     "output_type": "execute_result"
    }
   ],
   "source": [
    "gdp_percapita.head()"
   ]
  },
  {
   "cell_type": "code",
   "execution_count": 171,
   "metadata": {},
   "outputs": [
    {
     "name": "stdout",
     "output_type": "stream",
     "text": [
      "<class 'pandas.core.frame.DataFrame'>\n",
      "RangeIndex: 6194 entries, 0 to 6193\n",
      "Data columns (total 4 columns):\n",
      " #   Column        Non-Null Count  Dtype  \n",
      "---  ------        --------------  -----  \n",
      " 0   Country Name  6194 non-null   object \n",
      " 1   Country Code  6194 non-null   object \n",
      " 2   Year          6194 non-null   int64  \n",
      " 3   Value         6194 non-null   float64\n",
      "dtypes: float64(1), int64(1), object(2)\n",
      "memory usage: 193.7+ KB\n"
     ]
    }
   ],
   "source": [
    "gdp_percapita.info()"
   ]
  },
  {
   "attachments": {},
   "cell_type": "markdown",
   "metadata": {},
   "source": [
    "🔹 Poverty Gap"
   ]
  },
  {
   "cell_type": "code",
   "execution_count": 172,
   "metadata": {},
   "outputs": [],
   "source": [
    "data_url ='https://datahub.io/world-bank/si.pov.urgp/datapackage.json'\n",
    "    # Storing the dataset into a generic variable\n",
    "\n",
    "package = datapackage.Package(data_url)\n",
    "    # Loading Data Package into storage\n",
    "\n",
    "resources = package.resources\n",
    "for resource in resources:\n",
    "    if resource.tabular:\n",
    "        povertygap = pd.read_csv(resource.descriptor['path'])\n",
    "    # Loading only tabular data"
   ]
  },
  {
   "attachments": {},
   "cell_type": "markdown",
   "metadata": {},
   "source": [
    "We check everything was loaded properly and see some info:"
   ]
  },
  {
   "cell_type": "code",
   "execution_count": 173,
   "metadata": {},
   "outputs": [
    {
     "data": {
      "text/html": [
       "<div>\n",
       "<style scoped>\n",
       "    .dataframe tbody tr th:only-of-type {\n",
       "        vertical-align: middle;\n",
       "    }\n",
       "\n",
       "    .dataframe tbody tr th {\n",
       "        vertical-align: top;\n",
       "    }\n",
       "\n",
       "    .dataframe thead th {\n",
       "        text-align: right;\n",
       "    }\n",
       "</style>\n",
       "<table border=\"1\" class=\"dataframe\">\n",
       "  <thead>\n",
       "    <tr style=\"text-align: right;\">\n",
       "      <th></th>\n",
       "      <th>Country Name</th>\n",
       "      <th>Country Code</th>\n",
       "      <th>Year</th>\n",
       "      <th>Value</th>\n",
       "    </tr>\n",
       "  </thead>\n",
       "  <tbody>\n",
       "    <tr>\n",
       "      <th>0</th>\n",
       "      <td>Afghanistan</td>\n",
       "      <td>AFG</td>\n",
       "      <td>2007</td>\n",
       "      <td>6.1</td>\n",
       "    </tr>\n",
       "    <tr>\n",
       "      <th>1</th>\n",
       "      <td>Afghanistan</td>\n",
       "      <td>AFG</td>\n",
       "      <td>2011</td>\n",
       "      <td>5.6</td>\n",
       "    </tr>\n",
       "    <tr>\n",
       "      <th>2</th>\n",
       "      <td>Albania</td>\n",
       "      <td>ALB</td>\n",
       "      <td>2002</td>\n",
       "      <td>4.5</td>\n",
       "    </tr>\n",
       "    <tr>\n",
       "      <th>3</th>\n",
       "      <td>Albania</td>\n",
       "      <td>ALB</td>\n",
       "      <td>2005</td>\n",
       "      <td>2.3</td>\n",
       "    </tr>\n",
       "    <tr>\n",
       "      <th>4</th>\n",
       "      <td>Albania</td>\n",
       "      <td>ALB</td>\n",
       "      <td>2008</td>\n",
       "      <td>1.9</td>\n",
       "    </tr>\n",
       "  </tbody>\n",
       "</table>\n",
       "</div>"
      ],
      "text/plain": [
       "  Country Name Country Code  Year  Value\n",
       "0  Afghanistan          AFG  2007    6.1\n",
       "1  Afghanistan          AFG  2011    5.6\n",
       "2      Albania          ALB  2002    4.5\n",
       "3      Albania          ALB  2005    2.3\n",
       "4      Albania          ALB  2008    1.9"
      ]
     },
     "execution_count": 173,
     "metadata": {},
     "output_type": "execute_result"
    }
   ],
   "source": [
    "povertygap.head()"
   ]
  },
  {
   "cell_type": "code",
   "execution_count": 174,
   "metadata": {},
   "outputs": [
    {
     "name": "stdout",
     "output_type": "stream",
     "text": [
      "<class 'pandas.core.frame.DataFrame'>\n",
      "RangeIndex: 242 entries, 0 to 241\n",
      "Data columns (total 4 columns):\n",
      " #   Column        Non-Null Count  Dtype  \n",
      "---  ------        --------------  -----  \n",
      " 0   Country Name  242 non-null    object \n",
      " 1   Country Code  242 non-null    object \n",
      " 2   Year          242 non-null    int64  \n",
      " 3   Value         242 non-null    float64\n",
      "dtypes: float64(1), int64(1), object(2)\n",
      "memory usage: 7.7+ KB\n"
     ]
    }
   ],
   "source": [
    "povertygap.info()"
   ]
  },
  {
   "attachments": {},
   "cell_type": "markdown",
   "metadata": {},
   "source": [
    "---"
   ]
  },
  {
   "attachments": {},
   "cell_type": "markdown",
   "metadata": {},
   "source": [
    "# ETL Pipeline\n",
    "    We have designed two pipelines that work on both of the sources ('World Bank' and 'Datahub') separately; this is because the sources provide the data with different format, and therefore the transform processes are different. The transformation were thought after the exploratory data analysis was done, and based on our needs for the project."
   ]
  },
  {
   "attachments": {},
   "cell_type": "markdown",
   "metadata": {},
   "source": [
    "## World Bank"
   ]
  },
  {
   "attachments": {},
   "cell_type": "markdown",
   "metadata": {},
   "source": [
    "We create a class for each process the databases coming from 'World Bank' will have to go through."
   ]
  },
  {
   "cell_type": "code",
   "execution_count": 175,
   "metadata": {},
   "outputs": [],
   "source": [
    "# Renaming the first column into 'id_country'\n",
    "class ColumnRenamer(BaseEstimator, TransformerMixin):\n",
    "    def __init__(self, old_name, new_name):\n",
    "        self.old_name = old_name\n",
    "        self.new_name = new_name\n",
    "        \n",
    "    def fit(self, X, y=None):\n",
    "        return self\n",
    "    \n",
    "    def transform(self, X, y=None):\n",
    "        X = X.rename(columns={self.old_name: self.new_name})\n",
    "        return X\n",
    "\n",
    "# Filling null values. \n",
    "class FillNAs(BaseEstimator, TransformerMixin):\n",
    "    def __init__(self):\n",
    "        pass\n",
    "        \n",
    "    def fit(self, X, y=None):\n",
    "        return self\n",
    "    \n",
    "    def transform(self, X, y=None):\n",
    "        X = X.fillna(method=\"ffill\")\n",
    "        if X.iloc[0].isnull().any():\n",
    "            X.iloc[0] = X.iloc[1]\n",
    "        elif X.isnull().any().any():\n",
    "            # if there are still null values after forward filling, fill them with the last valid value\n",
    "            X = X.fillna(method=\"backfill\")\n",
    "        return X\n",
    "\n",
    "# Dropping the extra column named 'time'\n",
    "class DropTimeColumn(BaseEstimator, TransformerMixin):\n",
    "    def __init__(self, columns=['time']):\n",
    "        self.columns = columns\n",
    "\n",
    "    def fit(self, X, y=None):\n",
    "        return self\n",
    "\n",
    "    def transform(self, X):\n",
    "        X = X.drop(columns=self.columns)\n",
    "        return X\n",
    "\n",
    "#Defining the pipeline:\n",
    "processes_wb = [\n",
    "    ('rename_country_column', ColumnRenamer(old_name='economy', new_name='id_country')),\n",
    "    ('rename_time_column', ColumnRenamer(old_name='Time', new_name='Year')),\n",
    "    ('fill_nas', FillNAs()),\n",
    "    ('drop_columns', DropTimeColumn(columns=['time']))\n",
    "                ]\n",
    "\n",
    "pipeline_wb = Pipeline(processes_wb)"
   ]
  },
  {
   "attachments": {},
   "cell_type": "markdown",
   "metadata": {},
   "source": [
    "## Datahub"
   ]
  },
  {
   "attachments": {},
   "cell_type": "markdown",
   "metadata": {},
   "source": [
    "We create a class for each process the databases coming from 'Datahub' will have to go through."
   ]
  },
  {
   "cell_type": "code",
   "execution_count": 176,
   "metadata": {},
   "outputs": [],
   "source": [
    "# Drop rows which year is prior to 2000:\n",
    "class DropRowsBefore2000(BaseEstimator, TransformerMixin):\n",
    "    def __init__(self):\n",
    "        pass\n",
    "        \n",
    "    def fit(self, X, y=None):\n",
    "        return self\n",
    "    \n",
    "    def transform(self, X, y=None):\n",
    "        X = X[X['Year'] >= 2000]\n",
    "        return X\n",
    "    \n",
    "# Check if there are countries and years duplicated:\n",
    "class DropDuplicates(BaseEstimator, TransformerMixin):\n",
    "    def __init__(self, columns=[\"Country Code\", \"Year\"]):\n",
    "        self.columns = columns\n",
    "        \n",
    "    def fit(self, X, y=None):\n",
    "        return self\n",
    "    \n",
    "    def transform(self, X, y=None):\n",
    "        X = X.drop_duplicates(subset=self.columns)\n",
    "        return X\n",
    "\n",
    "# Fill null values with previous values:\n",
    "class FillNAs(BaseEstimator, TransformerMixin):\n",
    "    def __init__(self):\n",
    "        pass\n",
    "        \n",
    "    def fit(self, X, y=None):\n",
    "        return self\n",
    "    \n",
    "    def transform(self, X, y=None):\n",
    "        X = X.fillna(method=\"ffill\")\n",
    "        return X\n",
    "\n",
    "# Organize the columns and rename 'Value':\n",
    "class ColumnOrganizer(BaseEstimator, TransformerMixin):\n",
    "    def __init__(self):\n",
    "        pass\n",
    "        \n",
    "    def fit(self, X, y=None):\n",
    "        return self\n",
    "    \n",
    "    def transform(self, X, y=None):\n",
    "        X = X[['Country Code', 'Country Name', 'Year', 'Value']]\n",
    "        return X\n",
    "\n",
    "#Defining the pipeline:\n",
    "known_columns = ['Country Code', 'Country Name', 'Year']\n",
    "\n",
    "processes_dh = [        \n",
    "    ('drop_rows_before_2000', DropRowsBefore2000()),    \n",
    "    ('drop_duplicates', DropDuplicates(columns=[\"Country Code\", \"Year\"])),\n",
    "    ('fill_nas', FillNAs()),\n",
    "    ('organize_columns', ColumnOrganizer())\n",
    "]\n",
    "\n",
    "pipeline_dh = Pipeline(processes_dh)"
   ]
  },
  {
   "attachments": {},
   "cell_type": "markdown",
   "metadata": {},
   "source": [
    "## Applying pipelines:"
   ]
  },
  {
   "attachments": {},
   "cell_type": "markdown",
   "metadata": {},
   "source": [
    "### Economy:"
   ]
  },
  {
   "cell_type": "code",
   "execution_count": 177,
   "metadata": {},
   "outputs": [],
   "source": [
    "economy = pipeline_wb.fit_transform(economy)"
   ]
  },
  {
   "attachments": {},
   "cell_type": "markdown",
   "metadata": {},
   "source": [
    "We check the pipeline got applied correctly:"
   ]
  },
  {
   "cell_type": "code",
   "execution_count": 178,
   "metadata": {},
   "outputs": [
    {
     "name": "stdout",
     "output_type": "stream",
     "text": [
      "<class 'pandas.core.frame.DataFrame'>\n",
      "RangeIndex: 5648 entries, 0 to 5647\n",
      "Data columns (total 9 columns):\n",
      " #   Column          Non-Null Count  Dtype  \n",
      "---  ------          --------------  -----  \n",
      " 0   id_country      5648 non-null   object \n",
      " 1   Country         5648 non-null   object \n",
      " 2   Year            5648 non-null   object \n",
      " 3   CONSUMER_PRICE  5648 non-null   float64\n",
      " 4   CONS_EXPEND     5648 non-null   float64\n",
      " 5   GDP             5648 non-null   float64\n",
      " 6   GDP_GROWTH      5648 non-null   float64\n",
      " 7   GNI_CAPITA      5648 non-null   float64\n",
      " 8   GROSS_SAVINGS   5648 non-null   float64\n",
      "dtypes: float64(6), object(3)\n",
      "memory usage: 397.2+ KB\n"
     ]
    }
   ],
   "source": [
    "economy.info()"
   ]
  },
  {
   "attachments": {},
   "cell_type": "markdown",
   "metadata": {},
   "source": [
    "### People"
   ]
  },
  {
   "cell_type": "code",
   "execution_count": 179,
   "metadata": {},
   "outputs": [],
   "source": [
    "people = pipeline_wb.fit_transform(people)"
   ]
  },
  {
   "attachments": {},
   "cell_type": "markdown",
   "metadata": {},
   "source": [
    "We check the pipeline got applied correctly:"
   ]
  },
  {
   "cell_type": "code",
   "execution_count": 180,
   "metadata": {},
   "outputs": [
    {
     "name": "stdout",
     "output_type": "stream",
     "text": [
      "<class 'pandas.core.frame.DataFrame'>\n",
      "RangeIndex: 5406 entries, 0 to 5405\n",
      "Data columns (total 5 columns):\n",
      " #   Column      Non-Null Count  Dtype  \n",
      "---  ------      --------------  -----  \n",
      " 0   id_country  5406 non-null   object \n",
      " 1   Country     5406 non-null   object \n",
      " 2   Year        5406 non-null   object \n",
      " 3   gover_exp   5406 non-null   float64\n",
      " 4   unemploy    5406 non-null   float64\n",
      "dtypes: float64(2), object(3)\n",
      "memory usage: 211.3+ KB\n"
     ]
    }
   ],
   "source": [
    "people.info()"
   ]
  },
  {
   "attachments": {},
   "cell_type": "markdown",
   "metadata": {},
   "source": [
    "### Environment"
   ]
  },
  {
   "attachments": {},
   "cell_type": "markdown",
   "metadata": {},
   "source": [
    "Access to electricity (% of population) & People using at least basic sanitation services in urban areas."
   ]
  },
  {
   "cell_type": "code",
   "execution_count": 181,
   "metadata": {},
   "outputs": [],
   "source": [
    "enviroment = pipeline_wb.fit_transform(enviroment)\n",
    "pop_density = pipeline_dh.fit_transform(pop_density)"
   ]
  },
  {
   "attachments": {},
   "cell_type": "markdown",
   "metadata": {},
   "source": [
    "We check the pipeline got applied correctly:"
   ]
  },
  {
   "cell_type": "code",
   "execution_count": 182,
   "metadata": {},
   "outputs": [
    {
     "name": "stdout",
     "output_type": "stream",
     "text": [
      "<class 'pandas.core.frame.DataFrame'>\n",
      "RangeIndex: 5523 entries, 0 to 5522\n",
      "Data columns (total 5 columns):\n",
      " #   Column            Non-Null Count  Dtype  \n",
      "---  ------            --------------  -----  \n",
      " 0   id_country        5523 non-null   object \n",
      " 1   Country           5523 non-null   object \n",
      " 2   Year              5523 non-null   object \n",
      " 3   elect             5523 non-null   float64\n",
      " 4   basic_sanitation  5523 non-null   float64\n",
      "dtypes: float64(2), object(3)\n",
      "memory usage: 215.9+ KB\n"
     ]
    }
   ],
   "source": [
    "enviroment.info()"
   ]
  },
  {
   "cell_type": "code",
   "execution_count": 183,
   "metadata": {},
   "outputs": [
    {
     "name": "stdout",
     "output_type": "stream",
     "text": [
      "<class 'pandas.core.frame.DataFrame'>\n",
      "Int64Index: 4449 entries, 39 to 14338\n",
      "Data columns (total 4 columns):\n",
      " #   Column        Non-Null Count  Dtype  \n",
      "---  ------        --------------  -----  \n",
      " 0   Country Code  4449 non-null   object \n",
      " 1   Country Name  4449 non-null   object \n",
      " 2   Year          4449 non-null   int64  \n",
      " 3   Value         4449 non-null   float64\n",
      "dtypes: float64(1), int64(1), object(2)\n",
      "memory usage: 173.8+ KB\n"
     ]
    }
   ],
   "source": [
    "pop_density.info()"
   ]
  },
  {
   "attachments": {},
   "cell_type": "markdown",
   "metadata": {},
   "source": [
    "### Poverty"
   ]
  },
  {
   "cell_type": "code",
   "execution_count": 184,
   "metadata": {},
   "outputs": [],
   "source": [
    "population_below = pipeline_dh.fit_transform(population_below)\n",
    "maternal_mortality = pipeline_dh.fit_transform(maternal_mortality)\n",
    "tuberculosis = pipeline_dh.fit_transform(tuberculosis)\n",
    "contributing_f = pipeline_dh.fit_transform(contributing_f)\n",
    "contributing_m = pipeline_dh.fit_transform(contributing_m)"
   ]
  },
  {
   "attachments": {},
   "cell_type": "markdown",
   "metadata": {},
   "source": [
    "We check the pipeline got applied correctly:"
   ]
  },
  {
   "cell_type": "code",
   "execution_count": 185,
   "metadata": {},
   "outputs": [
    {
     "name": "stdout",
     "output_type": "stream",
     "text": [
      "<class 'pandas.core.frame.DataFrame'>\n",
      "Int64Index: 1188 entries, 7 to 1610\n",
      "Data columns (total 4 columns):\n",
      " #   Column        Non-Null Count  Dtype  \n",
      "---  ------        --------------  -----  \n",
      " 0   Country Code  1188 non-null   object \n",
      " 1   Country Name  1188 non-null   object \n",
      " 2   Year          1188 non-null   int64  \n",
      " 3   Value         1188 non-null   float64\n",
      "dtypes: float64(1), int64(1), object(2)\n",
      "memory usage: 46.4+ KB\n"
     ]
    }
   ],
   "source": [
    "population_below.info()"
   ]
  },
  {
   "cell_type": "code",
   "execution_count": 186,
   "metadata": {},
   "outputs": [
    {
     "name": "stdout",
     "output_type": "stream",
     "text": [
      "<class 'pandas.core.frame.DataFrame'>\n",
      "Int64Index: 3664 entries, 10 to 5953\n",
      "Data columns (total 4 columns):\n",
      " #   Column        Non-Null Count  Dtype \n",
      "---  ------        --------------  ----- \n",
      " 0   Country Code  3664 non-null   object\n",
      " 1   Country Name  3664 non-null   object\n",
      " 2   Year          3664 non-null   int64 \n",
      " 3   Value         3664 non-null   int64 \n",
      "dtypes: int64(2), object(2)\n",
      "memory usage: 143.1+ KB\n"
     ]
    }
   ],
   "source": [
    "maternal_mortality.info()"
   ]
  },
  {
   "cell_type": "code",
   "execution_count": 187,
   "metadata": {},
   "outputs": [
    {
     "name": "stdout",
     "output_type": "stream",
     "text": [
      "<class 'pandas.core.frame.DataFrame'>\n",
      "Int64Index: 3850 entries, 0 to 3849\n",
      "Data columns (total 4 columns):\n",
      " #   Column        Non-Null Count  Dtype  \n",
      "---  ------        --------------  -----  \n",
      " 0   Country Code  3850 non-null   object \n",
      " 1   Country Name  3850 non-null   object \n",
      " 2   Year          3850 non-null   int64  \n",
      " 3   Value         3850 non-null   float64\n",
      "dtypes: float64(1), int64(1), object(2)\n",
      "memory usage: 150.4+ KB\n"
     ]
    }
   ],
   "source": [
    "tuberculosis.info()"
   ]
  },
  {
   "cell_type": "code",
   "execution_count": 188,
   "metadata": {},
   "outputs": [
    {
     "name": "stdout",
     "output_type": "stream",
     "text": [
      "<class 'pandas.core.frame.DataFrame'>\n",
      "Int64Index: 4194 entries, 9 to 6290\n",
      "Data columns (total 4 columns):\n",
      " #   Column        Non-Null Count  Dtype  \n",
      "---  ------        --------------  -----  \n",
      " 0   Country Code  4194 non-null   object \n",
      " 1   Country Name  4194 non-null   object \n",
      " 2   Year          4194 non-null   int64  \n",
      " 3   Value         4194 non-null   float64\n",
      "dtypes: float64(1), int64(1), object(2)\n",
      "memory usage: 163.8+ KB\n"
     ]
    }
   ],
   "source": [
    "contributing_f.info()"
   ]
  },
  {
   "cell_type": "code",
   "execution_count": 189,
   "metadata": {},
   "outputs": [
    {
     "name": "stdout",
     "output_type": "stream",
     "text": [
      "<class 'pandas.core.frame.DataFrame'>\n",
      "Int64Index: 4194 entries, 9 to 6290\n",
      "Data columns (total 4 columns):\n",
      " #   Column        Non-Null Count  Dtype  \n",
      "---  ------        --------------  -----  \n",
      " 0   Country Code  4194 non-null   object \n",
      " 1   Country Name  4194 non-null   object \n",
      " 2   Year          4194 non-null   int64  \n",
      " 3   Value         4194 non-null   float64\n",
      "dtypes: float64(1), int64(1), object(2)\n",
      "memory usage: 163.8+ KB\n"
     ]
    }
   ],
   "source": [
    "contributing_m.info()"
   ]
  },
  {
   "attachments": {},
   "cell_type": "markdown",
   "metadata": {},
   "source": [
    "### States"
   ]
  },
  {
   "cell_type": "code",
   "execution_count": 190,
   "metadata": {},
   "outputs": [],
   "source": [
    "state = pipeline_wb.fit_transform(state)\n",
    "gdp_percapita = pipeline_dh.fit_transform(gdp_percapita)\n",
    "povertygap = pipeline_dh.fit_transform(povertygap)"
   ]
  },
  {
   "attachments": {},
   "cell_type": "markdown",
   "metadata": {},
   "source": [
    "We check the pipeline got applied correctly:"
   ]
  },
  {
   "cell_type": "code",
   "execution_count": 191,
   "metadata": {},
   "outputs": [
    {
     "name": "stdout",
     "output_type": "stream",
     "text": [
      "<class 'pandas.core.frame.DataFrame'>\n",
      "RangeIndex: 5529 entries, 0 to 5528\n",
      "Data columns (total 5 columns):\n",
      " #   Column      Non-Null Count  Dtype  \n",
      "---  ------      --------------  -----  \n",
      " 0   id_country  5529 non-null   object \n",
      " 1   Country     5529 non-null   object \n",
      " 2   Year        5529 non-null   object \n",
      " 3   profit_tax  5529 non-null   float64\n",
      " 4   mobilesubs  5529 non-null   float64\n",
      "dtypes: float64(2), object(3)\n",
      "memory usage: 216.1+ KB\n"
     ]
    }
   ],
   "source": [
    "state.info()"
   ]
  },
  {
   "cell_type": "code",
   "execution_count": 192,
   "metadata": {},
   "outputs": [
    {
     "name": "stdout",
     "output_type": "stream",
     "text": [
      "<class 'pandas.core.frame.DataFrame'>\n",
      "Int64Index: 4011 entries, 10 to 6193\n",
      "Data columns (total 4 columns):\n",
      " #   Column        Non-Null Count  Dtype  \n",
      "---  ------        --------------  -----  \n",
      " 0   Country Code  4011 non-null   object \n",
      " 1   Country Name  4011 non-null   object \n",
      " 2   Year          4011 non-null   int64  \n",
      " 3   Value         4011 non-null   float64\n",
      "dtypes: float64(1), int64(1), object(2)\n",
      "memory usage: 156.7+ KB\n"
     ]
    }
   ],
   "source": [
    "gdp_percapita.info()"
   ]
  },
  {
   "cell_type": "code",
   "execution_count": 193,
   "metadata": {},
   "outputs": [
    {
     "name": "stdout",
     "output_type": "stream",
     "text": [
      "<class 'pandas.core.frame.DataFrame'>\n",
      "Int64Index: 230 entries, 0 to 241\n",
      "Data columns (total 4 columns):\n",
      " #   Column        Non-Null Count  Dtype  \n",
      "---  ------        --------------  -----  \n",
      " 0   Country Code  230 non-null    object \n",
      " 1   Country Name  230 non-null    object \n",
      " 2   Year          230 non-null    int64  \n",
      " 3   Value         230 non-null    float64\n",
      "dtypes: float64(1), int64(1), object(2)\n",
      "memory usage: 9.0+ KB\n"
     ]
    }
   ],
   "source": [
    "povertygap.info()"
   ]
  },
  {
   "attachments": {},
   "cell_type": "markdown",
   "metadata": {},
   "source": [
    "---"
   ]
  },
  {
   "attachments": {},
   "cell_type": "markdown",
   "metadata": {},
   "source": [
    "# Final Conclusion"
   ]
  },
  {
   "attachments": {},
   "cell_type": "markdown",
   "metadata": {},
   "source": [
    "This two pipelines work perfectly to ensure the datasets are clean and ready to be used in machine learning algorythms, and powerbi dashboards. "
   ]
  },
  {
   "attachments": {},
   "cell_type": "markdown",
   "metadata": {},
   "source": [
    "---"
   ]
  }
 ],
 "metadata": {
  "kernelspec": {
   "display_name": "Python 3",
   "language": "python",
   "name": "python3"
  },
  "language_info": {
   "codemirror_mode": {
    "name": "ipython",
    "version": 3
   },
   "file_extension": ".py",
   "mimetype": "text/x-python",
   "name": "python",
   "nbconvert_exporter": "python",
   "pygments_lexer": "ipython3",
   "version": "3.10.10"
  },
  "orig_nbformat": 4,
  "vscode": {
   "interpreter": {
    "hash": "aede9838c29d69ce6b598b7cc2904da6f01b3369fa6af2d4895c2504da873163"
   }
  }
 },
 "nbformat": 4,
 "nbformat_minor": 2
}
