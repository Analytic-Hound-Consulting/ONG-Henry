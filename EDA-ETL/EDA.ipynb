{
 "cells": [
  {
   "attachments": {},
   "cell_type": "markdown",
   "metadata": {},
   "source": [
    "<img src=https://i.imgur.com/QnKVI6k.jpg>\n"
   ]
  },
  {
   "attachments": {},
   "cell_type": "markdown",
   "metadata": {},
   "source": [
    "---"
   ]
  },
  {
   "attachments": {},
   "cell_type": "markdown",
   "metadata": {},
   "source": [
    "# Introduction"
   ]
  },
  {
   "attachments": {},
   "cell_type": "markdown",
   "metadata": {},
   "source": [
    "The datasets were selected based on how big of an impact they have when it comes to migration. We have separated the datasets in the following categories: <br>\n",
    "* Economy\n",
    "* People\n",
    "* Environment\n",
    "* Poverty\n",
    "* States \n",
    "* Demographic <br>\n",
    "\n",
    "In this notebook, you will find the exploratory data analysis for each one of the selected datasets, with the respective preliminary conclusion. "
   ]
  },
  {
   "attachments": {},
   "cell_type": "markdown",
   "metadata": {},
   "source": [
    "---"
   ]
  },
  {
   "attachments": {},
   "cell_type": "markdown",
   "metadata": {},
   "source": [
    "# Exploratory Data Analysis"
   ]
  },
  {
   "attachments": {},
   "cell_type": "markdown",
   "metadata": {},
   "source": [
    "We begin importing all the necessary libraries for the diagnosis: "
   ]
  },
  {
   "cell_type": "code",
   "execution_count": 71,
   "metadata": {},
   "outputs": [],
   "source": [
    "#Libraries to work on the databases:\n",
    "import pandas as pd\n",
    "import numpy as np\n",
    "from pandas_datareader import wb\n",
    "import wbgapi as wb\n",
    "import datetime\n",
    "import datapackage "
   ]
  },
  {
   "cell_type": "code",
   "execution_count": 3,
   "metadata": {},
   "outputs": [],
   "source": [
    "today = datetime.date.today()\n",
    "year = today.year"
   ]
  },
  {
   "attachments": {},
   "cell_type": "markdown",
   "metadata": {},
   "source": [
    "    We've decided to add a prefix to each dataset, indicating which category they belong to.\n",
    "* References:<br>\n",
    "**eco** = economy related dataset <br>\n",
    "**peo** = people related dataset<br>\n",
    "**env** = environment related dataset<br>\n",
    "**pov** = poverty related dataset<br> \n",
    "**sta** = states related dataset<br>\n",
    "**mig** = demographic related dataset<br>"
   ]
  },
  {
   "attachments": {},
   "cell_type": "markdown",
   "metadata": {},
   "source": [
    "---"
   ]
  },
  {
   "attachments": {},
   "cell_type": "markdown",
   "metadata": {},
   "source": [
    "## ⟐ Economy: \n",
    "•\tGross Domestic Product <br>\n",
    "•\tGDP Growth<br>\n",
    "•\tFinal Consumption Expenditure<br>\n",
    "•\tGNI Per Capita<br>\n",
    "•\tGross Savings <br>\n",
    "•\tConsumer Price<br>\n",
    "•\tTotal reserves (gold + US$)<br>\n",
    "•\tForeign direct investment, net inflows (BoP, current US$)<br>\n",
    "•\tTotal tax and contribution rate (PCT of profit)<br>\n",
    "•\tTime required to start a business (days)<br>\n",
    "•\tExports of goods and services (PCT of GDP)<br>\n",
    "•\tImports of goods and services (PCT of GDP)"
   ]
  },
  {
   "attachments": {},
   "cell_type": "markdown",
   "metadata": {},
   "source": [
    "We load the databases into variables:"
   ]
  },
  {
   "cell_type": "code",
   "execution_count": 3,
   "metadata": {},
   "outputs": [],
   "source": [
    "# Gross Domestic Product\n",
    "eco_gdp = wb.data.DataFrame('NY.GDP.MKTP.CD', labels = True, time=range(2000, year), skipBlanks=True, columns='series').reset_index()\n",
    "eco_gdp.rename(columns={'NY.GDP.MKTP.CD': 'Gross Domestic Product'}, inplace=True)\n",
    "\n",
    "# GDP Growth\n",
    "eco_gdp_growth = wb.data.DataFrame('NY.GDP.MKTP.KD.ZG', labels = True, time=range(2000, year), skipBlanks=True, columns='series').reset_index()\n",
    "eco_gdp_growth.rename(columns={'NY.GDP.MKTP.KD.ZG': 'GDP Growth'}, inplace=True)\n",
    "\n",
    "# Final Consumption Expenditure\n",
    "eco_cons_expen = wb.data.DataFrame('NE.CON.TOTL.KD.ZG', labels = True, time=range(2000, year), skipBlanks=True, columns='series').reset_index()\n",
    "eco_cons_expen.rename(columns={'NE.CON.TOTL.KD.ZG': 'Final Consumption Expenditure'}, inplace=True)\n",
    "\n",
    "# GNI_Per_Capita\n",
    "eco_gni_capita = wb.data.DataFrame('NY.GNP.PCAP.CD', labels = True, time=range(2000, year), skipBlanks=True, columns='series').reset_index()\n",
    "eco_gni_capita.rename(columns={'NY.GNP.PCAP.CD': 'GNI Per Capita'}, inplace=True)\n",
    "\n",
    "# Gross Savings\n",
    "eco_gross_savings = wb.data.DataFrame('NY.GNS.ICTR.ZS', labels = True, time=range(2000, year), skipBlanks=True, columns='series').reset_index()\n",
    "eco_gross_savings.rename(columns={'NY.GNS.ICTR.ZS': 'Gross Savings'}, inplace=True)\n",
    "\n",
    "# Consumer Price\n",
    "eco_consumer_price = wb.data.DataFrame('FP.CPI.TOTL', labels = True, time=range(2000, year), skipBlanks=True, columns='series').reset_index()\n",
    "eco_consumer_price.rename(columns={'FP.CPI.TOTL': 'Consumer Price'}, inplace=True)\n",
    "\n",
    "# Total reserves (gold + US$)\n",
    "eco_total_reserves = wb.data.DataFrame('FI.RES.TOTL.CD', labels = True, time=range(2000, year), skipBlanks=True, columns='series').reset_index()\n",
    "eco_total_reserves.rename(columns={'FI.RES.TOTL.CD': 'Total reserves (gold + US$)'}, inplace=True)\n",
    "\n",
    "# Foreign direct investment, net inflows (BoP, current US$)\n",
    "eco_foreign_invest = wb.data.DataFrame('BX.KLT.DINV.CD.WD', labels = True, time=range(2000, year), skipBlanks=True, columns='series').reset_index()\n",
    "eco_foreign_invest.rename(columns={'BX.KLT.DINV.CD.WD': 'Foreign direct investment, net inflows (BoP, current US$)'}, inplace=True)\n",
    "\n",
    "# Total tax and contribution rate (PCT of profit)\n",
    "eco_total_tax = wb.data.DataFrame('IC.TAX.TOTL.CP.ZS', labels = True, time=range(2000, year), skipBlanks=True, columns='series').reset_index()\n",
    "eco_total_tax.rename(columns={'IC.TAX.TOTL.CP.ZS': 'Total tax and contribution rate (PCT of profit)'}, inplace=True)\n",
    "\n",
    "# Time required to start a business (days)\n",
    "eco_start_business = wb.data.DataFrame('IC.REG.DURS', labels = True, time=range(2000, year), skipBlanks=True, columns='series').reset_index()\n",
    "eco_start_business.rename(columns={'IC.REG.DURS': 'Time required to start a business (days)'}, inplace=True)\n",
    "\n",
    "# Exports of goods and services (PCT of GDP)\n",
    "eco_exports = wb.data.DataFrame('NE.EXP.GNFS.ZS', labels = True, time=range(2000, year), skipBlanks=True, columns='series').reset_index()\n",
    "eco_exports.rename(columns={'NE.EXP.GNFS.ZS': 'Exports of goods and services (PCT of GDP)'}, inplace=True)\n",
    "\n",
    "# Imports of goods and services (PCT of GDP)\n",
    "eco_imports = wb.data.DataFrame('NE.IMP.GNFS.ZS', labels = True, time=range(2000, year), skipBlanks=True, columns='series').reset_index()\n",
    "eco_imports.rename(columns={'NE.IMP.GNFS.ZS': 'Imports of goods and services (PCT of GDP)'}, inplace=True)"
   ]
  },
  {
   "attachments": {},
   "cell_type": "markdown",
   "metadata": {},
   "source": [
    "---"
   ]
  },
  {
   "attachments": {},
   "cell_type": "markdown",
   "metadata": {},
   "source": [
    "We start checking the basics of each one of them: "
   ]
  },
  {
   "attachments": {},
   "cell_type": "markdown",
   "metadata": {},
   "source": [
    "### Gross Domestic Product <br>\n",
    "    This database shows the information related to Total gross value added by all resident producers in the economy of each country in U$D. "
   ]
  },
  {
   "cell_type": "code",
   "execution_count": 4,
   "metadata": {},
   "outputs": [
    {
     "data": {
      "text/html": [
       "<div>\n",
       "<style scoped>\n",
       "    .dataframe tbody tr th:only-of-type {\n",
       "        vertical-align: middle;\n",
       "    }\n",
       "\n",
       "    .dataframe tbody tr th {\n",
       "        vertical-align: top;\n",
       "    }\n",
       "\n",
       "    .dataframe thead th {\n",
       "        text-align: right;\n",
       "    }\n",
       "</style>\n",
       "<table border=\"1\" class=\"dataframe\">\n",
       "  <thead>\n",
       "    <tr style=\"text-align: right;\">\n",
       "      <th></th>\n",
       "      <th>economy</th>\n",
       "      <th>time</th>\n",
       "      <th>Country</th>\n",
       "      <th>Time</th>\n",
       "      <th>Gross Domestic Product</th>\n",
       "    </tr>\n",
       "  </thead>\n",
       "  <tbody>\n",
       "    <tr>\n",
       "      <th>0</th>\n",
       "      <td>ZWE</td>\n",
       "      <td>YR2021</td>\n",
       "      <td>Zimbabwe</td>\n",
       "      <td>2021</td>\n",
       "      <td>2.837124e+10</td>\n",
       "    </tr>\n",
       "    <tr>\n",
       "      <th>1</th>\n",
       "      <td>ZWE</td>\n",
       "      <td>YR2020</td>\n",
       "      <td>Zimbabwe</td>\n",
       "      <td>2020</td>\n",
       "      <td>2.150970e+10</td>\n",
       "    </tr>\n",
       "    <tr>\n",
       "      <th>2</th>\n",
       "      <td>ZWE</td>\n",
       "      <td>YR2019</td>\n",
       "      <td>Zimbabwe</td>\n",
       "      <td>2019</td>\n",
       "      <td>2.183223e+10</td>\n",
       "    </tr>\n",
       "    <tr>\n",
       "      <th>3</th>\n",
       "      <td>ZWE</td>\n",
       "      <td>YR2018</td>\n",
       "      <td>Zimbabwe</td>\n",
       "      <td>2018</td>\n",
       "      <td>3.415607e+10</td>\n",
       "    </tr>\n",
       "    <tr>\n",
       "      <th>4</th>\n",
       "      <td>ZWE</td>\n",
       "      <td>YR2017</td>\n",
       "      <td>Zimbabwe</td>\n",
       "      <td>2017</td>\n",
       "      <td>1.758489e+10</td>\n",
       "    </tr>\n",
       "  </tbody>\n",
       "</table>\n",
       "</div>"
      ],
      "text/plain": [
       "  economy    time   Country  Time  Gross Domestic Product\n",
       "0     ZWE  YR2021  Zimbabwe  2021            2.837124e+10\n",
       "1     ZWE  YR2020  Zimbabwe  2020            2.150970e+10\n",
       "2     ZWE  YR2019  Zimbabwe  2019            2.183223e+10\n",
       "3     ZWE  YR2018  Zimbabwe  2018            3.415607e+10\n",
       "4     ZWE  YR2017  Zimbabwe  2017            1.758489e+10"
      ]
     },
     "execution_count": 4,
     "metadata": {},
     "output_type": "execute_result"
    }
   ],
   "source": [
    "eco_gdp.head()"
   ]
  },
  {
   "attachments": {},
   "cell_type": "markdown",
   "metadata": {},
   "source": [
    "We check the size of the dataset: "
   ]
  },
  {
   "cell_type": "code",
   "execution_count": 5,
   "metadata": {},
   "outputs": [
    {
     "data": {
      "text/plain": [
       "(5609, 5)"
      ]
     },
     "execution_count": 5,
     "metadata": {},
     "output_type": "execute_result"
    }
   ],
   "source": [
    "eco_gdp.shape"
   ]
  },
  {
   "attachments": {},
   "cell_type": "markdown",
   "metadata": {},
   "source": [
    "We review the amount of null values and the type of data each column has: "
   ]
  },
  {
   "cell_type": "code",
   "execution_count": 6,
   "metadata": {},
   "outputs": [
    {
     "name": "stdout",
     "output_type": "stream",
     "text": [
      "<class 'pandas.core.frame.DataFrame'>\n",
      "RangeIndex: 5609 entries, 0 to 5608\n",
      "Data columns (total 5 columns):\n",
      " #   Column                  Non-Null Count  Dtype  \n",
      "---  ------                  --------------  -----  \n",
      " 0   economy                 5609 non-null   object \n",
      " 1   time                    5609 non-null   object \n",
      " 2   Country                 5609 non-null   object \n",
      " 3   Time                    5609 non-null   object \n",
      " 4   Gross Domestic Product  5609 non-null   float64\n",
      "dtypes: float64(1), object(4)\n",
      "memory usage: 219.2+ KB\n"
     ]
    }
   ],
   "source": [
    "eco_gdp.info()"
   ]
  },
  {
   "cell_type": "code",
   "execution_count": 7,
   "metadata": {},
   "outputs": [
    {
     "data": {
      "text/html": [
       "<div>\n",
       "<style scoped>\n",
       "    .dataframe tbody tr th:only-of-type {\n",
       "        vertical-align: middle;\n",
       "    }\n",
       "\n",
       "    .dataframe tbody tr th {\n",
       "        vertical-align: top;\n",
       "    }\n",
       "\n",
       "    .dataframe thead th {\n",
       "        text-align: right;\n",
       "    }\n",
       "</style>\n",
       "<table border=\"1\" class=\"dataframe\">\n",
       "  <thead>\n",
       "    <tr style=\"text-align: right;\">\n",
       "      <th></th>\n",
       "      <th>Gross Domestic Product</th>\n",
       "    </tr>\n",
       "  </thead>\n",
       "  <tbody>\n",
       "    <tr>\n",
       "      <th>count</th>\n",
       "      <td>5.609000e+03</td>\n",
       "    </tr>\n",
       "    <tr>\n",
       "      <th>mean</th>\n",
       "      <td>2.054997e+12</td>\n",
       "    </tr>\n",
       "    <tr>\n",
       "      <th>std</th>\n",
       "      <td>7.473989e+12</td>\n",
       "    </tr>\n",
       "    <tr>\n",
       "      <th>min</th>\n",
       "      <td>1.396504e+07</td>\n",
       "    </tr>\n",
       "    <tr>\n",
       "      <th>25%</th>\n",
       "      <td>6.050876e+09</td>\n",
       "    </tr>\n",
       "    <tr>\n",
       "      <th>50%</th>\n",
       "      <td>3.858702e+10</td>\n",
       "    </tr>\n",
       "    <tr>\n",
       "      <th>75%</th>\n",
       "      <td>4.462584e+11</td>\n",
       "    </tr>\n",
       "    <tr>\n",
       "      <th>max</th>\n",
       "      <td>9.651308e+13</td>\n",
       "    </tr>\n",
       "  </tbody>\n",
       "</table>\n",
       "</div>"
      ],
      "text/plain": [
       "       Gross Domestic Product\n",
       "count            5.609000e+03\n",
       "mean             2.054997e+12\n",
       "std              7.473989e+12\n",
       "min              1.396504e+07\n",
       "25%              6.050876e+09\n",
       "50%              3.858702e+10\n",
       "75%              4.462584e+11\n",
       "max              9.651308e+13"
      ]
     },
     "execution_count": 7,
     "metadata": {},
     "output_type": "execute_result"
    }
   ],
   "source": [
    "eco_gdp.describe()"
   ]
  },
  {
   "attachments": {},
   "cell_type": "markdown",
   "metadata": {},
   "source": [
    "We check for duplicates: "
   ]
  },
  {
   "cell_type": "code",
   "execution_count": 8,
   "metadata": {},
   "outputs": [
    {
     "data": {
      "text/html": [
       "<div>\n",
       "<style scoped>\n",
       "    .dataframe tbody tr th:only-of-type {\n",
       "        vertical-align: middle;\n",
       "    }\n",
       "\n",
       "    .dataframe tbody tr th {\n",
       "        vertical-align: top;\n",
       "    }\n",
       "\n",
       "    .dataframe thead th {\n",
       "        text-align: right;\n",
       "    }\n",
       "</style>\n",
       "<table border=\"1\" class=\"dataframe\">\n",
       "  <thead>\n",
       "    <tr style=\"text-align: right;\">\n",
       "      <th></th>\n",
       "      <th>economy</th>\n",
       "      <th>time</th>\n",
       "      <th>Country</th>\n",
       "      <th>Time</th>\n",
       "      <th>Gross Domestic Product</th>\n",
       "    </tr>\n",
       "  </thead>\n",
       "  <tbody>\n",
       "  </tbody>\n",
       "</table>\n",
       "</div>"
      ],
      "text/plain": [
       "Empty DataFrame\n",
       "Columns: [economy, time, Country, Time, Gross Domestic Product]\n",
       "Index: []"
      ]
     },
     "execution_count": 8,
     "metadata": {},
     "output_type": "execute_result"
    }
   ],
   "source": [
    "eco_gdp[eco_gdp.duplicated(subset=['Country', 'Time'])]"
   ]
  },
  {
   "attachments": {},
   "cell_type": "markdown",
   "metadata": {},
   "source": [
    "We check it has the years needed:"
   ]
  },
  {
   "cell_type": "code",
   "execution_count": 9,
   "metadata": {},
   "outputs": [
    {
     "data": {
      "text/plain": [
       "array(['2021', '2020', '2019', '2018', '2017', '2016', '2015', '2014',\n",
       "       '2013', '2012', '2011', '2010', '2009', '2008', '2007', '2006',\n",
       "       '2005', '2004', '2003', '2002', '2001', '2000'], dtype=object)"
      ]
     },
     "execution_count": 9,
     "metadata": {},
     "output_type": "execute_result"
    }
   ],
   "source": [
    "eco_gdp['Time'].unique()"
   ]
  },
  {
   "attachments": {},
   "cell_type": "markdown",
   "metadata": {},
   "source": [
    "We check the amount of countries and which onces it has:"
   ]
  },
  {
   "cell_type": "code",
   "execution_count": 10,
   "metadata": {},
   "outputs": [
    {
     "data": {
      "text/plain": [
       "array(['Zimbabwe', 'Zambia', 'Yemen, Rep.', 'West Bank and Gaza',\n",
       "       'Virgin Islands (U.S.)', 'Vietnam', 'Venezuela, RB', 'Vanuatu',\n",
       "       'Uzbekistan', 'Uruguay', 'United States', 'United Kingdom',\n",
       "       'United Arab Emirates', 'Ukraine', 'Uganda', 'Tuvalu',\n",
       "       'Turks and Caicos Islands', 'Turkmenistan', 'Turkiye', 'Tunisia',\n",
       "       'Trinidad and Tobago', 'Tonga', 'Togo', 'Timor-Leste', 'Thailand',\n",
       "       'Tanzania', 'Tajikistan', 'Syrian Arab Republic', 'Switzerland',\n",
       "       'Sweden', 'Suriname', 'Sudan', 'St. Vincent and the Grenadines',\n",
       "       'St. Martin (French part)', 'St. Lucia', 'St. Kitts and Nevis',\n",
       "       'Sri Lanka', 'Spain', 'South Sudan', 'South Africa', 'Somalia',\n",
       "       'Solomon Islands', 'Slovenia', 'Slovak Republic',\n",
       "       'Sint Maarten (Dutch part)', 'Singapore', 'Sierra Leone',\n",
       "       'Seychelles', 'Serbia', 'Senegal', 'Saudi Arabia',\n",
       "       'Sao Tome and Principe', 'San Marino', 'Samoa', 'Rwanda',\n",
       "       'Russian Federation', 'Romania', 'Qatar', 'Puerto Rico',\n",
       "       'Portugal', 'Poland', 'Philippines', 'Peru', 'Paraguay',\n",
       "       'Papua New Guinea', 'Panama', 'Palau', 'Pakistan', 'Oman',\n",
       "       'Norway', 'Northern Mariana Islands', 'North Macedonia', 'Nigeria',\n",
       "       'Niger', 'Nicaragua', 'New Zealand', 'New Caledonia',\n",
       "       'Netherlands', 'Nepal', 'Nauru', 'Namibia', 'Myanmar',\n",
       "       'Mozambique', 'Morocco', 'Montenegro', 'Mongolia', 'Monaco',\n",
       "       'Moldova', 'Micronesia, Fed. Sts.', 'Mexico', 'Mauritius',\n",
       "       'Mauritania', 'Marshall Islands', 'Malta', 'Mali', 'Maldives',\n",
       "       'Malaysia', 'Malawi', 'Madagascar', 'Macao SAR, China',\n",
       "       'Luxembourg', 'Lithuania', 'Liechtenstein', 'Libya', 'Liberia',\n",
       "       'Lesotho', 'Lebanon', 'Latvia', 'Lao PDR', 'Kyrgyz Republic',\n",
       "       'Kuwait', 'Kosovo', 'Korea, Rep.', 'Kiribati', 'Kenya',\n",
       "       'Kazakhstan', 'Jordan', 'Japan', 'Jamaica', 'Italy', 'Israel',\n",
       "       'Isle of Man', 'Ireland', 'Iraq', 'Iran, Islamic Rep.',\n",
       "       'Indonesia', 'India', 'Iceland', 'Hungary', 'Hong Kong SAR, China',\n",
       "       'Honduras', 'Haiti', 'Guyana', 'Guinea-Bissau', 'Guinea',\n",
       "       'Guatemala', 'Guam', 'Grenada', 'Greenland', 'Greece', 'Ghana',\n",
       "       'Germany', 'Georgia', 'Gambia, The', 'Gabon', 'French Polynesia',\n",
       "       'France', 'Finland', 'Fiji', 'Faroe Islands', 'Ethiopia',\n",
       "       'Eswatini', 'Estonia', 'Eritrea', 'Equatorial Guinea',\n",
       "       'El Salvador', 'Egypt, Arab Rep.', 'Ecuador', 'Dominican Republic',\n",
       "       'Dominica', 'Djibouti', 'Denmark', 'Czechia', 'Cyprus', 'Curacao',\n",
       "       'Cuba', 'Croatia', \"Cote d'Ivoire\", 'Costa Rica', 'Congo, Rep.',\n",
       "       'Congo, Dem. Rep.', 'Comoros', 'Colombia', 'China', 'Chile',\n",
       "       'Channel Islands', 'Chad', 'Central African Republic',\n",
       "       'Cayman Islands', 'Canada', 'Cameroon', 'Cambodia', 'Cabo Verde',\n",
       "       'Burundi', 'Burkina Faso', 'Bulgaria', 'Brunei Darussalam',\n",
       "       'Brazil', 'Botswana', 'Bosnia and Herzegovina', 'Bolivia',\n",
       "       'Bhutan', 'Bermuda', 'Benin', 'Belize', 'Belgium', 'Belarus',\n",
       "       'Barbados', 'Bangladesh', 'Bahrain', 'Bahamas, The', 'Azerbaijan',\n",
       "       'Austria', 'Australia', 'Aruba', 'Armenia', 'Argentina',\n",
       "       'Antigua and Barbuda', 'Angola', 'Andorra', 'American Samoa',\n",
       "       'Algeria', 'Albania', 'Afghanistan', 'World',\n",
       "       'Upper middle income', 'Sub-Saharan Africa (IDA & IBRD countries)',\n",
       "       'Sub-Saharan Africa (excluding high income)', 'Sub-Saharan Africa',\n",
       "       'South Asia (IDA & IBRD)', 'South Asia', 'Small states',\n",
       "       'Pre-demographic dividend', 'Post-demographic dividend',\n",
       "       'Pacific island small states', 'Other small states',\n",
       "       'OECD members', 'North America', 'Middle income',\n",
       "       'Middle East & North Africa (IDA & IBRD countries)',\n",
       "       'Middle East & North Africa (excluding high income)',\n",
       "       'Middle East & North Africa', 'Lower middle income', 'Low income',\n",
       "       'Low & middle income',\n",
       "       'Least developed countries: UN classification',\n",
       "       'Latin America & the Caribbean (IDA & IBRD countries)',\n",
       "       'Latin America & Caribbean (excluding high income)',\n",
       "       'Latin America & Caribbean', 'Late-demographic dividend',\n",
       "       'IDA total', 'IDA only', 'IDA blend', 'IDA & IBRD total',\n",
       "       'IBRD only', 'High income',\n",
       "       'Heavily indebted poor countries (HIPC)',\n",
       "       'Fragile and conflict affected situations', 'European Union',\n",
       "       'Europe & Central Asia (IDA & IBRD countries)',\n",
       "       'Europe & Central Asia (excluding high income)',\n",
       "       'Europe & Central Asia', 'Euro area',\n",
       "       'East Asia & Pacific (IDA & IBRD countries)',\n",
       "       'East Asia & Pacific (excluding high income)',\n",
       "       'East Asia & Pacific', 'Early-demographic dividend',\n",
       "       'Central Europe and the Baltics', 'Caribbean small states',\n",
       "       'Arab World', 'Africa Western and Central',\n",
       "       'Africa Eastern and Southern'], dtype=object)"
      ]
     },
     "execution_count": 10,
     "metadata": {},
     "output_type": "execute_result"
    }
   ],
   "source": [
    "eco_gdp['Country'].unique()"
   ]
  },
  {
   "cell_type": "code",
   "execution_count": 11,
   "metadata": {},
   "outputs": [
    {
     "data": {
      "text/plain": [
       "262"
      ]
     },
     "execution_count": 11,
     "metadata": {},
     "output_type": "execute_result"
    }
   ],
   "source": [
    "eco_gdp['Country'].nunique()"
   ]
  },
  {
   "attachments": {},
   "cell_type": "markdown",
   "metadata": {},
   "source": [
    "---"
   ]
  },
  {
   "attachments": {},
   "cell_type": "markdown",
   "metadata": {},
   "source": [
    "🔹 Conclusions on: **Gross Domestic Product** <br>\n",
    "* Does not contain duplicates. \n",
    "* Does not contain null values.  \n",
    "* It has all the years needed. \n",
    "* It has an extra column, called 'time', that will be removed. \n",
    "* The column named 'Time' will be renamed and it's tipe of data will be changed into int. \n",
    "* The column 'economy' will be renamed into 'Country Code'\n",
    "* THe column 'Country' will be renamed into 'Country Name'\n",
    "* It has more unique in 'Country' than needed. "
   ]
  },
  {
   "attachments": {},
   "cell_type": "markdown",
   "metadata": {},
   "source": [
    "---"
   ]
  },
  {
   "attachments": {},
   "cell_type": "markdown",
   "metadata": {},
   "source": [
    "### GDP growth (annualy %) <br>\n",
    "    This database shows the information related to Annual percentage growth rate of GDP (annualy %)."
   ]
  },
  {
   "cell_type": "code",
   "execution_count": 12,
   "metadata": {},
   "outputs": [
    {
     "data": {
      "text/html": [
       "<div>\n",
       "<style scoped>\n",
       "    .dataframe tbody tr th:only-of-type {\n",
       "        vertical-align: middle;\n",
       "    }\n",
       "\n",
       "    .dataframe tbody tr th {\n",
       "        vertical-align: top;\n",
       "    }\n",
       "\n",
       "    .dataframe thead th {\n",
       "        text-align: right;\n",
       "    }\n",
       "</style>\n",
       "<table border=\"1\" class=\"dataframe\">\n",
       "  <thead>\n",
       "    <tr style=\"text-align: right;\">\n",
       "      <th></th>\n",
       "      <th>economy</th>\n",
       "      <th>time</th>\n",
       "      <th>Country</th>\n",
       "      <th>Time</th>\n",
       "      <th>GDP Growth</th>\n",
       "    </tr>\n",
       "  </thead>\n",
       "  <tbody>\n",
       "    <tr>\n",
       "      <th>0</th>\n",
       "      <td>ZWE</td>\n",
       "      <td>YR2021</td>\n",
       "      <td>Zimbabwe</td>\n",
       "      <td>2021</td>\n",
       "      <td>8.468017</td>\n",
       "    </tr>\n",
       "    <tr>\n",
       "      <th>1</th>\n",
       "      <td>ZWE</td>\n",
       "      <td>YR2020</td>\n",
       "      <td>Zimbabwe</td>\n",
       "      <td>2020</td>\n",
       "      <td>-7.816951</td>\n",
       "    </tr>\n",
       "    <tr>\n",
       "      <th>2</th>\n",
       "      <td>ZWE</td>\n",
       "      <td>YR2019</td>\n",
       "      <td>Zimbabwe</td>\n",
       "      <td>2019</td>\n",
       "      <td>-6.332446</td>\n",
       "    </tr>\n",
       "    <tr>\n",
       "      <th>3</th>\n",
       "      <td>ZWE</td>\n",
       "      <td>YR2018</td>\n",
       "      <td>Zimbabwe</td>\n",
       "      <td>2018</td>\n",
       "      <td>5.009867</td>\n",
       "    </tr>\n",
       "    <tr>\n",
       "      <th>4</th>\n",
       "      <td>ZWE</td>\n",
       "      <td>YR2017</td>\n",
       "      <td>Zimbabwe</td>\n",
       "      <td>2017</td>\n",
       "      <td>4.080264</td>\n",
       "    </tr>\n",
       "  </tbody>\n",
       "</table>\n",
       "</div>"
      ],
      "text/plain": [
       "  economy    time   Country  Time  GDP Growth\n",
       "0     ZWE  YR2021  Zimbabwe  2021    8.468017\n",
       "1     ZWE  YR2020  Zimbabwe  2020   -7.816951\n",
       "2     ZWE  YR2019  Zimbabwe  2019   -6.332446\n",
       "3     ZWE  YR2018  Zimbabwe  2018    5.009867\n",
       "4     ZWE  YR2017  Zimbabwe  2017    4.080264"
      ]
     },
     "execution_count": 12,
     "metadata": {},
     "output_type": "execute_result"
    }
   ],
   "source": [
    "eco_gdp_growth.head()"
   ]
  },
  {
   "attachments": {},
   "cell_type": "markdown",
   "metadata": {},
   "source": [
    "We check the size of the dataset:"
   ]
  },
  {
   "cell_type": "code",
   "execution_count": 13,
   "metadata": {},
   "outputs": [
    {
     "data": {
      "text/plain": [
       "(5529, 5)"
      ]
     },
     "execution_count": 13,
     "metadata": {},
     "output_type": "execute_result"
    }
   ],
   "source": [
    "eco_gdp_growth.shape"
   ]
  },
  {
   "attachments": {},
   "cell_type": "markdown",
   "metadata": {},
   "source": [
    "We review the amount of null values and the type of data each column has: "
   ]
  },
  {
   "cell_type": "code",
   "execution_count": 14,
   "metadata": {},
   "outputs": [
    {
     "name": "stdout",
     "output_type": "stream",
     "text": [
      "<class 'pandas.core.frame.DataFrame'>\n",
      "RangeIndex: 5529 entries, 0 to 5528\n",
      "Data columns (total 5 columns):\n",
      " #   Column      Non-Null Count  Dtype  \n",
      "---  ------      --------------  -----  \n",
      " 0   economy     5529 non-null   object \n",
      " 1   time        5529 non-null   object \n",
      " 2   Country     5529 non-null   object \n",
      " 3   Time        5529 non-null   object \n",
      " 4   GDP Growth  5529 non-null   float64\n",
      "dtypes: float64(1), object(4)\n",
      "memory usage: 216.1+ KB\n"
     ]
    }
   ],
   "source": [
    "eco_gdp_growth.info()"
   ]
  },
  {
   "cell_type": "code",
   "execution_count": 15,
   "metadata": {},
   "outputs": [
    {
     "data": {
      "text/html": [
       "<div>\n",
       "<style scoped>\n",
       "    .dataframe tbody tr th:only-of-type {\n",
       "        vertical-align: middle;\n",
       "    }\n",
       "\n",
       "    .dataframe tbody tr th {\n",
       "        vertical-align: top;\n",
       "    }\n",
       "\n",
       "    .dataframe thead th {\n",
       "        text-align: right;\n",
       "    }\n",
       "</style>\n",
       "<table border=\"1\" class=\"dataframe\">\n",
       "  <thead>\n",
       "    <tr style=\"text-align: right;\">\n",
       "      <th></th>\n",
       "      <th>GDP Growth</th>\n",
       "    </tr>\n",
       "  </thead>\n",
       "  <tbody>\n",
       "    <tr>\n",
       "      <th>count</th>\n",
       "      <td>5529.000000</td>\n",
       "    </tr>\n",
       "    <tr>\n",
       "      <th>mean</th>\n",
       "      <td>3.399256</td>\n",
       "    </tr>\n",
       "    <tr>\n",
       "      <th>std</th>\n",
       "      <td>5.261056</td>\n",
       "    </tr>\n",
       "    <tr>\n",
       "      <th>min</th>\n",
       "      <td>-54.235900</td>\n",
       "    </tr>\n",
       "    <tr>\n",
       "      <th>25%</th>\n",
       "      <td>1.439615</td>\n",
       "    </tr>\n",
       "    <tr>\n",
       "      <th>50%</th>\n",
       "      <td>3.672372</td>\n",
       "    </tr>\n",
       "    <tr>\n",
       "      <th>75%</th>\n",
       "      <td>5.852892</td>\n",
       "    </tr>\n",
       "    <tr>\n",
       "      <th>max</th>\n",
       "      <td>86.826748</td>\n",
       "    </tr>\n",
       "  </tbody>\n",
       "</table>\n",
       "</div>"
      ],
      "text/plain": [
       "        GDP Growth\n",
       "count  5529.000000\n",
       "mean      3.399256\n",
       "std       5.261056\n",
       "min     -54.235900\n",
       "25%       1.439615\n",
       "50%       3.672372\n",
       "75%       5.852892\n",
       "max      86.826748"
      ]
     },
     "execution_count": 15,
     "metadata": {},
     "output_type": "execute_result"
    }
   ],
   "source": [
    "eco_gdp_growth.describe()"
   ]
  },
  {
   "attachments": {},
   "cell_type": "markdown",
   "metadata": {},
   "source": [
    "We check for duplicates:"
   ]
  },
  {
   "cell_type": "code",
   "execution_count": 16,
   "metadata": {},
   "outputs": [
    {
     "data": {
      "text/html": [
       "<div>\n",
       "<style scoped>\n",
       "    .dataframe tbody tr th:only-of-type {\n",
       "        vertical-align: middle;\n",
       "    }\n",
       "\n",
       "    .dataframe tbody tr th {\n",
       "        vertical-align: top;\n",
       "    }\n",
       "\n",
       "    .dataframe thead th {\n",
       "        text-align: right;\n",
       "    }\n",
       "</style>\n",
       "<table border=\"1\" class=\"dataframe\">\n",
       "  <thead>\n",
       "    <tr style=\"text-align: right;\">\n",
       "      <th></th>\n",
       "      <th>economy</th>\n",
       "      <th>time</th>\n",
       "      <th>Country</th>\n",
       "      <th>Time</th>\n",
       "      <th>GDP Growth</th>\n",
       "    </tr>\n",
       "  </thead>\n",
       "  <tbody>\n",
       "  </tbody>\n",
       "</table>\n",
       "</div>"
      ],
      "text/plain": [
       "Empty DataFrame\n",
       "Columns: [economy, time, Country, Time, GDP Growth]\n",
       "Index: []"
      ]
     },
     "execution_count": 16,
     "metadata": {},
     "output_type": "execute_result"
    }
   ],
   "source": [
    "eco_gdp_growth[eco_gdp_growth.duplicated(subset=['Country', 'Time'])]"
   ]
  },
  {
   "attachments": {},
   "cell_type": "markdown",
   "metadata": {},
   "source": [
    "We check it has the years needed:"
   ]
  },
  {
   "cell_type": "code",
   "execution_count": 17,
   "metadata": {},
   "outputs": [
    {
     "data": {
      "text/plain": [
       "array(['2021', '2020', '2019', '2018', '2017', '2016', '2015', '2014',\n",
       "       '2013', '2012', '2011', '2010', '2009', '2008', '2007', '2006',\n",
       "       '2005', '2004', '2003', '2002', '2001', '2000'], dtype=object)"
      ]
     },
     "execution_count": 17,
     "metadata": {},
     "output_type": "execute_result"
    }
   ],
   "source": [
    "eco_gdp_growth['Time'].unique()"
   ]
  },
  {
   "attachments": {},
   "cell_type": "markdown",
   "metadata": {},
   "source": [
    "We check the amount of countries and which onces it has:"
   ]
  },
  {
   "cell_type": "code",
   "execution_count": 18,
   "metadata": {},
   "outputs": [
    {
     "data": {
      "text/plain": [
       "array(['Zimbabwe', 'Zambia', 'Yemen, Rep.', 'West Bank and Gaza',\n",
       "       'Virgin Islands (U.S.)', 'Vietnam', 'Venezuela, RB', 'Vanuatu',\n",
       "       'Uzbekistan', 'Uruguay', 'United States', 'United Kingdom',\n",
       "       'United Arab Emirates', 'Ukraine', 'Uganda', 'Tuvalu',\n",
       "       'Turks and Caicos Islands', 'Turkmenistan', 'Turkiye', 'Tunisia',\n",
       "       'Trinidad and Tobago', 'Tonga', 'Togo', 'Timor-Leste', 'Thailand',\n",
       "       'Tanzania', 'Tajikistan', 'Syrian Arab Republic', 'Switzerland',\n",
       "       'Sweden', 'Suriname', 'Sudan', 'St. Vincent and the Grenadines',\n",
       "       'St. Lucia', 'St. Kitts and Nevis', 'Sri Lanka', 'Spain',\n",
       "       'South Sudan', 'South Africa', 'Somalia', 'Solomon Islands',\n",
       "       'Slovenia', 'Slovak Republic', 'Sint Maarten (Dutch part)',\n",
       "       'Singapore', 'Sierra Leone', 'Seychelles', 'Serbia', 'Senegal',\n",
       "       'Saudi Arabia', 'Sao Tome and Principe', 'San Marino', 'Samoa',\n",
       "       'Rwanda', 'Russian Federation', 'Romania', 'Qatar', 'Puerto Rico',\n",
       "       'Portugal', 'Poland', 'Philippines', 'Peru', 'Paraguay',\n",
       "       'Papua New Guinea', 'Panama', 'Palau', 'Pakistan', 'Oman',\n",
       "       'Norway', 'Northern Mariana Islands', 'North Macedonia', 'Nigeria',\n",
       "       'Niger', 'Nicaragua', 'New Zealand', 'New Caledonia',\n",
       "       'Netherlands', 'Nepal', 'Nauru', 'Namibia', 'Myanmar',\n",
       "       'Mozambique', 'Morocco', 'Montenegro', 'Mongolia', 'Monaco',\n",
       "       'Moldova', 'Micronesia, Fed. Sts.', 'Mexico', 'Mauritius',\n",
       "       'Mauritania', 'Marshall Islands', 'Malta', 'Mali', 'Maldives',\n",
       "       'Malaysia', 'Malawi', 'Madagascar', 'Macao SAR, China',\n",
       "       'Luxembourg', 'Lithuania', 'Liechtenstein', 'Libya', 'Liberia',\n",
       "       'Lesotho', 'Lebanon', 'Latvia', 'Lao PDR', 'Kyrgyz Republic',\n",
       "       'Kuwait', 'Kosovo', 'Korea, Rep.', 'Kiribati', 'Kenya',\n",
       "       'Kazakhstan', 'Jordan', 'Japan', 'Jamaica', 'Italy', 'Israel',\n",
       "       'Isle of Man', 'Ireland', 'Iraq', 'Iran, Islamic Rep.',\n",
       "       'Indonesia', 'India', 'Iceland', 'Hungary', 'Hong Kong SAR, China',\n",
       "       'Honduras', 'Haiti', 'Guyana', 'Guinea-Bissau', 'Guinea',\n",
       "       'Guatemala', 'Guam', 'Grenada', 'Greenland', 'Greece', 'Ghana',\n",
       "       'Germany', 'Georgia', 'Gambia, The', 'Gabon', 'French Polynesia',\n",
       "       'France', 'Finland', 'Fiji', 'Ethiopia', 'Eswatini', 'Estonia',\n",
       "       'Eritrea', 'Equatorial Guinea', 'El Salvador', 'Egypt, Arab Rep.',\n",
       "       'Ecuador', 'Dominican Republic', 'Dominica', 'Djibouti', 'Denmark',\n",
       "       'Czechia', 'Cyprus', 'Curacao', 'Cuba', 'Croatia', \"Cote d'Ivoire\",\n",
       "       'Costa Rica', 'Congo, Rep.', 'Congo, Dem. Rep.', 'Comoros',\n",
       "       'Colombia', 'China', 'Chile', 'Channel Islands', 'Chad',\n",
       "       'Central African Republic', 'Cayman Islands', 'Canada', 'Cameroon',\n",
       "       'Cambodia', 'Cabo Verde', 'Burundi', 'Burkina Faso', 'Bulgaria',\n",
       "       'Brunei Darussalam', 'Brazil', 'Botswana',\n",
       "       'Bosnia and Herzegovina', 'Bolivia', 'Bhutan', 'Bermuda', 'Benin',\n",
       "       'Belize', 'Belgium', 'Belarus', 'Barbados', 'Bangladesh',\n",
       "       'Bahrain', 'Bahamas, The', 'Azerbaijan', 'Austria', 'Australia',\n",
       "       'Aruba', 'Armenia', 'Argentina', 'Antigua and Barbuda', 'Angola',\n",
       "       'Andorra', 'American Samoa', 'Algeria', 'Albania', 'Afghanistan',\n",
       "       'World', 'Upper middle income',\n",
       "       'Sub-Saharan Africa (IDA & IBRD countries)',\n",
       "       'Sub-Saharan Africa (excluding high income)', 'Sub-Saharan Africa',\n",
       "       'South Asia (IDA & IBRD)', 'South Asia', 'Small states',\n",
       "       'Pre-demographic dividend', 'Post-demographic dividend',\n",
       "       'Pacific island small states', 'Other small states',\n",
       "       'OECD members', 'North America', 'Middle income',\n",
       "       'Middle East & North Africa (IDA & IBRD countries)',\n",
       "       'Middle East & North Africa (excluding high income)',\n",
       "       'Middle East & North Africa', 'Lower middle income', 'Low income',\n",
       "       'Low & middle income',\n",
       "       'Least developed countries: UN classification',\n",
       "       'Latin America & the Caribbean (IDA & IBRD countries)',\n",
       "       'Latin America & Caribbean (excluding high income)',\n",
       "       'Latin America & Caribbean', 'Late-demographic dividend',\n",
       "       'IDA total', 'IDA only', 'IDA blend', 'IDA & IBRD total',\n",
       "       'IBRD only', 'High income',\n",
       "       'Heavily indebted poor countries (HIPC)',\n",
       "       'Fragile and conflict affected situations', 'European Union',\n",
       "       'Europe & Central Asia (IDA & IBRD countries)',\n",
       "       'Europe & Central Asia (excluding high income)',\n",
       "       'Europe & Central Asia', 'Euro area',\n",
       "       'East Asia & Pacific (IDA & IBRD countries)',\n",
       "       'East Asia & Pacific (excluding high income)',\n",
       "       'East Asia & Pacific', 'Early-demographic dividend',\n",
       "       'Central Europe and the Baltics', 'Caribbean small states',\n",
       "       'Arab World', 'Africa Western and Central',\n",
       "       'Africa Eastern and Southern'], dtype=object)"
      ]
     },
     "execution_count": 18,
     "metadata": {},
     "output_type": "execute_result"
    }
   ],
   "source": [
    "eco_gdp_growth['Country'].unique()"
   ]
  },
  {
   "cell_type": "code",
   "execution_count": 19,
   "metadata": {},
   "outputs": [
    {
     "data": {
      "text/plain": [
       "260"
      ]
     },
     "execution_count": 19,
     "metadata": {},
     "output_type": "execute_result"
    }
   ],
   "source": [
    "eco_gdp_growth['Country'].nunique()"
   ]
  },
  {
   "attachments": {},
   "cell_type": "markdown",
   "metadata": {},
   "source": [
    "---"
   ]
  },
  {
   "attachments": {},
   "cell_type": "markdown",
   "metadata": {},
   "source": [
    "🔹 Conclusions on: **GDP growth (annualy %)** <br>\n",
    "* Does not contain duplicates. \n",
    "* Does not contain null values.  \n",
    "* It has all the years needed. \n",
    "* It has an extra column, called 'time', that will be removed. \n",
    "* The column named 'Time' will be renamed and it's tipe of data will be changed into int. \n",
    "* The column 'economy' will be renamed into 'Country Code'\n",
    "* THe column 'Country' will be renamed into 'Country Name'\n",
    "* It has more unique in 'Country' than needed. "
   ]
  },
  {
   "attachments": {},
   "cell_type": "markdown",
   "metadata": {},
   "source": [
    "---"
   ]
  },
  {
   "attachments": {},
   "cell_type": "markdown",
   "metadata": {},
   "source": [
    "### Final consumption expenditure (% of GDP) <br>\n",
    "    This database shows the information related to the SUM of household final consumption expenditure (private consumption) and general goverment final consumption expenditure."
   ]
  },
  {
   "cell_type": "code",
   "execution_count": 20,
   "metadata": {},
   "outputs": [
    {
     "data": {
      "text/html": [
       "<div>\n",
       "<style scoped>\n",
       "    .dataframe tbody tr th:only-of-type {\n",
       "        vertical-align: middle;\n",
       "    }\n",
       "\n",
       "    .dataframe tbody tr th {\n",
       "        vertical-align: top;\n",
       "    }\n",
       "\n",
       "    .dataframe thead th {\n",
       "        text-align: right;\n",
       "    }\n",
       "</style>\n",
       "<table border=\"1\" class=\"dataframe\">\n",
       "  <thead>\n",
       "    <tr style=\"text-align: right;\">\n",
       "      <th></th>\n",
       "      <th>economy</th>\n",
       "      <th>time</th>\n",
       "      <th>Country</th>\n",
       "      <th>Time</th>\n",
       "      <th>Final Consumption Expenditure</th>\n",
       "    </tr>\n",
       "  </thead>\n",
       "  <tbody>\n",
       "    <tr>\n",
       "      <th>0</th>\n",
       "      <td>ZWE</td>\n",
       "      <td>YR2021</td>\n",
       "      <td>Zimbabwe</td>\n",
       "      <td>2021</td>\n",
       "      <td>14.261391</td>\n",
       "    </tr>\n",
       "    <tr>\n",
       "      <th>1</th>\n",
       "      <td>ZWE</td>\n",
       "      <td>YR2020</td>\n",
       "      <td>Zimbabwe</td>\n",
       "      <td>2020</td>\n",
       "      <td>-4.540536</td>\n",
       "    </tr>\n",
       "    <tr>\n",
       "      <th>2</th>\n",
       "      <td>ZWE</td>\n",
       "      <td>YR2019</td>\n",
       "      <td>Zimbabwe</td>\n",
       "      <td>2019</td>\n",
       "      <td>-10.119249</td>\n",
       "    </tr>\n",
       "    <tr>\n",
       "      <th>3</th>\n",
       "      <td>ZWE</td>\n",
       "      <td>YR2018</td>\n",
       "      <td>Zimbabwe</td>\n",
       "      <td>2018</td>\n",
       "      <td>-0.462873</td>\n",
       "    </tr>\n",
       "    <tr>\n",
       "      <th>4</th>\n",
       "      <td>ZWE</td>\n",
       "      <td>YR2017</td>\n",
       "      <td>Zimbabwe</td>\n",
       "      <td>2017</td>\n",
       "      <td>3.920652</td>\n",
       "    </tr>\n",
       "  </tbody>\n",
       "</table>\n",
       "</div>"
      ],
      "text/plain": [
       "  economy    time   Country  Time  Final Consumption Expenditure\n",
       "0     ZWE  YR2021  Zimbabwe  2021                      14.261391\n",
       "1     ZWE  YR2020  Zimbabwe  2020                      -4.540536\n",
       "2     ZWE  YR2019  Zimbabwe  2019                     -10.119249\n",
       "3     ZWE  YR2018  Zimbabwe  2018                      -0.462873\n",
       "4     ZWE  YR2017  Zimbabwe  2017                       3.920652"
      ]
     },
     "execution_count": 20,
     "metadata": {},
     "output_type": "execute_result"
    }
   ],
   "source": [
    "eco_cons_expen.head()"
   ]
  },
  {
   "attachments": {},
   "cell_type": "markdown",
   "metadata": {},
   "source": [
    "We check the size of the dataset:"
   ]
  },
  {
   "cell_type": "code",
   "execution_count": 21,
   "metadata": {},
   "outputs": [
    {
     "data": {
      "text/plain": [
       "(4400, 5)"
      ]
     },
     "execution_count": 21,
     "metadata": {},
     "output_type": "execute_result"
    }
   ],
   "source": [
    "eco_cons_expen.shape"
   ]
  },
  {
   "attachments": {},
   "cell_type": "markdown",
   "metadata": {},
   "source": [
    "We review the amount of null values and the type of data each column has: "
   ]
  },
  {
   "cell_type": "code",
   "execution_count": 22,
   "metadata": {},
   "outputs": [
    {
     "name": "stdout",
     "output_type": "stream",
     "text": [
      "<class 'pandas.core.frame.DataFrame'>\n",
      "RangeIndex: 4400 entries, 0 to 4399\n",
      "Data columns (total 5 columns):\n",
      " #   Column                         Non-Null Count  Dtype  \n",
      "---  ------                         --------------  -----  \n",
      " 0   economy                        4400 non-null   object \n",
      " 1   time                           4400 non-null   object \n",
      " 2   Country                        4400 non-null   object \n",
      " 3   Time                           4400 non-null   object \n",
      " 4   Final Consumption Expenditure  4400 non-null   float64\n",
      "dtypes: float64(1), object(4)\n",
      "memory usage: 172.0+ KB\n"
     ]
    }
   ],
   "source": [
    "eco_cons_expen.info()"
   ]
  },
  {
   "cell_type": "code",
   "execution_count": 23,
   "metadata": {},
   "outputs": [
    {
     "data": {
      "text/html": [
       "<div>\n",
       "<style scoped>\n",
       "    .dataframe tbody tr th:only-of-type {\n",
       "        vertical-align: middle;\n",
       "    }\n",
       "\n",
       "    .dataframe tbody tr th {\n",
       "        vertical-align: top;\n",
       "    }\n",
       "\n",
       "    .dataframe thead th {\n",
       "        text-align: right;\n",
       "    }\n",
       "</style>\n",
       "<table border=\"1\" class=\"dataframe\">\n",
       "  <thead>\n",
       "    <tr style=\"text-align: right;\">\n",
       "      <th></th>\n",
       "      <th>Final Consumption Expenditure</th>\n",
       "    </tr>\n",
       "  </thead>\n",
       "  <tbody>\n",
       "    <tr>\n",
       "      <th>count</th>\n",
       "      <td>4400.000000</td>\n",
       "    </tr>\n",
       "    <tr>\n",
       "      <th>mean</th>\n",
       "      <td>3.776654</td>\n",
       "    </tr>\n",
       "    <tr>\n",
       "      <th>std</th>\n",
       "      <td>7.947723</td>\n",
       "    </tr>\n",
       "    <tr>\n",
       "      <th>min</th>\n",
       "      <td>-40.868215</td>\n",
       "    </tr>\n",
       "    <tr>\n",
       "      <th>25%</th>\n",
       "      <td>1.522064</td>\n",
       "    </tr>\n",
       "    <tr>\n",
       "      <th>50%</th>\n",
       "      <td>3.487895</td>\n",
       "    </tr>\n",
       "    <tr>\n",
       "      <th>75%</th>\n",
       "      <td>5.749913</td>\n",
       "    </tr>\n",
       "    <tr>\n",
       "      <th>max</th>\n",
       "      <td>393.570492</td>\n",
       "    </tr>\n",
       "  </tbody>\n",
       "</table>\n",
       "</div>"
      ],
      "text/plain": [
       "       Final Consumption Expenditure\n",
       "count                    4400.000000\n",
       "mean                        3.776654\n",
       "std                         7.947723\n",
       "min                       -40.868215\n",
       "25%                         1.522064\n",
       "50%                         3.487895\n",
       "75%                         5.749913\n",
       "max                       393.570492"
      ]
     },
     "execution_count": 23,
     "metadata": {},
     "output_type": "execute_result"
    }
   ],
   "source": [
    "eco_cons_expen.describe()"
   ]
  },
  {
   "attachments": {},
   "cell_type": "markdown",
   "metadata": {},
   "source": [
    "We check for duplicates:"
   ]
  },
  {
   "cell_type": "code",
   "execution_count": 24,
   "metadata": {},
   "outputs": [
    {
     "data": {
      "text/html": [
       "<div>\n",
       "<style scoped>\n",
       "    .dataframe tbody tr th:only-of-type {\n",
       "        vertical-align: middle;\n",
       "    }\n",
       "\n",
       "    .dataframe tbody tr th {\n",
       "        vertical-align: top;\n",
       "    }\n",
       "\n",
       "    .dataframe thead th {\n",
       "        text-align: right;\n",
       "    }\n",
       "</style>\n",
       "<table border=\"1\" class=\"dataframe\">\n",
       "  <thead>\n",
       "    <tr style=\"text-align: right;\">\n",
       "      <th></th>\n",
       "      <th>economy</th>\n",
       "      <th>time</th>\n",
       "      <th>Country</th>\n",
       "      <th>Time</th>\n",
       "      <th>Final Consumption Expenditure</th>\n",
       "    </tr>\n",
       "  </thead>\n",
       "  <tbody>\n",
       "  </tbody>\n",
       "</table>\n",
       "</div>"
      ],
      "text/plain": [
       "Empty DataFrame\n",
       "Columns: [economy, time, Country, Time, Final Consumption Expenditure]\n",
       "Index: []"
      ]
     },
     "execution_count": 24,
     "metadata": {},
     "output_type": "execute_result"
    }
   ],
   "source": [
    "eco_cons_expen[eco_cons_expen.duplicated(subset=['Country', 'Time'])]"
   ]
  },
  {
   "attachments": {},
   "cell_type": "markdown",
   "metadata": {},
   "source": [
    "We check it has the years needed:"
   ]
  },
  {
   "cell_type": "code",
   "execution_count": 25,
   "metadata": {},
   "outputs": [
    {
     "data": {
      "text/plain": [
       "array(['2021', '2020', '2019', '2018', '2017', '2016', '2015', '2014',\n",
       "       '2013', '2012', '2011', '2010', '2009', '2008', '2007', '2006',\n",
       "       '2005', '2004', '2003', '2002', '2001', '2000'], dtype=object)"
      ]
     },
     "execution_count": 25,
     "metadata": {},
     "output_type": "execute_result"
    }
   ],
   "source": [
    "eco_cons_expen['Time'].unique()"
   ]
  },
  {
   "attachments": {},
   "cell_type": "markdown",
   "metadata": {},
   "source": [
    "We check the amount of countries and which onces it has:"
   ]
  },
  {
   "cell_type": "code",
   "execution_count": 26,
   "metadata": {},
   "outputs": [
    {
     "data": {
      "text/plain": [
       "array(['Zimbabwe', 'West Bank and Gaza', 'Virgin Islands (U.S.)',\n",
       "       'Vietnam', 'Venezuela, RB', 'Vanuatu', 'Uzbekistan', 'Uruguay',\n",
       "       'United States', 'United Kingdom', 'United Arab Emirates',\n",
       "       'Ukraine', 'Uganda', 'Turkiye', 'Tunisia', 'Tonga', 'Togo',\n",
       "       'Timor-Leste', 'Thailand', 'Tanzania', 'Tajikistan',\n",
       "       'Syrian Arab Republic', 'Switzerland', 'Sweden', 'Sudan',\n",
       "       'Sri Lanka', 'Spain', 'South Sudan', 'South Africa',\n",
       "       'Solomon Islands', 'Slovenia', 'Slovak Republic',\n",
       "       'Sint Maarten (Dutch part)', 'Sierra Leone', 'Seychelles',\n",
       "       'Serbia', 'Senegal', 'Saudi Arabia', 'San Marino', 'Samoa',\n",
       "       'Rwanda', 'Russian Federation', 'Romania', 'Qatar', 'Puerto Rico',\n",
       "       'Portugal', 'Poland', 'Philippines', 'Peru', 'Paraguay',\n",
       "       'Papua New Guinea', 'Panama', 'Pakistan', 'Oman', 'Norway',\n",
       "       'North Macedonia', 'Nigeria', 'Niger', 'Nicaragua', 'New Zealand',\n",
       "       'Netherlands', 'Nepal', 'Namibia', 'Myanmar', 'Mozambique',\n",
       "       'Morocco', 'Montenegro', 'Mongolia', 'Moldova', 'Mexico',\n",
       "       'Mauritius', 'Mauritania', 'Marshall Islands', 'Malta', 'Mali',\n",
       "       'Maldives', 'Malaysia', 'Madagascar', 'Macao SAR, China',\n",
       "       'Luxembourg', 'Lithuania', 'Lesotho', 'Lebanon', 'Latvia',\n",
       "       'Lao PDR', 'Kyrgyz Republic', 'Kuwait', 'Kosovo', 'Korea, Rep.',\n",
       "       'Kiribati', 'Kenya', 'Kazakhstan', 'Jordan', 'Japan', 'Jamaica',\n",
       "       'Italy', 'Israel', 'Ireland', 'Iraq', 'Iran, Islamic Rep.',\n",
       "       'Indonesia', 'India', 'Iceland', 'Hungary', 'Hong Kong SAR, China',\n",
       "       'Honduras', 'Haiti', 'Guinea-Bissau', 'Guinea', 'Guatemala',\n",
       "       'Greenland', 'Greece', 'Ghana', 'Germany', 'Georgia',\n",
       "       'Gambia, The', 'Gabon', 'France', 'Finland', 'Ethiopia',\n",
       "       'Eswatini', 'Estonia', 'Eritrea', 'Equatorial Guinea',\n",
       "       'El Salvador', 'Egypt, Arab Rep.', 'Ecuador', 'Dominican Republic',\n",
       "       'Djibouti', 'Denmark', 'Czechia', 'Cyprus', 'Cuba', 'Croatia',\n",
       "       \"Cote d'Ivoire\", 'Costa Rica', 'Congo, Rep.', 'Congo, Dem. Rep.',\n",
       "       'Comoros', 'Colombia', 'China', 'Chile', 'Chad',\n",
       "       'Central African Republic', 'Canada', 'Cameroon', 'Cambodia',\n",
       "       'Cabo Verde', 'Burundi', 'Burkina Faso', 'Bulgaria',\n",
       "       'Brunei Darussalam', 'Brazil', 'Botswana',\n",
       "       'Bosnia and Herzegovina', 'Bolivia', 'Bhutan', 'Bermuda', 'Benin',\n",
       "       'Belize', 'Belgium', 'Belarus', 'Bangladesh', 'Bahrain',\n",
       "       'Bahamas, The', 'Azerbaijan', 'Austria', 'Australia', 'Armenia',\n",
       "       'Argentina', 'Angola', 'Algeria', 'Albania', 'World',\n",
       "       'Upper middle income', 'Sub-Saharan Africa (IDA & IBRD countries)',\n",
       "       'Sub-Saharan Africa (excluding high income)', 'Sub-Saharan Africa',\n",
       "       'South Asia (IDA & IBRD)', 'South Asia', 'Small states',\n",
       "       'Pre-demographic dividend', 'Post-demographic dividend',\n",
       "       'Other small states', 'OECD members', 'North America',\n",
       "       'Middle income',\n",
       "       'Middle East & North Africa (IDA & IBRD countries)',\n",
       "       'Middle East & North Africa (excluding high income)',\n",
       "       'Middle East & North Africa', 'Lower middle income', 'Low income',\n",
       "       'Low & middle income',\n",
       "       'Least developed countries: UN classification',\n",
       "       'Latin America & the Caribbean (IDA & IBRD countries)',\n",
       "       'Latin America & Caribbean (excluding high income)',\n",
       "       'Latin America & Caribbean', 'Late-demographic dividend',\n",
       "       'IDA total', 'IDA only', 'IDA blend', 'IDA & IBRD total',\n",
       "       'IBRD only', 'High income',\n",
       "       'Heavily indebted poor countries (HIPC)',\n",
       "       'Fragile and conflict affected situations', 'European Union',\n",
       "       'Europe & Central Asia (IDA & IBRD countries)',\n",
       "       'Europe & Central Asia (excluding high income)',\n",
       "       'Europe & Central Asia', 'Euro area',\n",
       "       'East Asia & Pacific (IDA & IBRD countries)',\n",
       "       'East Asia & Pacific (excluding high income)',\n",
       "       'East Asia & Pacific', 'Early-demographic dividend',\n",
       "       'Central Europe and the Baltics', 'Arab World',\n",
       "       'Africa Western and Central', 'Africa Eastern and Southern'],\n",
       "      dtype=object)"
      ]
     },
     "execution_count": 26,
     "metadata": {},
     "output_type": "execute_result"
    }
   ],
   "source": [
    "eco_cons_expen['Country'].unique()"
   ]
  },
  {
   "cell_type": "code",
   "execution_count": 27,
   "metadata": {},
   "outputs": [
    {
     "data": {
      "text/plain": [
       "219"
      ]
     },
     "execution_count": 27,
     "metadata": {},
     "output_type": "execute_result"
    }
   ],
   "source": [
    "eco_cons_expen['Country'].nunique()"
   ]
  },
  {
   "attachments": {},
   "cell_type": "markdown",
   "metadata": {},
   "source": [
    "---"
   ]
  },
  {
   "attachments": {},
   "cell_type": "markdown",
   "metadata": {},
   "source": [
    "🔹 Conclusions on: **Final consumption expenditure (% of GDP)** <br>\n",
    "* Does not contain duplicates. \n",
    "* Does not contain null values.  \n",
    "* It has all the years needed. \n",
    "* It has an extra column, called 'time', that will be removed. \n",
    "* The column named 'Time' will be renamed and it's tipe of data will be changed into int. \n",
    "* The column 'economy' will be renamed into 'Country Code'\n",
    "* THe column 'Country' will be renamed into 'Country Name'\n",
    "* It has more unique in 'Country' than needed, but less countries than the other datasets. "
   ]
  },
  {
   "attachments": {},
   "cell_type": "markdown",
   "metadata": {},
   "source": [
    "---"
   ]
  },
  {
   "attachments": {},
   "cell_type": "markdown",
   "metadata": {},
   "source": [
    "### GNI per capita atlas method (US$) <br>\n",
    "    This database shows the information related to gross national income (converted to dollars using the world bank atlas method) divided by the midyear population."
   ]
  },
  {
   "cell_type": "code",
   "execution_count": 28,
   "metadata": {},
   "outputs": [
    {
     "data": {
      "text/html": [
       "<div>\n",
       "<style scoped>\n",
       "    .dataframe tbody tr th:only-of-type {\n",
       "        vertical-align: middle;\n",
       "    }\n",
       "\n",
       "    .dataframe tbody tr th {\n",
       "        vertical-align: top;\n",
       "    }\n",
       "\n",
       "    .dataframe thead th {\n",
       "        text-align: right;\n",
       "    }\n",
       "</style>\n",
       "<table border=\"1\" class=\"dataframe\">\n",
       "  <thead>\n",
       "    <tr style=\"text-align: right;\">\n",
       "      <th></th>\n",
       "      <th>economy</th>\n",
       "      <th>time</th>\n",
       "      <th>Country</th>\n",
       "      <th>Time</th>\n",
       "      <th>GNI Per Capita</th>\n",
       "    </tr>\n",
       "  </thead>\n",
       "  <tbody>\n",
       "    <tr>\n",
       "      <th>0</th>\n",
       "      <td>ZWE</td>\n",
       "      <td>YR2021</td>\n",
       "      <td>Zimbabwe</td>\n",
       "      <td>2021</td>\n",
       "      <td>1530.0</td>\n",
       "    </tr>\n",
       "    <tr>\n",
       "      <th>1</th>\n",
       "      <td>ZWE</td>\n",
       "      <td>YR2020</td>\n",
       "      <td>Zimbabwe</td>\n",
       "      <td>2020</td>\n",
       "      <td>1460.0</td>\n",
       "    </tr>\n",
       "    <tr>\n",
       "      <th>2</th>\n",
       "      <td>ZWE</td>\n",
       "      <td>YR2019</td>\n",
       "      <td>Zimbabwe</td>\n",
       "      <td>2019</td>\n",
       "      <td>1450.0</td>\n",
       "    </tr>\n",
       "    <tr>\n",
       "      <th>3</th>\n",
       "      <td>ZWE</td>\n",
       "      <td>YR2018</td>\n",
       "      <td>Zimbabwe</td>\n",
       "      <td>2018</td>\n",
       "      <td>1550.0</td>\n",
       "    </tr>\n",
       "    <tr>\n",
       "      <th>4</th>\n",
       "      <td>ZWE</td>\n",
       "      <td>YR2017</td>\n",
       "      <td>Zimbabwe</td>\n",
       "      <td>2017</td>\n",
       "      <td>1170.0</td>\n",
       "    </tr>\n",
       "  </tbody>\n",
       "</table>\n",
       "</div>"
      ],
      "text/plain": [
       "  economy    time   Country  Time  GNI Per Capita\n",
       "0     ZWE  YR2021  Zimbabwe  2021          1530.0\n",
       "1     ZWE  YR2020  Zimbabwe  2020          1460.0\n",
       "2     ZWE  YR2019  Zimbabwe  2019          1450.0\n",
       "3     ZWE  YR2018  Zimbabwe  2018          1550.0\n",
       "4     ZWE  YR2017  Zimbabwe  2017          1170.0"
      ]
     },
     "execution_count": 28,
     "metadata": {},
     "output_type": "execute_result"
    }
   ],
   "source": [
    "eco_gni_capita.head()"
   ]
  },
  {
   "attachments": {},
   "cell_type": "markdown",
   "metadata": {},
   "source": [
    "We check the size of the dataset: "
   ]
  },
  {
   "cell_type": "code",
   "execution_count": 29,
   "metadata": {},
   "outputs": [
    {
     "data": {
      "text/plain": [
       "(5285, 5)"
      ]
     },
     "execution_count": 29,
     "metadata": {},
     "output_type": "execute_result"
    }
   ],
   "source": [
    "eco_gni_capita.shape"
   ]
  },
  {
   "attachments": {},
   "cell_type": "markdown",
   "metadata": {},
   "source": [
    "We review the amount of null values and the type of data each column has: "
   ]
  },
  {
   "cell_type": "code",
   "execution_count": 30,
   "metadata": {},
   "outputs": [
    {
     "name": "stdout",
     "output_type": "stream",
     "text": [
      "<class 'pandas.core.frame.DataFrame'>\n",
      "RangeIndex: 5285 entries, 0 to 5284\n",
      "Data columns (total 5 columns):\n",
      " #   Column          Non-Null Count  Dtype  \n",
      "---  ------          --------------  -----  \n",
      " 0   economy         5285 non-null   object \n",
      " 1   time            5285 non-null   object \n",
      " 2   Country         5285 non-null   object \n",
      " 3   Time            5285 non-null   object \n",
      " 4   GNI Per Capita  5285 non-null   float64\n",
      "dtypes: float64(1), object(4)\n",
      "memory usage: 206.6+ KB\n"
     ]
    }
   ],
   "source": [
    "eco_gni_capita.info()"
   ]
  },
  {
   "cell_type": "code",
   "execution_count": 31,
   "metadata": {},
   "outputs": [
    {
     "data": {
      "text/html": [
       "<div>\n",
       "<style scoped>\n",
       "    .dataframe tbody tr th:only-of-type {\n",
       "        vertical-align: middle;\n",
       "    }\n",
       "\n",
       "    .dataframe tbody tr th {\n",
       "        vertical-align: top;\n",
       "    }\n",
       "\n",
       "    .dataframe thead th {\n",
       "        text-align: right;\n",
       "    }\n",
       "</style>\n",
       "<table border=\"1\" class=\"dataframe\">\n",
       "  <thead>\n",
       "    <tr style=\"text-align: right;\">\n",
       "      <th></th>\n",
       "      <th>GNI Per Capita</th>\n",
       "    </tr>\n",
       "  </thead>\n",
       "  <tbody>\n",
       "    <tr>\n",
       "      <th>count</th>\n",
       "      <td>5285.000000</td>\n",
       "    </tr>\n",
       "    <tr>\n",
       "      <th>mean</th>\n",
       "      <td>11772.568904</td>\n",
       "    </tr>\n",
       "    <tr>\n",
       "      <th>std</th>\n",
       "      <td>17359.500527</td>\n",
       "    </tr>\n",
       "    <tr>\n",
       "      <th>min</th>\n",
       "      <td>110.000000</td>\n",
       "    </tr>\n",
       "    <tr>\n",
       "      <th>25%</th>\n",
       "      <td>1390.000000</td>\n",
       "    </tr>\n",
       "    <tr>\n",
       "      <th>50%</th>\n",
       "      <td>4300.000000</td>\n",
       "    </tr>\n",
       "    <tr>\n",
       "      <th>75%</th>\n",
       "      <td>13210.000000</td>\n",
       "    </tr>\n",
       "    <tr>\n",
       "      <th>max</th>\n",
       "      <td>122470.000000</td>\n",
       "    </tr>\n",
       "  </tbody>\n",
       "</table>\n",
       "</div>"
      ],
      "text/plain": [
       "       GNI Per Capita\n",
       "count     5285.000000\n",
       "mean     11772.568904\n",
       "std      17359.500527\n",
       "min        110.000000\n",
       "25%       1390.000000\n",
       "50%       4300.000000\n",
       "75%      13210.000000\n",
       "max     122470.000000"
      ]
     },
     "execution_count": 31,
     "metadata": {},
     "output_type": "execute_result"
    }
   ],
   "source": [
    "eco_gni_capita.describe()"
   ]
  },
  {
   "attachments": {},
   "cell_type": "markdown",
   "metadata": {},
   "source": [
    "We check for duplicates:"
   ]
  },
  {
   "cell_type": "code",
   "execution_count": 32,
   "metadata": {},
   "outputs": [
    {
     "data": {
      "text/html": [
       "<div>\n",
       "<style scoped>\n",
       "    .dataframe tbody tr th:only-of-type {\n",
       "        vertical-align: middle;\n",
       "    }\n",
       "\n",
       "    .dataframe tbody tr th {\n",
       "        vertical-align: top;\n",
       "    }\n",
       "\n",
       "    .dataframe thead th {\n",
       "        text-align: right;\n",
       "    }\n",
       "</style>\n",
       "<table border=\"1\" class=\"dataframe\">\n",
       "  <thead>\n",
       "    <tr style=\"text-align: right;\">\n",
       "      <th></th>\n",
       "      <th>economy</th>\n",
       "      <th>time</th>\n",
       "      <th>Country</th>\n",
       "      <th>Time</th>\n",
       "      <th>GNI Per Capita</th>\n",
       "    </tr>\n",
       "  </thead>\n",
       "  <tbody>\n",
       "  </tbody>\n",
       "</table>\n",
       "</div>"
      ],
      "text/plain": [
       "Empty DataFrame\n",
       "Columns: [economy, time, Country, Time, GNI Per Capita]\n",
       "Index: []"
      ]
     },
     "execution_count": 32,
     "metadata": {},
     "output_type": "execute_result"
    }
   ],
   "source": [
    "eco_gni_capita[eco_gni_capita.duplicated(subset=['Country', 'Time'])]"
   ]
  },
  {
   "attachments": {},
   "cell_type": "markdown",
   "metadata": {},
   "source": [
    "We check it has the years needed:"
   ]
  },
  {
   "cell_type": "code",
   "execution_count": 33,
   "metadata": {},
   "outputs": [
    {
     "data": {
      "text/plain": [
       "array(['2021', '2020', '2019', '2018', '2017', '2016', '2015', '2014',\n",
       "       '2013', '2012', '2011', '2010', '2009', '2008', '2007', '2006',\n",
       "       '2005', '2004', '2003', '2002', '2001', '2000'], dtype=object)"
      ]
     },
     "execution_count": 33,
     "metadata": {},
     "output_type": "execute_result"
    }
   ],
   "source": [
    "eco_gni_capita['Time'].unique()"
   ]
  },
  {
   "attachments": {},
   "cell_type": "markdown",
   "metadata": {},
   "source": [
    "We check the amount of countries and which onces it has:"
   ]
  },
  {
   "cell_type": "code",
   "execution_count": 34,
   "metadata": {},
   "outputs": [
    {
     "data": {
      "text/plain": [
       "array(['Zimbabwe', 'Zambia', 'Yemen, Rep.', 'West Bank and Gaza',\n",
       "       'Vietnam', 'Venezuela, RB', 'Vanuatu', 'Uzbekistan', 'Uruguay',\n",
       "       'United States', 'United Kingdom', 'United Arab Emirates',\n",
       "       'Ukraine', 'Uganda', 'Tuvalu', 'Turks and Caicos Islands',\n",
       "       'Turkmenistan', 'Turkiye', 'Tunisia', 'Trinidad and Tobago',\n",
       "       'Tonga', 'Togo', 'Timor-Leste', 'Thailand', 'Tanzania',\n",
       "       'Tajikistan', 'Syrian Arab Republic', 'Switzerland', 'Sweden',\n",
       "       'Suriname', 'Sudan', 'St. Vincent and the Grenadines', 'St. Lucia',\n",
       "       'St. Kitts and Nevis', 'Sri Lanka', 'Spain', 'South Sudan',\n",
       "       'South Africa', 'Somalia', 'Solomon Islands', 'Slovenia',\n",
       "       'Slovak Republic', 'Sint Maarten (Dutch part)', 'Singapore',\n",
       "       'Sierra Leone', 'Seychelles', 'Serbia', 'Senegal', 'Saudi Arabia',\n",
       "       'Sao Tome and Principe', 'San Marino', 'Samoa', 'Rwanda',\n",
       "       'Russian Federation', 'Romania', 'Qatar', 'Puerto Rico',\n",
       "       'Portugal', 'Poland', 'Philippines', 'Peru', 'Paraguay',\n",
       "       'Papua New Guinea', 'Panama', 'Palau', 'Pakistan', 'Oman',\n",
       "       'Norway', 'North Macedonia', 'Nigeria', 'Niger', 'Nicaragua',\n",
       "       'New Zealand', 'New Caledonia', 'Netherlands', 'Nepal', 'Nauru',\n",
       "       'Namibia', 'Myanmar', 'Mozambique', 'Morocco', 'Montenegro',\n",
       "       'Mongolia', 'Moldova', 'Micronesia, Fed. Sts.', 'Mexico',\n",
       "       'Mauritius', 'Mauritania', 'Marshall Islands', 'Malta', 'Mali',\n",
       "       'Maldives', 'Malaysia', 'Malawi', 'Madagascar', 'Macao SAR, China',\n",
       "       'Luxembourg', 'Lithuania', 'Liechtenstein', 'Libya', 'Liberia',\n",
       "       'Lesotho', 'Lebanon', 'Latvia', 'Lao PDR', 'Kyrgyz Republic',\n",
       "       'Kuwait', 'Kosovo', 'Korea, Rep.', 'Kiribati', 'Kenya',\n",
       "       'Kazakhstan', 'Jordan', 'Japan', 'Jamaica', 'Italy', 'Israel',\n",
       "       'Isle of Man', 'Ireland', 'Iraq', 'Iran, Islamic Rep.',\n",
       "       'Indonesia', 'India', 'Iceland', 'Hungary', 'Hong Kong SAR, China',\n",
       "       'Honduras', 'Haiti', 'Guyana', 'Guinea-Bissau', 'Guinea',\n",
       "       'Guatemala', 'Grenada', 'Greenland', 'Greece', 'Ghana', 'Germany',\n",
       "       'Georgia', 'Gambia, The', 'Gabon', 'French Polynesia', 'France',\n",
       "       'Finland', 'Fiji', 'Ethiopia', 'Eswatini', 'Estonia', 'Eritrea',\n",
       "       'Equatorial Guinea', 'El Salvador', 'Egypt, Arab Rep.', 'Ecuador',\n",
       "       'Dominican Republic', 'Dominica', 'Djibouti', 'Denmark', 'Czechia',\n",
       "       'Cyprus', 'Curacao', 'Cuba', 'Croatia', \"Cote d'Ivoire\",\n",
       "       'Costa Rica', 'Congo, Rep.', 'Congo, Dem. Rep.', 'Comoros',\n",
       "       'Colombia', 'China', 'Chile', 'Channel Islands', 'Chad',\n",
       "       'Central African Republic', 'Cayman Islands', 'Canada', 'Cameroon',\n",
       "       'Cambodia', 'Cabo Verde', 'Burundi', 'Burkina Faso', 'Bulgaria',\n",
       "       'Brunei Darussalam', 'Brazil', 'Botswana',\n",
       "       'Bosnia and Herzegovina', 'Bolivia', 'Bhutan', 'Bermuda', 'Benin',\n",
       "       'Belize', 'Belgium', 'Belarus', 'Barbados', 'Bangladesh',\n",
       "       'Bahrain', 'Bahamas, The', 'Azerbaijan', 'Austria', 'Australia',\n",
       "       'Aruba', 'Armenia', 'Argentina', 'Antigua and Barbuda', 'Angola',\n",
       "       'Andorra', 'Algeria', 'Albania', 'Afghanistan', 'World',\n",
       "       'Upper middle income', 'Sub-Saharan Africa (IDA & IBRD countries)',\n",
       "       'Sub-Saharan Africa (excluding high income)', 'Sub-Saharan Africa',\n",
       "       'South Asia (IDA & IBRD)', 'South Asia', 'Small states',\n",
       "       'Pre-demographic dividend', 'Post-demographic dividend',\n",
       "       'Pacific island small states', 'Other small states',\n",
       "       'OECD members', 'North America', 'Middle income',\n",
       "       'Middle East & North Africa (IDA & IBRD countries)',\n",
       "       'Middle East & North Africa (excluding high income)',\n",
       "       'Middle East & North Africa', 'Lower middle income', 'Low income',\n",
       "       'Low & middle income',\n",
       "       'Least developed countries: UN classification',\n",
       "       'Latin America & the Caribbean (IDA & IBRD countries)',\n",
       "       'Latin America & Caribbean (excluding high income)',\n",
       "       'Latin America & Caribbean', 'Late-demographic dividend',\n",
       "       'IDA total', 'IDA only', 'IDA blend', 'IDA & IBRD total',\n",
       "       'IBRD only', 'High income',\n",
       "       'Heavily indebted poor countries (HIPC)',\n",
       "       'Fragile and conflict affected situations', 'European Union',\n",
       "       'Europe & Central Asia (IDA & IBRD countries)',\n",
       "       'Europe & Central Asia (excluding high income)',\n",
       "       'Europe & Central Asia', 'Euro area',\n",
       "       'East Asia & Pacific (IDA & IBRD countries)',\n",
       "       'East Asia & Pacific (excluding high income)',\n",
       "       'East Asia & Pacific', 'Early-demographic dividend',\n",
       "       'Central Europe and the Baltics', 'Caribbean small states',\n",
       "       'Arab World', 'Africa Western and Central',\n",
       "       'Africa Eastern and Southern'], dtype=object)"
      ]
     },
     "execution_count": 34,
     "metadata": {},
     "output_type": "execute_result"
    }
   ],
   "source": [
    "eco_gni_capita['Country'].unique()"
   ]
  },
  {
   "cell_type": "code",
   "execution_count": 35,
   "metadata": {},
   "outputs": [
    {
     "data": {
      "text/plain": [
       "255"
      ]
     },
     "execution_count": 35,
     "metadata": {},
     "output_type": "execute_result"
    }
   ],
   "source": [
    "eco_gni_capita['Country'].nunique()"
   ]
  },
  {
   "attachments": {},
   "cell_type": "markdown",
   "metadata": {},
   "source": [
    "---"
   ]
  },
  {
   "attachments": {},
   "cell_type": "markdown",
   "metadata": {},
   "source": [
    "🔹 Conclusions on: **GNI per capita atlas method** <br>\n",
    "* Does not contain duplicates. \n",
    "* Does not contain null values.  \n",
    "* It has all the years needed. \n",
    "* It has an extra column, called 'time', that will be removed. \n",
    "* The column named 'Time' will be renamed and it's tipe of data will be changed into int. \n",
    "* The column 'economy' will be renamed into 'Country Code'\n",
    "* THe column 'Country' will be renamed into 'Country Name'\n",
    "* It has more unique in 'Country' than needed. "
   ]
  },
  {
   "attachments": {},
   "cell_type": "markdown",
   "metadata": {},
   "source": [
    "---"
   ]
  },
  {
   "attachments": {},
   "cell_type": "markdown",
   "metadata": {},
   "source": [
    "### Gross savings (% of GDP) <br>\n",
    "    This database shows the information related to Calculations as gross national income - total consumption. Measured as ercentage of GDP."
   ]
  },
  {
   "cell_type": "code",
   "execution_count": 36,
   "metadata": {},
   "outputs": [
    {
     "data": {
      "text/html": [
       "<div>\n",
       "<style scoped>\n",
       "    .dataframe tbody tr th:only-of-type {\n",
       "        vertical-align: middle;\n",
       "    }\n",
       "\n",
       "    .dataframe tbody tr th {\n",
       "        vertical-align: top;\n",
       "    }\n",
       "\n",
       "    .dataframe thead th {\n",
       "        text-align: right;\n",
       "    }\n",
       "</style>\n",
       "<table border=\"1\" class=\"dataframe\">\n",
       "  <thead>\n",
       "    <tr style=\"text-align: right;\">\n",
       "      <th></th>\n",
       "      <th>economy</th>\n",
       "      <th>time</th>\n",
       "      <th>Country</th>\n",
       "      <th>Time</th>\n",
       "      <th>Gross Savings</th>\n",
       "    </tr>\n",
       "  </thead>\n",
       "  <tbody>\n",
       "    <tr>\n",
       "      <th>0</th>\n",
       "      <td>ZWE</td>\n",
       "      <td>YR2020</td>\n",
       "      <td>Zimbabwe</td>\n",
       "      <td>2020</td>\n",
       "      <td>16.452763</td>\n",
       "    </tr>\n",
       "    <tr>\n",
       "      <th>1</th>\n",
       "      <td>ZWE</td>\n",
       "      <td>YR2019</td>\n",
       "      <td>Zimbabwe</td>\n",
       "      <td>2019</td>\n",
       "      <td>20.231198</td>\n",
       "    </tr>\n",
       "    <tr>\n",
       "      <th>2</th>\n",
       "      <td>ZWE</td>\n",
       "      <td>YR2018</td>\n",
       "      <td>Zimbabwe</td>\n",
       "      <td>2018</td>\n",
       "      <td>13.923906</td>\n",
       "    </tr>\n",
       "    <tr>\n",
       "      <th>3</th>\n",
       "      <td>ZWE</td>\n",
       "      <td>YR2017</td>\n",
       "      <td>Zimbabwe</td>\n",
       "      <td>2017</td>\n",
       "      <td>-2.682417</td>\n",
       "    </tr>\n",
       "    <tr>\n",
       "      <th>4</th>\n",
       "      <td>ZWE</td>\n",
       "      <td>YR2016</td>\n",
       "      <td>Zimbabwe</td>\n",
       "      <td>2016</td>\n",
       "      <td>-4.967818</td>\n",
       "    </tr>\n",
       "  </tbody>\n",
       "</table>\n",
       "</div>"
      ],
      "text/plain": [
       "  economy    time   Country  Time  Gross Savings\n",
       "0     ZWE  YR2020  Zimbabwe  2020      16.452763\n",
       "1     ZWE  YR2019  Zimbabwe  2019      20.231198\n",
       "2     ZWE  YR2018  Zimbabwe  2018      13.923906\n",
       "3     ZWE  YR2017  Zimbabwe  2017      -2.682417\n",
       "4     ZWE  YR2016  Zimbabwe  2016      -4.967818"
      ]
     },
     "execution_count": 36,
     "metadata": {},
     "output_type": "execute_result"
    }
   ],
   "source": [
    "eco_gross_savings.head()"
   ]
  },
  {
   "attachments": {},
   "cell_type": "markdown",
   "metadata": {},
   "source": [
    "We check the size of the dataset:"
   ]
  },
  {
   "cell_type": "code",
   "execution_count": 37,
   "metadata": {},
   "outputs": [
    {
     "data": {
      "text/plain": [
       "(4337, 5)"
      ]
     },
     "execution_count": 37,
     "metadata": {},
     "output_type": "execute_result"
    }
   ],
   "source": [
    "eco_gross_savings.shape"
   ]
  },
  {
   "attachments": {},
   "cell_type": "markdown",
   "metadata": {},
   "source": [
    "We review the amount of null values and the type of data each column has:"
   ]
  },
  {
   "cell_type": "code",
   "execution_count": 38,
   "metadata": {},
   "outputs": [
    {
     "name": "stdout",
     "output_type": "stream",
     "text": [
      "<class 'pandas.core.frame.DataFrame'>\n",
      "RangeIndex: 4337 entries, 0 to 4336\n",
      "Data columns (total 5 columns):\n",
      " #   Column         Non-Null Count  Dtype  \n",
      "---  ------         --------------  -----  \n",
      " 0   economy        4337 non-null   object \n",
      " 1   time           4337 non-null   object \n",
      " 2   Country        4337 non-null   object \n",
      " 3   Time           4337 non-null   object \n",
      " 4   Gross Savings  4337 non-null   float64\n",
      "dtypes: float64(1), object(4)\n",
      "memory usage: 169.5+ KB\n"
     ]
    }
   ],
   "source": [
    "eco_gross_savings.info()"
   ]
  },
  {
   "cell_type": "code",
   "execution_count": 39,
   "metadata": {},
   "outputs": [
    {
     "data": {
      "text/html": [
       "<div>\n",
       "<style scoped>\n",
       "    .dataframe tbody tr th:only-of-type {\n",
       "        vertical-align: middle;\n",
       "    }\n",
       "\n",
       "    .dataframe tbody tr th {\n",
       "        vertical-align: top;\n",
       "    }\n",
       "\n",
       "    .dataframe thead th {\n",
       "        text-align: right;\n",
       "    }\n",
       "</style>\n",
       "<table border=\"1\" class=\"dataframe\">\n",
       "  <thead>\n",
       "    <tr style=\"text-align: right;\">\n",
       "      <th></th>\n",
       "      <th>Gross Savings</th>\n",
       "    </tr>\n",
       "  </thead>\n",
       "  <tbody>\n",
       "    <tr>\n",
       "      <th>count</th>\n",
       "      <td>4337.000000</td>\n",
       "    </tr>\n",
       "    <tr>\n",
       "      <th>mean</th>\n",
       "      <td>23.850339</td>\n",
       "    </tr>\n",
       "    <tr>\n",
       "      <th>std</th>\n",
       "      <td>14.808126</td>\n",
       "    </tr>\n",
       "    <tr>\n",
       "      <th>min</th>\n",
       "      <td>-19.902974</td>\n",
       "    </tr>\n",
       "    <tr>\n",
       "      <th>25%</th>\n",
       "      <td>16.756782</td>\n",
       "    </tr>\n",
       "    <tr>\n",
       "      <th>50%</th>\n",
       "      <td>22.638722</td>\n",
       "    </tr>\n",
       "    <tr>\n",
       "      <th>75%</th>\n",
       "      <td>29.150342</td>\n",
       "    </tr>\n",
       "    <tr>\n",
       "      <th>max</th>\n",
       "      <td>372.988151</td>\n",
       "    </tr>\n",
       "  </tbody>\n",
       "</table>\n",
       "</div>"
      ],
      "text/plain": [
       "       Gross Savings\n",
       "count    4337.000000\n",
       "mean       23.850339\n",
       "std        14.808126\n",
       "min       -19.902974\n",
       "25%        16.756782\n",
       "50%        22.638722\n",
       "75%        29.150342\n",
       "max       372.988151"
      ]
     },
     "execution_count": 39,
     "metadata": {},
     "output_type": "execute_result"
    }
   ],
   "source": [
    "eco_gross_savings.describe()"
   ]
  },
  {
   "attachments": {},
   "cell_type": "markdown",
   "metadata": {},
   "source": [
    "We check for duplicates: "
   ]
  },
  {
   "cell_type": "code",
   "execution_count": 40,
   "metadata": {},
   "outputs": [
    {
     "data": {
      "text/html": [
       "<div>\n",
       "<style scoped>\n",
       "    .dataframe tbody tr th:only-of-type {\n",
       "        vertical-align: middle;\n",
       "    }\n",
       "\n",
       "    .dataframe tbody tr th {\n",
       "        vertical-align: top;\n",
       "    }\n",
       "\n",
       "    .dataframe thead th {\n",
       "        text-align: right;\n",
       "    }\n",
       "</style>\n",
       "<table border=\"1\" class=\"dataframe\">\n",
       "  <thead>\n",
       "    <tr style=\"text-align: right;\">\n",
       "      <th></th>\n",
       "      <th>economy</th>\n",
       "      <th>time</th>\n",
       "      <th>Country</th>\n",
       "      <th>Time</th>\n",
       "      <th>Gross Savings</th>\n",
       "    </tr>\n",
       "  </thead>\n",
       "  <tbody>\n",
       "  </tbody>\n",
       "</table>\n",
       "</div>"
      ],
      "text/plain": [
       "Empty DataFrame\n",
       "Columns: [economy, time, Country, Time, Gross Savings]\n",
       "Index: []"
      ]
     },
     "execution_count": 40,
     "metadata": {},
     "output_type": "execute_result"
    }
   ],
   "source": [
    "eco_gross_savings[eco_gross_savings.duplicated(subset=['Country', 'Time'])]"
   ]
  },
  {
   "attachments": {},
   "cell_type": "markdown",
   "metadata": {},
   "source": [
    "We check it has the years needed:"
   ]
  },
  {
   "cell_type": "code",
   "execution_count": 41,
   "metadata": {},
   "outputs": [
    {
     "data": {
      "text/plain": [
       "array(['2020', '2019', '2018', '2017', '2016', '2015', '2014', '2013',\n",
       "       '2012', '2011', '2010', '2009', '2021', '2008', '2007', '2006',\n",
       "       '2005', '2004', '2003', '2002', '2001', '2000'], dtype=object)"
      ]
     },
     "execution_count": 41,
     "metadata": {},
     "output_type": "execute_result"
    }
   ],
   "source": [
    "eco_gross_savings['Time'].unique()"
   ]
  },
  {
   "attachments": {},
   "cell_type": "markdown",
   "metadata": {},
   "source": [
    "We check the amount of countries and which onces it has:"
   ]
  },
  {
   "cell_type": "code",
   "execution_count": 42,
   "metadata": {},
   "outputs": [
    {
     "data": {
      "text/plain": [
       "array(['Zimbabwe', 'Zambia', 'West Bank and Gaza', 'Vietnam',\n",
       "       'Venezuela, RB', 'Vanuatu', 'Uzbekistan', 'Uruguay',\n",
       "       'United States', 'United Kingdom', 'Ukraine', 'Uganda', 'Turkiye',\n",
       "       'Tunisia', 'Tonga', 'Togo', 'Timor-Leste', 'Thailand', 'Tanzania',\n",
       "       'Tajikistan', 'Syrian Arab Republic', 'Switzerland', 'Sweden',\n",
       "       'Suriname', 'Sudan', 'Sri Lanka', 'Spain', 'South Sudan',\n",
       "       'South Africa', 'Solomon Islands', 'Slovenia', 'Slovak Republic',\n",
       "       'Sint Maarten (Dutch part)', 'Singapore', 'Sierra Leone',\n",
       "       'Seychelles', 'Serbia', 'Senegal', 'Saudi Arabia', 'Samoa',\n",
       "       'Rwanda', 'Russian Federation', 'Romania', 'Qatar', 'Portugal',\n",
       "       'Poland', 'Philippines', 'Peru', 'Paraguay', 'Papua New Guinea',\n",
       "       'Panama', 'Pakistan', 'Oman', 'Norway', 'North Macedonia',\n",
       "       'Nigeria', 'Niger', 'Nicaragua', 'New Zealand', 'Netherlands',\n",
       "       'Nepal', 'Namibia', 'Myanmar', 'Mozambique', 'Morocco',\n",
       "       'Montenegro', 'Mongolia', 'Moldova', 'Mexico', 'Mauritius',\n",
       "       'Mauritania', 'Marshall Islands', 'Malta', 'Mali', 'Maldives',\n",
       "       'Malaysia', 'Madagascar', 'Macao SAR, China', 'Luxembourg',\n",
       "       'Lithuania', 'Libya', 'Lesotho', 'Lebanon', 'Latvia', 'Lao PDR',\n",
       "       'Kyrgyz Republic', 'Kuwait', 'Kosovo', 'Korea, Rep.', 'Kiribati',\n",
       "       'Kenya', 'Kazakhstan', 'Jordan', 'Japan', 'Jamaica', 'Italy',\n",
       "       'Israel', 'Ireland', 'Iraq', 'Iran, Islamic Rep.', 'Indonesia',\n",
       "       'India', 'Iceland', 'Hungary', 'Hong Kong SAR, China', 'Honduras',\n",
       "       'Haiti', 'Guyana', 'Guinea-Bissau', 'Guinea', 'Guatemala',\n",
       "       'Greece', 'Ghana', 'Germany', 'Georgia', 'Gambia, The', 'Gabon',\n",
       "       'France', 'Finland', 'Fiji', 'Faroe Islands', 'Ethiopia',\n",
       "       'Eswatini', 'Estonia', 'Eritrea', 'El Salvador',\n",
       "       'Egypt, Arab Rep.', 'Ecuador', 'Dominican Republic', 'Dominica',\n",
       "       'Djibouti', 'Denmark', 'Czechia', 'Cyprus', 'Curacao', 'Croatia',\n",
       "       \"Cote d'Ivoire\", 'Costa Rica', 'Congo, Rep.', 'Congo, Dem. Rep.',\n",
       "       'Comoros', 'Colombia', 'China', 'Chile', 'Canada', 'Cameroon',\n",
       "       'Cambodia', 'Cabo Verde', 'Burundi', 'Burkina Faso', 'Bulgaria',\n",
       "       'Brunei Darussalam', 'Brazil', 'Botswana',\n",
       "       'Bosnia and Herzegovina', 'Bolivia', 'Bhutan', 'Bermuda', 'Benin',\n",
       "       'Belize', 'Belgium', 'Belarus', 'Barbados', 'Bangladesh',\n",
       "       'Bahrain', 'Bahamas, The', 'Azerbaijan', 'Austria', 'Australia',\n",
       "       'Aruba', 'Armenia', 'Argentina', 'Antigua and Barbuda', 'Angola',\n",
       "       'Algeria', 'Albania', 'World', 'Upper middle income',\n",
       "       'Sub-Saharan Africa (IDA & IBRD countries)',\n",
       "       'Sub-Saharan Africa (excluding high income)', 'Sub-Saharan Africa',\n",
       "       'South Asia (IDA & IBRD)', 'South Asia', 'Small states',\n",
       "       'Pre-demographic dividend', 'Post-demographic dividend',\n",
       "       'Pacific island small states', 'Other small states',\n",
       "       'OECD members', 'North America', 'Middle income',\n",
       "       'Middle East & North Africa (IDA & IBRD countries)',\n",
       "       'Middle East & North Africa (excluding high income)',\n",
       "       'Middle East & North Africa', 'Lower middle income', 'Low income',\n",
       "       'Low & middle income',\n",
       "       'Least developed countries: UN classification',\n",
       "       'Latin America & the Caribbean (IDA & IBRD countries)',\n",
       "       'Latin America & Caribbean (excluding high income)',\n",
       "       'Latin America & Caribbean', 'Late-demographic dividend',\n",
       "       'IDA total', 'IDA only', 'IDA blend', 'IDA & IBRD total',\n",
       "       'IBRD only', 'High income',\n",
       "       'Heavily indebted poor countries (HIPC)',\n",
       "       'Fragile and conflict affected situations', 'European Union',\n",
       "       'Europe & Central Asia (IDA & IBRD countries)',\n",
       "       'Europe & Central Asia (excluding high income)',\n",
       "       'Europe & Central Asia', 'Euro area',\n",
       "       'East Asia & Pacific (IDA & IBRD countries)',\n",
       "       'East Asia & Pacific (excluding high income)',\n",
       "       'East Asia & Pacific', 'Early-demographic dividend',\n",
       "       'Central Europe and the Baltics', 'Arab World',\n",
       "       'Africa Western and Central', 'Africa Eastern and Southern'],\n",
       "      dtype=object)"
      ]
     },
     "execution_count": 42,
     "metadata": {},
     "output_type": "execute_result"
    }
   ],
   "source": [
    "eco_gross_savings['Country'].unique()"
   ]
  },
  {
   "cell_type": "code",
   "execution_count": 43,
   "metadata": {},
   "outputs": [
    {
     "data": {
      "text/plain": [
       "223"
      ]
     },
     "execution_count": 43,
     "metadata": {},
     "output_type": "execute_result"
    }
   ],
   "source": [
    "eco_gross_savings['Country'].nunique()"
   ]
  },
  {
   "attachments": {},
   "cell_type": "markdown",
   "metadata": {},
   "source": [
    "---"
   ]
  },
  {
   "attachments": {},
   "cell_type": "markdown",
   "metadata": {},
   "source": [
    "🔹 Conclusions on: **Gross savings (% of GDP)** <br>\n",
    "* Does not contain duplicates. \n",
    "* Does not contain null values.  \n",
    "* It has all the years needed. \n",
    "* It has an extra column, called 'time', that will be removed. \n",
    "* The column named 'Time' will be renamed and it's tipe of data will be changed into int. \n",
    "* The column 'economy' will be renamed into 'Country Code'\n",
    "* THe column 'Country' will be renamed into 'Country Name'\n",
    "* It has more unique in 'Country' than needed. "
   ]
  },
  {
   "attachments": {},
   "cell_type": "markdown",
   "metadata": {},
   "source": [
    "---"
   ]
  },
  {
   "attachments": {},
   "cell_type": "markdown",
   "metadata": {},
   "source": [
    "### Consumer price index <br>\n",
    "    This database reflects changes in the cost of the average consumer of acquiring a basket of goods and services that may be fixed or changed at specified intervals, sucha as yearly."
   ]
  },
  {
   "cell_type": "code",
   "execution_count": 44,
   "metadata": {},
   "outputs": [
    {
     "data": {
      "text/html": [
       "<div>\n",
       "<style scoped>\n",
       "    .dataframe tbody tr th:only-of-type {\n",
       "        vertical-align: middle;\n",
       "    }\n",
       "\n",
       "    .dataframe tbody tr th {\n",
       "        vertical-align: top;\n",
       "    }\n",
       "\n",
       "    .dataframe thead th {\n",
       "        text-align: right;\n",
       "    }\n",
       "</style>\n",
       "<table border=\"1\" class=\"dataframe\">\n",
       "  <thead>\n",
       "    <tr style=\"text-align: right;\">\n",
       "      <th></th>\n",
       "      <th>economy</th>\n",
       "      <th>time</th>\n",
       "      <th>Country</th>\n",
       "      <th>Time</th>\n",
       "      <th>Consumer Price</th>\n",
       "    </tr>\n",
       "  </thead>\n",
       "  <tbody>\n",
       "    <tr>\n",
       "      <th>0</th>\n",
       "      <td>ZWE</td>\n",
       "      <td>YR2021</td>\n",
       "      <td>Zimbabwe</td>\n",
       "      <td>2021</td>\n",
       "      <td>5411.002445</td>\n",
       "    </tr>\n",
       "    <tr>\n",
       "      <th>1</th>\n",
       "      <td>ZWE</td>\n",
       "      <td>YR2020</td>\n",
       "      <td>Zimbabwe</td>\n",
       "      <td>2020</td>\n",
       "      <td>2725.312815</td>\n",
       "    </tr>\n",
       "    <tr>\n",
       "      <th>2</th>\n",
       "      <td>ZWE</td>\n",
       "      <td>YR2019</td>\n",
       "      <td>Zimbabwe</td>\n",
       "      <td>2019</td>\n",
       "      <td>414.684309</td>\n",
       "    </tr>\n",
       "    <tr>\n",
       "      <th>3</th>\n",
       "      <td>ZWE</td>\n",
       "      <td>YR2018</td>\n",
       "      <td>Zimbabwe</td>\n",
       "      <td>2018</td>\n",
       "      <td>116.712211</td>\n",
       "    </tr>\n",
       "    <tr>\n",
       "      <th>4</th>\n",
       "      <td>ZWE</td>\n",
       "      <td>YR2017</td>\n",
       "      <td>Zimbabwe</td>\n",
       "      <td>2017</td>\n",
       "      <td>105.508414</td>\n",
       "    </tr>\n",
       "  </tbody>\n",
       "</table>\n",
       "</div>"
      ],
      "text/plain": [
       "  economy    time   Country  Time  Consumer Price\n",
       "0     ZWE  YR2021  Zimbabwe  2021     5411.002445\n",
       "1     ZWE  YR2020  Zimbabwe  2020     2725.312815\n",
       "2     ZWE  YR2019  Zimbabwe  2019      414.684309\n",
       "3     ZWE  YR2018  Zimbabwe  2018      116.712211\n",
       "4     ZWE  YR2017  Zimbabwe  2017      105.508414"
      ]
     },
     "execution_count": 44,
     "metadata": {},
     "output_type": "execute_result"
    }
   ],
   "source": [
    "eco_consumer_price.head()"
   ]
  },
  {
   "attachments": {},
   "cell_type": "markdown",
   "metadata": {},
   "source": [
    "We check the size of the dataset: "
   ]
  },
  {
   "cell_type": "code",
   "execution_count": 45,
   "metadata": {},
   "outputs": [
    {
     "data": {
      "text/plain": [
       "(3966, 5)"
      ]
     },
     "execution_count": 45,
     "metadata": {},
     "output_type": "execute_result"
    }
   ],
   "source": [
    "eco_consumer_price.shape"
   ]
  },
  {
   "attachments": {},
   "cell_type": "markdown",
   "metadata": {},
   "source": [
    "We review the amount of null values and the type of data each column has: "
   ]
  },
  {
   "cell_type": "code",
   "execution_count": 46,
   "metadata": {},
   "outputs": [
    {
     "name": "stdout",
     "output_type": "stream",
     "text": [
      "<class 'pandas.core.frame.DataFrame'>\n",
      "RangeIndex: 3966 entries, 0 to 3965\n",
      "Data columns (total 5 columns):\n",
      " #   Column          Non-Null Count  Dtype  \n",
      "---  ------          --------------  -----  \n",
      " 0   economy         3966 non-null   object \n",
      " 1   time            3966 non-null   object \n",
      " 2   Country         3966 non-null   object \n",
      " 3   Time            3966 non-null   object \n",
      " 4   Consumer Price  3966 non-null   float64\n",
      "dtypes: float64(1), object(4)\n",
      "memory usage: 155.0+ KB\n"
     ]
    }
   ],
   "source": [
    "eco_consumer_price.info()"
   ]
  },
  {
   "cell_type": "code",
   "execution_count": 47,
   "metadata": {},
   "outputs": [
    {
     "data": {
      "text/html": [
       "<div>\n",
       "<style scoped>\n",
       "    .dataframe tbody tr th:only-of-type {\n",
       "        vertical-align: middle;\n",
       "    }\n",
       "\n",
       "    .dataframe tbody tr th {\n",
       "        vertical-align: top;\n",
       "    }\n",
       "\n",
       "    .dataframe thead th {\n",
       "        text-align: right;\n",
       "    }\n",
       "</style>\n",
       "<table border=\"1\" class=\"dataframe\">\n",
       "  <thead>\n",
       "    <tr style=\"text-align: right;\">\n",
       "      <th></th>\n",
       "      <th>Consumer Price</th>\n",
       "    </tr>\n",
       "  </thead>\n",
       "  <tbody>\n",
       "    <tr>\n",
       "      <th>count</th>\n",
       "      <td>3966.000000</td>\n",
       "    </tr>\n",
       "    <tr>\n",
       "      <th>mean</th>\n",
       "      <td>132.766215</td>\n",
       "    </tr>\n",
       "    <tr>\n",
       "      <th>std</th>\n",
       "      <td>630.542086</td>\n",
       "    </tr>\n",
       "    <tr>\n",
       "      <th>min</th>\n",
       "      <td>2.909082</td>\n",
       "    </tr>\n",
       "    <tr>\n",
       "      <th>25%</th>\n",
       "      <td>82.989634</td>\n",
       "    </tr>\n",
       "    <tr>\n",
       "      <th>50%</th>\n",
       "      <td>100.466078</td>\n",
       "    </tr>\n",
       "    <tr>\n",
       "      <th>75%</th>\n",
       "      <td>115.800377</td>\n",
       "    </tr>\n",
       "    <tr>\n",
       "      <th>max</th>\n",
       "      <td>22570.711031</td>\n",
       "    </tr>\n",
       "  </tbody>\n",
       "</table>\n",
       "</div>"
      ],
      "text/plain": [
       "       Consumer Price\n",
       "count     3966.000000\n",
       "mean       132.766215\n",
       "std        630.542086\n",
       "min          2.909082\n",
       "25%         82.989634\n",
       "50%        100.466078\n",
       "75%        115.800377\n",
       "max      22570.711031"
      ]
     },
     "execution_count": 47,
     "metadata": {},
     "output_type": "execute_result"
    }
   ],
   "source": [
    "eco_consumer_price.describe()"
   ]
  },
  {
   "attachments": {},
   "cell_type": "markdown",
   "metadata": {},
   "source": [
    "We check for duplicates:"
   ]
  },
  {
   "cell_type": "code",
   "execution_count": 48,
   "metadata": {},
   "outputs": [
    {
     "data": {
      "text/html": [
       "<div>\n",
       "<style scoped>\n",
       "    .dataframe tbody tr th:only-of-type {\n",
       "        vertical-align: middle;\n",
       "    }\n",
       "\n",
       "    .dataframe tbody tr th {\n",
       "        vertical-align: top;\n",
       "    }\n",
       "\n",
       "    .dataframe thead th {\n",
       "        text-align: right;\n",
       "    }\n",
       "</style>\n",
       "<table border=\"1\" class=\"dataframe\">\n",
       "  <thead>\n",
       "    <tr style=\"text-align: right;\">\n",
       "      <th></th>\n",
       "      <th>economy</th>\n",
       "      <th>time</th>\n",
       "      <th>Country</th>\n",
       "      <th>Time</th>\n",
       "      <th>Consumer Price</th>\n",
       "    </tr>\n",
       "  </thead>\n",
       "  <tbody>\n",
       "  </tbody>\n",
       "</table>\n",
       "</div>"
      ],
      "text/plain": [
       "Empty DataFrame\n",
       "Columns: [economy, time, Country, Time, Consumer Price]\n",
       "Index: []"
      ]
     },
     "execution_count": 48,
     "metadata": {},
     "output_type": "execute_result"
    }
   ],
   "source": [
    "eco_consumer_price[eco_consumer_price.duplicated(subset=['Country', 'Time'])]"
   ]
  },
  {
   "attachments": {},
   "cell_type": "markdown",
   "metadata": {},
   "source": [
    "We check it has the years needed:"
   ]
  },
  {
   "cell_type": "code",
   "execution_count": 49,
   "metadata": {},
   "outputs": [
    {
     "data": {
      "text/plain": [
       "array(['2021', '2020', '2019', '2018', '2017', '2016', '2015', '2014',\n",
       "       '2013', '2012', '2011', '2010', '2009', '2008', '2007', '2006',\n",
       "       '2005', '2004', '2003', '2002', '2001', '2000'], dtype=object)"
      ]
     },
     "execution_count": 49,
     "metadata": {},
     "output_type": "execute_result"
    }
   ],
   "source": [
    "eco_consumer_price['Time'].unique()"
   ]
  },
  {
   "attachments": {},
   "cell_type": "markdown",
   "metadata": {},
   "source": [
    "We check the amount of countries and which onces it has:"
   ]
  },
  {
   "cell_type": "code",
   "execution_count": 50,
   "metadata": {},
   "outputs": [
    {
     "data": {
      "text/plain": [
       "array(['Zimbabwe', 'Zambia', 'Yemen, Rep.', 'West Bank and Gaza',\n",
       "       'Vietnam', 'Venezuela, RB', 'Vanuatu', 'Uzbekistan', 'Uruguay',\n",
       "       'United States', 'United Kingdom', 'United Arab Emirates',\n",
       "       'Ukraine', 'Uganda', 'Tuvalu', 'Turkiye', 'Tunisia',\n",
       "       'Trinidad and Tobago', 'Tonga', 'Togo', 'Timor-Leste', 'Thailand',\n",
       "       'Tanzania', 'Tajikistan', 'Syrian Arab Republic', 'Switzerland',\n",
       "       'Sweden', 'Suriname', 'Sudan', 'St. Vincent and the Grenadines',\n",
       "       'St. Lucia', 'St. Kitts and Nevis', 'Sri Lanka', 'Spain',\n",
       "       'South Sudan', 'South Africa', 'Solomon Islands', 'Slovenia',\n",
       "       'Slovak Republic', 'Sint Maarten (Dutch part)', 'Singapore',\n",
       "       'Sierra Leone', 'Seychelles', 'Serbia', 'Senegal', 'Saudi Arabia',\n",
       "       'Sao Tome and Principe', 'San Marino', 'Samoa', 'Rwanda',\n",
       "       'Russian Federation', 'Romania', 'Qatar', 'Portugal', 'Poland',\n",
       "       'Philippines', 'Peru', 'Paraguay', 'Papua New Guinea', 'Panama',\n",
       "       'Palau', 'Pakistan', 'Oman', 'Norway', 'North Macedonia',\n",
       "       'Nigeria', 'Niger', 'Nicaragua', 'New Zealand', 'New Caledonia',\n",
       "       'Netherlands', 'Nepal', 'Nauru', 'Namibia', 'Myanmar',\n",
       "       'Mozambique', 'Morocco', 'Montenegro', 'Mongolia', 'Moldova',\n",
       "       'Micronesia, Fed. Sts.', 'Mexico', 'Mauritius', 'Mauritania',\n",
       "       'Malta', 'Mali', 'Maldives', 'Malaysia', 'Malawi', 'Madagascar',\n",
       "       'Macao SAR, China', 'Luxembourg', 'Lithuania', 'Libya', 'Liberia',\n",
       "       'Lesotho', 'Lebanon', 'Latvia', 'Lao PDR', 'Kyrgyz Republic',\n",
       "       'Kuwait', 'Kosovo', 'Korea, Rep.', 'Kiribati', 'Kenya',\n",
       "       'Kazakhstan', 'Jordan', 'Japan', 'Jamaica', 'Italy', 'Israel',\n",
       "       'Ireland', 'Iraq', 'Iran, Islamic Rep.', 'Indonesia', 'India',\n",
       "       'Iceland', 'Hungary', 'Hong Kong SAR, China', 'Honduras', 'Haiti',\n",
       "       'Guyana', 'Guinea-Bissau', 'Guinea', 'Guatemala', 'Grenada',\n",
       "       'Greece', 'Ghana', 'Germany', 'Georgia', 'Gambia, The', 'Gabon',\n",
       "       'France', 'Finland', 'Fiji', 'Ethiopia', 'Eswatini', 'Estonia',\n",
       "       'Equatorial Guinea', 'El Salvador', 'Egypt, Arab Rep.', 'Ecuador',\n",
       "       'Dominican Republic', 'Dominica', 'Djibouti', 'Denmark', 'Czechia',\n",
       "       'Cyprus', 'Curacao', 'Croatia', \"Cote d'Ivoire\", 'Costa Rica',\n",
       "       'Congo, Rep.', 'Congo, Dem. Rep.', 'Comoros', 'Colombia', 'China',\n",
       "       'Chile', 'Chad', 'Central African Republic', 'Cayman Islands',\n",
       "       'Canada', 'Cameroon', 'Cambodia', 'Cabo Verde', 'Burundi',\n",
       "       'Burkina Faso', 'Bulgaria', 'Brunei Darussalam', 'Brazil',\n",
       "       'Botswana', 'Bosnia and Herzegovina', 'Bolivia', 'Bhutan', 'Benin',\n",
       "       'Belize', 'Belgium', 'Belarus', 'Barbados', 'Bangladesh',\n",
       "       'Bahrain', 'Bahamas, The', 'Azerbaijan', 'Austria', 'Australia',\n",
       "       'Aruba', 'Armenia', 'Antigua and Barbuda', 'Angola', 'Algeria',\n",
       "       'Albania', 'Afghanistan'], dtype=object)"
      ]
     },
     "execution_count": 50,
     "metadata": {},
     "output_type": "execute_result"
    }
   ],
   "source": [
    "eco_consumer_price['Country'].unique()"
   ]
  },
  {
   "cell_type": "code",
   "execution_count": 51,
   "metadata": {},
   "outputs": [
    {
     "data": {
      "text/plain": [
       "192"
      ]
     },
     "execution_count": 51,
     "metadata": {},
     "output_type": "execute_result"
    }
   ],
   "source": [
    "eco_consumer_price['Country'].nunique()"
   ]
  },
  {
   "attachments": {},
   "cell_type": "markdown",
   "metadata": {},
   "source": [
    "---"
   ]
  },
  {
   "attachments": {},
   "cell_type": "markdown",
   "metadata": {},
   "source": [
    "🔹 Conclusions on: **Consumer price index** <br>\n",
    "* Does not contain duplicates. \n",
    "* Does not contain null values.  \n",
    "* It has all the years needed. \n",
    "* It has an extra column, called 'time', that will be removed. \n",
    "* The column named 'Time' will be renamed and it's tipe of data will be changed into int. \n",
    "* The column 'economy' will be renamed into 'Country Code'\n",
    "* THe column 'Country' will be renamed into 'Country Name'"
   ]
  },
  {
   "attachments": {},
   "cell_type": "markdown",
   "metadata": {},
   "source": [
    "---"
   ]
  },
  {
   "attachments": {},
   "cell_type": "markdown",
   "metadata": {},
   "source": [
    "### Total reserves (gold + US$)\n",
    "    This dataset shows information related to Comprise holdings of monetary gold, special drawing rights, reserves of IMF members held by the IMF, and holdings of foreign exchange under the control of monetary authorities. (gold + US$)"
   ]
  },
  {
   "cell_type": "code",
   "execution_count": 52,
   "metadata": {},
   "outputs": [
    {
     "data": {
      "text/html": [
       "<div>\n",
       "<style scoped>\n",
       "    .dataframe tbody tr th:only-of-type {\n",
       "        vertical-align: middle;\n",
       "    }\n",
       "\n",
       "    .dataframe tbody tr th {\n",
       "        vertical-align: top;\n",
       "    }\n",
       "\n",
       "    .dataframe thead th {\n",
       "        text-align: right;\n",
       "    }\n",
       "</style>\n",
       "<table border=\"1\" class=\"dataframe\">\n",
       "  <thead>\n",
       "    <tr style=\"text-align: right;\">\n",
       "      <th></th>\n",
       "      <th>economy</th>\n",
       "      <th>time</th>\n",
       "      <th>Country</th>\n",
       "      <th>Time</th>\n",
       "      <th>Total reserves (gold + US$)</th>\n",
       "    </tr>\n",
       "  </thead>\n",
       "  <tbody>\n",
       "    <tr>\n",
       "      <th>0</th>\n",
       "      <td>ZWE</td>\n",
       "      <td>YR2021</td>\n",
       "      <td>Zimbabwe</td>\n",
       "      <td>2021</td>\n",
       "      <td>8.387802e+08</td>\n",
       "    </tr>\n",
       "    <tr>\n",
       "      <th>1</th>\n",
       "      <td>ZWE</td>\n",
       "      <td>YR2020</td>\n",
       "      <td>Zimbabwe</td>\n",
       "      <td>2020</td>\n",
       "      <td>3.340502e+07</td>\n",
       "    </tr>\n",
       "    <tr>\n",
       "      <th>2</th>\n",
       "      <td>ZWE</td>\n",
       "      <td>YR2019</td>\n",
       "      <td>Zimbabwe</td>\n",
       "      <td>2019</td>\n",
       "      <td>1.512405e+08</td>\n",
       "    </tr>\n",
       "    <tr>\n",
       "      <th>3</th>\n",
       "      <td>ZWE</td>\n",
       "      <td>YR2018</td>\n",
       "      <td>Zimbabwe</td>\n",
       "      <td>2018</td>\n",
       "      <td>8.695109e+07</td>\n",
       "    </tr>\n",
       "    <tr>\n",
       "      <th>4</th>\n",
       "      <td>ZWE</td>\n",
       "      <td>YR2017</td>\n",
       "      <td>Zimbabwe</td>\n",
       "      <td>2017</td>\n",
       "      <td>2.926212e+08</td>\n",
       "    </tr>\n",
       "  </tbody>\n",
       "</table>\n",
       "</div>"
      ],
      "text/plain": [
       "  economy    time   Country  Time  Total reserves (gold + US$)\n",
       "0     ZWE  YR2021  Zimbabwe  2021                 8.387802e+08\n",
       "1     ZWE  YR2020  Zimbabwe  2020                 3.340502e+07\n",
       "2     ZWE  YR2019  Zimbabwe  2019                 1.512405e+08\n",
       "3     ZWE  YR2018  Zimbabwe  2018                 8.695109e+07\n",
       "4     ZWE  YR2017  Zimbabwe  2017                 2.926212e+08"
      ]
     },
     "execution_count": 52,
     "metadata": {},
     "output_type": "execute_result"
    }
   ],
   "source": [
    "eco_total_reserves.head()"
   ]
  },
  {
   "attachments": {},
   "cell_type": "markdown",
   "metadata": {},
   "source": [
    "We check the size of the dataset:"
   ]
  },
  {
   "cell_type": "code",
   "execution_count": 53,
   "metadata": {},
   "outputs": [
    {
     "data": {
      "text/plain": [
       "(3801, 5)"
      ]
     },
     "execution_count": 53,
     "metadata": {},
     "output_type": "execute_result"
    }
   ],
   "source": [
    "eco_total_reserves.shape"
   ]
  },
  {
   "attachments": {},
   "cell_type": "markdown",
   "metadata": {},
   "source": [
    "We review the amount of null values and the type of data each column has:"
   ]
  },
  {
   "cell_type": "code",
   "execution_count": 54,
   "metadata": {},
   "outputs": [
    {
     "name": "stdout",
     "output_type": "stream",
     "text": [
      "<class 'pandas.core.frame.DataFrame'>\n",
      "RangeIndex: 3801 entries, 0 to 3800\n",
      "Data columns (total 5 columns):\n",
      " #   Column                       Non-Null Count  Dtype  \n",
      "---  ------                       --------------  -----  \n",
      " 0   economy                      3801 non-null   object \n",
      " 1   time                         3801 non-null   object \n",
      " 2   Country                      3801 non-null   object \n",
      " 3   Time                         3801 non-null   object \n",
      " 4   Total reserves (gold + US$)  3801 non-null   float64\n",
      "dtypes: float64(1), object(4)\n",
      "memory usage: 148.6+ KB\n"
     ]
    }
   ],
   "source": [
    "eco_total_reserves.info()"
   ]
  },
  {
   "cell_type": "code",
   "execution_count": 55,
   "metadata": {},
   "outputs": [
    {
     "data": {
      "text/html": [
       "<div>\n",
       "<style scoped>\n",
       "    .dataframe tbody tr th:only-of-type {\n",
       "        vertical-align: middle;\n",
       "    }\n",
       "\n",
       "    .dataframe tbody tr th {\n",
       "        vertical-align: top;\n",
       "    }\n",
       "\n",
       "    .dataframe thead th {\n",
       "        text-align: right;\n",
       "    }\n",
       "</style>\n",
       "<table border=\"1\" class=\"dataframe\">\n",
       "  <thead>\n",
       "    <tr style=\"text-align: right;\">\n",
       "      <th></th>\n",
       "      <th>Total reserves (gold + US$)</th>\n",
       "    </tr>\n",
       "  </thead>\n",
       "  <tbody>\n",
       "    <tr>\n",
       "      <th>count</th>\n",
       "      <td>3.801000e+03</td>\n",
       "    </tr>\n",
       "    <tr>\n",
       "      <th>mean</th>\n",
       "      <td>5.600201e+10</td>\n",
       "    </tr>\n",
       "    <tr>\n",
       "      <th>std</th>\n",
       "      <td>2.344584e+11</td>\n",
       "    </tr>\n",
       "    <tr>\n",
       "      <th>min</th>\n",
       "      <td>2.677074e+05</td>\n",
       "    </tr>\n",
       "    <tr>\n",
       "      <th>25%</th>\n",
       "      <td>6.583521e+08</td>\n",
       "    </tr>\n",
       "    <tr>\n",
       "      <th>50%</th>\n",
       "      <td>3.647605e+09</td>\n",
       "    </tr>\n",
       "    <tr>\n",
       "      <th>75%</th>\n",
       "      <td>2.694618e+10</td>\n",
       "    </tr>\n",
       "    <tr>\n",
       "      <th>max</th>\n",
       "      <td>3.900039e+12</td>\n",
       "    </tr>\n",
       "  </tbody>\n",
       "</table>\n",
       "</div>"
      ],
      "text/plain": [
       "       Total reserves (gold + US$)\n",
       "count                 3.801000e+03\n",
       "mean                  5.600201e+10\n",
       "std                   2.344584e+11\n",
       "min                   2.677074e+05\n",
       "25%                   6.583521e+08\n",
       "50%                   3.647605e+09\n",
       "75%                   2.694618e+10\n",
       "max                   3.900039e+12"
      ]
     },
     "execution_count": 55,
     "metadata": {},
     "output_type": "execute_result"
    }
   ],
   "source": [
    "eco_total_reserves.describe()"
   ]
  },
  {
   "attachments": {},
   "cell_type": "markdown",
   "metadata": {},
   "source": [
    "We check for duplicates: "
   ]
  },
  {
   "cell_type": "code",
   "execution_count": 56,
   "metadata": {},
   "outputs": [
    {
     "name": "stderr",
     "output_type": "stream",
     "text": [
      "C:\\Users\\mbele\\AppData\\Local\\Temp\\ipykernel_13104\\4187847942.py:1: UserWarning: Boolean Series key will be reindexed to match DataFrame index.\n",
      "  eco_total_reserves[eco_consumer_price.duplicated(subset=['Country', 'Time'])]\n"
     ]
    },
    {
     "data": {
      "text/html": [
       "<div>\n",
       "<style scoped>\n",
       "    .dataframe tbody tr th:only-of-type {\n",
       "        vertical-align: middle;\n",
       "    }\n",
       "\n",
       "    .dataframe tbody tr th {\n",
       "        vertical-align: top;\n",
       "    }\n",
       "\n",
       "    .dataframe thead th {\n",
       "        text-align: right;\n",
       "    }\n",
       "</style>\n",
       "<table border=\"1\" class=\"dataframe\">\n",
       "  <thead>\n",
       "    <tr style=\"text-align: right;\">\n",
       "      <th></th>\n",
       "      <th>economy</th>\n",
       "      <th>time</th>\n",
       "      <th>Country</th>\n",
       "      <th>Time</th>\n",
       "      <th>Total reserves (gold + US$)</th>\n",
       "    </tr>\n",
       "  </thead>\n",
       "  <tbody>\n",
       "  </tbody>\n",
       "</table>\n",
       "</div>"
      ],
      "text/plain": [
       "Empty DataFrame\n",
       "Columns: [economy, time, Country, Time, Total reserves (gold + US$)]\n",
       "Index: []"
      ]
     },
     "execution_count": 56,
     "metadata": {},
     "output_type": "execute_result"
    }
   ],
   "source": [
    "eco_total_reserves[eco_consumer_price.duplicated(subset=['Country', 'Time'])]"
   ]
  },
  {
   "attachments": {},
   "cell_type": "markdown",
   "metadata": {},
   "source": [
    "We check it has the years needed:"
   ]
  },
  {
   "cell_type": "code",
   "execution_count": 57,
   "metadata": {},
   "outputs": [
    {
     "data": {
      "text/plain": [
       "array(['2021', '2020', '2019', '2018', '2017', '2016', '2015', '2014',\n",
       "       '2013', '2012', '2011', '2010', '2009', '2008', '2007', '2006',\n",
       "       '2005', '2004', '2003', '2002', '2001', '2000'], dtype=object)"
      ]
     },
     "execution_count": 57,
     "metadata": {},
     "output_type": "execute_result"
    }
   ],
   "source": [
    "eco_total_reserves['Time'].unique()"
   ]
  },
  {
   "attachments": {},
   "cell_type": "markdown",
   "metadata": {},
   "source": [
    "We check the amount of countries and which onces it has:"
   ]
  },
  {
   "cell_type": "code",
   "execution_count": 58,
   "metadata": {},
   "outputs": [
    {
     "data": {
      "text/plain": [
       "array(['Zimbabwe', 'Zambia', 'Yemen, Rep.', 'West Bank and Gaza',\n",
       "       'Vietnam', 'Venezuela, RB', 'Vanuatu', 'Uzbekistan', 'Uruguay',\n",
       "       'United States', 'United Kingdom', 'United Arab Emirates',\n",
       "       'Ukraine', 'Uganda', 'Turkiye', 'Tunisia', 'Trinidad and Tobago',\n",
       "       'Tonga', 'Timor-Leste', 'Thailand', 'Tanzania', 'Tajikistan',\n",
       "       'Syrian Arab Republic', 'Switzerland', 'Sweden', 'Suriname',\n",
       "       'Sudan', 'St. Vincent and the Grenadines', 'St. Lucia',\n",
       "       'St. Kitts and Nevis', 'Sri Lanka', 'Spain', 'South Sudan',\n",
       "       'South Africa', 'Solomon Islands', 'Slovenia', 'Slovak Republic',\n",
       "       'Singapore', 'Sierra Leone', 'Seychelles', 'Serbia',\n",
       "       'Saudi Arabia', 'Sao Tome and Principe', 'San Marino', 'Samoa',\n",
       "       'Rwanda', 'Russian Federation', 'Romania', 'Qatar', 'Portugal',\n",
       "       'Poland', 'Philippines', 'Peru', 'Paraguay', 'Papua New Guinea',\n",
       "       'Panama', 'Pakistan', 'Oman', 'Norway', 'North Macedonia',\n",
       "       'Nigeria', 'Nicaragua', 'New Zealand', 'Netherlands', 'Nepal',\n",
       "       'Namibia', 'Myanmar', 'Mozambique', 'Morocco', 'Montenegro',\n",
       "       'Mongolia', 'Moldova', 'Micronesia, Fed. Sts.', 'Mexico',\n",
       "       'Mauritius', 'Mauritania', 'Malta', 'Maldives', 'Malaysia',\n",
       "       'Malawi', 'Madagascar', 'Macao SAR, China', 'Luxembourg',\n",
       "       'Lithuania', 'Libya', 'Liberia', 'Lesotho', 'Lebanon', 'Latvia',\n",
       "       'Lao PDR', 'Kyrgyz Republic', 'Kuwait', 'Kosovo', 'Korea, Rep.',\n",
       "       'Kenya', 'Kazakhstan', 'Jordan', 'Japan', 'Jamaica', 'Italy',\n",
       "       'Israel', 'Ireland', 'Iraq', 'Indonesia', 'India', 'Iceland',\n",
       "       'Hungary', 'Hong Kong SAR, China', 'Honduras', 'Haiti', 'Guyana',\n",
       "       'Guinea', 'Guatemala', 'Grenada', 'Greece', 'Ghana', 'Germany',\n",
       "       'Georgia', 'Gambia, The', 'Gabon', 'France', 'Finland', 'Fiji',\n",
       "       'Ethiopia', 'Eswatini', 'Estonia', 'Eritrea', 'Equatorial Guinea',\n",
       "       'El Salvador', 'Egypt, Arab Rep.', 'Ecuador', 'Dominican Republic',\n",
       "       'Dominica', 'Djibouti', 'Denmark', 'Czechia', 'Cyprus', 'Croatia',\n",
       "       'Costa Rica', 'Congo, Rep.', 'Congo, Dem. Rep.', 'Comoros',\n",
       "       'Colombia', 'China', 'Chile', 'Chad', 'Central African Republic',\n",
       "       'Cayman Islands', 'Canada', 'Cameroon', 'Cambodia', 'Cabo Verde',\n",
       "       'Burundi', 'Bulgaria', 'Brunei Darussalam', 'Brazil', 'Botswana',\n",
       "       'Bosnia and Herzegovina', 'Bolivia', 'Bhutan', 'Belize', 'Belgium',\n",
       "       'Belarus', 'Barbados', 'Bangladesh', 'Bahrain', 'Bahamas, The',\n",
       "       'Azerbaijan', 'Austria', 'Australia', 'Aruba', 'Armenia',\n",
       "       'Argentina', 'Antigua and Barbuda', 'Angola', 'Algeria', 'Albania',\n",
       "       'Afghanistan', 'Euro area'], dtype=object)"
      ]
     },
     "execution_count": 58,
     "metadata": {},
     "output_type": "execute_result"
    }
   ],
   "source": [
    "eco_total_reserves['Country'].unique()"
   ]
  },
  {
   "cell_type": "code",
   "execution_count": 59,
   "metadata": {},
   "outputs": [
    {
     "data": {
      "text/plain": [
       "179"
      ]
     },
     "execution_count": 59,
     "metadata": {},
     "output_type": "execute_result"
    }
   ],
   "source": [
    "eco_total_reserves['Country'].nunique()"
   ]
  },
  {
   "attachments": {},
   "cell_type": "markdown",
   "metadata": {},
   "source": [
    "---"
   ]
  },
  {
   "attachments": {},
   "cell_type": "markdown",
   "metadata": {},
   "source": [
    "🔹 Conclusions on: **Total reserves (gold + US$)** <br>\n",
    "* Does not contain duplicates. \n",
    "* Does not contain null values.  \n",
    "* It has all the years needed. \n",
    "* It has an extra column, called 'time', that will be removed. \n",
    "* The column named 'Time' will be renamed and it's tipe of data will be changed into int. \n",
    "* The column 'economy' will be renamed into 'Country Code'\n",
    "* THe column 'Country' will be renamed into 'Country Name'"
   ]
  },
  {
   "attachments": {},
   "cell_type": "markdown",
   "metadata": {},
   "source": [
    "---"
   ]
  },
  {
   "attachments": {},
   "cell_type": "markdown",
   "metadata": {},
   "source": [
    "### Foreign direct investment, net inflows (BoP, current US$)\n",
    "    This dataset shows information related to Net inflows of investment to acquire a lasting management interest (10% or more of voting stock) in an enterprise operating in an economy other than that of the investor. It is the sum of equity capital, reinvestment of earnings, other long-term capital, and short-term capital as shown in the balance of payments. This series shows net inflows (new investment inflows less disinvestment) in the reporting economy from foreign investors, and is divided by GDP (PCT of GDP)."
   ]
  },
  {
   "cell_type": "code",
   "execution_count": 60,
   "metadata": {},
   "outputs": [
    {
     "data": {
      "text/html": [
       "<div>\n",
       "<style scoped>\n",
       "    .dataframe tbody tr th:only-of-type {\n",
       "        vertical-align: middle;\n",
       "    }\n",
       "\n",
       "    .dataframe tbody tr th {\n",
       "        vertical-align: top;\n",
       "    }\n",
       "\n",
       "    .dataframe thead th {\n",
       "        text-align: right;\n",
       "    }\n",
       "</style>\n",
       "<table border=\"1\" class=\"dataframe\">\n",
       "  <thead>\n",
       "    <tr style=\"text-align: right;\">\n",
       "      <th></th>\n",
       "      <th>economy</th>\n",
       "      <th>time</th>\n",
       "      <th>Country</th>\n",
       "      <th>Time</th>\n",
       "      <th>Foreign direct investment, net inflows (BoP, current US$)</th>\n",
       "    </tr>\n",
       "  </thead>\n",
       "  <tbody>\n",
       "    <tr>\n",
       "      <th>0</th>\n",
       "      <td>ZWE</td>\n",
       "      <td>YR2021</td>\n",
       "      <td>Zimbabwe</td>\n",
       "      <td>2021</td>\n",
       "      <td>1.660000e+08</td>\n",
       "    </tr>\n",
       "    <tr>\n",
       "      <th>1</th>\n",
       "      <td>ZWE</td>\n",
       "      <td>YR2020</td>\n",
       "      <td>Zimbabwe</td>\n",
       "      <td>2020</td>\n",
       "      <td>1.503600e+08</td>\n",
       "    </tr>\n",
       "    <tr>\n",
       "      <th>2</th>\n",
       "      <td>ZWE</td>\n",
       "      <td>YR2019</td>\n",
       "      <td>Zimbabwe</td>\n",
       "      <td>2019</td>\n",
       "      <td>2.495000e+08</td>\n",
       "    </tr>\n",
       "    <tr>\n",
       "      <th>3</th>\n",
       "      <td>ZWE</td>\n",
       "      <td>YR2018</td>\n",
       "      <td>Zimbabwe</td>\n",
       "      <td>2018</td>\n",
       "      <td>7.178653e+08</td>\n",
       "    </tr>\n",
       "    <tr>\n",
       "      <th>4</th>\n",
       "      <td>ZWE</td>\n",
       "      <td>YR2017</td>\n",
       "      <td>Zimbabwe</td>\n",
       "      <td>2017</td>\n",
       "      <td>3.071877e+08</td>\n",
       "    </tr>\n",
       "  </tbody>\n",
       "</table>\n",
       "</div>"
      ],
      "text/plain": [
       "  economy    time   Country  Time  \\\n",
       "0     ZWE  YR2021  Zimbabwe  2021   \n",
       "1     ZWE  YR2020  Zimbabwe  2020   \n",
       "2     ZWE  YR2019  Zimbabwe  2019   \n",
       "3     ZWE  YR2018  Zimbabwe  2018   \n",
       "4     ZWE  YR2017  Zimbabwe  2017   \n",
       "\n",
       "   Foreign direct investment, net inflows (BoP, current US$)  \n",
       "0                                       1.660000e+08          \n",
       "1                                       1.503600e+08          \n",
       "2                                       2.495000e+08          \n",
       "3                                       7.178653e+08          \n",
       "4                                       3.071877e+08          "
      ]
     },
     "execution_count": 60,
     "metadata": {},
     "output_type": "execute_result"
    }
   ],
   "source": [
    "eco_foreign_invest.head()"
   ]
  },
  {
   "attachments": {},
   "cell_type": "markdown",
   "metadata": {},
   "source": [
    "We check the size of the dataset: "
   ]
  },
  {
   "cell_type": "code",
   "execution_count": 61,
   "metadata": {},
   "outputs": [
    {
     "data": {
      "text/plain": [
       "(5369, 5)"
      ]
     },
     "execution_count": 61,
     "metadata": {},
     "output_type": "execute_result"
    }
   ],
   "source": [
    "eco_foreign_invest.shape"
   ]
  },
  {
   "attachments": {},
   "cell_type": "markdown",
   "metadata": {},
   "source": [
    "We review the amount of null values and the type of data each column has: "
   ]
  },
  {
   "cell_type": "code",
   "execution_count": 62,
   "metadata": {},
   "outputs": [
    {
     "name": "stdout",
     "output_type": "stream",
     "text": [
      "<class 'pandas.core.frame.DataFrame'>\n",
      "RangeIndex: 5369 entries, 0 to 5368\n",
      "Data columns (total 5 columns):\n",
      " #   Column                                                     Non-Null Count  Dtype  \n",
      "---  ------                                                     --------------  -----  \n",
      " 0   economy                                                    5369 non-null   object \n",
      " 1   time                                                       5369 non-null   object \n",
      " 2   Country                                                    5369 non-null   object \n",
      " 3   Time                                                       5369 non-null   object \n",
      " 4   Foreign direct investment, net inflows (BoP, current US$)  5369 non-null   float64\n",
      "dtypes: float64(1), object(4)\n",
      "memory usage: 209.9+ KB\n"
     ]
    }
   ],
   "source": [
    "eco_foreign_invest.info()"
   ]
  },
  {
   "cell_type": "code",
   "execution_count": 63,
   "metadata": {},
   "outputs": [
    {
     "data": {
      "text/html": [
       "<div>\n",
       "<style scoped>\n",
       "    .dataframe tbody tr th:only-of-type {\n",
       "        vertical-align: middle;\n",
       "    }\n",
       "\n",
       "    .dataframe tbody tr th {\n",
       "        vertical-align: top;\n",
       "    }\n",
       "\n",
       "    .dataframe thead th {\n",
       "        text-align: right;\n",
       "    }\n",
       "</style>\n",
       "<table border=\"1\" class=\"dataframe\">\n",
       "  <thead>\n",
       "    <tr style=\"text-align: right;\">\n",
       "      <th></th>\n",
       "      <th>Foreign direct investment, net inflows (BoP, current US$)</th>\n",
       "    </tr>\n",
       "  </thead>\n",
       "  <tbody>\n",
       "    <tr>\n",
       "      <th>count</th>\n",
       "      <td>5.369000e+03</td>\n",
       "    </tr>\n",
       "    <tr>\n",
       "      <th>mean</th>\n",
       "      <td>5.901450e+10</td>\n",
       "    </tr>\n",
       "    <tr>\n",
       "      <th>std</th>\n",
       "      <td>2.206795e+11</td>\n",
       "    </tr>\n",
       "    <tr>\n",
       "      <th>min</th>\n",
       "      <td>-3.443754e+11</td>\n",
       "    </tr>\n",
       "    <tr>\n",
       "      <th>25%</th>\n",
       "      <td>1.410000e+08</td>\n",
       "    </tr>\n",
       "    <tr>\n",
       "      <th>50%</th>\n",
       "      <td>1.333856e+09</td>\n",
       "    </tr>\n",
       "    <tr>\n",
       "      <th>75%</th>\n",
       "      <td>1.545998e+10</td>\n",
       "    </tr>\n",
       "    <tr>\n",
       "      <th>max</th>\n",
       "      <td>3.133823e+12</td>\n",
       "    </tr>\n",
       "  </tbody>\n",
       "</table>\n",
       "</div>"
      ],
      "text/plain": [
       "       Foreign direct investment, net inflows (BoP, current US$)\n",
       "count                                       5.369000e+03        \n",
       "mean                                        5.901450e+10        \n",
       "std                                         2.206795e+11        \n",
       "min                                        -3.443754e+11        \n",
       "25%                                         1.410000e+08        \n",
       "50%                                         1.333856e+09        \n",
       "75%                                         1.545998e+10        \n",
       "max                                         3.133823e+12        "
      ]
     },
     "execution_count": 63,
     "metadata": {},
     "output_type": "execute_result"
    }
   ],
   "source": [
    "eco_foreign_invest.describe()"
   ]
  },
  {
   "attachments": {},
   "cell_type": "markdown",
   "metadata": {},
   "source": [
    "We check for duplicates: "
   ]
  },
  {
   "cell_type": "code",
   "execution_count": 65,
   "metadata": {},
   "outputs": [
    {
     "data": {
      "text/html": [
       "<div>\n",
       "<style scoped>\n",
       "    .dataframe tbody tr th:only-of-type {\n",
       "        vertical-align: middle;\n",
       "    }\n",
       "\n",
       "    .dataframe tbody tr th {\n",
       "        vertical-align: top;\n",
       "    }\n",
       "\n",
       "    .dataframe thead th {\n",
       "        text-align: right;\n",
       "    }\n",
       "</style>\n",
       "<table border=\"1\" class=\"dataframe\">\n",
       "  <thead>\n",
       "    <tr style=\"text-align: right;\">\n",
       "      <th></th>\n",
       "      <th>economy</th>\n",
       "      <th>time</th>\n",
       "      <th>Country</th>\n",
       "      <th>Time</th>\n",
       "      <th>Foreign direct investment, net inflows (BoP, current US$)</th>\n",
       "    </tr>\n",
       "  </thead>\n",
       "  <tbody>\n",
       "  </tbody>\n",
       "</table>\n",
       "</div>"
      ],
      "text/plain": [
       "Empty DataFrame\n",
       "Columns: [economy, time, Country, Time, Foreign direct investment, net inflows (BoP, current US$)]\n",
       "Index: []"
      ]
     },
     "execution_count": 65,
     "metadata": {},
     "output_type": "execute_result"
    }
   ],
   "source": [
    "eco_foreign_invest[eco_foreign_invest.duplicated(subset=['Country', 'Time'])]"
   ]
  },
  {
   "attachments": {},
   "cell_type": "markdown",
   "metadata": {},
   "source": [
    "We check it has the years needed:"
   ]
  },
  {
   "cell_type": "code",
   "execution_count": 66,
   "metadata": {},
   "outputs": [
    {
     "data": {
      "text/plain": [
       "array(['2021', '2020', '2019', '2018', '2017', '2016', '2015', '2014',\n",
       "       '2013', '2012', '2011', '2010', '2009', '2008', '2007', '2006',\n",
       "       '2005', '2004', '2003', '2002', '2001', '2000'], dtype=object)"
      ]
     },
     "execution_count": 66,
     "metadata": {},
     "output_type": "execute_result"
    }
   ],
   "source": [
    "eco_foreign_invest['Time'].unique()"
   ]
  },
  {
   "attachments": {},
   "cell_type": "markdown",
   "metadata": {},
   "source": [
    "We check the amount of countries and which onces it has:"
   ]
  },
  {
   "cell_type": "code",
   "execution_count": 67,
   "metadata": {},
   "outputs": [
    {
     "data": {
      "text/plain": [
       "array(['Zimbabwe', 'Zambia', 'Yemen, Rep.', 'West Bank and Gaza',\n",
       "       'Vietnam', 'Venezuela, RB', 'Vanuatu', 'Uzbekistan', 'Uruguay',\n",
       "       'United States', 'United Kingdom', 'United Arab Emirates',\n",
       "       'Ukraine', 'Uganda', 'Tuvalu', 'Turks and Caicos Islands',\n",
       "       'Turkmenistan', 'Turkiye', 'Tunisia', 'Trinidad and Tobago',\n",
       "       'Tonga', 'Togo', 'Timor-Leste', 'Thailand', 'Tanzania',\n",
       "       'Tajikistan', 'Syrian Arab Republic', 'Switzerland', 'Sweden',\n",
       "       'Suriname', 'Sudan', 'St. Vincent and the Grenadines', 'St. Lucia',\n",
       "       'St. Kitts and Nevis', 'Sri Lanka', 'Spain', 'South Sudan',\n",
       "       'South Africa', 'Somalia', 'Solomon Islands', 'Slovenia',\n",
       "       'Slovak Republic', 'Sint Maarten (Dutch part)', 'Singapore',\n",
       "       'Sierra Leone', 'Seychelles', 'Serbia', 'Senegal', 'Saudi Arabia',\n",
       "       'Sao Tome and Principe', 'Samoa', 'Rwanda', 'Russian Federation',\n",
       "       'Romania', 'Qatar', 'Portugal', 'Poland', 'Philippines', 'Peru',\n",
       "       'Paraguay', 'Papua New Guinea', 'Panama', 'Palau', 'Pakistan',\n",
       "       'Oman', 'Norway', 'North Macedonia', 'Nigeria', 'Niger',\n",
       "       'Nicaragua', 'New Zealand', 'New Caledonia', 'Netherlands',\n",
       "       'Nepal', 'Namibia', 'Myanmar', 'Mozambique', 'Morocco',\n",
       "       'Montenegro', 'Mongolia', 'Moldova', 'Micronesia, Fed. Sts.',\n",
       "       'Mexico', 'Mauritius', 'Mauritania', 'Marshall Islands', 'Malta',\n",
       "       'Mali', 'Maldives', 'Malaysia', 'Malawi', 'Madagascar',\n",
       "       'Macao SAR, China', 'Luxembourg', 'Lithuania', 'Liechtenstein',\n",
       "       'Libya', 'Liberia', 'Lesotho', 'Lebanon', 'Latvia', 'Lao PDR',\n",
       "       'Kyrgyz Republic', 'Kuwait', 'Kosovo', 'Korea, Rep.',\n",
       "       \"Korea, Dem. People's Rep.\", 'Kiribati', 'Kenya', 'Kazakhstan',\n",
       "       'Jordan', 'Japan', 'Jamaica', 'Italy', 'Israel', 'Ireland', 'Iraq',\n",
       "       'Iran, Islamic Rep.', 'Indonesia', 'India', 'Iceland', 'Hungary',\n",
       "       'Hong Kong SAR, China', 'Honduras', 'Haiti', 'Guyana',\n",
       "       'Guinea-Bissau', 'Guinea', 'Guatemala', 'Grenada', 'Greece',\n",
       "       'Ghana', 'Germany', 'Georgia', 'Gambia, The', 'Gabon',\n",
       "       'French Polynesia', 'France', 'Finland', 'Fiji', 'Ethiopia',\n",
       "       'Eswatini', 'Estonia', 'Eritrea', 'Equatorial Guinea',\n",
       "       'El Salvador', 'Egypt, Arab Rep.', 'Ecuador', 'Dominican Republic',\n",
       "       'Dominica', 'Djibouti', 'Denmark', 'Czechia', 'Cyprus', 'Curacao',\n",
       "       'Croatia', \"Cote d'Ivoire\", 'Costa Rica', 'Congo, Rep.',\n",
       "       'Congo, Dem. Rep.', 'Comoros', 'Colombia', 'China', 'Chile',\n",
       "       'Chad', 'Central African Republic', 'Cayman Islands', 'Canada',\n",
       "       'Cameroon', 'Cambodia', 'Cabo Verde', 'Burundi', 'Burkina Faso',\n",
       "       'Bulgaria', 'Brunei Darussalam', 'British Virgin Islands',\n",
       "       'Brazil', 'Botswana', 'Bosnia and Herzegovina', 'Bolivia',\n",
       "       'Bhutan', 'Bermuda', 'Benin', 'Belize', 'Belgium', 'Belarus',\n",
       "       'Barbados', 'Bangladesh', 'Bahrain', 'Bahamas, The', 'Azerbaijan',\n",
       "       'Austria', 'Australia', 'Aruba', 'Armenia', 'Argentina',\n",
       "       'Antigua and Barbuda', 'Angola', 'Algeria', 'Albania',\n",
       "       'Afghanistan', 'World', 'Upper middle income',\n",
       "       'Sub-Saharan Africa (IDA & IBRD countries)',\n",
       "       'Sub-Saharan Africa (excluding high income)', 'Sub-Saharan Africa',\n",
       "       'South Asia (IDA & IBRD)', 'South Asia', 'Small states',\n",
       "       'Pre-demographic dividend', 'Post-demographic dividend',\n",
       "       'Pacific island small states', 'Other small states',\n",
       "       'OECD members', 'North America', 'Middle income',\n",
       "       'Middle East & North Africa (IDA & IBRD countries)',\n",
       "       'Middle East & North Africa (excluding high income)',\n",
       "       'Middle East & North Africa', 'Lower middle income', 'Low income',\n",
       "       'Low & middle income',\n",
       "       'Least developed countries: UN classification',\n",
       "       'Latin America & the Caribbean (IDA & IBRD countries)',\n",
       "       'Latin America & Caribbean (excluding high income)',\n",
       "       'Latin America & Caribbean', 'Late-demographic dividend',\n",
       "       'IDA total', 'IDA only', 'IDA blend', 'IDA & IBRD total',\n",
       "       'IBRD only', 'High income',\n",
       "       'Heavily indebted poor countries (HIPC)',\n",
       "       'Fragile and conflict affected situations', 'European Union',\n",
       "       'Europe & Central Asia (IDA & IBRD countries)',\n",
       "       'Europe & Central Asia (excluding high income)',\n",
       "       'Europe & Central Asia', 'Euro area',\n",
       "       'East Asia & Pacific (IDA & IBRD countries)',\n",
       "       'East Asia & Pacific (excluding high income)',\n",
       "       'East Asia & Pacific', 'Early-demographic dividend',\n",
       "       'Central Europe and the Baltics', 'Caribbean small states',\n",
       "       'Arab World', 'Africa Western and Central',\n",
       "       'Africa Eastern and Southern'], dtype=object)"
      ]
     },
     "execution_count": 67,
     "metadata": {},
     "output_type": "execute_result"
    }
   ],
   "source": [
    "eco_foreign_invest['Country'].unique()"
   ]
  },
  {
   "cell_type": "code",
   "execution_count": 68,
   "metadata": {},
   "outputs": [
    {
     "data": {
      "text/plain": [
       "249"
      ]
     },
     "execution_count": 68,
     "metadata": {},
     "output_type": "execute_result"
    }
   ],
   "source": [
    "eco_foreign_invest['Country'].nunique()"
   ]
  },
  {
   "attachments": {},
   "cell_type": "markdown",
   "metadata": {},
   "source": [
    "---"
   ]
  },
  {
   "attachments": {},
   "cell_type": "markdown",
   "metadata": {},
   "source": [
    "🔹 Conclusions on: **Foreign direct investment, net inflows (BoP, current US$)** <br>\n",
    "* Does not contain duplicates. \n",
    "* Does not contain null values.  \n",
    "* It has all the years needed. \n",
    "* It has an extra column, called 'time', that will be removed. \n",
    "* The column named 'Time' will be renamed and it's tipe of data will be changed into int. \n",
    "* The column 'economy' will be renamed into 'Country Code'\n",
    "* THe column 'Country' will be renamed into 'Country Name'\n",
    "* It has more unique in 'Country' than needed. "
   ]
  },
  {
   "attachments": {},
   "cell_type": "markdown",
   "metadata": {},
   "source": [
    "---"
   ]
  },
  {
   "attachments": {},
   "cell_type": "markdown",
   "metadata": {},
   "source": [
    "### Total tax and contribution rate (PCT of profit)\n",
    "    This dataset shows information related to Amount of taxes and mandatory contributions and exemptions as a share of commercial profits. Taxes withheld (such as personal income tax) or collected and remitted to tax authorities (such as value added taxes, sales taxes or goods and service taxes) are excluded (PCT of profit)"
   ]
  },
  {
   "cell_type": "code",
   "execution_count": 69,
   "metadata": {},
   "outputs": [
    {
     "data": {
      "text/html": [
       "<div>\n",
       "<style scoped>\n",
       "    .dataframe tbody tr th:only-of-type {\n",
       "        vertical-align: middle;\n",
       "    }\n",
       "\n",
       "    .dataframe tbody tr th {\n",
       "        vertical-align: top;\n",
       "    }\n",
       "\n",
       "    .dataframe thead th {\n",
       "        text-align: right;\n",
       "    }\n",
       "</style>\n",
       "<table border=\"1\" class=\"dataframe\">\n",
       "  <thead>\n",
       "    <tr style=\"text-align: right;\">\n",
       "      <th></th>\n",
       "      <th>economy</th>\n",
       "      <th>time</th>\n",
       "      <th>Country</th>\n",
       "      <th>Time</th>\n",
       "      <th>Total tax and contribution rate (PCT of profit)</th>\n",
       "    </tr>\n",
       "  </thead>\n",
       "  <tbody>\n",
       "    <tr>\n",
       "      <th>0</th>\n",
       "      <td>ZWE</td>\n",
       "      <td>YR2019</td>\n",
       "      <td>Zimbabwe</td>\n",
       "      <td>2019</td>\n",
       "      <td>31.6</td>\n",
       "    </tr>\n",
       "    <tr>\n",
       "      <th>1</th>\n",
       "      <td>ZWE</td>\n",
       "      <td>YR2018</td>\n",
       "      <td>Zimbabwe</td>\n",
       "      <td>2018</td>\n",
       "      <td>31.6</td>\n",
       "    </tr>\n",
       "    <tr>\n",
       "      <th>2</th>\n",
       "      <td>ZWE</td>\n",
       "      <td>YR2017</td>\n",
       "      <td>Zimbabwe</td>\n",
       "      <td>2017</td>\n",
       "      <td>31.6</td>\n",
       "    </tr>\n",
       "    <tr>\n",
       "      <th>3</th>\n",
       "      <td>ZWE</td>\n",
       "      <td>YR2016</td>\n",
       "      <td>Zimbabwe</td>\n",
       "      <td>2016</td>\n",
       "      <td>31.6</td>\n",
       "    </tr>\n",
       "    <tr>\n",
       "      <th>4</th>\n",
       "      <td>ZWE</td>\n",
       "      <td>YR2015</td>\n",
       "      <td>Zimbabwe</td>\n",
       "      <td>2015</td>\n",
       "      <td>31.6</td>\n",
       "    </tr>\n",
       "  </tbody>\n",
       "</table>\n",
       "</div>"
      ],
      "text/plain": [
       "  economy    time   Country  Time  \\\n",
       "0     ZWE  YR2019  Zimbabwe  2019   \n",
       "1     ZWE  YR2018  Zimbabwe  2018   \n",
       "2     ZWE  YR2017  Zimbabwe  2017   \n",
       "3     ZWE  YR2016  Zimbabwe  2016   \n",
       "4     ZWE  YR2015  Zimbabwe  2015   \n",
       "\n",
       "   Total tax and contribution rate (PCT of profit)  \n",
       "0                                             31.6  \n",
       "1                                             31.6  \n",
       "2                                             31.6  \n",
       "3                                             31.6  \n",
       "4                                             31.6  "
      ]
     },
     "execution_count": 69,
     "metadata": {},
     "output_type": "execute_result"
    }
   ],
   "source": [
    "eco_total_tax.head()"
   ]
  },
  {
   "attachments": {},
   "cell_type": "markdown",
   "metadata": {},
   "source": [
    "We check the size of the dataset:"
   ]
  },
  {
   "cell_type": "code",
   "execution_count": 70,
   "metadata": {},
   "outputs": [
    {
     "data": {
      "text/plain": [
       "(3397, 5)"
      ]
     },
     "execution_count": 70,
     "metadata": {},
     "output_type": "execute_result"
    }
   ],
   "source": [
    "eco_total_tax.shape"
   ]
  },
  {
   "attachments": {},
   "cell_type": "markdown",
   "metadata": {},
   "source": [
    "We review the amount of null values and the type of data each column has: "
   ]
  },
  {
   "cell_type": "code",
   "execution_count": 71,
   "metadata": {},
   "outputs": [
    {
     "name": "stdout",
     "output_type": "stream",
     "text": [
      "<class 'pandas.core.frame.DataFrame'>\n",
      "RangeIndex: 3397 entries, 0 to 3396\n",
      "Data columns (total 5 columns):\n",
      " #   Column                                           Non-Null Count  Dtype  \n",
      "---  ------                                           --------------  -----  \n",
      " 0   economy                                          3397 non-null   object \n",
      " 1   time                                             3397 non-null   object \n",
      " 2   Country                                          3397 non-null   object \n",
      " 3   Time                                             3397 non-null   object \n",
      " 4   Total tax and contribution rate (PCT of profit)  3397 non-null   float64\n",
      "dtypes: float64(1), object(4)\n",
      "memory usage: 132.8+ KB\n"
     ]
    }
   ],
   "source": [
    "eco_total_tax.info()"
   ]
  },
  {
   "cell_type": "code",
   "execution_count": 72,
   "metadata": {},
   "outputs": [
    {
     "data": {
      "text/html": [
       "<div>\n",
       "<style scoped>\n",
       "    .dataframe tbody tr th:only-of-type {\n",
       "        vertical-align: middle;\n",
       "    }\n",
       "\n",
       "    .dataframe tbody tr th {\n",
       "        vertical-align: top;\n",
       "    }\n",
       "\n",
       "    .dataframe thead th {\n",
       "        text-align: right;\n",
       "    }\n",
       "</style>\n",
       "<table border=\"1\" class=\"dataframe\">\n",
       "  <thead>\n",
       "    <tr style=\"text-align: right;\">\n",
       "      <th></th>\n",
       "      <th>Total tax and contribution rate (PCT of profit)</th>\n",
       "    </tr>\n",
       "  </thead>\n",
       "  <tbody>\n",
       "    <tr>\n",
       "      <th>count</th>\n",
       "      <td>3397.000000</td>\n",
       "    </tr>\n",
       "    <tr>\n",
       "      <th>mean</th>\n",
       "      <td>44.989162</td>\n",
       "    </tr>\n",
       "    <tr>\n",
       "      <th>std</th>\n",
       "      <td>30.218710</td>\n",
       "    </tr>\n",
       "    <tr>\n",
       "      <th>min</th>\n",
       "      <td>7.400000</td>\n",
       "    </tr>\n",
       "    <tr>\n",
       "      <th>25%</th>\n",
       "      <td>32.800000</td>\n",
       "    </tr>\n",
       "    <tr>\n",
       "      <th>50%</th>\n",
       "      <td>40.600000</td>\n",
       "    </tr>\n",
       "    <tr>\n",
       "      <th>75%</th>\n",
       "      <td>49.000000</td>\n",
       "    </tr>\n",
       "    <tr>\n",
       "      <th>max</th>\n",
       "      <td>339.100000</td>\n",
       "    </tr>\n",
       "  </tbody>\n",
       "</table>\n",
       "</div>"
      ],
      "text/plain": [
       "       Total tax and contribution rate (PCT of profit)\n",
       "count                                      3397.000000\n",
       "mean                                         44.989162\n",
       "std                                          30.218710\n",
       "min                                           7.400000\n",
       "25%                                          32.800000\n",
       "50%                                          40.600000\n",
       "75%                                          49.000000\n",
       "max                                         339.100000"
      ]
     },
     "execution_count": 72,
     "metadata": {},
     "output_type": "execute_result"
    }
   ],
   "source": [
    "eco_total_tax.describe()"
   ]
  },
  {
   "attachments": {},
   "cell_type": "markdown",
   "metadata": {},
   "source": [
    "We check for duplicates:"
   ]
  },
  {
   "cell_type": "code",
   "execution_count": 73,
   "metadata": {},
   "outputs": [
    {
     "data": {
      "text/html": [
       "<div>\n",
       "<style scoped>\n",
       "    .dataframe tbody tr th:only-of-type {\n",
       "        vertical-align: middle;\n",
       "    }\n",
       "\n",
       "    .dataframe tbody tr th {\n",
       "        vertical-align: top;\n",
       "    }\n",
       "\n",
       "    .dataframe thead th {\n",
       "        text-align: right;\n",
       "    }\n",
       "</style>\n",
       "<table border=\"1\" class=\"dataframe\">\n",
       "  <thead>\n",
       "    <tr style=\"text-align: right;\">\n",
       "      <th></th>\n",
       "      <th>economy</th>\n",
       "      <th>time</th>\n",
       "      <th>Country</th>\n",
       "      <th>Time</th>\n",
       "      <th>Total tax and contribution rate (PCT of profit)</th>\n",
       "    </tr>\n",
       "  </thead>\n",
       "  <tbody>\n",
       "  </tbody>\n",
       "</table>\n",
       "</div>"
      ],
      "text/plain": [
       "Empty DataFrame\n",
       "Columns: [economy, time, Country, Time, Total tax and contribution rate (PCT of profit)]\n",
       "Index: []"
      ]
     },
     "execution_count": 73,
     "metadata": {},
     "output_type": "execute_result"
    }
   ],
   "source": [
    "eco_total_tax[eco_total_tax.duplicated(subset=['Country', 'Time'])]"
   ]
  },
  {
   "attachments": {},
   "cell_type": "markdown",
   "metadata": {},
   "source": [
    "We check it has the years needed:"
   ]
  },
  {
   "cell_type": "code",
   "execution_count": 74,
   "metadata": {},
   "outputs": [
    {
     "data": {
      "text/plain": [
       "array(['2019', '2018', '2017', '2016', '2015', '2014', '2013', '2012',\n",
       "       '2011', '2010', '2009', '2008', '2007', '2006', '2005'],\n",
       "      dtype=object)"
      ]
     },
     "execution_count": 74,
     "metadata": {},
     "output_type": "execute_result"
    }
   ],
   "source": [
    "eco_total_tax['Time'].unique()"
   ]
  },
  {
   "attachments": {},
   "cell_type": "markdown",
   "metadata": {},
   "source": [
    "We check the amount of countries and which onces it has:"
   ]
  },
  {
   "cell_type": "code",
   "execution_count": 75,
   "metadata": {},
   "outputs": [
    {
     "data": {
      "text/plain": [
       "array(['Zimbabwe', 'Zambia', 'Yemen, Rep.', 'West Bank and Gaza',\n",
       "       'Vietnam', 'Venezuela, RB', 'Vanuatu', 'Uzbekistan', 'Uruguay',\n",
       "       'United States', 'United Kingdom', 'United Arab Emirates',\n",
       "       'Ukraine', 'Uganda', 'Turkiye', 'Tunisia', 'Trinidad and Tobago',\n",
       "       'Tonga', 'Togo', 'Timor-Leste', 'Thailand', 'Tanzania',\n",
       "       'Tajikistan', 'Syrian Arab Republic', 'Switzerland', 'Sweden',\n",
       "       'Suriname', 'Sudan', 'St. Vincent and the Grenadines', 'St. Lucia',\n",
       "       'St. Kitts and Nevis', 'Sri Lanka', 'Spain', 'South Sudan',\n",
       "       'South Africa', 'Solomon Islands', 'Slovenia', 'Slovak Republic',\n",
       "       'Singapore', 'Sierra Leone', 'Seychelles', 'Serbia', 'Senegal',\n",
       "       'Saudi Arabia', 'Sao Tome and Principe', 'San Marino', 'Samoa',\n",
       "       'Rwanda', 'Russian Federation', 'Romania', 'Qatar', 'Puerto Rico',\n",
       "       'Portugal', 'Poland', 'Philippines', 'Peru', 'Paraguay',\n",
       "       'Papua New Guinea', 'Panama', 'Palau', 'Pakistan', 'Oman',\n",
       "       'Norway', 'North Macedonia', 'Nigeria', 'Niger', 'Nicaragua',\n",
       "       'New Zealand', 'Netherlands', 'Nepal', 'Namibia', 'Myanmar',\n",
       "       'Mozambique', 'Morocco', 'Montenegro', 'Mongolia', 'Moldova',\n",
       "       'Micronesia, Fed. Sts.', 'Mexico', 'Mauritius', 'Mauritania',\n",
       "       'Marshall Islands', 'Malta', 'Mali', 'Maldives', 'Malaysia',\n",
       "       'Malawi', 'Madagascar', 'Luxembourg', 'Lithuania', 'Liechtenstein',\n",
       "       'Libya', 'Liberia', 'Lesotho', 'Lebanon', 'Latvia', 'Lao PDR',\n",
       "       'Kyrgyz Republic', 'Kuwait', 'Kosovo', 'Korea, Rep.', 'Kiribati',\n",
       "       'Kenya', 'Kazakhstan', 'Jordan', 'Japan', 'Jamaica', 'Italy',\n",
       "       'Israel', 'Ireland', 'Iraq', 'Iran, Islamic Rep.', 'Indonesia',\n",
       "       'India', 'Iceland', 'Hungary', 'Hong Kong SAR, China', 'Honduras',\n",
       "       'Haiti', 'Guyana', 'Guinea-Bissau', 'Guinea', 'Guatemala',\n",
       "       'Grenada', 'Greece', 'Ghana', 'Germany', 'Georgia', 'Gambia, The',\n",
       "       'Gabon', 'France', 'Finland', 'Fiji', 'Ethiopia', 'Eswatini',\n",
       "       'Estonia', 'Eritrea', 'Equatorial Guinea', 'El Salvador',\n",
       "       'Egypt, Arab Rep.', 'Ecuador', 'Dominican Republic', 'Dominica',\n",
       "       'Djibouti', 'Denmark', 'Czechia', 'Cyprus', 'Croatia',\n",
       "       \"Cote d'Ivoire\", 'Costa Rica', 'Congo, Rep.', 'Congo, Dem. Rep.',\n",
       "       'Comoros', 'Colombia', 'China', 'Chile', 'Chad',\n",
       "       'Central African Republic', 'Canada', 'Cameroon', 'Cambodia',\n",
       "       'Cabo Verde', 'Burundi', 'Burkina Faso', 'Bulgaria',\n",
       "       'Brunei Darussalam', 'Brazil', 'Botswana',\n",
       "       'Bosnia and Herzegovina', 'Bolivia', 'Bhutan', 'Benin', 'Belize',\n",
       "       'Belgium', 'Belarus', 'Barbados', 'Bangladesh', 'Bahrain',\n",
       "       'Bahamas, The', 'Azerbaijan', 'Austria', 'Australia', 'Armenia',\n",
       "       'Argentina', 'Antigua and Barbuda', 'Angola', 'Algeria', 'Albania',\n",
       "       'Afghanistan', 'World', 'Upper middle income',\n",
       "       'Sub-Saharan Africa (IDA & IBRD countries)',\n",
       "       'Sub-Saharan Africa (excluding high income)', 'Sub-Saharan Africa',\n",
       "       'South Asia (IDA & IBRD)', 'South Asia', 'Small states',\n",
       "       'Pre-demographic dividend', 'Post-demographic dividend',\n",
       "       'Pacific island small states', 'Other small states',\n",
       "       'OECD members', 'North America', 'Middle income',\n",
       "       'Middle East & North Africa (IDA & IBRD countries)',\n",
       "       'Middle East & North Africa (excluding high income)',\n",
       "       'Middle East & North Africa', 'Lower middle income', 'Low income',\n",
       "       'Low & middle income',\n",
       "       'Least developed countries: UN classification',\n",
       "       'Latin America & the Caribbean (IDA & IBRD countries)',\n",
       "       'Latin America & Caribbean (excluding high income)',\n",
       "       'Latin America & Caribbean', 'Late-demographic dividend',\n",
       "       'IDA total', 'IDA only', 'IDA blend', 'IDA & IBRD total',\n",
       "       'IBRD only', 'High income',\n",
       "       'Heavily indebted poor countries (HIPC)',\n",
       "       'Fragile and conflict affected situations', 'European Union',\n",
       "       'Europe & Central Asia (IDA & IBRD countries)',\n",
       "       'Europe & Central Asia (excluding high income)',\n",
       "       'Europe & Central Asia', 'Euro area',\n",
       "       'East Asia & Pacific (IDA & IBRD countries)',\n",
       "       'East Asia & Pacific (excluding high income)',\n",
       "       'East Asia & Pacific', 'Early-demographic dividend',\n",
       "       'Central Europe and the Baltics', 'Caribbean small states',\n",
       "       'Arab World', 'Africa Western and Central',\n",
       "       'Africa Eastern and Southern'], dtype=object)"
      ]
     },
     "execution_count": 75,
     "metadata": {},
     "output_type": "execute_result"
    }
   ],
   "source": [
    "eco_total_tax['Country'].unique()"
   ]
  },
  {
   "cell_type": "code",
   "execution_count": 76,
   "metadata": {},
   "outputs": [
    {
     "data": {
      "text/plain": [
       "237"
      ]
     },
     "execution_count": 76,
     "metadata": {},
     "output_type": "execute_result"
    }
   ],
   "source": [
    "eco_total_tax['Country'].nunique()"
   ]
  },
  {
   "attachments": {},
   "cell_type": "markdown",
   "metadata": {},
   "source": [
    "🔹 Conclusions on: **Total tax and contribution rate (PCT of profit)** <br>\n",
    "\n",
    "* Does not contain duplicates. \n",
    "* Does not contain null values.  \n",
    "* It has all the years needed. \n",
    "* It has an extra column, called 'time', that will be removed. \n",
    "* The column named 'Time' will be renamed and it's tipe of data will be changed into int. \n",
    "* The column 'economy' will be renamed into 'Country Code'\n",
    "* THe column 'Country' will be renamed into 'Country Name'\n",
    "* It has more unique in 'Country' than needed. "
   ]
  },
  {
   "attachments": {},
   "cell_type": "markdown",
   "metadata": {},
   "source": [
    "---"
   ]
  },
  {
   "attachments": {},
   "cell_type": "markdown",
   "metadata": {},
   "source": [
    "### Time required to start a business (days)\n",
    "    This dataset shows information related to Number of calendar days needed to complete the procedures to legally operate a business (if a procedure can be speeded up at additional cost, the fastest procedure is chosen) (days)"
   ]
  },
  {
   "cell_type": "code",
   "execution_count": 77,
   "metadata": {},
   "outputs": [
    {
     "data": {
      "text/html": [
       "<div>\n",
       "<style scoped>\n",
       "    .dataframe tbody tr th:only-of-type {\n",
       "        vertical-align: middle;\n",
       "    }\n",
       "\n",
       "    .dataframe tbody tr th {\n",
       "        vertical-align: top;\n",
       "    }\n",
       "\n",
       "    .dataframe thead th {\n",
       "        text-align: right;\n",
       "    }\n",
       "</style>\n",
       "<table border=\"1\" class=\"dataframe\">\n",
       "  <thead>\n",
       "    <tr style=\"text-align: right;\">\n",
       "      <th></th>\n",
       "      <th>economy</th>\n",
       "      <th>time</th>\n",
       "      <th>Country</th>\n",
       "      <th>Time</th>\n",
       "      <th>Time required to start a business (days)</th>\n",
       "    </tr>\n",
       "  </thead>\n",
       "  <tbody>\n",
       "    <tr>\n",
       "      <th>0</th>\n",
       "      <td>ZWE</td>\n",
       "      <td>YR2019</td>\n",
       "      <td>Zimbabwe</td>\n",
       "      <td>2019</td>\n",
       "      <td>27.0</td>\n",
       "    </tr>\n",
       "    <tr>\n",
       "      <th>1</th>\n",
       "      <td>ZWE</td>\n",
       "      <td>YR2018</td>\n",
       "      <td>Zimbabwe</td>\n",
       "      <td>2018</td>\n",
       "      <td>32.0</td>\n",
       "    </tr>\n",
       "    <tr>\n",
       "      <th>2</th>\n",
       "      <td>ZWE</td>\n",
       "      <td>YR2017</td>\n",
       "      <td>Zimbabwe</td>\n",
       "      <td>2017</td>\n",
       "      <td>61.0</td>\n",
       "    </tr>\n",
       "    <tr>\n",
       "      <th>3</th>\n",
       "      <td>ZWE</td>\n",
       "      <td>YR2016</td>\n",
       "      <td>Zimbabwe</td>\n",
       "      <td>2016</td>\n",
       "      <td>91.0</td>\n",
       "    </tr>\n",
       "    <tr>\n",
       "      <th>4</th>\n",
       "      <td>ZWE</td>\n",
       "      <td>YR2015</td>\n",
       "      <td>Zimbabwe</td>\n",
       "      <td>2015</td>\n",
       "      <td>91.0</td>\n",
       "    </tr>\n",
       "  </tbody>\n",
       "</table>\n",
       "</div>"
      ],
      "text/plain": [
       "  economy    time   Country  Time  Time required to start a business (days)\n",
       "0     ZWE  YR2019  Zimbabwe  2019                                      27.0\n",
       "1     ZWE  YR2018  Zimbabwe  2018                                      32.0\n",
       "2     ZWE  YR2017  Zimbabwe  2017                                      61.0\n",
       "3     ZWE  YR2016  Zimbabwe  2016                                      91.0\n",
       "4     ZWE  YR2015  Zimbabwe  2015                                      91.0"
      ]
     },
     "execution_count": 77,
     "metadata": {},
     "output_type": "execute_result"
    }
   ],
   "source": [
    "eco_start_business.head()"
   ]
  },
  {
   "attachments": {},
   "cell_type": "markdown",
   "metadata": {},
   "source": [
    "We check the size of the dataset:"
   ]
  },
  {
   "cell_type": "code",
   "execution_count": 78,
   "metadata": {},
   "outputs": [
    {
     "data": {
      "text/plain": [
       "(3774, 5)"
      ]
     },
     "execution_count": 78,
     "metadata": {},
     "output_type": "execute_result"
    }
   ],
   "source": [
    "eco_start_business.shape"
   ]
  },
  {
   "attachments": {},
   "cell_type": "markdown",
   "metadata": {},
   "source": [
    "We review the amount of null values and the type of data each column has: \n"
   ]
  },
  {
   "cell_type": "code",
   "execution_count": 79,
   "metadata": {},
   "outputs": [
    {
     "name": "stdout",
     "output_type": "stream",
     "text": [
      "<class 'pandas.core.frame.DataFrame'>\n",
      "RangeIndex: 3774 entries, 0 to 3773\n",
      "Data columns (total 5 columns):\n",
      " #   Column                                    Non-Null Count  Dtype  \n",
      "---  ------                                    --------------  -----  \n",
      " 0   economy                                   3774 non-null   object \n",
      " 1   time                                      3774 non-null   object \n",
      " 2   Country                                   3774 non-null   object \n",
      " 3   Time                                      3774 non-null   object \n",
      " 4   Time required to start a business (days)  3774 non-null   float64\n",
      "dtypes: float64(1), object(4)\n",
      "memory usage: 147.5+ KB\n"
     ]
    }
   ],
   "source": [
    "eco_start_business.info()"
   ]
  },
  {
   "cell_type": "code",
   "execution_count": 80,
   "metadata": {},
   "outputs": [
    {
     "data": {
      "text/html": [
       "<div>\n",
       "<style scoped>\n",
       "    .dataframe tbody tr th:only-of-type {\n",
       "        vertical-align: middle;\n",
       "    }\n",
       "\n",
       "    .dataframe tbody tr th {\n",
       "        vertical-align: top;\n",
       "    }\n",
       "\n",
       "    .dataframe thead th {\n",
       "        text-align: right;\n",
       "    }\n",
       "</style>\n",
       "<table border=\"1\" class=\"dataframe\">\n",
       "  <thead>\n",
       "    <tr style=\"text-align: right;\">\n",
       "      <th></th>\n",
       "      <th>Time required to start a business (days)</th>\n",
       "    </tr>\n",
       "  </thead>\n",
       "  <tbody>\n",
       "    <tr>\n",
       "      <th>count</th>\n",
       "      <td>3774.000000</td>\n",
       "    </tr>\n",
       "    <tr>\n",
       "      <th>mean</th>\n",
       "      <td>33.489292</td>\n",
       "    </tr>\n",
       "    <tr>\n",
       "      <th>std</th>\n",
       "      <td>42.958541</td>\n",
       "    </tr>\n",
       "    <tr>\n",
       "      <th>min</th>\n",
       "      <td>0.500000</td>\n",
       "    </tr>\n",
       "    <tr>\n",
       "      <th>25%</th>\n",
       "      <td>12.000000</td>\n",
       "    </tr>\n",
       "    <tr>\n",
       "      <th>50%</th>\n",
       "      <td>24.000000</td>\n",
       "    </tr>\n",
       "    <tr>\n",
       "      <th>75%</th>\n",
       "      <td>41.000000</td>\n",
       "    </tr>\n",
       "    <tr>\n",
       "      <th>max</th>\n",
       "      <td>697.000000</td>\n",
       "    </tr>\n",
       "  </tbody>\n",
       "</table>\n",
       "</div>"
      ],
      "text/plain": [
       "       Time required to start a business (days)\n",
       "count                               3774.000000\n",
       "mean                                  33.489292\n",
       "std                                   42.958541\n",
       "min                                    0.500000\n",
       "25%                                   12.000000\n",
       "50%                                   24.000000\n",
       "75%                                   41.000000\n",
       "max                                  697.000000"
      ]
     },
     "execution_count": 80,
     "metadata": {},
     "output_type": "execute_result"
    }
   ],
   "source": [
    "eco_start_business.describe()"
   ]
  },
  {
   "attachments": {},
   "cell_type": "markdown",
   "metadata": {},
   "source": [
    "We check for duplicates: "
   ]
  },
  {
   "cell_type": "code",
   "execution_count": 81,
   "metadata": {},
   "outputs": [
    {
     "data": {
      "text/html": [
       "<div>\n",
       "<style scoped>\n",
       "    .dataframe tbody tr th:only-of-type {\n",
       "        vertical-align: middle;\n",
       "    }\n",
       "\n",
       "    .dataframe tbody tr th {\n",
       "        vertical-align: top;\n",
       "    }\n",
       "\n",
       "    .dataframe thead th {\n",
       "        text-align: right;\n",
       "    }\n",
       "</style>\n",
       "<table border=\"1\" class=\"dataframe\">\n",
       "  <thead>\n",
       "    <tr style=\"text-align: right;\">\n",
       "      <th></th>\n",
       "      <th>economy</th>\n",
       "      <th>time</th>\n",
       "      <th>Country</th>\n",
       "      <th>Time</th>\n",
       "      <th>Time required to start a business (days)</th>\n",
       "    </tr>\n",
       "  </thead>\n",
       "  <tbody>\n",
       "  </tbody>\n",
       "</table>\n",
       "</div>"
      ],
      "text/plain": [
       "Empty DataFrame\n",
       "Columns: [economy, time, Country, Time, Time required to start a business (days)]\n",
       "Index: []"
      ]
     },
     "execution_count": 81,
     "metadata": {},
     "output_type": "execute_result"
    }
   ],
   "source": [
    "eco_start_business[eco_start_business.duplicated(subset=['Country', 'Time'])]"
   ]
  },
  {
   "attachments": {},
   "cell_type": "markdown",
   "metadata": {},
   "source": [
    "We check it has the years needed:"
   ]
  },
  {
   "cell_type": "code",
   "execution_count": 82,
   "metadata": {},
   "outputs": [
    {
     "data": {
      "text/plain": [
       "array(['2019', '2018', '2017', '2016', '2015', '2014', '2013', '2012',\n",
       "       '2011', '2010', '2009', '2008', '2007', '2006', '2005', '2004',\n",
       "       '2003'], dtype=object)"
      ]
     },
     "execution_count": 82,
     "metadata": {},
     "output_type": "execute_result"
    }
   ],
   "source": [
    "eco_start_business['Time'].unique()"
   ]
  },
  {
   "attachments": {},
   "cell_type": "markdown",
   "metadata": {},
   "source": [
    "We check the amount of countries and which onces it has:"
   ]
  },
  {
   "cell_type": "code",
   "execution_count": 83,
   "metadata": {},
   "outputs": [
    {
     "data": {
      "text/plain": [
       "array(['Zimbabwe', 'Zambia', 'Yemen, Rep.', 'West Bank and Gaza',\n",
       "       'Vietnam', 'Venezuela, RB', 'Vanuatu', 'Uzbekistan', 'Uruguay',\n",
       "       'United States', 'United Kingdom', 'United Arab Emirates',\n",
       "       'Ukraine', 'Uganda', 'Turkiye', 'Tunisia', 'Trinidad and Tobago',\n",
       "       'Tonga', 'Togo', 'Timor-Leste', 'Thailand', 'Tanzania',\n",
       "       'Tajikistan', 'Syrian Arab Republic', 'Switzerland', 'Sweden',\n",
       "       'Suriname', 'Sudan', 'St. Vincent and the Grenadines', 'St. Lucia',\n",
       "       'St. Kitts and Nevis', 'Sri Lanka', 'Spain', 'South Sudan',\n",
       "       'South Africa', 'Somalia', 'Solomon Islands', 'Slovenia',\n",
       "       'Slovak Republic', 'Singapore', 'Sierra Leone', 'Seychelles',\n",
       "       'Serbia', 'Senegal', 'Saudi Arabia', 'Sao Tome and Principe',\n",
       "       'San Marino', 'Samoa', 'Rwanda', 'Russian Federation', 'Romania',\n",
       "       'Qatar', 'Puerto Rico', 'Portugal', 'Poland', 'Philippines',\n",
       "       'Peru', 'Paraguay', 'Papua New Guinea', 'Panama', 'Palau',\n",
       "       'Pakistan', 'Oman', 'Norway', 'North Macedonia', 'Nigeria',\n",
       "       'Niger', 'Nicaragua', 'New Zealand', 'Netherlands', 'Nepal',\n",
       "       'Namibia', 'Myanmar', 'Mozambique', 'Morocco', 'Montenegro',\n",
       "       'Mongolia', 'Moldova', 'Micronesia, Fed. Sts.', 'Mexico',\n",
       "       'Mauritius', 'Mauritania', 'Marshall Islands', 'Malta', 'Mali',\n",
       "       'Maldives', 'Malaysia', 'Malawi', 'Madagascar', 'Luxembourg',\n",
       "       'Lithuania', 'Liechtenstein', 'Libya', 'Liberia', 'Lesotho',\n",
       "       'Lebanon', 'Latvia', 'Lao PDR', 'Kyrgyz Republic', 'Kuwait',\n",
       "       'Kosovo', 'Korea, Rep.', 'Kiribati', 'Kenya', 'Kazakhstan',\n",
       "       'Jordan', 'Japan', 'Jamaica', 'Italy', 'Israel', 'Ireland', 'Iraq',\n",
       "       'Iran, Islamic Rep.', 'Indonesia', 'India', 'Iceland', 'Hungary',\n",
       "       'Hong Kong SAR, China', 'Honduras', 'Haiti', 'Guyana',\n",
       "       'Guinea-Bissau', 'Guinea', 'Guatemala', 'Grenada', 'Greece',\n",
       "       'Ghana', 'Germany', 'Georgia', 'Gambia, The', 'Gabon', 'France',\n",
       "       'Finland', 'Fiji', 'Ethiopia', 'Eswatini', 'Estonia', 'Eritrea',\n",
       "       'Equatorial Guinea', 'El Salvador', 'Egypt, Arab Rep.', 'Ecuador',\n",
       "       'Dominican Republic', 'Dominica', 'Djibouti', 'Denmark', 'Czechia',\n",
       "       'Cyprus', 'Croatia', \"Cote d'Ivoire\", 'Costa Rica', 'Congo, Rep.',\n",
       "       'Congo, Dem. Rep.', 'Comoros', 'Colombia', 'China', 'Chile',\n",
       "       'Chad', 'Central African Republic', 'Canada', 'Cameroon',\n",
       "       'Cambodia', 'Cabo Verde', 'Burundi', 'Burkina Faso', 'Bulgaria',\n",
       "       'Brunei Darussalam', 'Brazil', 'Botswana',\n",
       "       'Bosnia and Herzegovina', 'Bolivia', 'Bhutan', 'Benin', 'Belize',\n",
       "       'Belgium', 'Belarus', 'Barbados', 'Bangladesh', 'Bahrain',\n",
       "       'Bahamas, The', 'Azerbaijan', 'Austria', 'Australia', 'Armenia',\n",
       "       'Argentina', 'Antigua and Barbuda', 'Angola', 'Algeria', 'Albania',\n",
       "       'Afghanistan', 'World', 'Upper middle income',\n",
       "       'Sub-Saharan Africa (IDA & IBRD countries)',\n",
       "       'Sub-Saharan Africa (excluding high income)', 'Sub-Saharan Africa',\n",
       "       'South Asia (IDA & IBRD)', 'South Asia', 'Small states',\n",
       "       'Pre-demographic dividend', 'Post-demographic dividend',\n",
       "       'Pacific island small states', 'Other small states',\n",
       "       'OECD members', 'North America', 'Middle income',\n",
       "       'Middle East & North Africa (IDA & IBRD countries)',\n",
       "       'Middle East & North Africa (excluding high income)',\n",
       "       'Middle East & North Africa', 'Lower middle income', 'Low income',\n",
       "       'Low & middle income',\n",
       "       'Least developed countries: UN classification',\n",
       "       'Latin America & the Caribbean (IDA & IBRD countries)',\n",
       "       'Latin America & Caribbean (excluding high income)',\n",
       "       'Latin America & Caribbean', 'Late-demographic dividend',\n",
       "       'IDA total', 'IDA only', 'IDA blend', 'IDA & IBRD total',\n",
       "       'IBRD only', 'High income',\n",
       "       'Heavily indebted poor countries (HIPC)',\n",
       "       'Fragile and conflict affected situations', 'European Union',\n",
       "       'Europe & Central Asia (IDA & IBRD countries)',\n",
       "       'Europe & Central Asia (excluding high income)',\n",
       "       'Europe & Central Asia', 'Euro area',\n",
       "       'East Asia & Pacific (IDA & IBRD countries)',\n",
       "       'East Asia & Pacific (excluding high income)',\n",
       "       'East Asia & Pacific', 'Early-demographic dividend',\n",
       "       'Central Europe and the Baltics', 'Caribbean small states',\n",
       "       'Arab World', 'Africa Western and Central',\n",
       "       'Africa Eastern and Southern'], dtype=object)"
      ]
     },
     "execution_count": 83,
     "metadata": {},
     "output_type": "execute_result"
    }
   ],
   "source": [
    "eco_start_business['Country'].unique()"
   ]
  },
  {
   "cell_type": "code",
   "execution_count": 84,
   "metadata": {},
   "outputs": [
    {
     "data": {
      "text/plain": [
       "238"
      ]
     },
     "execution_count": 84,
     "metadata": {},
     "output_type": "execute_result"
    }
   ],
   "source": [
    "eco_start_business['Country'].nunique()"
   ]
  },
  {
   "attachments": {},
   "cell_type": "markdown",
   "metadata": {},
   "source": [
    "---"
   ]
  },
  {
   "attachments": {},
   "cell_type": "markdown",
   "metadata": {},
   "source": [
    "🔹 Conclusions on: **Time required to start a business (days)** <br>\n",
    "\n",
    "* Does not contain duplicates. \n",
    "* Does not contain null values.  \n",
    "* It has most of the years needed. \n",
    "* It has an extra column, called 'time', that will be removed. \n",
    "* The column named 'Time' will be renamed and it's tipe of data will be changed into int. \n",
    "* The column 'economy' will be renamed into 'Country Code'\n",
    "* THe column 'Country' will be renamed into 'Country Name'\n",
    "* It has more unique in 'Country' than needed. "
   ]
  },
  {
   "attachments": {},
   "cell_type": "markdown",
   "metadata": {},
   "source": [
    "---"
   ]
  },
  {
   "attachments": {},
   "cell_type": "markdown",
   "metadata": {},
   "source": [
    "### Exports of goods and services (PCT of GDP)\n",
    "    This dataset shows information related to Value of all goods and other market services provided to the rest of the world. (Exclude: compensation of employees and investment income and transfer payments)"
   ]
  },
  {
   "cell_type": "code",
   "execution_count": 85,
   "metadata": {},
   "outputs": [
    {
     "data": {
      "text/html": [
       "<div>\n",
       "<style scoped>\n",
       "    .dataframe tbody tr th:only-of-type {\n",
       "        vertical-align: middle;\n",
       "    }\n",
       "\n",
       "    .dataframe tbody tr th {\n",
       "        vertical-align: top;\n",
       "    }\n",
       "\n",
       "    .dataframe thead th {\n",
       "        text-align: right;\n",
       "    }\n",
       "</style>\n",
       "<table border=\"1\" class=\"dataframe\">\n",
       "  <thead>\n",
       "    <tr style=\"text-align: right;\">\n",
       "      <th></th>\n",
       "      <th>economy</th>\n",
       "      <th>time</th>\n",
       "      <th>Country</th>\n",
       "      <th>Time</th>\n",
       "      <th>Exports of goods and services (PCT of GDP)</th>\n",
       "    </tr>\n",
       "  </thead>\n",
       "  <tbody>\n",
       "    <tr>\n",
       "      <th>0</th>\n",
       "      <td>ZWE</td>\n",
       "      <td>YR2021</td>\n",
       "      <td>Zimbabwe</td>\n",
       "      <td>2021</td>\n",
       "      <td>25.411446</td>\n",
       "    </tr>\n",
       "    <tr>\n",
       "      <th>1</th>\n",
       "      <td>ZWE</td>\n",
       "      <td>YR2020</td>\n",
       "      <td>Zimbabwe</td>\n",
       "      <td>2020</td>\n",
       "      <td>25.917014</td>\n",
       "    </tr>\n",
       "    <tr>\n",
       "      <th>2</th>\n",
       "      <td>ZWE</td>\n",
       "      <td>YR2019</td>\n",
       "      <td>Zimbabwe</td>\n",
       "      <td>2019</td>\n",
       "      <td>27.163459</td>\n",
       "    </tr>\n",
       "    <tr>\n",
       "      <th>3</th>\n",
       "      <td>ZWE</td>\n",
       "      <td>YR2018</td>\n",
       "      <td>Zimbabwe</td>\n",
       "      <td>2018</td>\n",
       "      <td>26.163973</td>\n",
       "    </tr>\n",
       "    <tr>\n",
       "      <th>4</th>\n",
       "      <td>ZWE</td>\n",
       "      <td>YR2017</td>\n",
       "      <td>Zimbabwe</td>\n",
       "      <td>2017</td>\n",
       "      <td>19.658905</td>\n",
       "    </tr>\n",
       "  </tbody>\n",
       "</table>\n",
       "</div>"
      ],
      "text/plain": [
       "  economy    time   Country  Time  Exports of goods and services (PCT of GDP)\n",
       "0     ZWE  YR2021  Zimbabwe  2021                                   25.411446\n",
       "1     ZWE  YR2020  Zimbabwe  2020                                   25.917014\n",
       "2     ZWE  YR2019  Zimbabwe  2019                                   27.163459\n",
       "3     ZWE  YR2018  Zimbabwe  2018                                   26.163973\n",
       "4     ZWE  YR2017  Zimbabwe  2017                                   19.658905"
      ]
     },
     "execution_count": 85,
     "metadata": {},
     "output_type": "execute_result"
    }
   ],
   "source": [
    "eco_exports.head()"
   ]
  },
  {
   "attachments": {},
   "cell_type": "markdown",
   "metadata": {},
   "source": [
    "We check the size of the dataset: "
   ]
  },
  {
   "cell_type": "code",
   "execution_count": 86,
   "metadata": {},
   "outputs": [
    {
     "data": {
      "text/plain": [
       "(5016, 5)"
      ]
     },
     "execution_count": 86,
     "metadata": {},
     "output_type": "execute_result"
    }
   ],
   "source": [
    "eco_exports.shape"
   ]
  },
  {
   "attachments": {},
   "cell_type": "markdown",
   "metadata": {},
   "source": [
    "We review the amount of null values and the type of data each column has: "
   ]
  },
  {
   "cell_type": "code",
   "execution_count": 87,
   "metadata": {},
   "outputs": [
    {
     "name": "stdout",
     "output_type": "stream",
     "text": [
      "<class 'pandas.core.frame.DataFrame'>\n",
      "RangeIndex: 5016 entries, 0 to 5015\n",
      "Data columns (total 5 columns):\n",
      " #   Column                                      Non-Null Count  Dtype  \n",
      "---  ------                                      --------------  -----  \n",
      " 0   economy                                     5016 non-null   object \n",
      " 1   time                                        5016 non-null   object \n",
      " 2   Country                                     5016 non-null   object \n",
      " 3   Time                                        5016 non-null   object \n",
      " 4   Exports of goods and services (PCT of GDP)  5016 non-null   float64\n",
      "dtypes: float64(1), object(4)\n",
      "memory usage: 196.1+ KB\n"
     ]
    }
   ],
   "source": [
    "eco_exports.info()"
   ]
  },
  {
   "cell_type": "code",
   "execution_count": 88,
   "metadata": {},
   "outputs": [
    {
     "data": {
      "text/html": [
       "<div>\n",
       "<style scoped>\n",
       "    .dataframe tbody tr th:only-of-type {\n",
       "        vertical-align: middle;\n",
       "    }\n",
       "\n",
       "    .dataframe tbody tr th {\n",
       "        vertical-align: top;\n",
       "    }\n",
       "\n",
       "    .dataframe thead th {\n",
       "        text-align: right;\n",
       "    }\n",
       "</style>\n",
       "<table border=\"1\" class=\"dataframe\">\n",
       "  <thead>\n",
       "    <tr style=\"text-align: right;\">\n",
       "      <th></th>\n",
       "      <th>Exports of goods and services (PCT of GDP)</th>\n",
       "    </tr>\n",
       "  </thead>\n",
       "  <tbody>\n",
       "    <tr>\n",
       "      <th>count</th>\n",
       "      <td>5016.000000</td>\n",
       "    </tr>\n",
       "    <tr>\n",
       "      <th>mean</th>\n",
       "      <td>40.169382</td>\n",
       "    </tr>\n",
       "    <tr>\n",
       "      <th>std</th>\n",
       "      <td>29.618884</td>\n",
       "    </tr>\n",
       "    <tr>\n",
       "      <th>min</th>\n",
       "      <td>0.459601</td>\n",
       "    </tr>\n",
       "    <tr>\n",
       "      <th>25%</th>\n",
       "      <td>23.235476</td>\n",
       "    </tr>\n",
       "    <tr>\n",
       "      <th>50%</th>\n",
       "      <td>32.113721</td>\n",
       "    </tr>\n",
       "    <tr>\n",
       "      <th>75%</th>\n",
       "      <td>48.868684</td>\n",
       "    </tr>\n",
       "    <tr>\n",
       "      <th>max</th>\n",
       "      <td>433.836004</td>\n",
       "    </tr>\n",
       "  </tbody>\n",
       "</table>\n",
       "</div>"
      ],
      "text/plain": [
       "       Exports of goods and services (PCT of GDP)\n",
       "count                                 5016.000000\n",
       "mean                                    40.169382\n",
       "std                                     29.618884\n",
       "min                                      0.459601\n",
       "25%                                     23.235476\n",
       "50%                                     32.113721\n",
       "75%                                     48.868684\n",
       "max                                    433.836004"
      ]
     },
     "execution_count": 88,
     "metadata": {},
     "output_type": "execute_result"
    }
   ],
   "source": [
    "eco_exports.describe()"
   ]
  },
  {
   "attachments": {},
   "cell_type": "markdown",
   "metadata": {},
   "source": [
    "We check for duplicates: "
   ]
  },
  {
   "cell_type": "code",
   "execution_count": 89,
   "metadata": {},
   "outputs": [
    {
     "data": {
      "text/html": [
       "<div>\n",
       "<style scoped>\n",
       "    .dataframe tbody tr th:only-of-type {\n",
       "        vertical-align: middle;\n",
       "    }\n",
       "\n",
       "    .dataframe tbody tr th {\n",
       "        vertical-align: top;\n",
       "    }\n",
       "\n",
       "    .dataframe thead th {\n",
       "        text-align: right;\n",
       "    }\n",
       "</style>\n",
       "<table border=\"1\" class=\"dataframe\">\n",
       "  <thead>\n",
       "    <tr style=\"text-align: right;\">\n",
       "      <th></th>\n",
       "      <th>economy</th>\n",
       "      <th>time</th>\n",
       "      <th>Country</th>\n",
       "      <th>Time</th>\n",
       "      <th>Exports of goods and services (PCT of GDP)</th>\n",
       "    </tr>\n",
       "  </thead>\n",
       "  <tbody>\n",
       "  </tbody>\n",
       "</table>\n",
       "</div>"
      ],
      "text/plain": [
       "Empty DataFrame\n",
       "Columns: [economy, time, Country, Time, Exports of goods and services (PCT of GDP)]\n",
       "Index: []"
      ]
     },
     "execution_count": 89,
     "metadata": {},
     "output_type": "execute_result"
    }
   ],
   "source": [
    "eco_exports[eco_exports.duplicated(subset=['Country', 'Time'])]"
   ]
  },
  {
   "attachments": {},
   "cell_type": "markdown",
   "metadata": {},
   "source": [
    "We check it has the years needed:"
   ]
  },
  {
   "cell_type": "code",
   "execution_count": 90,
   "metadata": {},
   "outputs": [
    {
     "data": {
      "text/plain": [
       "array(['2021', '2020', '2019', '2018', '2017', '2016', '2015', '2014',\n",
       "       '2013', '2012', '2011', '2010', '2009', '2008', '2007', '2006',\n",
       "       '2005', '2004', '2003', '2002', '2001', '2000'], dtype=object)"
      ]
     },
     "execution_count": 90,
     "metadata": {},
     "output_type": "execute_result"
    }
   ],
   "source": [
    "eco_exports['Time'].unique()"
   ]
  },
  {
   "attachments": {},
   "cell_type": "markdown",
   "metadata": {},
   "source": [
    "We check the amount of countries and which onces it has:"
   ]
  },
  {
   "cell_type": "code",
   "execution_count": 91,
   "metadata": {},
   "outputs": [
    {
     "data": {
      "text/plain": [
       "array(['Zimbabwe', 'Zambia', 'Yemen, Rep.', 'West Bank and Gaza',\n",
       "       'Virgin Islands (U.S.)', 'Vietnam', 'Venezuela, RB', 'Vanuatu',\n",
       "       'Uzbekistan', 'Uruguay', 'United States', 'United Kingdom',\n",
       "       'United Arab Emirates', 'Ukraine', 'Uganda', 'Turkmenistan',\n",
       "       'Turkiye', 'Tunisia', 'Tonga', 'Togo', 'Timor-Leste', 'Thailand',\n",
       "       'Tanzania', 'Tajikistan', 'Syrian Arab Republic', 'Switzerland',\n",
       "       'Sweden', 'Suriname', 'Sudan', 'Sri Lanka', 'Spain', 'South Sudan',\n",
       "       'South Africa', 'Somalia', 'Solomon Islands', 'Slovenia',\n",
       "       'Slovak Republic', 'Sint Maarten (Dutch part)', 'Singapore',\n",
       "       'Sierra Leone', 'Seychelles', 'Serbia', 'Senegal', 'Saudi Arabia',\n",
       "       'San Marino', 'Samoa', 'Rwanda', 'Russian Federation', 'Romania',\n",
       "       'Qatar', 'Puerto Rico', 'Portugal', 'Poland', 'Philippines',\n",
       "       'Peru', 'Paraguay', 'Papua New Guinea', 'Panama', 'Pakistan',\n",
       "       'Oman', 'Norway', 'Northern Mariana Islands', 'North Macedonia',\n",
       "       'Nigeria', 'Niger', 'Nicaragua', 'New Zealand', 'New Caledonia',\n",
       "       'Netherlands', 'Nepal', 'Nauru', 'Namibia', 'Myanmar',\n",
       "       'Mozambique', 'Morocco', 'Montenegro', 'Mongolia', 'Moldova',\n",
       "       'Micronesia, Fed. Sts.', 'Mexico', 'Mauritius', 'Mauritania',\n",
       "       'Marshall Islands', 'Malta', 'Mali', 'Maldives', 'Malaysia',\n",
       "       'Madagascar', 'Macao SAR, China', 'Luxembourg', 'Lithuania',\n",
       "       'Libya', 'Lesotho', 'Lebanon', 'Latvia', 'Lao PDR',\n",
       "       'Kyrgyz Republic', 'Kuwait', 'Kosovo', 'Korea, Rep.', 'Kiribati',\n",
       "       'Kenya', 'Kazakhstan', 'Jordan', 'Japan', 'Jamaica', 'Italy',\n",
       "       'Israel', 'Ireland', 'Iraq', 'Iran, Islamic Rep.', 'Indonesia',\n",
       "       'India', 'Iceland', 'Hungary', 'Hong Kong SAR, China', 'Honduras',\n",
       "       'Haiti', 'Guyana', 'Guinea-Bissau', 'Guinea', 'Guatemala', 'Guam',\n",
       "       'Greenland', 'Greece', 'Ghana', 'Germany', 'Georgia',\n",
       "       'Gambia, The', 'Gabon', 'French Polynesia', 'France', 'Finland',\n",
       "       'Fiji', 'Faroe Islands', 'Ethiopia', 'Eswatini', 'Estonia',\n",
       "       'Eritrea', 'Equatorial Guinea', 'El Salvador', 'Egypt, Arab Rep.',\n",
       "       'Ecuador', 'Dominican Republic', 'Dominica', 'Djibouti', 'Denmark',\n",
       "       'Czechia', 'Cyprus', 'Curacao', 'Cuba', 'Croatia', \"Cote d'Ivoire\",\n",
       "       'Costa Rica', 'Congo, Rep.', 'Congo, Dem. Rep.', 'Comoros',\n",
       "       'Colombia', 'China', 'Chile', 'Chad', 'Central African Republic',\n",
       "       'Cayman Islands', 'Canada', 'Cameroon', 'Cambodia', 'Cabo Verde',\n",
       "       'Burundi', 'Burkina Faso', 'Bulgaria', 'Brunei Darussalam',\n",
       "       'Brazil', 'Botswana', 'Bosnia and Herzegovina', 'Bolivia',\n",
       "       'Bhutan', 'Bermuda', 'Benin', 'Belize', 'Belgium', 'Belarus',\n",
       "       'Barbados', 'Bangladesh', 'Bahrain', 'Bahamas, The', 'Azerbaijan',\n",
       "       'Austria', 'Australia', 'Aruba', 'Armenia', 'Argentina',\n",
       "       'Antigua and Barbuda', 'Angola', 'American Samoa', 'Algeria',\n",
       "       'Albania', 'World', 'Upper middle income',\n",
       "       'Sub-Saharan Africa (IDA & IBRD countries)',\n",
       "       'Sub-Saharan Africa (excluding high income)', 'Sub-Saharan Africa',\n",
       "       'South Asia (IDA & IBRD)', 'South Asia', 'Small states',\n",
       "       'Pre-demographic dividend', 'Post-demographic dividend',\n",
       "       'Pacific island small states', 'Other small states',\n",
       "       'OECD members', 'North America', 'Middle income',\n",
       "       'Middle East & North Africa (IDA & IBRD countries)',\n",
       "       'Middle East & North Africa (excluding high income)',\n",
       "       'Middle East & North Africa', 'Lower middle income', 'Low income',\n",
       "       'Low & middle income',\n",
       "       'Least developed countries: UN classification',\n",
       "       'Latin America & the Caribbean (IDA & IBRD countries)',\n",
       "       'Latin America & Caribbean (excluding high income)',\n",
       "       'Latin America & Caribbean', 'Late-demographic dividend',\n",
       "       'IDA total', 'IDA only', 'IDA blend', 'IDA & IBRD total',\n",
       "       'IBRD only', 'High income',\n",
       "       'Heavily indebted poor countries (HIPC)',\n",
       "       'Fragile and conflict affected situations', 'European Union',\n",
       "       'Europe & Central Asia (IDA & IBRD countries)',\n",
       "       'Europe & Central Asia (excluding high income)',\n",
       "       'Europe & Central Asia', 'Euro area',\n",
       "       'East Asia & Pacific (IDA & IBRD countries)',\n",
       "       'East Asia & Pacific (excluding high income)',\n",
       "       'East Asia & Pacific', 'Early-demographic dividend',\n",
       "       'Central Europe and the Baltics', 'Arab World',\n",
       "       'Africa Western and Central', 'Africa Eastern and Southern'],\n",
       "      dtype=object)"
      ]
     },
     "execution_count": 91,
     "metadata": {},
     "output_type": "execute_result"
    }
   ],
   "source": [
    "eco_exports['Country'].unique()"
   ]
  },
  {
   "cell_type": "code",
   "execution_count": 92,
   "metadata": {},
   "outputs": [
    {
     "data": {
      "text/plain": [
       "243"
      ]
     },
     "execution_count": 92,
     "metadata": {},
     "output_type": "execute_result"
    }
   ],
   "source": [
    "eco_exports['Country'].nunique()"
   ]
  },
  {
   "attachments": {},
   "cell_type": "markdown",
   "metadata": {},
   "source": [
    "---"
   ]
  },
  {
   "attachments": {},
   "cell_type": "markdown",
   "metadata": {},
   "source": [
    "🔹 Conclusions on: **Exports of goods and services (PCT of GDP)** <br>\n",
    "\n",
    "* Does not contain duplicates. \n",
    "* Does not contain null values.  \n",
    "* It has all the years needed. \n",
    "* It has an extra column, called 'time', that will be removed. \n",
    "* The column named 'Time' will be renamed and it's tipe of data will be changed into int. \n",
    "* The column 'economy' will be renamed into 'Country Code'\n",
    "* THe column 'Country' will be renamed into 'Country Name'\n",
    "* It has more unique in 'Country' than needed. "
   ]
  },
  {
   "attachments": {},
   "cell_type": "markdown",
   "metadata": {},
   "source": [
    "---"
   ]
  },
  {
   "attachments": {},
   "cell_type": "markdown",
   "metadata": {},
   "source": [
    "### Imports of goods and services (PCT of GDP)\n",
    "    This dataset shows information related to Value of all goods and other market services provided to the rest of the world. (Exclude: compensation of employees and investment income and transfer payments)"
   ]
  },
  {
   "cell_type": "code",
   "execution_count": 93,
   "metadata": {},
   "outputs": [
    {
     "data": {
      "text/html": [
       "<div>\n",
       "<style scoped>\n",
       "    .dataframe tbody tr th:only-of-type {\n",
       "        vertical-align: middle;\n",
       "    }\n",
       "\n",
       "    .dataframe tbody tr th {\n",
       "        vertical-align: top;\n",
       "    }\n",
       "\n",
       "    .dataframe thead th {\n",
       "        text-align: right;\n",
       "    }\n",
       "</style>\n",
       "<table border=\"1\" class=\"dataframe\">\n",
       "  <thead>\n",
       "    <tr style=\"text-align: right;\">\n",
       "      <th></th>\n",
       "      <th>economy</th>\n",
       "      <th>time</th>\n",
       "      <th>Country</th>\n",
       "      <th>Time</th>\n",
       "      <th>Exports of goods and services (PCT of GDP)</th>\n",
       "    </tr>\n",
       "  </thead>\n",
       "  <tbody>\n",
       "    <tr>\n",
       "      <th>0</th>\n",
       "      <td>ZWE</td>\n",
       "      <td>YR2021</td>\n",
       "      <td>Zimbabwe</td>\n",
       "      <td>2021</td>\n",
       "      <td>25.411446</td>\n",
       "    </tr>\n",
       "    <tr>\n",
       "      <th>1</th>\n",
       "      <td>ZWE</td>\n",
       "      <td>YR2020</td>\n",
       "      <td>Zimbabwe</td>\n",
       "      <td>2020</td>\n",
       "      <td>25.917014</td>\n",
       "    </tr>\n",
       "    <tr>\n",
       "      <th>2</th>\n",
       "      <td>ZWE</td>\n",
       "      <td>YR2019</td>\n",
       "      <td>Zimbabwe</td>\n",
       "      <td>2019</td>\n",
       "      <td>27.163459</td>\n",
       "    </tr>\n",
       "    <tr>\n",
       "      <th>3</th>\n",
       "      <td>ZWE</td>\n",
       "      <td>YR2018</td>\n",
       "      <td>Zimbabwe</td>\n",
       "      <td>2018</td>\n",
       "      <td>26.163973</td>\n",
       "    </tr>\n",
       "    <tr>\n",
       "      <th>4</th>\n",
       "      <td>ZWE</td>\n",
       "      <td>YR2017</td>\n",
       "      <td>Zimbabwe</td>\n",
       "      <td>2017</td>\n",
       "      <td>19.658905</td>\n",
       "    </tr>\n",
       "  </tbody>\n",
       "</table>\n",
       "</div>"
      ],
      "text/plain": [
       "  economy    time   Country  Time  Exports of goods and services (PCT of GDP)\n",
       "0     ZWE  YR2021  Zimbabwe  2021                                   25.411446\n",
       "1     ZWE  YR2020  Zimbabwe  2020                                   25.917014\n",
       "2     ZWE  YR2019  Zimbabwe  2019                                   27.163459\n",
       "3     ZWE  YR2018  Zimbabwe  2018                                   26.163973\n",
       "4     ZWE  YR2017  Zimbabwe  2017                                   19.658905"
      ]
     },
     "execution_count": 93,
     "metadata": {},
     "output_type": "execute_result"
    }
   ],
   "source": [
    "eco_exports.head()"
   ]
  },
  {
   "attachments": {},
   "cell_type": "markdown",
   "metadata": {},
   "source": [
    "We check the size of the dataset: "
   ]
  },
  {
   "cell_type": "code",
   "execution_count": 94,
   "metadata": {},
   "outputs": [
    {
     "data": {
      "text/plain": [
       "(5016, 5)"
      ]
     },
     "execution_count": 94,
     "metadata": {},
     "output_type": "execute_result"
    }
   ],
   "source": [
    "eco_exports.shape"
   ]
  },
  {
   "attachments": {},
   "cell_type": "markdown",
   "metadata": {},
   "source": [
    "We review the amount of null values and the type of data each column has:"
   ]
  },
  {
   "cell_type": "code",
   "execution_count": 95,
   "metadata": {},
   "outputs": [
    {
     "name": "stdout",
     "output_type": "stream",
     "text": [
      "<class 'pandas.core.frame.DataFrame'>\n",
      "RangeIndex: 5016 entries, 0 to 5015\n",
      "Data columns (total 5 columns):\n",
      " #   Column                                      Non-Null Count  Dtype  \n",
      "---  ------                                      --------------  -----  \n",
      " 0   economy                                     5016 non-null   object \n",
      " 1   time                                        5016 non-null   object \n",
      " 2   Country                                     5016 non-null   object \n",
      " 3   Time                                        5016 non-null   object \n",
      " 4   Exports of goods and services (PCT of GDP)  5016 non-null   float64\n",
      "dtypes: float64(1), object(4)\n",
      "memory usage: 196.1+ KB\n"
     ]
    }
   ],
   "source": [
    "eco_exports.info()"
   ]
  },
  {
   "cell_type": "code",
   "execution_count": 96,
   "metadata": {},
   "outputs": [
    {
     "data": {
      "text/html": [
       "<div>\n",
       "<style scoped>\n",
       "    .dataframe tbody tr th:only-of-type {\n",
       "        vertical-align: middle;\n",
       "    }\n",
       "\n",
       "    .dataframe tbody tr th {\n",
       "        vertical-align: top;\n",
       "    }\n",
       "\n",
       "    .dataframe thead th {\n",
       "        text-align: right;\n",
       "    }\n",
       "</style>\n",
       "<table border=\"1\" class=\"dataframe\">\n",
       "  <thead>\n",
       "    <tr style=\"text-align: right;\">\n",
       "      <th></th>\n",
       "      <th>Exports of goods and services (PCT of GDP)</th>\n",
       "    </tr>\n",
       "  </thead>\n",
       "  <tbody>\n",
       "    <tr>\n",
       "      <th>count</th>\n",
       "      <td>5016.000000</td>\n",
       "    </tr>\n",
       "    <tr>\n",
       "      <th>mean</th>\n",
       "      <td>40.169382</td>\n",
       "    </tr>\n",
       "    <tr>\n",
       "      <th>std</th>\n",
       "      <td>29.618884</td>\n",
       "    </tr>\n",
       "    <tr>\n",
       "      <th>min</th>\n",
       "      <td>0.459601</td>\n",
       "    </tr>\n",
       "    <tr>\n",
       "      <th>25%</th>\n",
       "      <td>23.235476</td>\n",
       "    </tr>\n",
       "    <tr>\n",
       "      <th>50%</th>\n",
       "      <td>32.113721</td>\n",
       "    </tr>\n",
       "    <tr>\n",
       "      <th>75%</th>\n",
       "      <td>48.868684</td>\n",
       "    </tr>\n",
       "    <tr>\n",
       "      <th>max</th>\n",
       "      <td>433.836004</td>\n",
       "    </tr>\n",
       "  </tbody>\n",
       "</table>\n",
       "</div>"
      ],
      "text/plain": [
       "       Exports of goods and services (PCT of GDP)\n",
       "count                                 5016.000000\n",
       "mean                                    40.169382\n",
       "std                                     29.618884\n",
       "min                                      0.459601\n",
       "25%                                     23.235476\n",
       "50%                                     32.113721\n",
       "75%                                     48.868684\n",
       "max                                    433.836004"
      ]
     },
     "execution_count": 96,
     "metadata": {},
     "output_type": "execute_result"
    }
   ],
   "source": [
    "eco_exports.describe()"
   ]
  },
  {
   "attachments": {},
   "cell_type": "markdown",
   "metadata": {},
   "source": [
    "We check for duplicates: "
   ]
  },
  {
   "cell_type": "code",
   "execution_count": 97,
   "metadata": {},
   "outputs": [
    {
     "data": {
      "text/html": [
       "<div>\n",
       "<style scoped>\n",
       "    .dataframe tbody tr th:only-of-type {\n",
       "        vertical-align: middle;\n",
       "    }\n",
       "\n",
       "    .dataframe tbody tr th {\n",
       "        vertical-align: top;\n",
       "    }\n",
       "\n",
       "    .dataframe thead th {\n",
       "        text-align: right;\n",
       "    }\n",
       "</style>\n",
       "<table border=\"1\" class=\"dataframe\">\n",
       "  <thead>\n",
       "    <tr style=\"text-align: right;\">\n",
       "      <th></th>\n",
       "      <th>economy</th>\n",
       "      <th>time</th>\n",
       "      <th>Country</th>\n",
       "      <th>Time</th>\n",
       "      <th>Exports of goods and services (PCT of GDP)</th>\n",
       "    </tr>\n",
       "  </thead>\n",
       "  <tbody>\n",
       "  </tbody>\n",
       "</table>\n",
       "</div>"
      ],
      "text/plain": [
       "Empty DataFrame\n",
       "Columns: [economy, time, Country, Time, Exports of goods and services (PCT of GDP)]\n",
       "Index: []"
      ]
     },
     "execution_count": 97,
     "metadata": {},
     "output_type": "execute_result"
    }
   ],
   "source": [
    "eco_exports[eco_exports.duplicated(subset=['Country', 'Time'])]"
   ]
  },
  {
   "attachments": {},
   "cell_type": "markdown",
   "metadata": {},
   "source": [
    "We check it has the years needed:"
   ]
  },
  {
   "cell_type": "code",
   "execution_count": 98,
   "metadata": {},
   "outputs": [
    {
     "data": {
      "text/plain": [
       "array(['2021', '2020', '2019', '2018', '2017', '2016', '2015', '2014',\n",
       "       '2013', '2012', '2011', '2010', '2009', '2008', '2007', '2006',\n",
       "       '2005', '2004', '2003', '2002', '2001', '2000'], dtype=object)"
      ]
     },
     "execution_count": 98,
     "metadata": {},
     "output_type": "execute_result"
    }
   ],
   "source": [
    "eco_exports['Time'].unique()"
   ]
  },
  {
   "attachments": {},
   "cell_type": "markdown",
   "metadata": {},
   "source": [
    "We check the amount of countries and which onces it has:"
   ]
  },
  {
   "cell_type": "code",
   "execution_count": 99,
   "metadata": {},
   "outputs": [
    {
     "data": {
      "text/plain": [
       "array(['Zimbabwe', 'Zambia', 'Yemen, Rep.', 'West Bank and Gaza',\n",
       "       'Virgin Islands (U.S.)', 'Vietnam', 'Venezuela, RB', 'Vanuatu',\n",
       "       'Uzbekistan', 'Uruguay', 'United States', 'United Kingdom',\n",
       "       'United Arab Emirates', 'Ukraine', 'Uganda', 'Turkmenistan',\n",
       "       'Turkiye', 'Tunisia', 'Tonga', 'Togo', 'Timor-Leste', 'Thailand',\n",
       "       'Tanzania', 'Tajikistan', 'Syrian Arab Republic', 'Switzerland',\n",
       "       'Sweden', 'Suriname', 'Sudan', 'Sri Lanka', 'Spain', 'South Sudan',\n",
       "       'South Africa', 'Somalia', 'Solomon Islands', 'Slovenia',\n",
       "       'Slovak Republic', 'Sint Maarten (Dutch part)', 'Singapore',\n",
       "       'Sierra Leone', 'Seychelles', 'Serbia', 'Senegal', 'Saudi Arabia',\n",
       "       'San Marino', 'Samoa', 'Rwanda', 'Russian Federation', 'Romania',\n",
       "       'Qatar', 'Puerto Rico', 'Portugal', 'Poland', 'Philippines',\n",
       "       'Peru', 'Paraguay', 'Papua New Guinea', 'Panama', 'Pakistan',\n",
       "       'Oman', 'Norway', 'Northern Mariana Islands', 'North Macedonia',\n",
       "       'Nigeria', 'Niger', 'Nicaragua', 'New Zealand', 'New Caledonia',\n",
       "       'Netherlands', 'Nepal', 'Nauru', 'Namibia', 'Myanmar',\n",
       "       'Mozambique', 'Morocco', 'Montenegro', 'Mongolia', 'Moldova',\n",
       "       'Micronesia, Fed. Sts.', 'Mexico', 'Mauritius', 'Mauritania',\n",
       "       'Marshall Islands', 'Malta', 'Mali', 'Maldives', 'Malaysia',\n",
       "       'Madagascar', 'Macao SAR, China', 'Luxembourg', 'Lithuania',\n",
       "       'Libya', 'Lesotho', 'Lebanon', 'Latvia', 'Lao PDR',\n",
       "       'Kyrgyz Republic', 'Kuwait', 'Kosovo', 'Korea, Rep.', 'Kiribati',\n",
       "       'Kenya', 'Kazakhstan', 'Jordan', 'Japan', 'Jamaica', 'Italy',\n",
       "       'Israel', 'Ireland', 'Iraq', 'Iran, Islamic Rep.', 'Indonesia',\n",
       "       'India', 'Iceland', 'Hungary', 'Hong Kong SAR, China', 'Honduras',\n",
       "       'Haiti', 'Guyana', 'Guinea-Bissau', 'Guinea', 'Guatemala', 'Guam',\n",
       "       'Greenland', 'Greece', 'Ghana', 'Germany', 'Georgia',\n",
       "       'Gambia, The', 'Gabon', 'French Polynesia', 'France', 'Finland',\n",
       "       'Fiji', 'Faroe Islands', 'Ethiopia', 'Eswatini', 'Estonia',\n",
       "       'Eritrea', 'Equatorial Guinea', 'El Salvador', 'Egypt, Arab Rep.',\n",
       "       'Ecuador', 'Dominican Republic', 'Dominica', 'Djibouti', 'Denmark',\n",
       "       'Czechia', 'Cyprus', 'Curacao', 'Cuba', 'Croatia', \"Cote d'Ivoire\",\n",
       "       'Costa Rica', 'Congo, Rep.', 'Congo, Dem. Rep.', 'Comoros',\n",
       "       'Colombia', 'China', 'Chile', 'Chad', 'Central African Republic',\n",
       "       'Cayman Islands', 'Canada', 'Cameroon', 'Cambodia', 'Cabo Verde',\n",
       "       'Burundi', 'Burkina Faso', 'Bulgaria', 'Brunei Darussalam',\n",
       "       'Brazil', 'Botswana', 'Bosnia and Herzegovina', 'Bolivia',\n",
       "       'Bhutan', 'Bermuda', 'Benin', 'Belize', 'Belgium', 'Belarus',\n",
       "       'Barbados', 'Bangladesh', 'Bahrain', 'Bahamas, The', 'Azerbaijan',\n",
       "       'Austria', 'Australia', 'Aruba', 'Armenia', 'Argentina',\n",
       "       'Antigua and Barbuda', 'Angola', 'American Samoa', 'Algeria',\n",
       "       'Albania', 'World', 'Upper middle income',\n",
       "       'Sub-Saharan Africa (IDA & IBRD countries)',\n",
       "       'Sub-Saharan Africa (excluding high income)', 'Sub-Saharan Africa',\n",
       "       'South Asia (IDA & IBRD)', 'South Asia', 'Small states',\n",
       "       'Pre-demographic dividend', 'Post-demographic dividend',\n",
       "       'Pacific island small states', 'Other small states',\n",
       "       'OECD members', 'North America', 'Middle income',\n",
       "       'Middle East & North Africa (IDA & IBRD countries)',\n",
       "       'Middle East & North Africa (excluding high income)',\n",
       "       'Middle East & North Africa', 'Lower middle income', 'Low income',\n",
       "       'Low & middle income',\n",
       "       'Least developed countries: UN classification',\n",
       "       'Latin America & the Caribbean (IDA & IBRD countries)',\n",
       "       'Latin America & Caribbean (excluding high income)',\n",
       "       'Latin America & Caribbean', 'Late-demographic dividend',\n",
       "       'IDA total', 'IDA only', 'IDA blend', 'IDA & IBRD total',\n",
       "       'IBRD only', 'High income',\n",
       "       'Heavily indebted poor countries (HIPC)',\n",
       "       'Fragile and conflict affected situations', 'European Union',\n",
       "       'Europe & Central Asia (IDA & IBRD countries)',\n",
       "       'Europe & Central Asia (excluding high income)',\n",
       "       'Europe & Central Asia', 'Euro area',\n",
       "       'East Asia & Pacific (IDA & IBRD countries)',\n",
       "       'East Asia & Pacific (excluding high income)',\n",
       "       'East Asia & Pacific', 'Early-demographic dividend',\n",
       "       'Central Europe and the Baltics', 'Arab World',\n",
       "       'Africa Western and Central', 'Africa Eastern and Southern'],\n",
       "      dtype=object)"
      ]
     },
     "execution_count": 99,
     "metadata": {},
     "output_type": "execute_result"
    }
   ],
   "source": [
    "eco_exports['Country'].unique()"
   ]
  },
  {
   "cell_type": "code",
   "execution_count": 100,
   "metadata": {},
   "outputs": [
    {
     "data": {
      "text/plain": [
       "243"
      ]
     },
     "execution_count": 100,
     "metadata": {},
     "output_type": "execute_result"
    }
   ],
   "source": [
    "eco_exports['Country'].nunique()"
   ]
  },
  {
   "attachments": {},
   "cell_type": "markdown",
   "metadata": {},
   "source": [
    "---"
   ]
  },
  {
   "attachments": {},
   "cell_type": "markdown",
   "metadata": {},
   "source": [
    "🔹 Conclusions on: **Total tax and contribution rate (PCT of profit)** <br>\n",
    "\n",
    "* Does not contain duplicates. \n",
    "* Does not contain null values.  \n",
    "* It has all the years needed. \n",
    "* It has an extra column, called 'time', that will be removed. \n",
    "* The column named 'Time' will be renamed and it's tipe of data will be changed into int. \n",
    "* The column 'economy' will be renamed into 'Country Code'\n",
    "* THe column 'Country' will be renamed into 'Country Name'\n",
    "* It has more unique in 'Country' than needed."
   ]
  },
  {
   "attachments": {},
   "cell_type": "markdown",
   "metadata": {},
   "source": [
    "---"
   ]
  },
  {
   "attachments": {},
   "cell_type": "markdown",
   "metadata": {},
   "source": [
    "## General conclusions on Economy: \n",
    "    All of the economic related databases look exactly the same. \n",
    "    They are clean enough to start working on them. "
   ]
  },
  {
   "attachments": {},
   "cell_type": "markdown",
   "metadata": {},
   "source": [
    "---"
   ]
  },
  {
   "attachments": {},
   "cell_type": "markdown",
   "metadata": {},
   "source": [
    "## ⟐ People:\n",
    "•\tGovernment expenditure on education, total (% of GDP)<br>\n",
    "•\tUnemployment, total (% of total labor force)<br>\n",
    "•\tPrimary completion rate, total (PCT of relevant age group)<br>\n",
    "•\tIntentional homicides (per 100,000 people)<br>"
   ]
  },
  {
   "attachments": {},
   "cell_type": "markdown",
   "metadata": {},
   "source": [
    "We load the databases into variables:"
   ]
  },
  {
   "cell_type": "code",
   "execution_count": 4,
   "metadata": {},
   "outputs": [],
   "source": [
    "# Government expenditure on education\n",
    "peo_gover_exp = wb.data.DataFrame('SE.XPD.TOTL.GD.ZS', labels = True, time=range(2000, year), skipBlanks=True, columns='series').reset_index()\n",
    "peo_gover_exp.rename(columns={'SE.XPD.TOTL.GD.ZS': 'Expenditure Education'}, inplace=True)\n",
    "\n",
    "# Unemployment, total (% of total labor force)\n",
    "peo_unemploy = wb.data.DataFrame('SL.UEM.TOTL.ZS', labels = True, time=range(2000, year), skipBlanks=True, columns='series').reset_index()\n",
    "peo_unemploy.rename(columns={'SL.UEM.TOTL.ZS': 'Unemployment'}, inplace=True)\n",
    "\n",
    "# Primary completion rate, total (PCT of relevant age group)\n",
    "peo_primary = wb.data.DataFrame('SE.PRM.CMPT.ZS', labels = True, time=range(2000, year), skipBlanks=True, columns='series').reset_index()\n",
    "peo_primary.rename(columns={'SE.PRM.CMPT.ZS': 'Primary completion rate, total (PCT of relevant age group)'}, inplace=True)\n",
    "\n",
    "# Intentional homicides (per 100,000 people)\n",
    "peo_homicides = wb.data.DataFrame('VC.IHR.PSRC.P5', labels = True, time=range(2000, year), skipBlanks=True, columns='series').reset_index()\n",
    "peo_homicides.rename(columns={'VC.IHR.PSRC.P5': 'Intentional homicides (per 100,000 people)'}, inplace=True)"
   ]
  },
  {
   "attachments": {},
   "cell_type": "markdown",
   "metadata": {},
   "source": [
    "---"
   ]
  },
  {
   "attachments": {},
   "cell_type": "markdown",
   "metadata": {},
   "source": [
    "We start checking the basics of each one of them: "
   ]
  },
  {
   "attachments": {},
   "cell_type": "markdown",
   "metadata": {},
   "source": [
    "### Government expenditure on education, total (% of GDP)\n",
    "    This database shows the information related to General government expenditure on education expressed as a percentage of GDP. total (% of GDP)"
   ]
  },
  {
   "cell_type": "code",
   "execution_count": 102,
   "metadata": {},
   "outputs": [
    {
     "data": {
      "text/html": [
       "<div>\n",
       "<style scoped>\n",
       "    .dataframe tbody tr th:only-of-type {\n",
       "        vertical-align: middle;\n",
       "    }\n",
       "\n",
       "    .dataframe tbody tr th {\n",
       "        vertical-align: top;\n",
       "    }\n",
       "\n",
       "    .dataframe thead th {\n",
       "        text-align: right;\n",
       "    }\n",
       "</style>\n",
       "<table border=\"1\" class=\"dataframe\">\n",
       "  <thead>\n",
       "    <tr style=\"text-align: right;\">\n",
       "      <th></th>\n",
       "      <th>economy</th>\n",
       "      <th>time</th>\n",
       "      <th>Country</th>\n",
       "      <th>Time</th>\n",
       "      <th>Expenditure Education</th>\n",
       "    </tr>\n",
       "  </thead>\n",
       "  <tbody>\n",
       "    <tr>\n",
       "      <th>0</th>\n",
       "      <td>ZWE</td>\n",
       "      <td>YR2018</td>\n",
       "      <td>Zimbabwe</td>\n",
       "      <td>2018</td>\n",
       "      <td>3.86611</td>\n",
       "    </tr>\n",
       "    <tr>\n",
       "      <th>1</th>\n",
       "      <td>ZWE</td>\n",
       "      <td>YR2017</td>\n",
       "      <td>Zimbabwe</td>\n",
       "      <td>2017</td>\n",
       "      <td>5.81878</td>\n",
       "    </tr>\n",
       "    <tr>\n",
       "      <th>2</th>\n",
       "      <td>ZWE</td>\n",
       "      <td>YR2016</td>\n",
       "      <td>Zimbabwe</td>\n",
       "      <td>2016</td>\n",
       "      <td>5.47262</td>\n",
       "    </tr>\n",
       "    <tr>\n",
       "      <th>3</th>\n",
       "      <td>ZWE</td>\n",
       "      <td>YR2015</td>\n",
       "      <td>Zimbabwe</td>\n",
       "      <td>2015</td>\n",
       "      <td>5.81279</td>\n",
       "    </tr>\n",
       "    <tr>\n",
       "      <th>4</th>\n",
       "      <td>ZWE</td>\n",
       "      <td>YR2014</td>\n",
       "      <td>Zimbabwe</td>\n",
       "      <td>2014</td>\n",
       "      <td>6.13835</td>\n",
       "    </tr>\n",
       "  </tbody>\n",
       "</table>\n",
       "</div>"
      ],
      "text/plain": [
       "  economy    time   Country  Time  Expenditure Education\n",
       "0     ZWE  YR2018  Zimbabwe  2018                3.86611\n",
       "1     ZWE  YR2017  Zimbabwe  2017                5.81878\n",
       "2     ZWE  YR2016  Zimbabwe  2016                5.47262\n",
       "3     ZWE  YR2015  Zimbabwe  2015                5.81279\n",
       "4     ZWE  YR2014  Zimbabwe  2014                6.13835"
      ]
     },
     "execution_count": 102,
     "metadata": {},
     "output_type": "execute_result"
    }
   ],
   "source": [
    "peo_gover_exp.head()"
   ]
  },
  {
   "attachments": {},
   "cell_type": "markdown",
   "metadata": {},
   "source": [
    "We check the size of the dataset:"
   ]
  },
  {
   "cell_type": "code",
   "execution_count": 103,
   "metadata": {},
   "outputs": [
    {
     "data": {
      "text/plain": [
       "(4013, 5)"
      ]
     },
     "execution_count": 103,
     "metadata": {},
     "output_type": "execute_result"
    }
   ],
   "source": [
    "peo_gover_exp.shape"
   ]
  },
  {
   "attachments": {},
   "cell_type": "markdown",
   "metadata": {},
   "source": [
    "We review the amount of null values and the type of data each column has: "
   ]
  },
  {
   "cell_type": "code",
   "execution_count": 104,
   "metadata": {},
   "outputs": [
    {
     "name": "stdout",
     "output_type": "stream",
     "text": [
      "<class 'pandas.core.frame.DataFrame'>\n",
      "RangeIndex: 4013 entries, 0 to 4012\n",
      "Data columns (total 5 columns):\n",
      " #   Column                 Non-Null Count  Dtype  \n",
      "---  ------                 --------------  -----  \n",
      " 0   economy                4013 non-null   object \n",
      " 1   time                   4013 non-null   object \n",
      " 2   Country                4013 non-null   object \n",
      " 3   Time                   4013 non-null   object \n",
      " 4   Expenditure Education  4013 non-null   float64\n",
      "dtypes: float64(1), object(4)\n",
      "memory usage: 156.9+ KB\n"
     ]
    }
   ],
   "source": [
    "peo_gover_exp.info()"
   ]
  },
  {
   "cell_type": "code",
   "execution_count": 105,
   "metadata": {},
   "outputs": [
    {
     "data": {
      "text/html": [
       "<div>\n",
       "<style scoped>\n",
       "    .dataframe tbody tr th:only-of-type {\n",
       "        vertical-align: middle;\n",
       "    }\n",
       "\n",
       "    .dataframe tbody tr th {\n",
       "        vertical-align: top;\n",
       "    }\n",
       "\n",
       "    .dataframe thead th {\n",
       "        text-align: right;\n",
       "    }\n",
       "</style>\n",
       "<table border=\"1\" class=\"dataframe\">\n",
       "  <thead>\n",
       "    <tr style=\"text-align: right;\">\n",
       "      <th></th>\n",
       "      <th>Expenditure Education</th>\n",
       "    </tr>\n",
       "  </thead>\n",
       "  <tbody>\n",
       "    <tr>\n",
       "      <th>count</th>\n",
       "      <td>4013.000000</td>\n",
       "    </tr>\n",
       "    <tr>\n",
       "      <th>mean</th>\n",
       "      <td>4.389899</td>\n",
       "    </tr>\n",
       "    <tr>\n",
       "      <th>std</th>\n",
       "      <td>1.892848</td>\n",
       "    </tr>\n",
       "    <tr>\n",
       "      <th>min</th>\n",
       "      <td>0.000008</td>\n",
       "    </tr>\n",
       "    <tr>\n",
       "      <th>25%</th>\n",
       "      <td>3.199790</td>\n",
       "    </tr>\n",
       "    <tr>\n",
       "      <th>50%</th>\n",
       "      <td>4.108800</td>\n",
       "    </tr>\n",
       "    <tr>\n",
       "      <th>75%</th>\n",
       "      <td>5.160557</td>\n",
       "    </tr>\n",
       "    <tr>\n",
       "      <th>max</th>\n",
       "      <td>23.270000</td>\n",
       "    </tr>\n",
       "  </tbody>\n",
       "</table>\n",
       "</div>"
      ],
      "text/plain": [
       "       Expenditure Education\n",
       "count            4013.000000\n",
       "mean                4.389899\n",
       "std                 1.892848\n",
       "min                 0.000008\n",
       "25%                 3.199790\n",
       "50%                 4.108800\n",
       "75%                 5.160557\n",
       "max                23.270000"
      ]
     },
     "execution_count": 105,
     "metadata": {},
     "output_type": "execute_result"
    }
   ],
   "source": [
    "peo_gover_exp.describe()"
   ]
  },
  {
   "attachments": {},
   "cell_type": "markdown",
   "metadata": {},
   "source": [
    "We check for duplicates:"
   ]
  },
  {
   "cell_type": "code",
   "execution_count": 106,
   "metadata": {},
   "outputs": [
    {
     "data": {
      "text/html": [
       "<div>\n",
       "<style scoped>\n",
       "    .dataframe tbody tr th:only-of-type {\n",
       "        vertical-align: middle;\n",
       "    }\n",
       "\n",
       "    .dataframe tbody tr th {\n",
       "        vertical-align: top;\n",
       "    }\n",
       "\n",
       "    .dataframe thead th {\n",
       "        text-align: right;\n",
       "    }\n",
       "</style>\n",
       "<table border=\"1\" class=\"dataframe\">\n",
       "  <thead>\n",
       "    <tr style=\"text-align: right;\">\n",
       "      <th></th>\n",
       "      <th>economy</th>\n",
       "      <th>time</th>\n",
       "      <th>Country</th>\n",
       "      <th>Time</th>\n",
       "      <th>Expenditure Education</th>\n",
       "    </tr>\n",
       "  </thead>\n",
       "  <tbody>\n",
       "  </tbody>\n",
       "</table>\n",
       "</div>"
      ],
      "text/plain": [
       "Empty DataFrame\n",
       "Columns: [economy, time, Country, Time, Expenditure Education]\n",
       "Index: []"
      ]
     },
     "execution_count": 106,
     "metadata": {},
     "output_type": "execute_result"
    }
   ],
   "source": [
    "peo_gover_exp[peo_gover_exp.duplicated(subset=['Country', 'Time'])]"
   ]
  },
  {
   "attachments": {},
   "cell_type": "markdown",
   "metadata": {},
   "source": [
    "We check it has the years needed:"
   ]
  },
  {
   "cell_type": "code",
   "execution_count": 107,
   "metadata": {},
   "outputs": [
    {
     "data": {
      "text/plain": [
       "array(['2018', '2017', '2016', '2015', '2014', '2013', '2012', '2010',\n",
       "       '2020', '2019', '2011', '2009', '2008', '2007', '2005', '2004',\n",
       "       '2000', '2001', '2006', '2003', '2002', '2021'], dtype=object)"
      ]
     },
     "execution_count": 107,
     "metadata": {},
     "output_type": "execute_result"
    }
   ],
   "source": [
    "peo_gover_exp['Time'].unique()"
   ]
  },
  {
   "attachments": {},
   "cell_type": "markdown",
   "metadata": {},
   "source": [
    "We check the amount of countries and which onces it has:"
   ]
  },
  {
   "cell_type": "code",
   "execution_count": 108,
   "metadata": {},
   "outputs": [
    {
     "data": {
      "text/plain": [
       "array(['Zimbabwe', 'Zambia', 'Yemen, Rep.', 'West Bank and Gaza',\n",
       "       'Vietnam', 'Venezuela, RB', 'Vanuatu', 'Uzbekistan', 'Uruguay',\n",
       "       'United States', 'United Kingdom', 'United Arab Emirates',\n",
       "       'Ukraine', 'Uganda', 'Turks and Caicos Islands', 'Turkmenistan',\n",
       "       'Turkiye', 'Tunisia', 'Trinidad and Tobago', 'Tonga', 'Togo',\n",
       "       'Timor-Leste', 'Thailand', 'Tanzania', 'Tajikistan',\n",
       "       'Syrian Arab Republic', 'Switzerland', 'Sweden', 'Suriname',\n",
       "       'Sudan', 'St. Vincent and the Grenadines', 'St. Lucia',\n",
       "       'St. Kitts and Nevis', 'Sri Lanka', 'Spain', 'South Sudan',\n",
       "       'South Africa', 'Somalia', 'Solomon Islands', 'Slovenia',\n",
       "       'Slovak Republic', 'Singapore', 'Sierra Leone', 'Seychelles',\n",
       "       'Serbia', 'Senegal', 'Saudi Arabia', 'Sao Tome and Principe',\n",
       "       'San Marino', 'Samoa', 'Rwanda', 'Russian Federation', 'Romania',\n",
       "       'Qatar', 'Puerto Rico', 'Portugal', 'Poland', 'Philippines',\n",
       "       'Peru', 'Paraguay', 'Papua New Guinea', 'Panama', 'Palau',\n",
       "       'Pakistan', 'Oman', 'Norway', 'North Macedonia', 'Nigeria',\n",
       "       'Niger', 'Nicaragua', 'New Zealand', 'Netherlands', 'Nepal',\n",
       "       'Nauru', 'Namibia', 'Myanmar', 'Mozambique', 'Morocco', 'Mongolia',\n",
       "       'Monaco', 'Moldova', 'Micronesia, Fed. Sts.', 'Mexico',\n",
       "       'Mauritius', 'Mauritania', 'Marshall Islands', 'Malta', 'Mali',\n",
       "       'Maldives', 'Malaysia', 'Malawi', 'Madagascar', 'Macao SAR, China',\n",
       "       'Luxembourg', 'Lithuania', 'Liechtenstein', 'Liberia', 'Lesotho',\n",
       "       'Lebanon', 'Latvia', 'Lao PDR', 'Kyrgyz Republic', 'Kuwait',\n",
       "       'Korea, Rep.', 'Kiribati', 'Kenya', 'Kazakhstan', 'Jordan',\n",
       "       'Japan', 'Jamaica', 'Italy', 'Israel', 'Ireland', 'Iraq',\n",
       "       'Iran, Islamic Rep.', 'Indonesia', 'India', 'Iceland', 'Hungary',\n",
       "       'Hong Kong SAR, China', 'Honduras', 'Haiti', 'Guyana',\n",
       "       'Guinea-Bissau', 'Guinea', 'Guatemala', 'Grenada', 'Greenland',\n",
       "       'Greece', 'Ghana', 'Germany', 'Georgia', 'Gambia, The', 'Gabon',\n",
       "       'France', 'Finland', 'Fiji', 'Faroe Islands', 'Ethiopia',\n",
       "       'Eswatini', 'Estonia', 'Eritrea', 'El Salvador',\n",
       "       'Egypt, Arab Rep.', 'Ecuador', 'Dominican Republic', 'Dominica',\n",
       "       'Djibouti', 'Denmark', 'Czechia', 'Cyprus', 'Curacao', 'Cuba',\n",
       "       'Croatia', \"Cote d'Ivoire\", 'Costa Rica', 'Congo, Rep.',\n",
       "       'Congo, Dem. Rep.', 'Comoros', 'Colombia', 'China', 'Chile',\n",
       "       'Chad', 'Central African Republic', 'Cayman Islands', 'Canada',\n",
       "       'Cameroon', 'Cambodia', 'Cabo Verde', 'Burundi', 'Burkina Faso',\n",
       "       'Bulgaria', 'Brunei Darussalam', 'British Virgin Islands',\n",
       "       'Brazil', 'Botswana', 'Bolivia', 'Bhutan', 'Bermuda', 'Benin',\n",
       "       'Belize', 'Belgium', 'Belarus', 'Barbados', 'Bangladesh',\n",
       "       'Bahrain', 'Bahamas, The', 'Azerbaijan', 'Austria', 'Australia',\n",
       "       'Aruba', 'Armenia', 'Argentina', 'Antigua and Barbuda', 'Angola',\n",
       "       'Andorra', 'American Samoa', 'Algeria', 'Albania', 'Afghanistan',\n",
       "       'World', 'Upper middle income',\n",
       "       'Sub-Saharan Africa (IDA & IBRD countries)',\n",
       "       'Sub-Saharan Africa (excluding high income)', 'Sub-Saharan Africa',\n",
       "       'South Asia (IDA & IBRD)', 'South Asia', 'Small states',\n",
       "       'Pre-demographic dividend', 'Post-demographic dividend',\n",
       "       'Other small states', 'OECD members', 'North America',\n",
       "       'Middle income',\n",
       "       'Middle East & North Africa (IDA & IBRD countries)',\n",
       "       'Middle East & North Africa (excluding high income)',\n",
       "       'Middle East & North Africa', 'Lower middle income', 'Low income',\n",
       "       'Low & middle income',\n",
       "       'Least developed countries: UN classification',\n",
       "       'Latin America & the Caribbean (IDA & IBRD countries)',\n",
       "       'Latin America & Caribbean (excluding high income)',\n",
       "       'Latin America & Caribbean', 'Late-demographic dividend',\n",
       "       'IDA total', 'IDA only', 'IDA blend', 'IDA & IBRD total',\n",
       "       'IBRD only', 'High income',\n",
       "       'Heavily indebted poor countries (HIPC)',\n",
       "       'Fragile and conflict affected situations', 'European Union',\n",
       "       'Europe & Central Asia (IDA & IBRD countries)',\n",
       "       'Europe & Central Asia (excluding high income)',\n",
       "       'Europe & Central Asia', 'Euro area',\n",
       "       'East Asia & Pacific (IDA & IBRD countries)',\n",
       "       'East Asia & Pacific (excluding high income)',\n",
       "       'East Asia & Pacific', 'Early-demographic dividend',\n",
       "       'Central Europe and the Baltics', 'Caribbean small states',\n",
       "       'Arab World', 'Africa Western and Central',\n",
       "       'Africa Eastern and Southern'], dtype=object)"
      ]
     },
     "execution_count": 108,
     "metadata": {},
     "output_type": "execute_result"
    }
   ],
   "source": [
    "peo_gover_exp['Country'].unique()"
   ]
  },
  {
   "cell_type": "code",
   "execution_count": 109,
   "metadata": {},
   "outputs": [
    {
     "data": {
      "text/plain": [
       "247"
      ]
     },
     "execution_count": 109,
     "metadata": {},
     "output_type": "execute_result"
    }
   ],
   "source": [
    "peo_gover_exp['Country'].nunique()"
   ]
  },
  {
   "attachments": {},
   "cell_type": "markdown",
   "metadata": {},
   "source": [
    "---"
   ]
  },
  {
   "attachments": {},
   "cell_type": "markdown",
   "metadata": {},
   "source": [
    "🔹 Conclusions on: **Government expenditure on education** <br>\n",
    "* Does not contain duplicates. \n",
    "* Does not contain null values.  \n",
    "* It has all the years needed. \n",
    "* It has an extra column, called 'time', that will be removed. \n",
    "* The column named 'Time' will be renamed and it's tipe of data will be changed into int. \n",
    "* The column 'economy' will be renamed into 'Country Code'\n",
    "* THe column 'Country' will be renamed into 'Country Name'"
   ]
  },
  {
   "attachments": {},
   "cell_type": "markdown",
   "metadata": {},
   "source": [
    "---"
   ]
  },
  {
   "attachments": {},
   "cell_type": "markdown",
   "metadata": {},
   "source": [
    "### Unemployment, total\n",
    "    This dataset shows information related to Share of the labor force that is without work but available for and seeking employment. (% of total labor force)"
   ]
  },
  {
   "cell_type": "code",
   "execution_count": 110,
   "metadata": {},
   "outputs": [
    {
     "data": {
      "text/html": [
       "<div>\n",
       "<style scoped>\n",
       "    .dataframe tbody tr th:only-of-type {\n",
       "        vertical-align: middle;\n",
       "    }\n",
       "\n",
       "    .dataframe tbody tr th {\n",
       "        vertical-align: top;\n",
       "    }\n",
       "\n",
       "    .dataframe thead th {\n",
       "        text-align: right;\n",
       "    }\n",
       "</style>\n",
       "<table border=\"1\" class=\"dataframe\">\n",
       "  <thead>\n",
       "    <tr style=\"text-align: right;\">\n",
       "      <th></th>\n",
       "      <th>economy</th>\n",
       "      <th>time</th>\n",
       "      <th>Country</th>\n",
       "      <th>Time</th>\n",
       "      <th>Unemployment</th>\n",
       "    </tr>\n",
       "  </thead>\n",
       "  <tbody>\n",
       "    <tr>\n",
       "      <th>0</th>\n",
       "      <td>ZWE</td>\n",
       "      <td>YR2021</td>\n",
       "      <td>Zimbabwe</td>\n",
       "      <td>2021</td>\n",
       "      <td>5.174</td>\n",
       "    </tr>\n",
       "    <tr>\n",
       "      <th>1</th>\n",
       "      <td>ZWE</td>\n",
       "      <td>YR2020</td>\n",
       "      <td>Zimbabwe</td>\n",
       "      <td>2020</td>\n",
       "      <td>5.351</td>\n",
       "    </tr>\n",
       "    <tr>\n",
       "      <th>2</th>\n",
       "      <td>ZWE</td>\n",
       "      <td>YR2019</td>\n",
       "      <td>Zimbabwe</td>\n",
       "      <td>2019</td>\n",
       "      <td>4.833</td>\n",
       "    </tr>\n",
       "    <tr>\n",
       "      <th>3</th>\n",
       "      <td>ZWE</td>\n",
       "      <td>YR2018</td>\n",
       "      <td>Zimbabwe</td>\n",
       "      <td>2018</td>\n",
       "      <td>4.796</td>\n",
       "    </tr>\n",
       "    <tr>\n",
       "      <th>4</th>\n",
       "      <td>ZWE</td>\n",
       "      <td>YR2017</td>\n",
       "      <td>Zimbabwe</td>\n",
       "      <td>2017</td>\n",
       "      <td>4.785</td>\n",
       "    </tr>\n",
       "  </tbody>\n",
       "</table>\n",
       "</div>"
      ],
      "text/plain": [
       "  economy    time   Country  Time  Unemployment\n",
       "0     ZWE  YR2021  Zimbabwe  2021         5.174\n",
       "1     ZWE  YR2020  Zimbabwe  2020         5.351\n",
       "2     ZWE  YR2019  Zimbabwe  2019         4.833\n",
       "3     ZWE  YR2018  Zimbabwe  2018         4.796\n",
       "4     ZWE  YR2017  Zimbabwe  2017         4.785"
      ]
     },
     "execution_count": 110,
     "metadata": {},
     "output_type": "execute_result"
    }
   ],
   "source": [
    "peo_unemploy.head()"
   ]
  },
  {
   "attachments": {},
   "cell_type": "markdown",
   "metadata": {},
   "source": [
    "We check the size of the dataset: "
   ]
  },
  {
   "cell_type": "code",
   "execution_count": 111,
   "metadata": {},
   "outputs": [
    {
     "data": {
      "text/plain": [
       "(5170, 5)"
      ]
     },
     "execution_count": 111,
     "metadata": {},
     "output_type": "execute_result"
    }
   ],
   "source": [
    "peo_unemploy.shape"
   ]
  },
  {
   "attachments": {},
   "cell_type": "markdown",
   "metadata": {},
   "source": [
    "We review the amount of null values and the type of data each column has: "
   ]
  },
  {
   "cell_type": "code",
   "execution_count": 112,
   "metadata": {},
   "outputs": [
    {
     "name": "stdout",
     "output_type": "stream",
     "text": [
      "<class 'pandas.core.frame.DataFrame'>\n",
      "RangeIndex: 5170 entries, 0 to 5169\n",
      "Data columns (total 5 columns):\n",
      " #   Column        Non-Null Count  Dtype  \n",
      "---  ------        --------------  -----  \n",
      " 0   economy       5170 non-null   object \n",
      " 1   time          5170 non-null   object \n",
      " 2   Country       5170 non-null   object \n",
      " 3   Time          5170 non-null   object \n",
      " 4   Unemployment  5170 non-null   float64\n",
      "dtypes: float64(1), object(4)\n",
      "memory usage: 202.1+ KB\n"
     ]
    }
   ],
   "source": [
    "peo_unemploy.info()"
   ]
  },
  {
   "cell_type": "code",
   "execution_count": 113,
   "metadata": {},
   "outputs": [
    {
     "data": {
      "text/html": [
       "<div>\n",
       "<style scoped>\n",
       "    .dataframe tbody tr th:only-of-type {\n",
       "        vertical-align: middle;\n",
       "    }\n",
       "\n",
       "    .dataframe tbody tr th {\n",
       "        vertical-align: top;\n",
       "    }\n",
       "\n",
       "    .dataframe thead th {\n",
       "        text-align: right;\n",
       "    }\n",
       "</style>\n",
       "<table border=\"1\" class=\"dataframe\">\n",
       "  <thead>\n",
       "    <tr style=\"text-align: right;\">\n",
       "      <th></th>\n",
       "      <th>Unemployment</th>\n",
       "    </tr>\n",
       "  </thead>\n",
       "  <tbody>\n",
       "    <tr>\n",
       "      <th>count</th>\n",
       "      <td>5170.000000</td>\n",
       "    </tr>\n",
       "    <tr>\n",
       "      <th>mean</th>\n",
       "      <td>7.942371</td>\n",
       "    </tr>\n",
       "    <tr>\n",
       "      <th>std</th>\n",
       "      <td>5.685855</td>\n",
       "    </tr>\n",
       "    <tr>\n",
       "      <th>min</th>\n",
       "      <td>0.100000</td>\n",
       "    </tr>\n",
       "    <tr>\n",
       "      <th>25%</th>\n",
       "      <td>4.231750</td>\n",
       "    </tr>\n",
       "    <tr>\n",
       "      <th>50%</th>\n",
       "      <td>6.286844</td>\n",
       "    </tr>\n",
       "    <tr>\n",
       "      <th>75%</th>\n",
       "      <td>10.236280</td>\n",
       "    </tr>\n",
       "    <tr>\n",
       "      <th>max</th>\n",
       "      <td>37.250000</td>\n",
       "    </tr>\n",
       "  </tbody>\n",
       "</table>\n",
       "</div>"
      ],
      "text/plain": [
       "       Unemployment\n",
       "count   5170.000000\n",
       "mean       7.942371\n",
       "std        5.685855\n",
       "min        0.100000\n",
       "25%        4.231750\n",
       "50%        6.286844\n",
       "75%       10.236280\n",
       "max       37.250000"
      ]
     },
     "execution_count": 113,
     "metadata": {},
     "output_type": "execute_result"
    }
   ],
   "source": [
    "peo_unemploy.describe()"
   ]
  },
  {
   "attachments": {},
   "cell_type": "markdown",
   "metadata": {},
   "source": [
    "We check for duplicates:"
   ]
  },
  {
   "cell_type": "code",
   "execution_count": 114,
   "metadata": {},
   "outputs": [
    {
     "data": {
      "text/html": [
       "<div>\n",
       "<style scoped>\n",
       "    .dataframe tbody tr th:only-of-type {\n",
       "        vertical-align: middle;\n",
       "    }\n",
       "\n",
       "    .dataframe tbody tr th {\n",
       "        vertical-align: top;\n",
       "    }\n",
       "\n",
       "    .dataframe thead th {\n",
       "        text-align: right;\n",
       "    }\n",
       "</style>\n",
       "<table border=\"1\" class=\"dataframe\">\n",
       "  <thead>\n",
       "    <tr style=\"text-align: right;\">\n",
       "      <th></th>\n",
       "      <th>economy</th>\n",
       "      <th>time</th>\n",
       "      <th>Country</th>\n",
       "      <th>Time</th>\n",
       "      <th>Unemployment</th>\n",
       "    </tr>\n",
       "  </thead>\n",
       "  <tbody>\n",
       "  </tbody>\n",
       "</table>\n",
       "</div>"
      ],
      "text/plain": [
       "Empty DataFrame\n",
       "Columns: [economy, time, Country, Time, Unemployment]\n",
       "Index: []"
      ]
     },
     "execution_count": 114,
     "metadata": {},
     "output_type": "execute_result"
    }
   ],
   "source": [
    "peo_unemploy[peo_unemploy.duplicated(subset=['Country', 'Time'])]"
   ]
  },
  {
   "attachments": {},
   "cell_type": "markdown",
   "metadata": {},
   "source": [
    "We check it has the years needed:"
   ]
  },
  {
   "cell_type": "code",
   "execution_count": 115,
   "metadata": {},
   "outputs": [
    {
     "data": {
      "text/plain": [
       "array(['2021', '2020', '2019', '2018', '2017', '2016', '2015', '2014',\n",
       "       '2013', '2012', '2011', '2010', '2009', '2008', '2007', '2006',\n",
       "       '2005', '2004', '2003', '2002', '2001', '2000'], dtype=object)"
      ]
     },
     "execution_count": 115,
     "metadata": {},
     "output_type": "execute_result"
    }
   ],
   "source": [
    "peo_unemploy['Time'].unique()"
   ]
  },
  {
   "attachments": {},
   "cell_type": "markdown",
   "metadata": {},
   "source": [
    "We check the amount of countries and which onces it has:"
   ]
  },
  {
   "cell_type": "code",
   "execution_count": 116,
   "metadata": {},
   "outputs": [
    {
     "data": {
      "text/plain": [
       "array(['Zimbabwe', 'Zambia', 'Yemen, Rep.', 'West Bank and Gaza',\n",
       "       'Virgin Islands (U.S.)', 'Vietnam', 'Venezuela, RB', 'Vanuatu',\n",
       "       'Uzbekistan', 'Uruguay', 'United States', 'United Kingdom',\n",
       "       'United Arab Emirates', 'Ukraine', 'Uganda', 'Turkmenistan',\n",
       "       'Turkiye', 'Tunisia', 'Trinidad and Tobago', 'Tonga', 'Togo',\n",
       "       'Timor-Leste', 'Thailand', 'Tanzania', 'Tajikistan',\n",
       "       'Syrian Arab Republic', 'Switzerland', 'Sweden', 'Suriname',\n",
       "       'Sudan', 'St. Vincent and the Grenadines', 'St. Lucia',\n",
       "       'Sri Lanka', 'Spain', 'South Sudan', 'South Africa', 'Somalia',\n",
       "       'Solomon Islands', 'Slovenia', 'Slovak Republic', 'Singapore',\n",
       "       'Sierra Leone', 'Serbia', 'Senegal', 'Saudi Arabia',\n",
       "       'Sao Tome and Principe', 'Samoa', 'Rwanda', 'Russian Federation',\n",
       "       'Romania', 'Qatar', 'Puerto Rico', 'Portugal', 'Poland',\n",
       "       'Philippines', 'Peru', 'Paraguay', 'Papua New Guinea', 'Panama',\n",
       "       'Pakistan', 'Oman', 'Norway', 'North Macedonia', 'Nigeria',\n",
       "       'Niger', 'Nicaragua', 'New Zealand', 'New Caledonia',\n",
       "       'Netherlands', 'Nepal', 'Namibia', 'Myanmar', 'Mozambique',\n",
       "       'Morocco', 'Montenegro', 'Mongolia', 'Moldova', 'Mexico',\n",
       "       'Mauritius', 'Mauritania', 'Malta', 'Mali', 'Maldives', 'Malaysia',\n",
       "       'Malawi', 'Madagascar', 'Macao SAR, China', 'Luxembourg',\n",
       "       'Lithuania', 'Libya', 'Liberia', 'Lesotho', 'Lebanon', 'Latvia',\n",
       "       'Lao PDR', 'Kyrgyz Republic', 'Kuwait', 'Korea, Rep.',\n",
       "       \"Korea, Dem. People's Rep.\", 'Kenya', 'Kazakhstan', 'Jordan',\n",
       "       'Japan', 'Jamaica', 'Italy', 'Israel', 'Ireland', 'Iraq',\n",
       "       'Iran, Islamic Rep.', 'Indonesia', 'India', 'Iceland', 'Hungary',\n",
       "       'Hong Kong SAR, China', 'Honduras', 'Haiti', 'Guyana',\n",
       "       'Guinea-Bissau', 'Guinea', 'Guatemala', 'Guam', 'Greece', 'Ghana',\n",
       "       'Germany', 'Georgia', 'Gambia, The', 'Gabon', 'French Polynesia',\n",
       "       'France', 'Finland', 'Fiji', 'Ethiopia', 'Eswatini', 'Estonia',\n",
       "       'Eritrea', 'Equatorial Guinea', 'El Salvador', 'Egypt, Arab Rep.',\n",
       "       'Ecuador', 'Dominican Republic', 'Djibouti', 'Denmark', 'Czechia',\n",
       "       'Cyprus', 'Cuba', 'Croatia', \"Cote d'Ivoire\", 'Costa Rica',\n",
       "       'Congo, Rep.', 'Congo, Dem. Rep.', 'Comoros', 'Colombia', 'China',\n",
       "       'Chile', 'Channel Islands', 'Chad', 'Central African Republic',\n",
       "       'Canada', 'Cameroon', 'Cambodia', 'Cabo Verde', 'Burundi',\n",
       "       'Burkina Faso', 'Bulgaria', 'Brunei Darussalam', 'Brazil',\n",
       "       'Botswana', 'Bosnia and Herzegovina', 'Bolivia', 'Bhutan', 'Benin',\n",
       "       'Belize', 'Belgium', 'Belarus', 'Barbados', 'Bangladesh',\n",
       "       'Bahrain', 'Bahamas, The', 'Azerbaijan', 'Austria', 'Australia',\n",
       "       'Armenia', 'Argentina', 'Angola', 'Algeria', 'Albania',\n",
       "       'Afghanistan', 'World', 'Upper middle income',\n",
       "       'Sub-Saharan Africa (IDA & IBRD countries)',\n",
       "       'Sub-Saharan Africa (excluding high income)', 'Sub-Saharan Africa',\n",
       "       'South Asia (IDA & IBRD)', 'South Asia', 'Small states',\n",
       "       'Pre-demographic dividend', 'Post-demographic dividend',\n",
       "       'Pacific island small states', 'Other small states',\n",
       "       'OECD members', 'North America', 'Middle income',\n",
       "       'Middle East & North Africa (IDA & IBRD countries)',\n",
       "       'Middle East & North Africa (excluding high income)',\n",
       "       'Middle East & North Africa', 'Lower middle income', 'Low income',\n",
       "       'Low & middle income',\n",
       "       'Least developed countries: UN classification',\n",
       "       'Latin America & the Caribbean (IDA & IBRD countries)',\n",
       "       'Latin America & Caribbean (excluding high income)',\n",
       "       'Latin America & Caribbean', 'Late-demographic dividend',\n",
       "       'IDA total', 'IDA only', 'IDA blend', 'IDA & IBRD total',\n",
       "       'IBRD only', 'High income',\n",
       "       'Heavily indebted poor countries (HIPC)',\n",
       "       'Fragile and conflict affected situations', 'European Union',\n",
       "       'Europe & Central Asia (IDA & IBRD countries)',\n",
       "       'Europe & Central Asia (excluding high income)',\n",
       "       'Europe & Central Asia', 'Euro area',\n",
       "       'East Asia & Pacific (IDA & IBRD countries)',\n",
       "       'East Asia & Pacific (excluding high income)',\n",
       "       'East Asia & Pacific', 'Early-demographic dividend',\n",
       "       'Central Europe and the Baltics', 'Caribbean small states',\n",
       "       'Arab World', 'Africa Western and Central',\n",
       "       'Africa Eastern and Southern'], dtype=object)"
      ]
     },
     "execution_count": 116,
     "metadata": {},
     "output_type": "execute_result"
    }
   ],
   "source": [
    "peo_unemploy['Country'].unique()"
   ]
  },
  {
   "cell_type": "code",
   "execution_count": 117,
   "metadata": {},
   "outputs": [
    {
     "data": {
      "text/plain": [
       "235"
      ]
     },
     "execution_count": 117,
     "metadata": {},
     "output_type": "execute_result"
    }
   ],
   "source": [
    "peo_unemploy['Country'].nunique()"
   ]
  },
  {
   "attachments": {},
   "cell_type": "markdown",
   "metadata": {},
   "source": [
    "---"
   ]
  },
  {
   "attachments": {},
   "cell_type": "markdown",
   "metadata": {},
   "source": [
    "🔹 Conclusions on: **Unemployment total** <br>\n",
    "* Does not contain duplicates. \n",
    "* Does not contain null values.  \n",
    "* It has all the years needed. \n",
    "* It has an extra column, called 'time', that will be removed. \n",
    "* The column named 'Time' will be renamed and it's tipe of data will be changed into int. \n",
    "* The column 'economy' will be renamed into 'Country Code'\n",
    "* THe column 'Country' will be renamed into 'Country Name'"
   ]
  },
  {
   "attachments": {},
   "cell_type": "markdown",
   "metadata": {},
   "source": [
    "---"
   ]
  },
  {
   "attachments": {},
   "cell_type": "markdown",
   "metadata": {},
   "source": [
    "### Primary completion rate, total (PCT of relevant age group)\n",
    "    This dataset shows information related to Number of new entrants (enrollments minus repeaters) in the last grade of primary education, regardless of age, divided by the population at the entrance age for the las grade of primary education. (PCT of relevant age group)"
   ]
  },
  {
   "cell_type": "code",
   "execution_count": 118,
   "metadata": {},
   "outputs": [
    {
     "data": {
      "text/html": [
       "<div>\n",
       "<style scoped>\n",
       "    .dataframe tbody tr th:only-of-type {\n",
       "        vertical-align: middle;\n",
       "    }\n",
       "\n",
       "    .dataframe tbody tr th {\n",
       "        vertical-align: top;\n",
       "    }\n",
       "\n",
       "    .dataframe thead th {\n",
       "        text-align: right;\n",
       "    }\n",
       "</style>\n",
       "<table border=\"1\" class=\"dataframe\">\n",
       "  <thead>\n",
       "    <tr style=\"text-align: right;\">\n",
       "      <th></th>\n",
       "      <th>economy</th>\n",
       "      <th>time</th>\n",
       "      <th>Country</th>\n",
       "      <th>Time</th>\n",
       "      <th>Primary completion rate, total (PCT of relevant age group)</th>\n",
       "    </tr>\n",
       "  </thead>\n",
       "  <tbody>\n",
       "    <tr>\n",
       "      <th>0</th>\n",
       "      <td>ZWE</td>\n",
       "      <td>YR2021</td>\n",
       "      <td>Zimbabwe</td>\n",
       "      <td>2021</td>\n",
       "      <td>84.818619</td>\n",
       "    </tr>\n",
       "    <tr>\n",
       "      <th>1</th>\n",
       "      <td>ZWE</td>\n",
       "      <td>YR2020</td>\n",
       "      <td>Zimbabwe</td>\n",
       "      <td>2020</td>\n",
       "      <td>90.017349</td>\n",
       "    </tr>\n",
       "    <tr>\n",
       "      <th>2</th>\n",
       "      <td>ZWE</td>\n",
       "      <td>YR2019</td>\n",
       "      <td>Zimbabwe</td>\n",
       "      <td>2019</td>\n",
       "      <td>88.508812</td>\n",
       "    </tr>\n",
       "    <tr>\n",
       "      <th>3</th>\n",
       "      <td>ZWE</td>\n",
       "      <td>YR2018</td>\n",
       "      <td>Zimbabwe</td>\n",
       "      <td>2018</td>\n",
       "      <td>92.195152</td>\n",
       "    </tr>\n",
       "    <tr>\n",
       "      <th>4</th>\n",
       "      <td>ZWE</td>\n",
       "      <td>YR2017</td>\n",
       "      <td>Zimbabwe</td>\n",
       "      <td>2017</td>\n",
       "      <td>95.476372</td>\n",
       "    </tr>\n",
       "  </tbody>\n",
       "</table>\n",
       "</div>"
      ],
      "text/plain": [
       "  economy    time   Country  Time  \\\n",
       "0     ZWE  YR2021  Zimbabwe  2021   \n",
       "1     ZWE  YR2020  Zimbabwe  2020   \n",
       "2     ZWE  YR2019  Zimbabwe  2019   \n",
       "3     ZWE  YR2018  Zimbabwe  2018   \n",
       "4     ZWE  YR2017  Zimbabwe  2017   \n",
       "\n",
       "   Primary completion rate, total (PCT of relevant age group)  \n",
       "0                                          84.818619           \n",
       "1                                          90.017349           \n",
       "2                                          88.508812           \n",
       "3                                          92.195152           \n",
       "4                                          95.476372           "
      ]
     },
     "execution_count": 118,
     "metadata": {},
     "output_type": "execute_result"
    }
   ],
   "source": [
    "peo_primary.head()"
   ]
  },
  {
   "attachments": {},
   "cell_type": "markdown",
   "metadata": {},
   "source": [
    "We check the size of the dataset: "
   ]
  },
  {
   "cell_type": "code",
   "execution_count": 119,
   "metadata": {},
   "outputs": [
    {
     "data": {
      "text/plain": [
       "(3813, 5)"
      ]
     },
     "execution_count": 119,
     "metadata": {},
     "output_type": "execute_result"
    }
   ],
   "source": [
    "peo_primary.shape"
   ]
  },
  {
   "attachments": {},
   "cell_type": "markdown",
   "metadata": {},
   "source": [
    "We review the amount of null values and the type of data each column has:"
   ]
  },
  {
   "cell_type": "code",
   "execution_count": 120,
   "metadata": {},
   "outputs": [
    {
     "name": "stdout",
     "output_type": "stream",
     "text": [
      "<class 'pandas.core.frame.DataFrame'>\n",
      "RangeIndex: 3813 entries, 0 to 3812\n",
      "Data columns (total 5 columns):\n",
      " #   Column                                                      Non-Null Count  Dtype  \n",
      "---  ------                                                      --------------  -----  \n",
      " 0   economy                                                     3813 non-null   object \n",
      " 1   time                                                        3813 non-null   object \n",
      " 2   Country                                                     3813 non-null   object \n",
      " 3   Time                                                        3813 non-null   object \n",
      " 4   Primary completion rate, total (PCT of relevant age group)  3813 non-null   float64\n",
      "dtypes: float64(1), object(4)\n",
      "memory usage: 149.1+ KB\n"
     ]
    }
   ],
   "source": [
    "peo_primary.info()"
   ]
  },
  {
   "cell_type": "code",
   "execution_count": 121,
   "metadata": {},
   "outputs": [
    {
     "data": {
      "text/html": [
       "<div>\n",
       "<style scoped>\n",
       "    .dataframe tbody tr th:only-of-type {\n",
       "        vertical-align: middle;\n",
       "    }\n",
       "\n",
       "    .dataframe tbody tr th {\n",
       "        vertical-align: top;\n",
       "    }\n",
       "\n",
       "    .dataframe thead th {\n",
       "        text-align: right;\n",
       "    }\n",
       "</style>\n",
       "<table border=\"1\" class=\"dataframe\">\n",
       "  <thead>\n",
       "    <tr style=\"text-align: right;\">\n",
       "      <th></th>\n",
       "      <th>Primary completion rate, total (PCT of relevant age group)</th>\n",
       "    </tr>\n",
       "  </thead>\n",
       "  <tbody>\n",
       "    <tr>\n",
       "      <th>count</th>\n",
       "      <td>3813.000000</td>\n",
       "    </tr>\n",
       "    <tr>\n",
       "      <th>mean</th>\n",
       "      <td>88.132224</td>\n",
       "    </tr>\n",
       "    <tr>\n",
       "      <th>std</th>\n",
       "      <td>17.701888</td>\n",
       "    </tr>\n",
       "    <tr>\n",
       "      <th>min</th>\n",
       "      <td>16.575230</td>\n",
       "    </tr>\n",
       "    <tr>\n",
       "      <th>25%</th>\n",
       "      <td>80.376633</td>\n",
       "    </tr>\n",
       "    <tr>\n",
       "      <th>50%</th>\n",
       "      <td>94.531540</td>\n",
       "    </tr>\n",
       "    <tr>\n",
       "      <th>75%</th>\n",
       "      <td>99.330780</td>\n",
       "    </tr>\n",
       "    <tr>\n",
       "      <th>max</th>\n",
       "      <td>134.542511</td>\n",
       "    </tr>\n",
       "  </tbody>\n",
       "</table>\n",
       "</div>"
      ],
      "text/plain": [
       "       Primary completion rate, total (PCT of relevant age group)\n",
       "count                                        3813.000000         \n",
       "mean                                           88.132224         \n",
       "std                                            17.701888         \n",
       "min                                            16.575230         \n",
       "25%                                            80.376633         \n",
       "50%                                            94.531540         \n",
       "75%                                            99.330780         \n",
       "max                                           134.542511         "
      ]
     },
     "execution_count": 121,
     "metadata": {},
     "output_type": "execute_result"
    }
   ],
   "source": [
    "peo_primary.describe()"
   ]
  },
  {
   "attachments": {},
   "cell_type": "markdown",
   "metadata": {},
   "source": [
    "We check for duplicates: "
   ]
  },
  {
   "cell_type": "code",
   "execution_count": 122,
   "metadata": {},
   "outputs": [
    {
     "data": {
      "text/html": [
       "<div>\n",
       "<style scoped>\n",
       "    .dataframe tbody tr th:only-of-type {\n",
       "        vertical-align: middle;\n",
       "    }\n",
       "\n",
       "    .dataframe tbody tr th {\n",
       "        vertical-align: top;\n",
       "    }\n",
       "\n",
       "    .dataframe thead th {\n",
       "        text-align: right;\n",
       "    }\n",
       "</style>\n",
       "<table border=\"1\" class=\"dataframe\">\n",
       "  <thead>\n",
       "    <tr style=\"text-align: right;\">\n",
       "      <th></th>\n",
       "      <th>economy</th>\n",
       "      <th>time</th>\n",
       "      <th>Country</th>\n",
       "      <th>Time</th>\n",
       "      <th>Primary completion rate, total (PCT of relevant age group)</th>\n",
       "    </tr>\n",
       "  </thead>\n",
       "  <tbody>\n",
       "  </tbody>\n",
       "</table>\n",
       "</div>"
      ],
      "text/plain": [
       "Empty DataFrame\n",
       "Columns: [economy, time, Country, Time, Primary completion rate, total (PCT of relevant age group)]\n",
       "Index: []"
      ]
     },
     "execution_count": 122,
     "metadata": {},
     "output_type": "execute_result"
    }
   ],
   "source": [
    "peo_primary[peo_primary.duplicated(subset=['Country', 'Time'])]"
   ]
  },
  {
   "attachments": {},
   "cell_type": "markdown",
   "metadata": {},
   "source": [
    "We check it has the years needed:"
   ]
  },
  {
   "cell_type": "code",
   "execution_count": 123,
   "metadata": {},
   "outputs": [
    {
     "data": {
      "text/plain": [
       "array(['2021', '2020', '2019', '2018', '2017', '2016', '2015', '2014',\n",
       "       '2013', '2012', '2003', '2002', '2001', '2010', '2009', '2008',\n",
       "       '2007', '2006', '2005', '2004', '2000', '2011'], dtype=object)"
      ]
     },
     "execution_count": 123,
     "metadata": {},
     "output_type": "execute_result"
    }
   ],
   "source": [
    "peo_primary['Time'].unique()"
   ]
  },
  {
   "attachments": {},
   "cell_type": "markdown",
   "metadata": {},
   "source": [
    "We check the amount of countries and which onces it has:\n"
   ]
  },
  {
   "cell_type": "code",
   "execution_count": 124,
   "metadata": {},
   "outputs": [
    {
     "data": {
      "text/plain": [
       "array(['Zimbabwe', 'Zambia', 'Yemen, Rep.', 'West Bank and Gaza',\n",
       "       'Vietnam', 'Venezuela, RB', 'Vanuatu', 'Uzbekistan', 'Uruguay',\n",
       "       'United States', 'United Kingdom', 'United Arab Emirates',\n",
       "       'Ukraine', 'Uganda', 'Tuvalu', 'Turks and Caicos Islands',\n",
       "       'Turkiye', 'Tunisia', 'Trinidad and Tobago', 'Tonga', 'Togo',\n",
       "       'Timor-Leste', 'Thailand', 'Tanzania', 'Tajikistan',\n",
       "       'Syrian Arab Republic', 'Switzerland', 'Sweden', 'Suriname',\n",
       "       'Sudan', 'St. Vincent and the Grenadines', 'St. Lucia',\n",
       "       'St. Kitts and Nevis', 'Sri Lanka', 'Spain', 'South Sudan',\n",
       "       'South Africa', 'Solomon Islands', 'Slovenia', 'Slovak Republic',\n",
       "       'Sint Maarten (Dutch part)', 'Singapore', 'Sierra Leone',\n",
       "       'Seychelles', 'Serbia', 'Senegal', 'Saudi Arabia',\n",
       "       'Sao Tome and Principe', 'San Marino', 'Samoa', 'Rwanda',\n",
       "       'Russian Federation', 'Romania', 'Qatar', 'Portugal', 'Poland',\n",
       "       'Philippines', 'Peru', 'Paraguay', 'Papua New Guinea', 'Panama',\n",
       "       'Palau', 'Pakistan', 'Oman', 'Norway', 'North Macedonia',\n",
       "       'Nigeria', 'Niger', 'Nicaragua', 'Nepal', 'Nauru', 'Namibia',\n",
       "       'Myanmar', 'Mozambique', 'Morocco', 'Montenegro', 'Mongolia',\n",
       "       'Moldova', 'Micronesia, Fed. Sts.', 'Mexico', 'Mauritius',\n",
       "       'Mauritania', 'Marshall Islands', 'Malta', 'Mali', 'Maldives',\n",
       "       'Malaysia', 'Malawi', 'Madagascar', 'Macao SAR, China',\n",
       "       'Luxembourg', 'Lithuania', 'Liechtenstein', 'Liberia', 'Lesotho',\n",
       "       'Latvia', 'Lao PDR', 'Kyrgyz Republic', 'Kuwait', 'Korea, Rep.',\n",
       "       \"Korea, Dem. People's Rep.\", 'Kiribati', 'Kenya', 'Kazakhstan',\n",
       "       'Jordan', 'Jamaica', 'Italy', 'Israel', 'Ireland', 'Iraq',\n",
       "       'Iran, Islamic Rep.', 'Indonesia', 'India', 'Iceland', 'Hungary',\n",
       "       'Hong Kong SAR, China', 'Honduras', 'Guyana', 'Guinea-Bissau',\n",
       "       'Guinea', 'Guatemala', 'Grenada', 'Greece', 'Gibraltar', 'Ghana',\n",
       "       'Germany', 'Georgia', 'Gambia, The', 'Gabon', 'France', 'Finland',\n",
       "       'Fiji', 'Ethiopia', 'Eswatini', 'Estonia', 'Eritrea',\n",
       "       'Equatorial Guinea', 'El Salvador', 'Egypt, Arab Rep.', 'Ecuador',\n",
       "       'Dominican Republic', 'Dominica', 'Djibouti', 'Denmark', 'Czechia',\n",
       "       'Cyprus', 'Cuba', 'Croatia', \"Cote d'Ivoire\", 'Costa Rica',\n",
       "       'Congo, Rep.', 'Congo, Dem. Rep.', 'Comoros', 'Colombia', 'China',\n",
       "       'Chile', 'Chad', 'Central African Republic', 'Cayman Islands',\n",
       "       'Canada', 'Cameroon', 'Cambodia', 'Cabo Verde', 'Burundi',\n",
       "       'Burkina Faso', 'Bulgaria', 'Brunei Darussalam',\n",
       "       'British Virgin Islands', 'Brazil', 'Botswana',\n",
       "       'Bosnia and Herzegovina', 'Bolivia', 'Bhutan', 'Bermuda', 'Benin',\n",
       "       'Belize', 'Belarus', 'Barbados', 'Bangladesh', 'Bahrain',\n",
       "       'Bahamas, The', 'Azerbaijan', 'Austria', 'Aruba', 'Armenia',\n",
       "       'Argentina', 'Antigua and Barbuda', 'Angola', 'Algeria', 'Albania',\n",
       "       'Afghanistan', 'World', 'Upper middle income',\n",
       "       'Sub-Saharan Africa (IDA & IBRD countries)',\n",
       "       'Sub-Saharan Africa (excluding high income)', 'Sub-Saharan Africa',\n",
       "       'South Asia (IDA & IBRD)', 'South Asia', 'Small states',\n",
       "       'Pre-demographic dividend', 'Post-demographic dividend',\n",
       "       'Pacific island small states', 'Other small states',\n",
       "       'OECD members', 'North America', 'Middle income',\n",
       "       'Middle East & North Africa (IDA & IBRD countries)',\n",
       "       'Middle East & North Africa (excluding high income)',\n",
       "       'Middle East & North Africa', 'Lower middle income', 'Low income',\n",
       "       'Low & middle income',\n",
       "       'Least developed countries: UN classification',\n",
       "       'Latin America & the Caribbean (IDA & IBRD countries)',\n",
       "       'Latin America & Caribbean (excluding high income)',\n",
       "       'Latin America & Caribbean', 'Late-demographic dividend',\n",
       "       'IDA total', 'IDA only', 'IDA blend', 'IDA & IBRD total',\n",
       "       'IBRD only', 'High income',\n",
       "       'Heavily indebted poor countries (HIPC)',\n",
       "       'Fragile and conflict affected situations', 'European Union',\n",
       "       'Europe & Central Asia (IDA & IBRD countries)',\n",
       "       'Europe & Central Asia (excluding high income)',\n",
       "       'Europe & Central Asia', 'Euro area',\n",
       "       'East Asia & Pacific (IDA & IBRD countries)',\n",
       "       'East Asia & Pacific (excluding high income)',\n",
       "       'East Asia & Pacific', 'Early-demographic dividend',\n",
       "       'Central Europe and the Baltics', 'Caribbean small states',\n",
       "       'Arab World', 'Africa Western and Central',\n",
       "       'Africa Eastern and Southern'], dtype=object)"
      ]
     },
     "execution_count": 124,
     "metadata": {},
     "output_type": "execute_result"
    }
   ],
   "source": [
    "peo_primary['Country'].unique()"
   ]
  },
  {
   "cell_type": "code",
   "execution_count": 125,
   "metadata": {},
   "outputs": [
    {
     "data": {
      "text/plain": [
       "239"
      ]
     },
     "execution_count": 125,
     "metadata": {},
     "output_type": "execute_result"
    }
   ],
   "source": [
    "peo_primary['Country'].nunique()"
   ]
  },
  {
   "attachments": {},
   "cell_type": "markdown",
   "metadata": {},
   "source": [
    "---"
   ]
  },
  {
   "attachments": {},
   "cell_type": "markdown",
   "metadata": {},
   "source": [
    "🔹 Conclusions on: **Primary completion rate, total (PCT of relevant age group)** <br>\n",
    "\n",
    "* Does not contain duplicates. \n",
    "* Does not contain null values.  \n",
    "* It has all the years needed. \n",
    "* It has an extra column, called 'time', that will be removed. \n",
    "* The column named 'Time' will be renamed and it's tipe of data will be changed into int. \n",
    "* The column 'economy' will be renamed into 'Country Code'\n",
    "* THe column 'Country' will be renamed into 'Country Name'\n",
    "* It has more unique in 'Country' than needed. "
   ]
  },
  {
   "attachments": {},
   "cell_type": "markdown",
   "metadata": {},
   "source": [
    "---"
   ]
  },
  {
   "attachments": {},
   "cell_type": "markdown",
   "metadata": {},
   "source": [
    "### Intentional homicides (per 100,000 people)\n",
    "    This dataset shows information related to Unlawful homicides purposely inflicted as a result of domestic disputes, interpersonal violence, violet conflicts over land resources, intergang violence over turf or control, and predatory violence and killing by armed groups.(per 100,000 people)"
   ]
  },
  {
   "cell_type": "code",
   "execution_count": 126,
   "metadata": {},
   "outputs": [
    {
     "data": {
      "text/html": [
       "<div>\n",
       "<style scoped>\n",
       "    .dataframe tbody tr th:only-of-type {\n",
       "        vertical-align: middle;\n",
       "    }\n",
       "\n",
       "    .dataframe tbody tr th {\n",
       "        vertical-align: top;\n",
       "    }\n",
       "\n",
       "    .dataframe thead th {\n",
       "        text-align: right;\n",
       "    }\n",
       "</style>\n",
       "<table border=\"1\" class=\"dataframe\">\n",
       "  <thead>\n",
       "    <tr style=\"text-align: right;\">\n",
       "      <th></th>\n",
       "      <th>economy</th>\n",
       "      <th>time</th>\n",
       "      <th>Country</th>\n",
       "      <th>Time</th>\n",
       "      <th>Intentional homicides (per 100,000 people)</th>\n",
       "    </tr>\n",
       "  </thead>\n",
       "  <tbody>\n",
       "    <tr>\n",
       "      <th>0</th>\n",
       "      <td>ZWE</td>\n",
       "      <td>YR2012</td>\n",
       "      <td>Zimbabwe</td>\n",
       "      <td>2012</td>\n",
       "      <td>7.479900</td>\n",
       "    </tr>\n",
       "    <tr>\n",
       "      <th>1</th>\n",
       "      <td>ZWE</td>\n",
       "      <td>YR2010</td>\n",
       "      <td>Zimbabwe</td>\n",
       "      <td>2010</td>\n",
       "      <td>5.599427</td>\n",
       "    </tr>\n",
       "    <tr>\n",
       "      <th>2</th>\n",
       "      <td>ZWE</td>\n",
       "      <td>YR2006</td>\n",
       "      <td>Zimbabwe</td>\n",
       "      <td>2006</td>\n",
       "      <td>8.819056</td>\n",
       "    </tr>\n",
       "    <tr>\n",
       "      <th>3</th>\n",
       "      <td>ZWE</td>\n",
       "      <td>YR2005</td>\n",
       "      <td>Zimbabwe</td>\n",
       "      <td>2005</td>\n",
       "      <td>11.178553</td>\n",
       "    </tr>\n",
       "    <tr>\n",
       "      <th>4</th>\n",
       "      <td>ZWE</td>\n",
       "      <td>YR2004</td>\n",
       "      <td>Zimbabwe</td>\n",
       "      <td>2004</td>\n",
       "      <td>11.281282</td>\n",
       "    </tr>\n",
       "  </tbody>\n",
       "</table>\n",
       "</div>"
      ],
      "text/plain": [
       "  economy    time   Country  Time  Intentional homicides (per 100,000 people)\n",
       "0     ZWE  YR2012  Zimbabwe  2012                                    7.479900\n",
       "1     ZWE  YR2010  Zimbabwe  2010                                    5.599427\n",
       "2     ZWE  YR2006  Zimbabwe  2006                                    8.819056\n",
       "3     ZWE  YR2005  Zimbabwe  2005                                   11.178553\n",
       "4     ZWE  YR2004  Zimbabwe  2004                                   11.281282"
      ]
     },
     "execution_count": 126,
     "metadata": {},
     "output_type": "execute_result"
    }
   ],
   "source": [
    "peo_homicides.head()"
   ]
  },
  {
   "attachments": {},
   "cell_type": "markdown",
   "metadata": {},
   "source": [
    "We check the size of the dataset: "
   ]
  },
  {
   "cell_type": "code",
   "execution_count": 127,
   "metadata": {},
   "outputs": [
    {
     "data": {
      "text/plain": [
       "(2909, 5)"
      ]
     },
     "execution_count": 127,
     "metadata": {},
     "output_type": "execute_result"
    }
   ],
   "source": [
    "peo_homicides.shape"
   ]
  },
  {
   "attachments": {},
   "cell_type": "markdown",
   "metadata": {},
   "source": [
    "We review the amount of null values and the type of data each column has: "
   ]
  },
  {
   "cell_type": "code",
   "execution_count": 128,
   "metadata": {},
   "outputs": [
    {
     "name": "stdout",
     "output_type": "stream",
     "text": [
      "<class 'pandas.core.frame.DataFrame'>\n",
      "RangeIndex: 2909 entries, 0 to 2908\n",
      "Data columns (total 5 columns):\n",
      " #   Column                                      Non-Null Count  Dtype  \n",
      "---  ------                                      --------------  -----  \n",
      " 0   economy                                     2909 non-null   object \n",
      " 1   time                                        2909 non-null   object \n",
      " 2   Country                                     2909 non-null   object \n",
      " 3   Time                                        2909 non-null   object \n",
      " 4   Intentional homicides (per 100,000 people)  2909 non-null   float64\n",
      "dtypes: float64(1), object(4)\n",
      "memory usage: 113.8+ KB\n"
     ]
    }
   ],
   "source": [
    "peo_homicides.info()"
   ]
  },
  {
   "cell_type": "code",
   "execution_count": 129,
   "metadata": {},
   "outputs": [
    {
     "data": {
      "text/html": [
       "<div>\n",
       "<style scoped>\n",
       "    .dataframe tbody tr th:only-of-type {\n",
       "        vertical-align: middle;\n",
       "    }\n",
       "\n",
       "    .dataframe tbody tr th {\n",
       "        vertical-align: top;\n",
       "    }\n",
       "\n",
       "    .dataframe thead th {\n",
       "        text-align: right;\n",
       "    }\n",
       "</style>\n",
       "<table border=\"1\" class=\"dataframe\">\n",
       "  <thead>\n",
       "    <tr style=\"text-align: right;\">\n",
       "      <th></th>\n",
       "      <th>Intentional homicides (per 100,000 people)</th>\n",
       "    </tr>\n",
       "  </thead>\n",
       "  <tbody>\n",
       "    <tr>\n",
       "      <th>count</th>\n",
       "      <td>2909.000000</td>\n",
       "    </tr>\n",
       "    <tr>\n",
       "      <th>mean</th>\n",
       "      <td>8.124007</td>\n",
       "    </tr>\n",
       "    <tr>\n",
       "      <th>std</th>\n",
       "      <td>11.924528</td>\n",
       "    </tr>\n",
       "    <tr>\n",
       "      <th>min</th>\n",
       "      <td>0.000000</td>\n",
       "    </tr>\n",
       "    <tr>\n",
       "      <th>25%</th>\n",
       "      <td>1.287639</td>\n",
       "    </tr>\n",
       "    <tr>\n",
       "      <th>50%</th>\n",
       "      <td>3.334389</td>\n",
       "    </tr>\n",
       "    <tr>\n",
       "      <th>75%</th>\n",
       "      <td>9.177223</td>\n",
       "    </tr>\n",
       "    <tr>\n",
       "      <th>max</th>\n",
       "      <td>105.231188</td>\n",
       "    </tr>\n",
       "  </tbody>\n",
       "</table>\n",
       "</div>"
      ],
      "text/plain": [
       "       Intentional homicides (per 100,000 people)\n",
       "count                                 2909.000000\n",
       "mean                                     8.124007\n",
       "std                                     11.924528\n",
       "min                                      0.000000\n",
       "25%                                      1.287639\n",
       "50%                                      3.334389\n",
       "75%                                      9.177223\n",
       "max                                    105.231188"
      ]
     },
     "execution_count": 129,
     "metadata": {},
     "output_type": "execute_result"
    }
   ],
   "source": [
    "peo_homicides.describe()"
   ]
  },
  {
   "attachments": {},
   "cell_type": "markdown",
   "metadata": {},
   "source": [
    "We check for duplicates:"
   ]
  },
  {
   "cell_type": "code",
   "execution_count": 5,
   "metadata": {},
   "outputs": [
    {
     "data": {
      "text/html": [
       "<div>\n",
       "<style scoped>\n",
       "    .dataframe tbody tr th:only-of-type {\n",
       "        vertical-align: middle;\n",
       "    }\n",
       "\n",
       "    .dataframe tbody tr th {\n",
       "        vertical-align: top;\n",
       "    }\n",
       "\n",
       "    .dataframe thead th {\n",
       "        text-align: right;\n",
       "    }\n",
       "</style>\n",
       "<table border=\"1\" class=\"dataframe\">\n",
       "  <thead>\n",
       "    <tr style=\"text-align: right;\">\n",
       "      <th></th>\n",
       "      <th>economy</th>\n",
       "      <th>time</th>\n",
       "      <th>Country</th>\n",
       "      <th>Time</th>\n",
       "      <th>Intentional homicides (per 100,000 people)</th>\n",
       "    </tr>\n",
       "  </thead>\n",
       "  <tbody>\n",
       "  </tbody>\n",
       "</table>\n",
       "</div>"
      ],
      "text/plain": [
       "Empty DataFrame\n",
       "Columns: [economy, time, Country, Time, Intentional homicides (per 100,000 people)]\n",
       "Index: []"
      ]
     },
     "execution_count": 5,
     "metadata": {},
     "output_type": "execute_result"
    }
   ],
   "source": [
    "peo_homicides[peo_homicides.duplicated(subset=['Country', 'Time'])]"
   ]
  },
  {
   "attachments": {},
   "cell_type": "markdown",
   "metadata": {},
   "source": [
    "We check it has the years needed:"
   ]
  },
  {
   "cell_type": "code",
   "execution_count": 6,
   "metadata": {},
   "outputs": [
    {
     "data": {
      "text/plain": [
       "array(['2012', '2010', '2006', '2005', '2004', '2003', '2002', '2001',\n",
       "       '2015', '2014', '2013', '2011', '2009', '2008', '2000', '2020',\n",
       "       '2019', '2018', '2017', '2016', '2007'], dtype=object)"
      ]
     },
     "execution_count": 6,
     "metadata": {},
     "output_type": "execute_result"
    }
   ],
   "source": [
    "peo_homicides['Time'].unique()"
   ]
  },
  {
   "attachments": {},
   "cell_type": "markdown",
   "metadata": {},
   "source": [
    "We check the amount of countries and which onces it has:"
   ]
  },
  {
   "cell_type": "code",
   "execution_count": 7,
   "metadata": {},
   "outputs": [
    {
     "data": {
      "text/plain": [
       "array(['Zimbabwe', 'Zambia', 'Yemen, Rep.', 'West Bank and Gaza',\n",
       "       'Virgin Islands (U.S.)', 'Vietnam', 'Venezuela, RB', 'Vanuatu',\n",
       "       'Uzbekistan', 'Uruguay', 'United States', 'United Kingdom',\n",
       "       'United Arab Emirates', 'Ukraine', 'Uganda', 'Tuvalu',\n",
       "       'Turks and Caicos Islands', 'Turkmenistan', 'Turkiye', 'Tunisia',\n",
       "       'Trinidad and Tobago', 'Tonga', 'Timor-Leste', 'Thailand',\n",
       "       'Tanzania', 'Tajikistan', 'Syrian Arab Republic', 'Switzerland',\n",
       "       'Sweden', 'Suriname', 'Sudan', 'St. Vincent and the Grenadines',\n",
       "       'St. Martin (French part)', 'St. Lucia', 'St. Kitts and Nevis',\n",
       "       'Sri Lanka', 'Spain', 'South Sudan', 'South Africa',\n",
       "       'Solomon Islands', 'Slovenia', 'Slovak Republic', 'Singapore',\n",
       "       'Sierra Leone', 'Seychelles', 'Serbia', 'Senegal', 'Saudi Arabia',\n",
       "       'Sao Tome and Principe', 'San Marino', 'Samoa', 'Rwanda',\n",
       "       'Russian Federation', 'Romania', 'Qatar', 'Puerto Rico',\n",
       "       'Portugal', 'Poland', 'Philippines', 'Peru', 'Paraguay',\n",
       "       'Papua New Guinea', 'Panama', 'Palau', 'Pakistan', 'Oman',\n",
       "       'Norway', 'North Macedonia', 'Nigeria', 'Niger', 'Nicaragua',\n",
       "       'New Zealand', 'New Caledonia', 'Netherlands', 'Nepal', 'Namibia',\n",
       "       'Myanmar', 'Mozambique', 'Morocco', 'Montenegro', 'Mongolia',\n",
       "       'Monaco', 'Moldova', 'Micronesia, Fed. Sts.', 'Mexico',\n",
       "       'Mauritius', 'Malta', 'Maldives', 'Malaysia', 'Malawi',\n",
       "       'Macao SAR, China', 'Luxembourg', 'Lithuania', 'Liechtenstein',\n",
       "       'Liberia', 'Lesotho', 'Lebanon', 'Latvia', 'Kyrgyz Republic',\n",
       "       'Kuwait', 'Kosovo', 'Korea, Rep.', 'Kiribati', 'Kenya',\n",
       "       'Kazakhstan', 'Jordan', 'Japan', 'Jamaica', 'Italy', 'Israel',\n",
       "       'Isle of Man', 'Ireland', 'Iraq', 'Iran, Islamic Rep.',\n",
       "       'Indonesia', 'India', 'Iceland', 'Hungary', 'Hong Kong SAR, China',\n",
       "       'Honduras', 'Haiti', 'Guyana', 'Guinea-Bissau', 'Guatemala',\n",
       "       'Guam', 'Grenada', 'Greenland', 'Greece', 'Gibraltar', 'Ghana',\n",
       "       'Germany', 'Georgia', 'French Polynesia', 'France', 'Finland',\n",
       "       'Fiji', 'Ethiopia', 'Eswatini', 'Estonia', 'El Salvador',\n",
       "       'Egypt, Arab Rep.', 'Ecuador', 'Dominican Republic', 'Dominica',\n",
       "       'Denmark', 'Czechia', 'Cyprus', 'Curacao', 'Cuba', 'Croatia',\n",
       "       'Costa Rica', 'Colombia', 'China', 'Chile', 'Channel Islands',\n",
       "       'Central African Republic', 'Cayman Islands', 'Canada', 'Cameroon',\n",
       "       'Cambodia', 'Cabo Verde', 'Burundi', 'Burkina Faso', 'Bulgaria',\n",
       "       'Brunei Darussalam', 'British Virgin Islands', 'Brazil',\n",
       "       'Botswana', 'Bosnia and Herzegovina', 'Bolivia', 'Bhutan',\n",
       "       'Bermuda', 'Benin', 'Belize', 'Belgium', 'Belarus', 'Barbados',\n",
       "       'Bangladesh', 'Bahrain', 'Bahamas, The', 'Azerbaijan', 'Austria',\n",
       "       'Australia', 'Aruba', 'Armenia', 'Argentina',\n",
       "       'Antigua and Barbuda', 'Angola', 'Andorra', 'American Samoa',\n",
       "       'Algeria', 'Albania', 'Afghanistan', 'World',\n",
       "       'Upper middle income', 'Sub-Saharan Africa (IDA & IBRD countries)',\n",
       "       'Sub-Saharan Africa (excluding high income)', 'Sub-Saharan Africa',\n",
       "       'South Asia (IDA & IBRD)', 'South Asia', 'Small states',\n",
       "       'Pre-demographic dividend', 'Post-demographic dividend',\n",
       "       'Pacific island small states', 'Other small states',\n",
       "       'OECD members', 'North America', 'Middle income',\n",
       "       'Middle East & North Africa (IDA & IBRD countries)',\n",
       "       'Middle East & North Africa (excluding high income)',\n",
       "       'Middle East & North Africa', 'Lower middle income', 'Low income',\n",
       "       'Low & middle income',\n",
       "       'Least developed countries: UN classification',\n",
       "       'Latin America & the Caribbean (IDA & IBRD countries)',\n",
       "       'Latin America & Caribbean (excluding high income)',\n",
       "       'Latin America & Caribbean', 'Late-demographic dividend',\n",
       "       'IDA total', 'IDA only', 'IDA blend', 'IDA & IBRD total',\n",
       "       'IBRD only', 'High income',\n",
       "       'Heavily indebted poor countries (HIPC)',\n",
       "       'Fragile and conflict affected situations', 'European Union',\n",
       "       'Europe & Central Asia (IDA & IBRD countries)',\n",
       "       'Europe & Central Asia (excluding high income)',\n",
       "       'Europe & Central Asia', 'Euro area',\n",
       "       'East Asia & Pacific (IDA & IBRD countries)',\n",
       "       'East Asia & Pacific (excluding high income)',\n",
       "       'East Asia & Pacific', 'Early-demographic dividend',\n",
       "       'Central Europe and the Baltics', 'Caribbean small states',\n",
       "       'Arab World', 'Africa Western and Central',\n",
       "       'Africa Eastern and Southern'], dtype=object)"
      ]
     },
     "execution_count": 7,
     "metadata": {},
     "output_type": "execute_result"
    }
   ],
   "source": [
    "peo_homicides['Country'].unique()"
   ]
  },
  {
   "cell_type": "code",
   "execution_count": 8,
   "metadata": {},
   "outputs": [
    {
     "data": {
      "text/plain": [
       "241"
      ]
     },
     "execution_count": 8,
     "metadata": {},
     "output_type": "execute_result"
    }
   ],
   "source": [
    "peo_homicides['Country'].nunique()"
   ]
  },
  {
   "attachments": {},
   "cell_type": "markdown",
   "metadata": {},
   "source": [
    "---"
   ]
  },
  {
   "attachments": {},
   "cell_type": "markdown",
   "metadata": {},
   "source": [
    "## General conclusions on People: \n",
    "    All of the people related databases look exactly the same. \n",
    "    They are clean enough to start working on them. "
   ]
  },
  {
   "attachments": {},
   "cell_type": "markdown",
   "metadata": {},
   "source": [
    "---"
   ]
  },
  {
   "attachments": {},
   "cell_type": "markdown",
   "metadata": {},
   "source": [
    "## ⟐ Environment:\n",
    "•\tAccess to electricity (% of population)<br>\n",
    "•\tPeople using at least basic sanitation services in urban areas <br>\n",
    "•\tPopulation Density (people per sq. hm of land area)<br>"
   ]
  },
  {
   "attachments": {},
   "cell_type": "markdown",
   "metadata": {},
   "source": [
    "We load the databases into variables:"
   ]
  },
  {
   "cell_type": "code",
   "execution_count": 9,
   "metadata": {},
   "outputs": [],
   "source": [
    "# Access to electricity (% of population)\n",
    "env_elect = wb.data.DataFrame('EG.ELC.ACCS.ZS', labels = True, time=range(2000, year), skipBlanks=True, columns='series').reset_index()\n",
    "env_elect.rename(columns={'EG.ELC.ACCS.ZS': 'Access Elect.'}, inplace=True)\n",
    "\n",
    "# People using at least basic sanitation services in urban areas\n",
    "env_basic_sanitation = wb.data.DataFrame('SH.STA.BASS.UR.ZS', labels = True, time=range(2000, year), skipBlanks=True, columns='series').reset_index()\n",
    "env_basic_sanitation.rename(columns={'SH.STA.BASS.UR.ZS': 'Basic Sanitation'}, inplace=True)\n",
    "\n",
    "# Population Density\n",
    "data_url = 'https://datahub.io/world-bank/en.pop.dnst/datapackage.json'\n",
    "package = datapackage.Package(data_url)\n",
    "resources = package.resources\n",
    "for resource in resources:\n",
    "    if resource.tabular:\n",
    "        env_pop_density = pd.read_csv(resource.descriptor['path'])"
   ]
  },
  {
   "attachments": {},
   "cell_type": "markdown",
   "metadata": {},
   "source": [
    "---"
   ]
  },
  {
   "attachments": {},
   "cell_type": "markdown",
   "metadata": {},
   "source": [
    "We start checking the basics of each one of them: "
   ]
  },
  {
   "attachments": {},
   "cell_type": "markdown",
   "metadata": {},
   "source": [
    "### Access to electricity\n",
    "    This database shows information related to Percentage of population with access to electricity. Electrificacion data is collected from industry, national surveys, and international sources.(% of population)"
   ]
  },
  {
   "cell_type": "code",
   "execution_count": 10,
   "metadata": {},
   "outputs": [
    {
     "data": {
      "text/html": [
       "<div>\n",
       "<style scoped>\n",
       "    .dataframe tbody tr th:only-of-type {\n",
       "        vertical-align: middle;\n",
       "    }\n",
       "\n",
       "    .dataframe tbody tr th {\n",
       "        vertical-align: top;\n",
       "    }\n",
       "\n",
       "    .dataframe thead th {\n",
       "        text-align: right;\n",
       "    }\n",
       "</style>\n",
       "<table border=\"1\" class=\"dataframe\">\n",
       "  <thead>\n",
       "    <tr style=\"text-align: right;\">\n",
       "      <th></th>\n",
       "      <th>economy</th>\n",
       "      <th>time</th>\n",
       "      <th>Country</th>\n",
       "      <th>Time</th>\n",
       "      <th>Access Elect.</th>\n",
       "    </tr>\n",
       "  </thead>\n",
       "  <tbody>\n",
       "    <tr>\n",
       "      <th>0</th>\n",
       "      <td>ZWE</td>\n",
       "      <td>YR2020</td>\n",
       "      <td>Zimbabwe</td>\n",
       "      <td>2020</td>\n",
       "      <td>52.747669</td>\n",
       "    </tr>\n",
       "    <tr>\n",
       "      <th>1</th>\n",
       "      <td>ZWE</td>\n",
       "      <td>YR2019</td>\n",
       "      <td>Zimbabwe</td>\n",
       "      <td>2019</td>\n",
       "      <td>46.781475</td>\n",
       "    </tr>\n",
       "    <tr>\n",
       "      <th>2</th>\n",
       "      <td>ZWE</td>\n",
       "      <td>YR2018</td>\n",
       "      <td>Zimbabwe</td>\n",
       "      <td>2018</td>\n",
       "      <td>45.572647</td>\n",
       "    </tr>\n",
       "    <tr>\n",
       "      <th>3</th>\n",
       "      <td>ZWE</td>\n",
       "      <td>YR2017</td>\n",
       "      <td>Zimbabwe</td>\n",
       "      <td>2017</td>\n",
       "      <td>44.178635</td>\n",
       "    </tr>\n",
       "    <tr>\n",
       "      <th>4</th>\n",
       "      <td>ZWE</td>\n",
       "      <td>YR2016</td>\n",
       "      <td>Zimbabwe</td>\n",
       "      <td>2016</td>\n",
       "      <td>42.561729</td>\n",
       "    </tr>\n",
       "  </tbody>\n",
       "</table>\n",
       "</div>"
      ],
      "text/plain": [
       "  economy    time   Country  Time  Access Elect.\n",
       "0     ZWE  YR2020  Zimbabwe  2020      52.747669\n",
       "1     ZWE  YR2019  Zimbabwe  2019      46.781475\n",
       "2     ZWE  YR2018  Zimbabwe  2018      45.572647\n",
       "3     ZWE  YR2017  Zimbabwe  2017      44.178635\n",
       "4     ZWE  YR2016  Zimbabwe  2016      42.561729"
      ]
     },
     "execution_count": 10,
     "metadata": {},
     "output_type": "execute_result"
    }
   ],
   "source": [
    "env_elect.head()"
   ]
  },
  {
   "attachments": {},
   "cell_type": "markdown",
   "metadata": {},
   "source": [
    "We check the size of the dataset:"
   ]
  },
  {
   "cell_type": "code",
   "execution_count": 11,
   "metadata": {},
   "outputs": [
    {
     "data": {
      "text/plain": [
       "(5507, 5)"
      ]
     },
     "execution_count": 11,
     "metadata": {},
     "output_type": "execute_result"
    }
   ],
   "source": [
    "env_elect.shape"
   ]
  },
  {
   "attachments": {},
   "cell_type": "markdown",
   "metadata": {},
   "source": [
    "We review the amount of null values and the type of data each column has: "
   ]
  },
  {
   "cell_type": "code",
   "execution_count": 12,
   "metadata": {},
   "outputs": [
    {
     "name": "stdout",
     "output_type": "stream",
     "text": [
      "<class 'pandas.core.frame.DataFrame'>\n",
      "RangeIndex: 5507 entries, 0 to 5506\n",
      "Data columns (total 5 columns):\n",
      " #   Column         Non-Null Count  Dtype  \n",
      "---  ------         --------------  -----  \n",
      " 0   economy        5507 non-null   object \n",
      " 1   time           5507 non-null   object \n",
      " 2   Country        5507 non-null   object \n",
      " 3   Time           5507 non-null   object \n",
      " 4   Access Elect.  5507 non-null   float64\n",
      "dtypes: float64(1), object(4)\n",
      "memory usage: 215.2+ KB\n"
     ]
    }
   ],
   "source": [
    "env_elect.info()"
   ]
  },
  {
   "cell_type": "code",
   "execution_count": 13,
   "metadata": {},
   "outputs": [
    {
     "data": {
      "text/html": [
       "<div>\n",
       "<style scoped>\n",
       "    .dataframe tbody tr th:only-of-type {\n",
       "        vertical-align: middle;\n",
       "    }\n",
       "\n",
       "    .dataframe tbody tr th {\n",
       "        vertical-align: top;\n",
       "    }\n",
       "\n",
       "    .dataframe thead th {\n",
       "        text-align: right;\n",
       "    }\n",
       "</style>\n",
       "<table border=\"1\" class=\"dataframe\">\n",
       "  <thead>\n",
       "    <tr style=\"text-align: right;\">\n",
       "      <th></th>\n",
       "      <th>Access Elect.</th>\n",
       "    </tr>\n",
       "  </thead>\n",
       "  <tbody>\n",
       "    <tr>\n",
       "      <th>count</th>\n",
       "      <td>5507.000000</td>\n",
       "    </tr>\n",
       "    <tr>\n",
       "      <th>mean</th>\n",
       "      <td>79.986053</td>\n",
       "    </tr>\n",
       "    <tr>\n",
       "      <th>std</th>\n",
       "      <td>28.787049</td>\n",
       "    </tr>\n",
       "    <tr>\n",
       "      <th>min</th>\n",
       "      <td>0.643132</td>\n",
       "    </tr>\n",
       "    <tr>\n",
       "      <th>25%</th>\n",
       "      <td>64.452004</td>\n",
       "    </tr>\n",
       "    <tr>\n",
       "      <th>50%</th>\n",
       "      <td>97.722672</td>\n",
       "    </tr>\n",
       "    <tr>\n",
       "      <th>75%</th>\n",
       "      <td>100.000000</td>\n",
       "    </tr>\n",
       "    <tr>\n",
       "      <th>max</th>\n",
       "      <td>100.000000</td>\n",
       "    </tr>\n",
       "  </tbody>\n",
       "</table>\n",
       "</div>"
      ],
      "text/plain": [
       "       Access Elect.\n",
       "count    5507.000000\n",
       "mean       79.986053\n",
       "std        28.787049\n",
       "min         0.643132\n",
       "25%        64.452004\n",
       "50%        97.722672\n",
       "75%       100.000000\n",
       "max       100.000000"
      ]
     },
     "execution_count": 13,
     "metadata": {},
     "output_type": "execute_result"
    }
   ],
   "source": [
    "env_elect.describe()"
   ]
  },
  {
   "attachments": {},
   "cell_type": "markdown",
   "metadata": {},
   "source": [
    "We check for duplicates: "
   ]
  },
  {
   "cell_type": "code",
   "execution_count": 14,
   "metadata": {},
   "outputs": [
    {
     "data": {
      "text/html": [
       "<div>\n",
       "<style scoped>\n",
       "    .dataframe tbody tr th:only-of-type {\n",
       "        vertical-align: middle;\n",
       "    }\n",
       "\n",
       "    .dataframe tbody tr th {\n",
       "        vertical-align: top;\n",
       "    }\n",
       "\n",
       "    .dataframe thead th {\n",
       "        text-align: right;\n",
       "    }\n",
       "</style>\n",
       "<table border=\"1\" class=\"dataframe\">\n",
       "  <thead>\n",
       "    <tr style=\"text-align: right;\">\n",
       "      <th></th>\n",
       "      <th>economy</th>\n",
       "      <th>time</th>\n",
       "      <th>Country</th>\n",
       "      <th>Time</th>\n",
       "      <th>Access Elect.</th>\n",
       "    </tr>\n",
       "  </thead>\n",
       "  <tbody>\n",
       "  </tbody>\n",
       "</table>\n",
       "</div>"
      ],
      "text/plain": [
       "Empty DataFrame\n",
       "Columns: [economy, time, Country, Time, Access Elect.]\n",
       "Index: []"
      ]
     },
     "execution_count": 14,
     "metadata": {},
     "output_type": "execute_result"
    }
   ],
   "source": [
    "env_elect[env_elect.duplicated(subset=['Country', 'Time'])]"
   ]
  },
  {
   "attachments": {},
   "cell_type": "markdown",
   "metadata": {},
   "source": [
    "We check it has the years needed:"
   ]
  },
  {
   "cell_type": "code",
   "execution_count": 16,
   "metadata": {},
   "outputs": [
    {
     "data": {
      "text/plain": [
       "array(['2020', '2019', '2018', '2017', '2016', '2015', '2014', '2013',\n",
       "       '2012', '2011', '2010', '2009', '2008', '2007', '2006', '2005',\n",
       "       '2004', '2003', '2002', '2001', '2000'], dtype=object)"
      ]
     },
     "execution_count": 16,
     "metadata": {},
     "output_type": "execute_result"
    }
   ],
   "source": [
    "env_elect['Time'].unique()"
   ]
  },
  {
   "attachments": {},
   "cell_type": "markdown",
   "metadata": {},
   "source": [
    "We check the amount of countries and which onces it has:"
   ]
  },
  {
   "cell_type": "code",
   "execution_count": 17,
   "metadata": {},
   "outputs": [
    {
     "data": {
      "text/plain": [
       "array(['Zimbabwe', 'Zambia', 'Yemen, Rep.', 'West Bank and Gaza',\n",
       "       'Virgin Islands (U.S.)', 'Vietnam', 'Venezuela, RB', 'Vanuatu',\n",
       "       'Uzbekistan', 'Uruguay', 'United States', 'United Kingdom',\n",
       "       'United Arab Emirates', 'Ukraine', 'Uganda', 'Tuvalu',\n",
       "       'Turks and Caicos Islands', 'Turkmenistan', 'Turkiye', 'Tunisia',\n",
       "       'Trinidad and Tobago', 'Tonga', 'Togo', 'Timor-Leste', 'Thailand',\n",
       "       'Tanzania', 'Tajikistan', 'Syrian Arab Republic', 'Switzerland',\n",
       "       'Sweden', 'Suriname', 'Sudan', 'St. Vincent and the Grenadines',\n",
       "       'St. Martin (French part)', 'St. Lucia', 'St. Kitts and Nevis',\n",
       "       'Sri Lanka', 'Spain', 'South Sudan', 'South Africa', 'Somalia',\n",
       "       'Solomon Islands', 'Slovenia', 'Slovak Republic',\n",
       "       'Sint Maarten (Dutch part)', 'Singapore', 'Sierra Leone',\n",
       "       'Seychelles', 'Serbia', 'Senegal', 'Saudi Arabia',\n",
       "       'Sao Tome and Principe', 'San Marino', 'Samoa', 'Rwanda',\n",
       "       'Russian Federation', 'Romania', 'Qatar', 'Puerto Rico',\n",
       "       'Portugal', 'Poland', 'Philippines', 'Peru', 'Paraguay',\n",
       "       'Papua New Guinea', 'Panama', 'Palau', 'Pakistan', 'Oman',\n",
       "       'Norway', 'Northern Mariana Islands', 'North Macedonia', 'Nigeria',\n",
       "       'Niger', 'Nicaragua', 'New Zealand', 'New Caledonia',\n",
       "       'Netherlands', 'Nepal', 'Nauru', 'Namibia', 'Myanmar',\n",
       "       'Mozambique', 'Morocco', 'Montenegro', 'Mongolia', 'Monaco',\n",
       "       'Moldova', 'Micronesia, Fed. Sts.', 'Mexico', 'Mauritius',\n",
       "       'Mauritania', 'Marshall Islands', 'Malta', 'Mali', 'Maldives',\n",
       "       'Malaysia', 'Malawi', 'Madagascar', 'Macao SAR, China',\n",
       "       'Luxembourg', 'Lithuania', 'Liechtenstein', 'Libya', 'Liberia',\n",
       "       'Lesotho', 'Lebanon', 'Latvia', 'Lao PDR', 'Kyrgyz Republic',\n",
       "       'Kuwait', 'Kosovo', 'Korea, Rep.', \"Korea, Dem. People's Rep.\",\n",
       "       'Kiribati', 'Kenya', 'Kazakhstan', 'Jordan', 'Japan', 'Jamaica',\n",
       "       'Italy', 'Israel', 'Isle of Man', 'Ireland', 'Iraq',\n",
       "       'Iran, Islamic Rep.', 'Indonesia', 'India', 'Iceland', 'Hungary',\n",
       "       'Hong Kong SAR, China', 'Honduras', 'Haiti', 'Guyana',\n",
       "       'Guinea-Bissau', 'Guinea', 'Guatemala', 'Guam', 'Grenada',\n",
       "       'Greenland', 'Greece', 'Gibraltar', 'Ghana', 'Germany', 'Georgia',\n",
       "       'Gambia, The', 'Gabon', 'French Polynesia', 'France', 'Finland',\n",
       "       'Fiji', 'Faroe Islands', 'Ethiopia', 'Eswatini', 'Estonia',\n",
       "       'Eritrea', 'Equatorial Guinea', 'El Salvador', 'Egypt, Arab Rep.',\n",
       "       'Ecuador', 'Dominican Republic', 'Dominica', 'Djibouti', 'Denmark',\n",
       "       'Czechia', 'Cyprus', 'Curacao', 'Cuba', 'Croatia', \"Cote d'Ivoire\",\n",
       "       'Costa Rica', 'Congo, Rep.', 'Congo, Dem. Rep.', 'Comoros',\n",
       "       'Colombia', 'China', 'Chile', 'Channel Islands', 'Chad',\n",
       "       'Central African Republic', 'Cayman Islands', 'Canada', 'Cameroon',\n",
       "       'Cambodia', 'Cabo Verde', 'Burundi', 'Burkina Faso', 'Bulgaria',\n",
       "       'Brunei Darussalam', 'British Virgin Islands', 'Brazil',\n",
       "       'Botswana', 'Bosnia and Herzegovina', 'Bolivia', 'Bhutan',\n",
       "       'Bermuda', 'Benin', 'Belize', 'Belgium', 'Belarus', 'Barbados',\n",
       "       'Bangladesh', 'Bahrain', 'Bahamas, The', 'Azerbaijan', 'Austria',\n",
       "       'Australia', 'Aruba', 'Armenia', 'Argentina',\n",
       "       'Antigua and Barbuda', 'Angola', 'Andorra', 'Algeria', 'Albania',\n",
       "       'Afghanistan', 'World', 'Upper middle income',\n",
       "       'Sub-Saharan Africa (IDA & IBRD countries)',\n",
       "       'Sub-Saharan Africa (excluding high income)', 'Sub-Saharan Africa',\n",
       "       'South Asia (IDA & IBRD)', 'South Asia', 'Small states',\n",
       "       'Pre-demographic dividend', 'Post-demographic dividend',\n",
       "       'Pacific island small states', 'Other small states',\n",
       "       'OECD members', 'North America', 'Middle income',\n",
       "       'Middle East & North Africa (IDA & IBRD countries)',\n",
       "       'Middle East & North Africa (excluding high income)',\n",
       "       'Middle East & North Africa', 'Lower middle income', 'Low income',\n",
       "       'Low & middle income',\n",
       "       'Least developed countries: UN classification',\n",
       "       'Latin America & the Caribbean (IDA & IBRD countries)',\n",
       "       'Latin America & Caribbean (excluding high income)',\n",
       "       'Latin America & Caribbean', 'Late-demographic dividend',\n",
       "       'IDA total', 'IDA only', 'IDA blend', 'IDA & IBRD total',\n",
       "       'IBRD only', 'High income',\n",
       "       'Heavily indebted poor countries (HIPC)',\n",
       "       'Fragile and conflict affected situations', 'European Union',\n",
       "       'Europe & Central Asia (IDA & IBRD countries)',\n",
       "       'Europe & Central Asia (excluding high income)',\n",
       "       'Europe & Central Asia', 'Euro area',\n",
       "       'East Asia & Pacific (IDA & IBRD countries)',\n",
       "       'East Asia & Pacific (excluding high income)',\n",
       "       'East Asia & Pacific', 'Early-demographic dividend',\n",
       "       'Central Europe and the Baltics', 'Caribbean small states',\n",
       "       'Arab World', 'Africa Western and Central',\n",
       "       'Africa Eastern and Southern'], dtype=object)"
      ]
     },
     "execution_count": 17,
     "metadata": {},
     "output_type": "execute_result"
    }
   ],
   "source": [
    "env_elect['Country'].unique()"
   ]
  },
  {
   "cell_type": "code",
   "execution_count": 18,
   "metadata": {},
   "outputs": [
    {
     "data": {
      "text/plain": [
       "264"
      ]
     },
     "execution_count": 18,
     "metadata": {},
     "output_type": "execute_result"
    }
   ],
   "source": [
    "env_elect['Country'].nunique()"
   ]
  },
  {
   "attachments": {},
   "cell_type": "markdown",
   "metadata": {},
   "source": [
    "---"
   ]
  },
  {
   "attachments": {},
   "cell_type": "markdown",
   "metadata": {},
   "source": [
    "🔹 Conclusions on: **Access to electricity** <br>\n",
    "* Does not contain duplicates. \n",
    "* Does not contain null values.  \n",
    "* It has all the years needed. \n",
    "* It has an extra column, called 'time', that will be removed. \n",
    "* The column named 'Time' will be renamed and it's tipe of data will be changed into int. \n",
    "* The column 'economy' will be renamed into 'Country Code'\n",
    "* THe column 'Country' will be renamed into 'Country Name'"
   ]
  },
  {
   "attachments": {},
   "cell_type": "markdown",
   "metadata": {},
   "source": [
    "---"
   ]
  },
  {
   "attachments": {},
   "cell_type": "markdown",
   "metadata": {},
   "source": [
    "### Basic sanitation in Urban areas\n",
    "    This dataset shows information related to Improved sanitation facilities that are not shared with other households. This indicator encompasses both people using basic sanitation services as well as those using safely managed sanitation services."
   ]
  },
  {
   "cell_type": "code",
   "execution_count": 19,
   "metadata": {},
   "outputs": [
    {
     "data": {
      "text/html": [
       "<div>\n",
       "<style scoped>\n",
       "    .dataframe tbody tr th:only-of-type {\n",
       "        vertical-align: middle;\n",
       "    }\n",
       "\n",
       "    .dataframe tbody tr th {\n",
       "        vertical-align: top;\n",
       "    }\n",
       "\n",
       "    .dataframe thead th {\n",
       "        text-align: right;\n",
       "    }\n",
       "</style>\n",
       "<table border=\"1\" class=\"dataframe\">\n",
       "  <thead>\n",
       "    <tr style=\"text-align: right;\">\n",
       "      <th></th>\n",
       "      <th>economy</th>\n",
       "      <th>time</th>\n",
       "      <th>Country</th>\n",
       "      <th>Time</th>\n",
       "      <th>Basic Sanitation</th>\n",
       "    </tr>\n",
       "  </thead>\n",
       "  <tbody>\n",
       "    <tr>\n",
       "      <th>0</th>\n",
       "      <td>ZWE</td>\n",
       "      <td>YR2020</td>\n",
       "      <td>Zimbabwe</td>\n",
       "      <td>2020</td>\n",
       "      <td>41.829436</td>\n",
       "    </tr>\n",
       "    <tr>\n",
       "      <th>1</th>\n",
       "      <td>ZWE</td>\n",
       "      <td>YR2019</td>\n",
       "      <td>Zimbabwe</td>\n",
       "      <td>2019</td>\n",
       "      <td>43.223952</td>\n",
       "    </tr>\n",
       "    <tr>\n",
       "      <th>2</th>\n",
       "      <td>ZWE</td>\n",
       "      <td>YR2018</td>\n",
       "      <td>Zimbabwe</td>\n",
       "      <td>2018</td>\n",
       "      <td>44.613054</td>\n",
       "    </tr>\n",
       "    <tr>\n",
       "      <th>3</th>\n",
       "      <td>ZWE</td>\n",
       "      <td>YR2017</td>\n",
       "      <td>Zimbabwe</td>\n",
       "      <td>2017</td>\n",
       "      <td>45.996743</td>\n",
       "    </tr>\n",
       "    <tr>\n",
       "      <th>4</th>\n",
       "      <td>ZWE</td>\n",
       "      <td>YR2016</td>\n",
       "      <td>Zimbabwe</td>\n",
       "      <td>2016</td>\n",
       "      <td>47.375018</td>\n",
       "    </tr>\n",
       "  </tbody>\n",
       "</table>\n",
       "</div>"
      ],
      "text/plain": [
       "  economy    time   Country  Time  Basic Sanitation\n",
       "0     ZWE  YR2020  Zimbabwe  2020         41.829436\n",
       "1     ZWE  YR2019  Zimbabwe  2019         43.223952\n",
       "2     ZWE  YR2018  Zimbabwe  2018         44.613054\n",
       "3     ZWE  YR2017  Zimbabwe  2017         45.996743\n",
       "4     ZWE  YR2016  Zimbabwe  2016         47.375018"
      ]
     },
     "execution_count": 19,
     "metadata": {},
     "output_type": "execute_result"
    }
   ],
   "source": [
    "env_basic_sanitation.head()"
   ]
  },
  {
   "attachments": {},
   "cell_type": "markdown",
   "metadata": {},
   "source": [
    "We check the size of the dataset:"
   ]
  },
  {
   "cell_type": "code",
   "execution_count": 20,
   "metadata": {},
   "outputs": [
    {
     "data": {
      "text/plain": [
       "(4659, 5)"
      ]
     },
     "execution_count": 20,
     "metadata": {},
     "output_type": "execute_result"
    }
   ],
   "source": [
    "env_basic_sanitation.shape"
   ]
  },
  {
   "attachments": {},
   "cell_type": "markdown",
   "metadata": {},
   "source": [
    "We review the amount of null values and the type of data each column has: "
   ]
  },
  {
   "cell_type": "code",
   "execution_count": 21,
   "metadata": {},
   "outputs": [
    {
     "name": "stdout",
     "output_type": "stream",
     "text": [
      "<class 'pandas.core.frame.DataFrame'>\n",
      "RangeIndex: 4659 entries, 0 to 4658\n",
      "Data columns (total 5 columns):\n",
      " #   Column            Non-Null Count  Dtype  \n",
      "---  ------            --------------  -----  \n",
      " 0   economy           4659 non-null   object \n",
      " 1   time              4659 non-null   object \n",
      " 2   Country           4659 non-null   object \n",
      " 3   Time              4659 non-null   object \n",
      " 4   Basic Sanitation  4659 non-null   float64\n",
      "dtypes: float64(1), object(4)\n",
      "memory usage: 182.1+ KB\n"
     ]
    }
   ],
   "source": [
    "env_basic_sanitation.info()"
   ]
  },
  {
   "cell_type": "code",
   "execution_count": 22,
   "metadata": {},
   "outputs": [
    {
     "data": {
      "text/html": [
       "<div>\n",
       "<style scoped>\n",
       "    .dataframe tbody tr th:only-of-type {\n",
       "        vertical-align: middle;\n",
       "    }\n",
       "\n",
       "    .dataframe tbody tr th {\n",
       "        vertical-align: top;\n",
       "    }\n",
       "\n",
       "    .dataframe thead th {\n",
       "        text-align: right;\n",
       "    }\n",
       "</style>\n",
       "<table border=\"1\" class=\"dataframe\">\n",
       "  <thead>\n",
       "    <tr style=\"text-align: right;\">\n",
       "      <th></th>\n",
       "      <th>Basic Sanitation</th>\n",
       "    </tr>\n",
       "  </thead>\n",
       "  <tbody>\n",
       "    <tr>\n",
       "      <th>count</th>\n",
       "      <td>4659.000000</td>\n",
       "    </tr>\n",
       "    <tr>\n",
       "      <th>mean</th>\n",
       "      <td>76.552443</td>\n",
       "    </tr>\n",
       "    <tr>\n",
       "      <th>std</th>\n",
       "      <td>24.638195</td>\n",
       "    </tr>\n",
       "    <tr>\n",
       "      <th>min</th>\n",
       "      <td>9.568371</td>\n",
       "    </tr>\n",
       "    <tr>\n",
       "      <th>25%</th>\n",
       "      <td>57.140528</td>\n",
       "    </tr>\n",
       "    <tr>\n",
       "      <th>50%</th>\n",
       "      <td>87.068263</td>\n",
       "    </tr>\n",
       "    <tr>\n",
       "      <th>75%</th>\n",
       "      <td>97.500000</td>\n",
       "    </tr>\n",
       "    <tr>\n",
       "      <th>max</th>\n",
       "      <td>100.000000</td>\n",
       "    </tr>\n",
       "  </tbody>\n",
       "</table>\n",
       "</div>"
      ],
      "text/plain": [
       "       Basic Sanitation\n",
       "count       4659.000000\n",
       "mean          76.552443\n",
       "std           24.638195\n",
       "min            9.568371\n",
       "25%           57.140528\n",
       "50%           87.068263\n",
       "75%           97.500000\n",
       "max          100.000000"
      ]
     },
     "execution_count": 22,
     "metadata": {},
     "output_type": "execute_result"
    }
   ],
   "source": [
    "env_basic_sanitation.describe()"
   ]
  },
  {
   "attachments": {},
   "cell_type": "markdown",
   "metadata": {},
   "source": [
    "We check for duplicates: "
   ]
  },
  {
   "cell_type": "code",
   "execution_count": 23,
   "metadata": {},
   "outputs": [
    {
     "data": {
      "text/html": [
       "<div>\n",
       "<style scoped>\n",
       "    .dataframe tbody tr th:only-of-type {\n",
       "        vertical-align: middle;\n",
       "    }\n",
       "\n",
       "    .dataframe tbody tr th {\n",
       "        vertical-align: top;\n",
       "    }\n",
       "\n",
       "    .dataframe thead th {\n",
       "        text-align: right;\n",
       "    }\n",
       "</style>\n",
       "<table border=\"1\" class=\"dataframe\">\n",
       "  <thead>\n",
       "    <tr style=\"text-align: right;\">\n",
       "      <th></th>\n",
       "      <th>economy</th>\n",
       "      <th>time</th>\n",
       "      <th>Country</th>\n",
       "      <th>Time</th>\n",
       "      <th>Basic Sanitation</th>\n",
       "    </tr>\n",
       "  </thead>\n",
       "  <tbody>\n",
       "  </tbody>\n",
       "</table>\n",
       "</div>"
      ],
      "text/plain": [
       "Empty DataFrame\n",
       "Columns: [economy, time, Country, Time, Basic Sanitation]\n",
       "Index: []"
      ]
     },
     "execution_count": 23,
     "metadata": {},
     "output_type": "execute_result"
    }
   ],
   "source": [
    "env_basic_sanitation[env_basic_sanitation.duplicated(subset=['Country', 'Time'])]"
   ]
  },
  {
   "attachments": {},
   "cell_type": "markdown",
   "metadata": {},
   "source": [
    "We check it has the years needed:"
   ]
  },
  {
   "cell_type": "code",
   "execution_count": 24,
   "metadata": {},
   "outputs": [
    {
     "data": {
      "text/plain": [
       "array(['2020', '2019', '2018', '2017', '2016', '2015', '2014', '2013',\n",
       "       '2012', '2011', '2010', '2009', '2008', '2007', '2006', '2005',\n",
       "       '2004', '2003', '2002', '2001', '2000'], dtype=object)"
      ]
     },
     "execution_count": 24,
     "metadata": {},
     "output_type": "execute_result"
    }
   ],
   "source": [
    "env_basic_sanitation['Time'].unique()"
   ]
  },
  {
   "attachments": {},
   "cell_type": "markdown",
   "metadata": {},
   "source": [
    "We check the amount of countries and which onces it has:"
   ]
  },
  {
   "cell_type": "code",
   "execution_count": 25,
   "metadata": {},
   "outputs": [
    {
     "data": {
      "text/plain": [
       "array(['Zimbabwe', 'Zambia', 'Yemen, Rep.', 'West Bank and Gaza',\n",
       "       'Vietnam', 'Vanuatu', 'Uzbekistan', 'Uruguay', 'United States',\n",
       "       'United Kingdom', 'Ukraine', 'Uganda', 'Tuvalu', 'Turkmenistan',\n",
       "       'Turkiye', 'Tunisia', 'Tonga', 'Togo', 'Timor-Leste', 'Thailand',\n",
       "       'Tanzania', 'Tajikistan', 'Syrian Arab Republic', 'Switzerland',\n",
       "       'Sweden', 'Suriname', 'Sudan', 'St. Martin (French part)',\n",
       "       'St. Lucia', 'Sri Lanka', 'Spain', 'South Sudan', 'South Africa',\n",
       "       'Somalia', 'Solomon Islands', 'Slovak Republic',\n",
       "       'Sint Maarten (Dutch part)', 'Singapore', 'Sierra Leone', 'Serbia',\n",
       "       'Senegal', 'Sao Tome and Principe', 'Samoa', 'Rwanda',\n",
       "       'Russian Federation', 'Romania', 'Portugal', 'Poland',\n",
       "       'Philippines', 'Peru', 'Paraguay', 'Papua New Guinea', 'Panama',\n",
       "       'Palau', 'Pakistan', 'Oman', 'Norway', 'North Macedonia',\n",
       "       'Nigeria', 'Niger', 'Nicaragua', 'New Zealand', 'Netherlands',\n",
       "       'Nepal', 'Nauru', 'Namibia', 'Myanmar', 'Mozambique', 'Morocco',\n",
       "       'Montenegro', 'Mongolia', 'Monaco', 'Moldova', 'Mexico',\n",
       "       'Mauritius', 'Mauritania', 'Marshall Islands', 'Malta', 'Mali',\n",
       "       'Maldives', 'Malaysia', 'Malawi', 'Madagascar', 'Macao SAR, China',\n",
       "       'Luxembourg', 'Lithuania', 'Liberia', 'Lesotho', 'Latvia',\n",
       "       'Lao PDR', 'Kyrgyz Republic', \"Korea, Dem. People's Rep.\",\n",
       "       'Kiribati', 'Kenya', 'Kazakhstan', 'Jordan', 'Jamaica', 'Italy',\n",
       "       'Israel', 'Ireland', 'Iraq', 'Iran, Islamic Rep.', 'Indonesia',\n",
       "       'India', 'Iceland', 'Hungary', 'Hong Kong SAR, China', 'Honduras',\n",
       "       'Haiti', 'Guyana', 'Guinea-Bissau', 'Guinea', 'Guatemala',\n",
       "       'Greenland', 'Greece', 'Gibraltar', 'Ghana', 'Germany', 'Georgia',\n",
       "       'Gambia, The', 'Gabon', 'France', 'Finland', 'Fiji', 'Ethiopia',\n",
       "       'Eswatini', 'Estonia', 'Eritrea', 'Equatorial Guinea',\n",
       "       'El Salvador', 'Egypt, Arab Rep.', 'Ecuador', 'Dominican Republic',\n",
       "       'Djibouti', 'Denmark', 'Czechia', 'Cyprus', 'Cuba', 'Croatia',\n",
       "       \"Cote d'Ivoire\", 'Costa Rica', 'Congo, Rep.', 'Congo, Dem. Rep.',\n",
       "       'Comoros', 'Colombia', 'China', 'Chile', 'Chad',\n",
       "       'Central African Republic', 'Cayman Islands', 'Canada', 'Cameroon',\n",
       "       'Cambodia', 'Cabo Verde', 'Burundi', 'Burkina Faso', 'Bulgaria',\n",
       "       'Brazil', 'Botswana', 'Bosnia and Herzegovina', 'Bolivia',\n",
       "       'Bhutan', 'Bermuda', 'Benin', 'Belize', 'Belgium', 'Belarus',\n",
       "       'Bangladesh', 'Azerbaijan', 'Austria', 'Armenia', 'Argentina',\n",
       "       'Angola', 'Andorra', 'Algeria', 'Albania', 'Afghanistan', 'World',\n",
       "       'Upper middle income', 'Sub-Saharan Africa (IDA & IBRD countries)',\n",
       "       'Sub-Saharan Africa (excluding high income)', 'Sub-Saharan Africa',\n",
       "       'South Asia (IDA & IBRD)', 'South Asia', 'Small states',\n",
       "       'Pre-demographic dividend', 'Post-demographic dividend',\n",
       "       'Pacific island small states', 'Other small states',\n",
       "       'OECD members', 'North America', 'Middle income',\n",
       "       'Middle East & North Africa (IDA & IBRD countries)',\n",
       "       'Middle East & North Africa (excluding high income)',\n",
       "       'Middle East & North Africa', 'Lower middle income', 'Low income',\n",
       "       'Low & middle income',\n",
       "       'Least developed countries: UN classification',\n",
       "       'Latin America & the Caribbean (IDA & IBRD countries)',\n",
       "       'Latin America & Caribbean (excluding high income)',\n",
       "       'Latin America & Caribbean', 'Late-demographic dividend',\n",
       "       'IDA total', 'IDA only', 'IDA blend', 'IDA & IBRD total',\n",
       "       'IBRD only', 'High income',\n",
       "       'Heavily indebted poor countries (HIPC)',\n",
       "       'Fragile and conflict affected situations', 'European Union',\n",
       "       'Europe & Central Asia (IDA & IBRD countries)',\n",
       "       'Europe & Central Asia (excluding high income)',\n",
       "       'Europe & Central Asia', 'Euro area',\n",
       "       'East Asia & Pacific (IDA & IBRD countries)',\n",
       "       'East Asia & Pacific (excluding high income)',\n",
       "       'East Asia & Pacific', 'Early-demographic dividend',\n",
       "       'Central Europe and the Baltics', 'Arab World',\n",
       "       'Africa Western and Central', 'Africa Eastern and Southern'],\n",
       "      dtype=object)"
      ]
     },
     "execution_count": 25,
     "metadata": {},
     "output_type": "execute_result"
    }
   ],
   "source": [
    "env_basic_sanitation['Country'].unique()"
   ]
  },
  {
   "cell_type": "code",
   "execution_count": 26,
   "metadata": {},
   "outputs": [
    {
     "data": {
      "text/plain": [
       "224"
      ]
     },
     "execution_count": 26,
     "metadata": {},
     "output_type": "execute_result"
    }
   ],
   "source": [
    "env_basic_sanitation['Country'].nunique()"
   ]
  },
  {
   "attachments": {},
   "cell_type": "markdown",
   "metadata": {},
   "source": [
    "---"
   ]
  },
  {
   "attachments": {},
   "cell_type": "markdown",
   "metadata": {},
   "source": [
    "🔹 Conclusions on: **Basic sanitation in Urban areas** <br>\n",
    "* Does not contain duplicates. \n",
    "* Does not contain null values.  \n",
    "* It has all the years needed. \n",
    "* It has an extra column, called 'time', that will be removed. \n",
    "* The column named 'Time' will be renamed and it's tipe of data will be changed into int. \n",
    "* The column 'economy' will be renamed into 'Country Code'\n",
    "* THe column 'Country' will be renamed into 'Country Name'"
   ]
  },
  {
   "attachments": {},
   "cell_type": "markdown",
   "metadata": {},
   "source": [
    "---"
   ]
  },
  {
   "attachments": {},
   "cell_type": "markdown",
   "metadata": {},
   "source": [
    "### Population Density\n",
    "    This dataset shows information related to Amount of people per square meter of land area (people per sq. hm of land area)."
   ]
  },
  {
   "cell_type": "code",
   "execution_count": 27,
   "metadata": {},
   "outputs": [
    {
     "data": {
      "text/html": [
       "<div>\n",
       "<style scoped>\n",
       "    .dataframe tbody tr th:only-of-type {\n",
       "        vertical-align: middle;\n",
       "    }\n",
       "\n",
       "    .dataframe tbody tr th {\n",
       "        vertical-align: top;\n",
       "    }\n",
       "\n",
       "    .dataframe thead th {\n",
       "        text-align: right;\n",
       "    }\n",
       "</style>\n",
       "<table border=\"1\" class=\"dataframe\">\n",
       "  <thead>\n",
       "    <tr style=\"text-align: right;\">\n",
       "      <th></th>\n",
       "      <th>Country Name</th>\n",
       "      <th>Country Code</th>\n",
       "      <th>Year</th>\n",
       "      <th>Value</th>\n",
       "    </tr>\n",
       "  </thead>\n",
       "  <tbody>\n",
       "    <tr>\n",
       "      <th>0</th>\n",
       "      <td>Arab World</td>\n",
       "      <td>ARB</td>\n",
       "      <td>1961</td>\n",
       "      <td>6.976239</td>\n",
       "    </tr>\n",
       "    <tr>\n",
       "      <th>1</th>\n",
       "      <td>Arab World</td>\n",
       "      <td>ARB</td>\n",
       "      <td>1962</td>\n",
       "      <td>7.169853</td>\n",
       "    </tr>\n",
       "    <tr>\n",
       "      <th>2</th>\n",
       "      <td>Arab World</td>\n",
       "      <td>ARB</td>\n",
       "      <td>1963</td>\n",
       "      <td>7.370144</td>\n",
       "    </tr>\n",
       "    <tr>\n",
       "      <th>3</th>\n",
       "      <td>Arab World</td>\n",
       "      <td>ARB</td>\n",
       "      <td>1964</td>\n",
       "      <td>7.577779</td>\n",
       "    </tr>\n",
       "    <tr>\n",
       "      <th>4</th>\n",
       "      <td>Arab World</td>\n",
       "      <td>ARB</td>\n",
       "      <td>1965</td>\n",
       "      <td>7.793214</td>\n",
       "    </tr>\n",
       "  </tbody>\n",
       "</table>\n",
       "</div>"
      ],
      "text/plain": [
       "  Country Name Country Code  Year     Value\n",
       "0   Arab World          ARB  1961  6.976239\n",
       "1   Arab World          ARB  1962  7.169853\n",
       "2   Arab World          ARB  1963  7.370144\n",
       "3   Arab World          ARB  1964  7.577779\n",
       "4   Arab World          ARB  1965  7.793214"
      ]
     },
     "execution_count": 27,
     "metadata": {},
     "output_type": "execute_result"
    }
   ],
   "source": [
    "env_pop_density.head()"
   ]
  },
  {
   "attachments": {},
   "cell_type": "markdown",
   "metadata": {},
   "source": [
    "We check the size of the dataset:"
   ]
  },
  {
   "cell_type": "code",
   "execution_count": 28,
   "metadata": {},
   "outputs": [
    {
     "data": {
      "text/plain": [
       "(14339, 4)"
      ]
     },
     "execution_count": 28,
     "metadata": {},
     "output_type": "execute_result"
    }
   ],
   "source": [
    "env_pop_density.shape"
   ]
  },
  {
   "attachments": {},
   "cell_type": "markdown",
   "metadata": {},
   "source": [
    "We review the amount of null values and the type of data each column has: "
   ]
  },
  {
   "cell_type": "code",
   "execution_count": 29,
   "metadata": {},
   "outputs": [
    {
     "name": "stdout",
     "output_type": "stream",
     "text": [
      "<class 'pandas.core.frame.DataFrame'>\n",
      "RangeIndex: 14339 entries, 0 to 14338\n",
      "Data columns (total 4 columns):\n",
      " #   Column        Non-Null Count  Dtype  \n",
      "---  ------        --------------  -----  \n",
      " 0   Country Name  14339 non-null  object \n",
      " 1   Country Code  14339 non-null  object \n",
      " 2   Year          14339 non-null  int64  \n",
      " 3   Value         14339 non-null  float64\n",
      "dtypes: float64(1), int64(1), object(2)\n",
      "memory usage: 448.2+ KB\n"
     ]
    }
   ],
   "source": [
    "env_pop_density.info()"
   ]
  },
  {
   "cell_type": "code",
   "execution_count": 30,
   "metadata": {},
   "outputs": [
    {
     "data": {
      "text/html": [
       "<div>\n",
       "<style scoped>\n",
       "    .dataframe tbody tr th:only-of-type {\n",
       "        vertical-align: middle;\n",
       "    }\n",
       "\n",
       "    .dataframe tbody tr th {\n",
       "        vertical-align: top;\n",
       "    }\n",
       "\n",
       "    .dataframe thead th {\n",
       "        text-align: right;\n",
       "    }\n",
       "</style>\n",
       "<table border=\"1\" class=\"dataframe\">\n",
       "  <thead>\n",
       "    <tr style=\"text-align: right;\">\n",
       "      <th></th>\n",
       "      <th>Year</th>\n",
       "      <th>Value</th>\n",
       "    </tr>\n",
       "  </thead>\n",
       "  <tbody>\n",
       "    <tr>\n",
       "      <th>count</th>\n",
       "      <td>14339.000000</td>\n",
       "      <td>14339.000000</td>\n",
       "    </tr>\n",
       "    <tr>\n",
       "      <th>mean</th>\n",
       "      <td>1988.751098</td>\n",
       "      <td>276.128503</td>\n",
       "    </tr>\n",
       "    <tr>\n",
       "      <th>std</th>\n",
       "      <td>16.182033</td>\n",
       "      <td>1432.188184</td>\n",
       "    </tr>\n",
       "    <tr>\n",
       "      <th>min</th>\n",
       "      <td>1961.000000</td>\n",
       "      <td>0.098625</td>\n",
       "    </tr>\n",
       "    <tr>\n",
       "      <th>25%</th>\n",
       "      <td>1975.000000</td>\n",
       "      <td>18.969471</td>\n",
       "    </tr>\n",
       "    <tr>\n",
       "      <th>50%</th>\n",
       "      <td>1989.000000</td>\n",
       "      <td>50.231710</td>\n",
       "    </tr>\n",
       "    <tr>\n",
       "      <th>75%</th>\n",
       "      <td>2003.000000</td>\n",
       "      <td>124.867467</td>\n",
       "    </tr>\n",
       "    <tr>\n",
       "      <th>max</th>\n",
       "      <td>2016.000000</td>\n",
       "      <td>21398.950000</td>\n",
       "    </tr>\n",
       "  </tbody>\n",
       "</table>\n",
       "</div>"
      ],
      "text/plain": [
       "               Year         Value\n",
       "count  14339.000000  14339.000000\n",
       "mean    1988.751098    276.128503\n",
       "std       16.182033   1432.188184\n",
       "min     1961.000000      0.098625\n",
       "25%     1975.000000     18.969471\n",
       "50%     1989.000000     50.231710\n",
       "75%     2003.000000    124.867467\n",
       "max     2016.000000  21398.950000"
      ]
     },
     "execution_count": 30,
     "metadata": {},
     "output_type": "execute_result"
    }
   ],
   "source": [
    "env_pop_density.describe()"
   ]
  },
  {
   "attachments": {},
   "cell_type": "markdown",
   "metadata": {},
   "source": [
    "We check for duplicates: "
   ]
  },
  {
   "cell_type": "code",
   "execution_count": 31,
   "metadata": {},
   "outputs": [
    {
     "data": {
      "text/html": [
       "<div>\n",
       "<style scoped>\n",
       "    .dataframe tbody tr th:only-of-type {\n",
       "        vertical-align: middle;\n",
       "    }\n",
       "\n",
       "    .dataframe tbody tr th {\n",
       "        vertical-align: top;\n",
       "    }\n",
       "\n",
       "    .dataframe thead th {\n",
       "        text-align: right;\n",
       "    }\n",
       "</style>\n",
       "<table border=\"1\" class=\"dataframe\">\n",
       "  <thead>\n",
       "    <tr style=\"text-align: right;\">\n",
       "      <th></th>\n",
       "      <th>Country Name</th>\n",
       "      <th>Country Code</th>\n",
       "      <th>Year</th>\n",
       "      <th>Value</th>\n",
       "    </tr>\n",
       "  </thead>\n",
       "  <tbody>\n",
       "  </tbody>\n",
       "</table>\n",
       "</div>"
      ],
      "text/plain": [
       "Empty DataFrame\n",
       "Columns: [Country Name, Country Code, Year, Value]\n",
       "Index: []"
      ]
     },
     "execution_count": 31,
     "metadata": {},
     "output_type": "execute_result"
    }
   ],
   "source": [
    "env_pop_density[env_pop_density.duplicated(subset=['Country Code', 'Year'])]"
   ]
  },
  {
   "attachments": {},
   "cell_type": "markdown",
   "metadata": {},
   "source": [
    "We check it has the years needed:"
   ]
  },
  {
   "cell_type": "code",
   "execution_count": 32,
   "metadata": {},
   "outputs": [
    {
     "data": {
      "text/plain": [
       "array([1961, 1962, 1963, 1964, 1965, 1966, 1967, 1968, 1969, 1970, 1971,\n",
       "       1972, 1973, 1974, 1975, 1976, 1977, 1978, 1979, 1980, 1981, 1982,\n",
       "       1983, 1984, 1985, 1986, 1987, 1988, 1989, 1990, 1991, 1992, 1993,\n",
       "       1994, 1995, 1996, 1997, 1998, 1999, 2000, 2001, 2002, 2003, 2004,\n",
       "       2005, 2006, 2007, 2008, 2009, 2010, 2011, 2012, 2013, 2014, 2015,\n",
       "       2016], dtype=int64)"
      ]
     },
     "execution_count": 32,
     "metadata": {},
     "output_type": "execute_result"
    }
   ],
   "source": [
    "env_pop_density['Year'].unique()"
   ]
  },
  {
   "attachments": {},
   "cell_type": "markdown",
   "metadata": {},
   "source": [
    "We check the amount of countries and which onces it has:"
   ]
  },
  {
   "cell_type": "code",
   "execution_count": 34,
   "metadata": {},
   "outputs": [
    {
     "data": {
      "text/plain": [
       "array(['Arab World', 'Caribbean small states',\n",
       "       'Central Europe and the Baltics', 'Early-demographic dividend',\n",
       "       'East Asia & Pacific',\n",
       "       'East Asia & Pacific (excluding high income)',\n",
       "       'East Asia & Pacific (IDA & IBRD countries)', 'Euro area',\n",
       "       'Europe & Central Asia',\n",
       "       'Europe & Central Asia (excluding high income)',\n",
       "       'Europe & Central Asia (IDA & IBRD countries)', 'European Union',\n",
       "       'Fragile and conflict affected situations',\n",
       "       'Heavily indebted poor countries (HIPC)', 'High income',\n",
       "       'IBRD only', 'IDA & IBRD total', 'IDA blend', 'IDA only',\n",
       "       'IDA total', 'Late-demographic dividend',\n",
       "       'Latin America & Caribbean',\n",
       "       'Latin America & Caribbean (excluding high income)',\n",
       "       'Latin America & the Caribbean (IDA & IBRD countries)',\n",
       "       'Least developed countries: UN classification',\n",
       "       'Low & middle income', 'Low income', 'Lower middle income',\n",
       "       'Middle East & North Africa',\n",
       "       'Middle East & North Africa (excluding high income)',\n",
       "       'Middle East & North Africa (IDA & IBRD countries)',\n",
       "       'Middle income', 'North America', 'OECD members',\n",
       "       'Other small states', 'Pacific island small states',\n",
       "       'Post-demographic dividend', 'Pre-demographic dividend',\n",
       "       'Small states', 'South Asia', 'South Asia (IDA & IBRD)',\n",
       "       'Sub-Saharan Africa', 'Sub-Saharan Africa (excluding high income)',\n",
       "       'Sub-Saharan Africa (IDA & IBRD countries)', 'Upper middle income',\n",
       "       'World', 'Afghanistan', 'Albania', 'Algeria', 'American Samoa',\n",
       "       'Andorra', 'Angola', 'Antigua and Barbuda', 'Argentina', 'Armenia',\n",
       "       'Aruba', 'Australia', 'Austria', 'Azerbaijan', 'Bahamas, The',\n",
       "       'Bahrain', 'Bangladesh', 'Barbados', 'Belarus', 'Belgium',\n",
       "       'Belize', 'Benin', 'Bermuda', 'Bhutan', 'Bolivia',\n",
       "       'Bosnia and Herzegovina', 'Botswana', 'Brazil',\n",
       "       'British Virgin Islands', 'Brunei Darussalam', 'Bulgaria',\n",
       "       'Burkina Faso', 'Burundi', 'Cabo Verde', 'Cambodia', 'Cameroon',\n",
       "       'Canada', 'Cayman Islands', 'Central African Republic', 'Chad',\n",
       "       'Channel Islands', 'Chile', 'China', 'Colombia', 'Comoros',\n",
       "       'Congo, Dem. Rep.', 'Congo, Rep.', 'Costa Rica', \"Cote d'Ivoire\",\n",
       "       'Croatia', 'Cuba', 'Curacao', 'Cyprus', 'Czech Republic',\n",
       "       'Denmark', 'Djibouti', 'Dominica', 'Dominican Republic', 'Ecuador',\n",
       "       'Egypt, Arab Rep.', 'El Salvador', 'Equatorial Guinea', 'Eritrea',\n",
       "       'Estonia', 'Ethiopia', 'Faroe Islands', 'Fiji', 'Finland',\n",
       "       'France', 'French Polynesia', 'Gabon', 'Gambia, The', 'Georgia',\n",
       "       'Germany', 'Ghana', 'Gibraltar', 'Greece', 'Greenland', 'Grenada',\n",
       "       'Guam', 'Guatemala', 'Guinea', 'Guinea-Bissau', 'Guyana', 'Haiti',\n",
       "       'Honduras', 'Hong Kong SAR, China', 'Hungary', 'Iceland', 'India',\n",
       "       'Indonesia', 'Iran, Islamic Rep.', 'Iraq', 'Ireland',\n",
       "       'Isle of Man', 'Israel', 'Italy', 'Jamaica', 'Japan', 'Jordan',\n",
       "       'Kazakhstan', 'Kenya', 'Kiribati', 'Korea, Dem. People’s Rep.',\n",
       "       'Korea, Rep.', 'Kosovo', 'Kuwait', 'Kyrgyz Republic', 'Lao PDR',\n",
       "       'Latvia', 'Lebanon', 'Lesotho', 'Liberia', 'Libya',\n",
       "       'Liechtenstein', 'Lithuania', 'Luxembourg', 'Macao SAR, China',\n",
       "       'Macedonia, FYR', 'Madagascar', 'Malawi', 'Malaysia', 'Maldives',\n",
       "       'Mali', 'Malta', 'Marshall Islands', 'Mauritania', 'Mauritius',\n",
       "       'Mexico', 'Micronesia, Fed. Sts.', 'Moldova', 'Monaco', 'Mongolia',\n",
       "       'Montenegro', 'Morocco', 'Mozambique', 'Myanmar', 'Namibia',\n",
       "       'Nauru', 'Nepal', 'Netherlands', 'New Caledonia', 'New Zealand',\n",
       "       'Nicaragua', 'Niger', 'Nigeria', 'Northern Mariana Islands',\n",
       "       'Norway', 'Oman', 'Pakistan', 'Palau', 'Panama',\n",
       "       'Papua New Guinea', 'Paraguay', 'Peru', 'Philippines', 'Poland',\n",
       "       'Portugal', 'Puerto Rico', 'Qatar', 'Romania',\n",
       "       'Russian Federation', 'Rwanda', 'Samoa', 'San Marino',\n",
       "       'Sao Tome and Principe', 'Saudi Arabia', 'Senegal', 'Serbia',\n",
       "       'Seychelles', 'Sierra Leone', 'Singapore',\n",
       "       'Sint Maarten (Dutch part)', 'Slovak Republic', 'Slovenia',\n",
       "       'Solomon Islands', 'Somalia', 'South Africa', 'Spain', 'Sri Lanka',\n",
       "       'St. Kitts and Nevis', 'St. Lucia', 'St. Martin (French part)',\n",
       "       'St. Vincent and the Grenadines', 'Sudan', 'Suriname', 'Swaziland',\n",
       "       'Sweden', 'Switzerland', 'Syrian Arab Republic', 'Tajikistan',\n",
       "       'Tanzania', 'Thailand', 'Timor-Leste', 'Togo', 'Tonga',\n",
       "       'Trinidad and Tobago', 'Tunisia', 'Turkey', 'Turkmenistan',\n",
       "       'Turks and Caicos Islands', 'Tuvalu', 'Uganda', 'Ukraine',\n",
       "       'United Arab Emirates', 'United Kingdom', 'United States',\n",
       "       'Uruguay', 'Uzbekistan', 'Vanuatu', 'Venezuela, RB', 'Vietnam',\n",
       "       'Virgin Islands (U.S.)', 'West Bank and Gaza', 'Yemen, Rep.',\n",
       "       'Zambia', 'Zimbabwe'], dtype=object)"
      ]
     },
     "execution_count": 34,
     "metadata": {},
     "output_type": "execute_result"
    }
   ],
   "source": [
    "env_pop_density['Country Name'].unique()"
   ]
  },
  {
   "cell_type": "code",
   "execution_count": 36,
   "metadata": {},
   "outputs": [
    {
     "data": {
      "text/plain": [
       "262"
      ]
     },
     "execution_count": 36,
     "metadata": {},
     "output_type": "execute_result"
    }
   ],
   "source": [
    "env_pop_density['Country Name'].nunique()"
   ]
  },
  {
   "attachments": {},
   "cell_type": "markdown",
   "metadata": {},
   "source": [
    "---"
   ]
  },
  {
   "attachments": {},
   "cell_type": "markdown",
   "metadata": {},
   "source": [
    "🔹 Conclusions on: **Population Density** <br>\n",
    "* Does not contain duplicates. \n",
    "* Does not contain null values. \n",
    "* It has some of the years we need. \n",
    "* It has years we do not need, will be dropped. \n",
    "* The column \"value\" needs to be renamed for better handling.\n",
    "* We consider reoder the columns to match the order in the previous datasets."
   ]
  },
  {
   "attachments": {},
   "cell_type": "markdown",
   "metadata": {},
   "source": [
    "---"
   ]
  },
  {
   "attachments": {},
   "cell_type": "markdown",
   "metadata": {},
   "source": [
    "## General conclusions on Environment: \n",
    "    Two out of the three datasets for this category need the same treatment. \n",
    "    The third dataset needs different treatment. \n",
    "    We have enough data for the years we need. \n",
    "    They are clean enough to start working on them. "
   ]
  },
  {
   "attachments": {},
   "cell_type": "markdown",
   "metadata": {},
   "source": [
    "---"
   ]
  },
  {
   "attachments": {},
   "cell_type": "markdown",
   "metadata": {},
   "source": [
    "## ⟐ Poverty:\n",
    "•\tMaternal mortality ratio<br>\n",
    "•\tRefugee population by country or territory of origin<br>\n",
    "•\tRefugee population by country or territory of asylum<br>"
   ]
  },
  {
   "attachments": {},
   "cell_type": "markdown",
   "metadata": {},
   "source": [
    "We load the databases into variables:"
   ]
  },
  {
   "cell_type": "code",
   "execution_count": 38,
   "metadata": {},
   "outputs": [],
   "source": [
    "#Maternal Mortality Ratio\n",
    "data_url = 'https://datahub.io/world-bank/sh.sta.mmrt/datapackage.json'     # Storing the dataset into a generic variable\n",
    "package = datapackage.Package(data_url)                                     # Loading Data Package into storage\n",
    "resources = package.resources\n",
    "for resource in resources:\n",
    "    if resource.tabular:\n",
    "        pov_maternal_mortality = pd.read_csv(resource.descriptor['path'])   # Loading only tabular data\n",
    "\n",
    "# Refugee population by country or territory of origin\n",
    "pov_refugee_origin = wb.data.DataFrame('SM.POP.REFG.OR', labels = True, time=range(2000, year), skipBlanks=True, columns='series').reset_index()\n",
    "pov_refugee_origin.rename(columns={'SM.POP.REFG.OR': 'Refugee population by country or territory of origin'}, inplace=True)\n",
    "\n",
    "# Refugee population by country or territory of asylum\n",
    "pov_refugee_asylum = wb.data.DataFrame('SM.POP.REFG', labels = True, time=range(2000, year), skipBlanks=True, columns='series').reset_index()\n",
    "pov_refugee_asylum.rename(columns={'SM.POP.REFG': 'Refugee population by country or territory of asylum'}, inplace=True)"
   ]
  },
  {
   "attachments": {},
   "cell_type": "markdown",
   "metadata": {},
   "source": [
    "---"
   ]
  },
  {
   "attachments": {},
   "cell_type": "markdown",
   "metadata": {},
   "source": [
    "We start checking the basics of each one of them: "
   ]
  },
  {
   "attachments": {},
   "cell_type": "markdown",
   "metadata": {},
   "source": [
    "### Maternal mortality ratio\n",
    "    This dataset shows information related to Number of women who die from pregnancy-related causes while pregnant or within 42 days of pregnancy termination. The data are estimated with a regression model using information on the proportion of maternal deaths among non-AIDS deaths in women ages 15-49, fertility, birth attendants, and GDP.(per 100,000 live births.)"
   ]
  },
  {
   "cell_type": "code",
   "execution_count": 39,
   "metadata": {},
   "outputs": [
    {
     "data": {
      "text/html": [
       "<div>\n",
       "<style scoped>\n",
       "    .dataframe tbody tr th:only-of-type {\n",
       "        vertical-align: middle;\n",
       "    }\n",
       "\n",
       "    .dataframe tbody tr th {\n",
       "        vertical-align: top;\n",
       "    }\n",
       "\n",
       "    .dataframe thead th {\n",
       "        text-align: right;\n",
       "    }\n",
       "</style>\n",
       "<table border=\"1\" class=\"dataframe\">\n",
       "  <thead>\n",
       "    <tr style=\"text-align: right;\">\n",
       "      <th></th>\n",
       "      <th>Country Name</th>\n",
       "      <th>Country Code</th>\n",
       "      <th>Year</th>\n",
       "      <th>Value</th>\n",
       "    </tr>\n",
       "  </thead>\n",
       "  <tbody>\n",
       "    <tr>\n",
       "      <th>0</th>\n",
       "      <td>Arab World</td>\n",
       "      <td>ARB</td>\n",
       "      <td>1990</td>\n",
       "      <td>289</td>\n",
       "    </tr>\n",
       "    <tr>\n",
       "      <th>1</th>\n",
       "      <td>Arab World</td>\n",
       "      <td>ARB</td>\n",
       "      <td>1991</td>\n",
       "      <td>285</td>\n",
       "    </tr>\n",
       "    <tr>\n",
       "      <th>2</th>\n",
       "      <td>Arab World</td>\n",
       "      <td>ARB</td>\n",
       "      <td>1992</td>\n",
       "      <td>281</td>\n",
       "    </tr>\n",
       "    <tr>\n",
       "      <th>3</th>\n",
       "      <td>Arab World</td>\n",
       "      <td>ARB</td>\n",
       "      <td>1993</td>\n",
       "      <td>278</td>\n",
       "    </tr>\n",
       "    <tr>\n",
       "      <th>4</th>\n",
       "      <td>Arab World</td>\n",
       "      <td>ARB</td>\n",
       "      <td>1994</td>\n",
       "      <td>274</td>\n",
       "    </tr>\n",
       "  </tbody>\n",
       "</table>\n",
       "</div>"
      ],
      "text/plain": [
       "  Country Name Country Code  Year  Value\n",
       "0   Arab World          ARB  1990    289\n",
       "1   Arab World          ARB  1991    285\n",
       "2   Arab World          ARB  1992    281\n",
       "3   Arab World          ARB  1993    278\n",
       "4   Arab World          ARB  1994    274"
      ]
     },
     "execution_count": 39,
     "metadata": {},
     "output_type": "execute_result"
    }
   ],
   "source": [
    "pov_maternal_mortality.head()"
   ]
  },
  {
   "attachments": {},
   "cell_type": "markdown",
   "metadata": {},
   "source": [
    "We check the size of the dataset:"
   ]
  },
  {
   "cell_type": "code",
   "execution_count": 40,
   "metadata": {},
   "outputs": [
    {
     "data": {
      "text/plain": [
       "(5954, 4)"
      ]
     },
     "execution_count": 40,
     "metadata": {},
     "output_type": "execute_result"
    }
   ],
   "source": [
    "pov_maternal_mortality.shape"
   ]
  },
  {
   "attachments": {},
   "cell_type": "markdown",
   "metadata": {},
   "source": [
    "We review the amount of null values and the type of data each column has: "
   ]
  },
  {
   "cell_type": "code",
   "execution_count": 41,
   "metadata": {},
   "outputs": [
    {
     "name": "stdout",
     "output_type": "stream",
     "text": [
      "<class 'pandas.core.frame.DataFrame'>\n",
      "RangeIndex: 5954 entries, 0 to 5953\n",
      "Data columns (total 4 columns):\n",
      " #   Column        Non-Null Count  Dtype \n",
      "---  ------        --------------  ----- \n",
      " 0   Country Name  5954 non-null   object\n",
      " 1   Country Code  5954 non-null   object\n",
      " 2   Year          5954 non-null   int64 \n",
      " 3   Value         5954 non-null   int64 \n",
      "dtypes: int64(2), object(2)\n",
      "memory usage: 186.2+ KB\n"
     ]
    }
   ],
   "source": [
    "pov_maternal_mortality.info()"
   ]
  },
  {
   "cell_type": "code",
   "execution_count": 42,
   "metadata": {},
   "outputs": [
    {
     "data": {
      "text/html": [
       "<div>\n",
       "<style scoped>\n",
       "    .dataframe tbody tr th:only-of-type {\n",
       "        vertical-align: middle;\n",
       "    }\n",
       "\n",
       "    .dataframe tbody tr th {\n",
       "        vertical-align: top;\n",
       "    }\n",
       "\n",
       "    .dataframe thead th {\n",
       "        text-align: right;\n",
       "    }\n",
       "</style>\n",
       "<table border=\"1\" class=\"dataframe\">\n",
       "  <thead>\n",
       "    <tr style=\"text-align: right;\">\n",
       "      <th></th>\n",
       "      <th>Year</th>\n",
       "      <th>Value</th>\n",
       "    </tr>\n",
       "  </thead>\n",
       "  <tbody>\n",
       "    <tr>\n",
       "      <th>count</th>\n",
       "      <td>5954.00000</td>\n",
       "      <td>5954.000000</td>\n",
       "    </tr>\n",
       "    <tr>\n",
       "      <th>mean</th>\n",
       "      <td>2002.50000</td>\n",
       "      <td>259.020658</td>\n",
       "    </tr>\n",
       "    <tr>\n",
       "      <th>std</th>\n",
       "      <td>7.50063</td>\n",
       "      <td>343.795511</td>\n",
       "    </tr>\n",
       "    <tr>\n",
       "      <th>min</th>\n",
       "      <td>1990.00000</td>\n",
       "      <td>3.000000</td>\n",
       "    </tr>\n",
       "    <tr>\n",
       "      <th>25%</th>\n",
       "      <td>1996.00000</td>\n",
       "      <td>25.000000</td>\n",
       "    </tr>\n",
       "    <tr>\n",
       "      <th>50%</th>\n",
       "      <td>2002.50000</td>\n",
       "      <td>92.000000</td>\n",
       "    </tr>\n",
       "    <tr>\n",
       "      <th>75%</th>\n",
       "      <td>2009.00000</td>\n",
       "      <td>408.000000</td>\n",
       "    </tr>\n",
       "    <tr>\n",
       "      <th>max</th>\n",
       "      <td>2015.00000</td>\n",
       "      <td>2900.000000</td>\n",
       "    </tr>\n",
       "  </tbody>\n",
       "</table>\n",
       "</div>"
      ],
      "text/plain": [
       "             Year        Value\n",
       "count  5954.00000  5954.000000\n",
       "mean   2002.50000   259.020658\n",
       "std       7.50063   343.795511\n",
       "min    1990.00000     3.000000\n",
       "25%    1996.00000    25.000000\n",
       "50%    2002.50000    92.000000\n",
       "75%    2009.00000   408.000000\n",
       "max    2015.00000  2900.000000"
      ]
     },
     "execution_count": 42,
     "metadata": {},
     "output_type": "execute_result"
    }
   ],
   "source": [
    "pov_maternal_mortality.describe()"
   ]
  },
  {
   "attachments": {},
   "cell_type": "markdown",
   "metadata": {},
   "source": [
    "We check for duplicates: "
   ]
  },
  {
   "cell_type": "code",
   "execution_count": 43,
   "metadata": {},
   "outputs": [
    {
     "data": {
      "text/html": [
       "<div>\n",
       "<style scoped>\n",
       "    .dataframe tbody tr th:only-of-type {\n",
       "        vertical-align: middle;\n",
       "    }\n",
       "\n",
       "    .dataframe tbody tr th {\n",
       "        vertical-align: top;\n",
       "    }\n",
       "\n",
       "    .dataframe thead th {\n",
       "        text-align: right;\n",
       "    }\n",
       "</style>\n",
       "<table border=\"1\" class=\"dataframe\">\n",
       "  <thead>\n",
       "    <tr style=\"text-align: right;\">\n",
       "      <th></th>\n",
       "      <th>Country Name</th>\n",
       "      <th>Country Code</th>\n",
       "      <th>Year</th>\n",
       "      <th>Value</th>\n",
       "    </tr>\n",
       "  </thead>\n",
       "  <tbody>\n",
       "  </tbody>\n",
       "</table>\n",
       "</div>"
      ],
      "text/plain": [
       "Empty DataFrame\n",
       "Columns: [Country Name, Country Code, Year, Value]\n",
       "Index: []"
      ]
     },
     "execution_count": 43,
     "metadata": {},
     "output_type": "execute_result"
    }
   ],
   "source": [
    "pov_maternal_mortality[pov_maternal_mortality.duplicated(subset=['Country Code', 'Year'])]"
   ]
  },
  {
   "attachments": {},
   "cell_type": "markdown",
   "metadata": {},
   "source": [
    "We check it has the years needed:"
   ]
  },
  {
   "cell_type": "code",
   "execution_count": 44,
   "metadata": {},
   "outputs": [
    {
     "data": {
      "text/plain": [
       "array([1990, 1991, 1992, 1993, 1994, 1995, 1996, 1997, 1998, 1999, 2000,\n",
       "       2001, 2002, 2003, 2004, 2005, 2006, 2007, 2008, 2009, 2010, 2011,\n",
       "       2012, 2013, 2014, 2015], dtype=int64)"
      ]
     },
     "execution_count": 44,
     "metadata": {},
     "output_type": "execute_result"
    }
   ],
   "source": [
    "pov_maternal_mortality['Year'].unique()"
   ]
  },
  {
   "attachments": {},
   "cell_type": "markdown",
   "metadata": {},
   "source": [
    "We check the amount of countries and which onces it has:"
   ]
  },
  {
   "cell_type": "code",
   "execution_count": 46,
   "metadata": {},
   "outputs": [
    {
     "data": {
      "text/plain": [
       "array(['Arab World', 'Caribbean small states',\n",
       "       'Central Europe and the Baltics', 'Early-demographic dividend',\n",
       "       'East Asia & Pacific',\n",
       "       'East Asia & Pacific (excluding high income)',\n",
       "       'East Asia & Pacific (IDA & IBRD countries)', 'Euro area',\n",
       "       'Europe & Central Asia',\n",
       "       'Europe & Central Asia (excluding high income)',\n",
       "       'Europe & Central Asia (IDA & IBRD countries)', 'European Union',\n",
       "       'Fragile and conflict affected situations',\n",
       "       'Heavily indebted poor countries (HIPC)', 'High income',\n",
       "       'IBRD only', 'IDA & IBRD total', 'IDA blend', 'IDA only',\n",
       "       'IDA total', 'Late-demographic dividend',\n",
       "       'Latin America & Caribbean',\n",
       "       'Latin America & Caribbean (excluding high income)',\n",
       "       'Latin America & the Caribbean (IDA & IBRD countries)',\n",
       "       'Least developed countries: UN classification',\n",
       "       'Low & middle income', 'Low income', 'Lower middle income',\n",
       "       'Middle East & North Africa',\n",
       "       'Middle East & North Africa (excluding high income)',\n",
       "       'Middle East & North Africa (IDA & IBRD countries)',\n",
       "       'Middle income', 'North America', 'OECD members',\n",
       "       'Other small states', 'Pacific island small states',\n",
       "       'Post-demographic dividend', 'Pre-demographic dividend',\n",
       "       'Small states', 'South Asia', 'South Asia (IDA & IBRD)',\n",
       "       'Sub-Saharan Africa', 'Sub-Saharan Africa (excluding high income)',\n",
       "       'Sub-Saharan Africa (IDA & IBRD countries)', 'Upper middle income',\n",
       "       'World', 'Afghanistan', 'Albania', 'Algeria', 'Angola',\n",
       "       'Argentina', 'Armenia', 'Australia', 'Austria', 'Azerbaijan',\n",
       "       'Bahamas, The', 'Bahrain', 'Bangladesh', 'Barbados', 'Belarus',\n",
       "       'Belgium', 'Belize', 'Benin', 'Bhutan', 'Bolivia',\n",
       "       'Bosnia and Herzegovina', 'Botswana', 'Brazil',\n",
       "       'Brunei Darussalam', 'Bulgaria', 'Burkina Faso', 'Burundi',\n",
       "       'Cabo Verde', 'Cambodia', 'Cameroon', 'Canada',\n",
       "       'Central African Republic', 'Chad', 'Chile', 'China', 'Colombia',\n",
       "       'Comoros', 'Congo, Dem. Rep.', 'Congo, Rep.', 'Costa Rica',\n",
       "       \"Cote d'Ivoire\", 'Croatia', 'Cuba', 'Cyprus', 'Czech Republic',\n",
       "       'Denmark', 'Djibouti', 'Dominican Republic', 'Ecuador',\n",
       "       'Egypt, Arab Rep.', 'El Salvador', 'Equatorial Guinea', 'Eritrea',\n",
       "       'Estonia', 'Ethiopia', 'Fiji', 'Finland', 'France', 'Gabon',\n",
       "       'Gambia, The', 'Georgia', 'Germany', 'Ghana', 'Greece', 'Grenada',\n",
       "       'Guatemala', 'Guinea', 'Guinea-Bissau', 'Guyana', 'Haiti',\n",
       "       'Honduras', 'Hungary', 'Iceland', 'India', 'Indonesia',\n",
       "       'Iran, Islamic Rep.', 'Iraq', 'Ireland', 'Israel', 'Italy',\n",
       "       'Jamaica', 'Japan', 'Jordan', 'Kazakhstan', 'Kenya', 'Kiribati',\n",
       "       'Korea, Dem. People’s Rep.', 'Korea, Rep.', 'Kuwait',\n",
       "       'Kyrgyz Republic', 'Lao PDR', 'Latvia', 'Lebanon', 'Lesotho',\n",
       "       'Liberia', 'Libya', 'Lithuania', 'Luxembourg', 'Macedonia, FYR',\n",
       "       'Madagascar', 'Malawi', 'Malaysia', 'Maldives', 'Mali', 'Malta',\n",
       "       'Mauritania', 'Mauritius', 'Mexico', 'Micronesia, Fed. Sts.',\n",
       "       'Moldova', 'Mongolia', 'Montenegro', 'Morocco', 'Mozambique',\n",
       "       'Myanmar', 'Namibia', 'Nepal', 'Netherlands', 'New Zealand',\n",
       "       'Nicaragua', 'Niger', 'Nigeria', 'Norway', 'Oman', 'Pakistan',\n",
       "       'Panama', 'Papua New Guinea', 'Paraguay', 'Peru', 'Philippines',\n",
       "       'Poland', 'Portugal', 'Puerto Rico', 'Qatar', 'Romania',\n",
       "       'Russian Federation', 'Rwanda', 'Samoa', 'Sao Tome and Principe',\n",
       "       'Saudi Arabia', 'Senegal', 'Serbia', 'Sierra Leone', 'Singapore',\n",
       "       'Slovak Republic', 'Slovenia', 'Solomon Islands', 'Somalia',\n",
       "       'South Africa', 'South Sudan', 'Spain', 'Sri Lanka', 'St. Lucia',\n",
       "       'St. Vincent and the Grenadines', 'Sudan', 'Suriname', 'Swaziland',\n",
       "       'Sweden', 'Switzerland', 'Syrian Arab Republic', 'Tajikistan',\n",
       "       'Tanzania', 'Thailand', 'Timor-Leste', 'Togo', 'Tonga',\n",
       "       'Trinidad and Tobago', 'Tunisia', 'Turkey', 'Turkmenistan',\n",
       "       'Uganda', 'Ukraine', 'United Arab Emirates', 'United Kingdom',\n",
       "       'United States', 'Uruguay', 'Uzbekistan', 'Vanuatu',\n",
       "       'Venezuela, RB', 'Vietnam', 'West Bank and Gaza', 'Yemen, Rep.',\n",
       "       'Zambia', 'Zimbabwe'], dtype=object)"
      ]
     },
     "execution_count": 46,
     "metadata": {},
     "output_type": "execute_result"
    }
   ],
   "source": [
    "pov_maternal_mortality['Country Name'].unique()"
   ]
  },
  {
   "cell_type": "code",
   "execution_count": 47,
   "metadata": {},
   "outputs": [
    {
     "data": {
      "text/plain": [
       "229"
      ]
     },
     "execution_count": 47,
     "metadata": {},
     "output_type": "execute_result"
    }
   ],
   "source": [
    "pov_maternal_mortality['Country Name'].nunique()"
   ]
  },
  {
   "attachments": {},
   "cell_type": "markdown",
   "metadata": {},
   "source": [
    "---"
   ]
  },
  {
   "attachments": {},
   "cell_type": "markdown",
   "metadata": {},
   "source": [
    "🔹 Conclusions on: **Maternal mortality ratio** <br>\n",
    "* Does not contain duplicates. \n",
    "* Does not contain null values.\n",
    "* We will have to remove the rows which refer to a year prior to 2000. \n",
    "* The data only goes up to the year 2015."
   ]
  },
  {
   "attachments": {},
   "cell_type": "markdown",
   "metadata": {},
   "source": [
    "---"
   ]
  },
  {
   "attachments": {},
   "cell_type": "markdown",
   "metadata": {},
   "source": [
    "### Refugee population by country or territory of origin\n",
    "    Country of origin generally refers to the nationality or country of citizenship of a claimant."
   ]
  },
  {
   "cell_type": "code",
   "execution_count": 48,
   "metadata": {},
   "outputs": [
    {
     "data": {
      "text/html": [
       "<div>\n",
       "<style scoped>\n",
       "    .dataframe tbody tr th:only-of-type {\n",
       "        vertical-align: middle;\n",
       "    }\n",
       "\n",
       "    .dataframe tbody tr th {\n",
       "        vertical-align: top;\n",
       "    }\n",
       "\n",
       "    .dataframe thead th {\n",
       "        text-align: right;\n",
       "    }\n",
       "</style>\n",
       "<table border=\"1\" class=\"dataframe\">\n",
       "  <thead>\n",
       "    <tr style=\"text-align: right;\">\n",
       "      <th></th>\n",
       "      <th>economy</th>\n",
       "      <th>time</th>\n",
       "      <th>Country</th>\n",
       "      <th>Time</th>\n",
       "      <th>Refugee population by country or territory of origin</th>\n",
       "    </tr>\n",
       "  </thead>\n",
       "  <tbody>\n",
       "    <tr>\n",
       "      <th>0</th>\n",
       "      <td>ZWE</td>\n",
       "      <td>YR2021</td>\n",
       "      <td>Zimbabwe</td>\n",
       "      <td>2021</td>\n",
       "      <td>8115.0</td>\n",
       "    </tr>\n",
       "    <tr>\n",
       "      <th>1</th>\n",
       "      <td>ZWE</td>\n",
       "      <td>YR2020</td>\n",
       "      <td>Zimbabwe</td>\n",
       "      <td>2020</td>\n",
       "      <td>8575.0</td>\n",
       "    </tr>\n",
       "    <tr>\n",
       "      <th>2</th>\n",
       "      <td>ZWE</td>\n",
       "      <td>YR2019</td>\n",
       "      <td>Zimbabwe</td>\n",
       "      <td>2019</td>\n",
       "      <td>10045.0</td>\n",
       "    </tr>\n",
       "    <tr>\n",
       "      <th>3</th>\n",
       "      <td>ZWE</td>\n",
       "      <td>YR2018</td>\n",
       "      <td>Zimbabwe</td>\n",
       "      <td>2018</td>\n",
       "      <td>15618.0</td>\n",
       "    </tr>\n",
       "    <tr>\n",
       "      <th>4</th>\n",
       "      <td>ZWE</td>\n",
       "      <td>YR2017</td>\n",
       "      <td>Zimbabwe</td>\n",
       "      <td>2017</td>\n",
       "      <td>17420.0</td>\n",
       "    </tr>\n",
       "  </tbody>\n",
       "</table>\n",
       "</div>"
      ],
      "text/plain": [
       "  economy    time   Country  Time  \\\n",
       "0     ZWE  YR2021  Zimbabwe  2021   \n",
       "1     ZWE  YR2020  Zimbabwe  2020   \n",
       "2     ZWE  YR2019  Zimbabwe  2019   \n",
       "3     ZWE  YR2018  Zimbabwe  2018   \n",
       "4     ZWE  YR2017  Zimbabwe  2017   \n",
       "\n",
       "   Refugee population by country or territory of origin  \n",
       "0                                             8115.0     \n",
       "1                                             8575.0     \n",
       "2                                            10045.0     \n",
       "3                                            15618.0     \n",
       "4                                            17420.0     "
      ]
     },
     "execution_count": 48,
     "metadata": {},
     "output_type": "execute_result"
    }
   ],
   "source": [
    "pov_refugee_origin.head()"
   ]
  },
  {
   "attachments": {},
   "cell_type": "markdown",
   "metadata": {},
   "source": [
    "We check the size of the dataset:"
   ]
  },
  {
   "cell_type": "code",
   "execution_count": 49,
   "metadata": {},
   "outputs": [
    {
     "data": {
      "text/plain": [
       "(5037, 5)"
      ]
     },
     "execution_count": 49,
     "metadata": {},
     "output_type": "execute_result"
    }
   ],
   "source": [
    "pov_refugee_origin.shape"
   ]
  },
  {
   "attachments": {},
   "cell_type": "markdown",
   "metadata": {},
   "source": [
    "We review the amount of null values and the type of data each column has:"
   ]
  },
  {
   "cell_type": "code",
   "execution_count": 50,
   "metadata": {},
   "outputs": [
    {
     "name": "stdout",
     "output_type": "stream",
     "text": [
      "<class 'pandas.core.frame.DataFrame'>\n",
      "RangeIndex: 5037 entries, 0 to 5036\n",
      "Data columns (total 5 columns):\n",
      " #   Column                                                Non-Null Count  Dtype  \n",
      "---  ------                                                --------------  -----  \n",
      " 0   economy                                               5037 non-null   object \n",
      " 1   time                                                  5037 non-null   object \n",
      " 2   Country                                               5037 non-null   object \n",
      " 3   Time                                                  5037 non-null   object \n",
      " 4   Refugee population by country or territory of origin  5037 non-null   float64\n",
      "dtypes: float64(1), object(4)\n",
      "memory usage: 196.9+ KB\n"
     ]
    }
   ],
   "source": [
    "pov_refugee_origin.info()"
   ]
  },
  {
   "cell_type": "code",
   "execution_count": 51,
   "metadata": {},
   "outputs": [
    {
     "data": {
      "text/html": [
       "<div>\n",
       "<style scoped>\n",
       "    .dataframe tbody tr th:only-of-type {\n",
       "        vertical-align: middle;\n",
       "    }\n",
       "\n",
       "    .dataframe tbody tr th {\n",
       "        vertical-align: top;\n",
       "    }\n",
       "\n",
       "    .dataframe thead th {\n",
       "        text-align: right;\n",
       "    }\n",
       "</style>\n",
       "<table border=\"1\" class=\"dataframe\">\n",
       "  <thead>\n",
       "    <tr style=\"text-align: right;\">\n",
       "      <th></th>\n",
       "      <th>Refugee population by country or territory of origin</th>\n",
       "    </tr>\n",
       "  </thead>\n",
       "  <tbody>\n",
       "    <tr>\n",
       "      <th>count</th>\n",
       "      <td>5.037000e+03</td>\n",
       "    </tr>\n",
       "    <tr>\n",
       "      <th>mean</th>\n",
       "      <td>7.890342e+05</td>\n",
       "    </tr>\n",
       "    <tr>\n",
       "      <th>std</th>\n",
       "      <td>2.570647e+06</td>\n",
       "    </tr>\n",
       "    <tr>\n",
       "      <th>min</th>\n",
       "      <td>5.000000e+00</td>\n",
       "    </tr>\n",
       "    <tr>\n",
       "      <th>25%</th>\n",
       "      <td>1.910000e+02</td>\n",
       "    </tr>\n",
       "    <tr>\n",
       "      <th>50%</th>\n",
       "      <td>3.376000e+03</td>\n",
       "    </tr>\n",
       "    <tr>\n",
       "      <th>75%</th>\n",
       "      <td>1.176870e+05</td>\n",
       "    </tr>\n",
       "    <tr>\n",
       "      <th>max</th>\n",
       "      <td>2.711982e+07</td>\n",
       "    </tr>\n",
       "  </tbody>\n",
       "</table>\n",
       "</div>"
      ],
      "text/plain": [
       "       Refugee population by country or territory of origin\n",
       "count                                       5.037000e+03   \n",
       "mean                                        7.890342e+05   \n",
       "std                                         2.570647e+06   \n",
       "min                                         5.000000e+00   \n",
       "25%                                         1.910000e+02   \n",
       "50%                                         3.376000e+03   \n",
       "75%                                         1.176870e+05   \n",
       "max                                         2.711982e+07   "
      ]
     },
     "execution_count": 51,
     "metadata": {},
     "output_type": "execute_result"
    }
   ],
   "source": [
    "pov_refugee_origin.describe()"
   ]
  },
  {
   "attachments": {},
   "cell_type": "markdown",
   "metadata": {},
   "source": [
    "We check for duplicates:"
   ]
  },
  {
   "cell_type": "code",
   "execution_count": 52,
   "metadata": {},
   "outputs": [
    {
     "data": {
      "text/html": [
       "<div>\n",
       "<style scoped>\n",
       "    .dataframe tbody tr th:only-of-type {\n",
       "        vertical-align: middle;\n",
       "    }\n",
       "\n",
       "    .dataframe tbody tr th {\n",
       "        vertical-align: top;\n",
       "    }\n",
       "\n",
       "    .dataframe thead th {\n",
       "        text-align: right;\n",
       "    }\n",
       "</style>\n",
       "<table border=\"1\" class=\"dataframe\">\n",
       "  <thead>\n",
       "    <tr style=\"text-align: right;\">\n",
       "      <th></th>\n",
       "      <th>economy</th>\n",
       "      <th>time</th>\n",
       "      <th>Country</th>\n",
       "      <th>Time</th>\n",
       "      <th>Refugee population by country or territory of origin</th>\n",
       "    </tr>\n",
       "  </thead>\n",
       "  <tbody>\n",
       "  </tbody>\n",
       "</table>\n",
       "</div>"
      ],
      "text/plain": [
       "Empty DataFrame\n",
       "Columns: [economy, time, Country, Time, Refugee population by country or territory of origin]\n",
       "Index: []"
      ]
     },
     "execution_count": 52,
     "metadata": {},
     "output_type": "execute_result"
    }
   ],
   "source": [
    "pov_refugee_origin[pov_refugee_origin.duplicated(subset=['Country', 'Time'])]"
   ]
  },
  {
   "attachments": {},
   "cell_type": "markdown",
   "metadata": {},
   "source": [
    "We check it has the years needed:"
   ]
  },
  {
   "cell_type": "code",
   "execution_count": 53,
   "metadata": {},
   "outputs": [
    {
     "data": {
      "text/plain": [
       "array(['2021', '2020', '2019', '2018', '2017', '2016', '2015', '2014',\n",
       "       '2013', '2012', '2011', '2010', '2009', '2008', '2007', '2006',\n",
       "       '2005', '2004', '2003', '2002', '2001', '2000'], dtype=object)"
      ]
     },
     "execution_count": 53,
     "metadata": {},
     "output_type": "execute_result"
    }
   ],
   "source": [
    "pov_refugee_origin['Time'].unique()"
   ]
  },
  {
   "attachments": {},
   "cell_type": "markdown",
   "metadata": {},
   "source": [
    "We check the amount of countries and which onces it has:"
   ]
  },
  {
   "cell_type": "code",
   "execution_count": 54,
   "metadata": {},
   "outputs": [
    {
     "data": {
      "text/plain": [
       "array(['Zimbabwe', 'Zambia', 'Yemen, Rep.', 'West Bank and Gaza',\n",
       "       'Vietnam', 'Venezuela, RB', 'Uzbekistan', 'Uruguay',\n",
       "       'United States', 'United Kingdom', 'United Arab Emirates',\n",
       "       'Ukraine', 'Uganda', 'Tuvalu', 'Turks and Caicos Islands',\n",
       "       'Turkmenistan', 'Turkiye', 'Tunisia', 'Trinidad and Tobago',\n",
       "       'Tonga', 'Togo', 'Timor-Leste', 'Thailand', 'Tanzania',\n",
       "       'Tajikistan', 'Syrian Arab Republic', 'Switzerland', 'Sweden',\n",
       "       'Suriname', 'Sudan', 'St. Vincent and the Grenadines', 'St. Lucia',\n",
       "       'St. Kitts and Nevis', 'Sri Lanka', 'Spain', 'South Sudan',\n",
       "       'South Africa', 'Somalia', 'Solomon Islands', 'Slovenia',\n",
       "       'Slovak Republic', 'Singapore', 'Sierra Leone', 'Seychelles',\n",
       "       'Serbia', 'Senegal', 'Saudi Arabia', 'Sao Tome and Principe',\n",
       "       'San Marino', 'Samoa', 'Rwanda', 'Russian Federation', 'Romania',\n",
       "       'Qatar', 'Portugal', 'Poland', 'Philippines', 'Peru', 'Paraguay',\n",
       "       'Papua New Guinea', 'Panama', 'Pakistan', 'Oman', 'Norway',\n",
       "       'North Macedonia', 'Nigeria', 'Niger', 'Nicaragua', 'New Zealand',\n",
       "       'Netherlands', 'Nepal', 'Nauru', 'Namibia', 'Myanmar',\n",
       "       'Mozambique', 'Morocco', 'Montenegro', 'Mongolia', 'Monaco',\n",
       "       'Moldova', 'Mexico', 'Mauritius', 'Mauritania', 'Marshall Islands',\n",
       "       'Malta', 'Mali', 'Maldives', 'Malaysia', 'Malawi', 'Madagascar',\n",
       "       'Macao SAR, China', 'Luxembourg', 'Lithuania', 'Liechtenstein',\n",
       "       'Libya', 'Liberia', 'Lesotho', 'Lebanon', 'Latvia', 'Lao PDR',\n",
       "       'Kyrgyz Republic', 'Kuwait', 'Korea, Rep.',\n",
       "       \"Korea, Dem. People's Rep.\", 'Kiribati', 'Kenya', 'Kazakhstan',\n",
       "       'Jordan', 'Japan', 'Jamaica', 'Italy', 'Israel', 'Ireland', 'Iraq',\n",
       "       'Iran, Islamic Rep.', 'Indonesia', 'India', 'Iceland', 'Hungary',\n",
       "       'Hong Kong SAR, China', 'Honduras', 'Haiti', 'Guyana',\n",
       "       'Guinea-Bissau', 'Guinea', 'Guatemala', 'Grenada', 'Greece',\n",
       "       'Ghana', 'Germany', 'Georgia', 'Gambia, The', 'Gabon', 'France',\n",
       "       'Finland', 'Fiji', 'Ethiopia', 'Eswatini', 'Estonia', 'Eritrea',\n",
       "       'Equatorial Guinea', 'El Salvador', 'Egypt, Arab Rep.', 'Ecuador',\n",
       "       'Dominican Republic', 'Dominica', 'Djibouti', 'Denmark', 'Czechia',\n",
       "       'Cyprus', 'Curacao', 'Cuba', 'Croatia', \"Cote d'Ivoire\",\n",
       "       'Costa Rica', 'Congo, Rep.', 'Congo, Dem. Rep.', 'Comoros',\n",
       "       'Colombia', 'China', 'Chile', 'Chad', 'Central African Republic',\n",
       "       'Cayman Islands', 'Canada', 'Cameroon', 'Cambodia', 'Cabo Verde',\n",
       "       'Burundi', 'Burkina Faso', 'Bulgaria', 'Brunei Darussalam',\n",
       "       'Brazil', 'Botswana', 'Bosnia and Herzegovina', 'Bolivia',\n",
       "       'Bhutan', 'Benin', 'Belize', 'Belgium', 'Belarus', 'Barbados',\n",
       "       'Bangladesh', 'Bahrain', 'Bahamas, The', 'Azerbaijan', 'Austria',\n",
       "       'Australia', 'Armenia', 'Argentina', 'Antigua and Barbuda',\n",
       "       'Angola', 'Andorra', 'Algeria', 'Albania', 'Afghanistan', 'World',\n",
       "       'Upper middle income', 'Sub-Saharan Africa (IDA & IBRD countries)',\n",
       "       'Sub-Saharan Africa (excluding high income)', 'Sub-Saharan Africa',\n",
       "       'South Asia (IDA & IBRD)', 'South Asia', 'Small states',\n",
       "       'Pre-demographic dividend', 'Post-demographic dividend',\n",
       "       'Pacific island small states', 'Other small states',\n",
       "       'OECD members', 'North America', 'Middle income',\n",
       "       'Middle East & North Africa (IDA & IBRD countries)',\n",
       "       'Middle East & North Africa (excluding high income)',\n",
       "       'Middle East & North Africa', 'Lower middle income', 'Low income',\n",
       "       'Low & middle income',\n",
       "       'Least developed countries: UN classification',\n",
       "       'Latin America & the Caribbean (IDA & IBRD countries)',\n",
       "       'Latin America & Caribbean (excluding high income)',\n",
       "       'Latin America & Caribbean', 'Late-demographic dividend',\n",
       "       'IDA total', 'IDA only', 'IDA blend', 'IDA & IBRD total',\n",
       "       'IBRD only', 'High income',\n",
       "       'Heavily indebted poor countries (HIPC)',\n",
       "       'Fragile and conflict affected situations', 'European Union',\n",
       "       'Europe & Central Asia (IDA & IBRD countries)',\n",
       "       'Europe & Central Asia (excluding high income)',\n",
       "       'Europe & Central Asia', 'Euro area',\n",
       "       'East Asia & Pacific (IDA & IBRD countries)',\n",
       "       'East Asia & Pacific (excluding high income)',\n",
       "       'East Asia & Pacific', 'Early-demographic dividend',\n",
       "       'Central Europe and the Baltics', 'Caribbean small states',\n",
       "       'Arab World', 'Africa Western and Central',\n",
       "       'Africa Eastern and Southern'], dtype=object)"
      ]
     },
     "execution_count": 54,
     "metadata": {},
     "output_type": "execute_result"
    }
   ],
   "source": [
    "pov_refugee_origin['Country'].unique()"
   ]
  },
  {
   "cell_type": "code",
   "execution_count": 55,
   "metadata": {},
   "outputs": [
    {
     "data": {
      "text/plain": [
       "244"
      ]
     },
     "execution_count": 55,
     "metadata": {},
     "output_type": "execute_result"
    }
   ],
   "source": [
    "pov_refugee_origin['Country'].nunique()"
   ]
  },
  {
   "attachments": {},
   "cell_type": "markdown",
   "metadata": {},
   "source": [
    "---"
   ]
  },
  {
   "attachments": {},
   "cell_type": "markdown",
   "metadata": {},
   "source": [
    "🔹 Conclusions on: **Refugee population by country or territory of origin** <br>\n",
    "\n",
    "* Does not contain duplicates. \n",
    "* Does not contain null values.  \n",
    "* It has all the years needed. \n",
    "* It has an extra column, called 'time', that will be removed. \n",
    "* The column named 'Time' will be renamed and it's tipe of data will be changed into int. \n",
    "* The column 'economy' will be renamed into 'Country Code'\n",
    "* THe column 'Country' will be renamed into 'Country Name'\n",
    "* It has more unique in 'Country' than needed. "
   ]
  },
  {
   "attachments": {},
   "cell_type": "markdown",
   "metadata": {},
   "source": [
    "---"
   ]
  },
  {
   "attachments": {},
   "cell_type": "markdown",
   "metadata": {},
   "source": [
    "### Refugee population by country or territory of asylum\n",
    "    Country of asylum is the country where an asylum claim was filled and granted."
   ]
  },
  {
   "cell_type": "code",
   "execution_count": 56,
   "metadata": {},
   "outputs": [
    {
     "data": {
      "text/html": [
       "<div>\n",
       "<style scoped>\n",
       "    .dataframe tbody tr th:only-of-type {\n",
       "        vertical-align: middle;\n",
       "    }\n",
       "\n",
       "    .dataframe tbody tr th {\n",
       "        vertical-align: top;\n",
       "    }\n",
       "\n",
       "    .dataframe thead th {\n",
       "        text-align: right;\n",
       "    }\n",
       "</style>\n",
       "<table border=\"1\" class=\"dataframe\">\n",
       "  <thead>\n",
       "    <tr style=\"text-align: right;\">\n",
       "      <th></th>\n",
       "      <th>economy</th>\n",
       "      <th>time</th>\n",
       "      <th>Country</th>\n",
       "      <th>Time</th>\n",
       "      <th>Refugee population by country or territory of asylum</th>\n",
       "    </tr>\n",
       "  </thead>\n",
       "  <tbody>\n",
       "    <tr>\n",
       "      <th>0</th>\n",
       "      <td>ZWE</td>\n",
       "      <td>YR2021</td>\n",
       "      <td>Zimbabwe</td>\n",
       "      <td>2021</td>\n",
       "      <td>9483.0</td>\n",
       "    </tr>\n",
       "    <tr>\n",
       "      <th>1</th>\n",
       "      <td>ZWE</td>\n",
       "      <td>YR2020</td>\n",
       "      <td>Zimbabwe</td>\n",
       "      <td>2020</td>\n",
       "      <td>9261.0</td>\n",
       "    </tr>\n",
       "    <tr>\n",
       "      <th>2</th>\n",
       "      <td>ZWE</td>\n",
       "      <td>YR2019</td>\n",
       "      <td>Zimbabwe</td>\n",
       "      <td>2019</td>\n",
       "      <td>8956.0</td>\n",
       "    </tr>\n",
       "    <tr>\n",
       "      <th>3</th>\n",
       "      <td>ZWE</td>\n",
       "      <td>YR2018</td>\n",
       "      <td>Zimbabwe</td>\n",
       "      <td>2018</td>\n",
       "      <td>7795.0</td>\n",
       "    </tr>\n",
       "    <tr>\n",
       "      <th>4</th>\n",
       "      <td>ZWE</td>\n",
       "      <td>YR2017</td>\n",
       "      <td>Zimbabwe</td>\n",
       "      <td>2017</td>\n",
       "      <td>7566.0</td>\n",
       "    </tr>\n",
       "  </tbody>\n",
       "</table>\n",
       "</div>"
      ],
      "text/plain": [
       "  economy    time   Country  Time  \\\n",
       "0     ZWE  YR2021  Zimbabwe  2021   \n",
       "1     ZWE  YR2020  Zimbabwe  2020   \n",
       "2     ZWE  YR2019  Zimbabwe  2019   \n",
       "3     ZWE  YR2018  Zimbabwe  2018   \n",
       "4     ZWE  YR2017  Zimbabwe  2017   \n",
       "\n",
       "   Refugee population by country or territory of asylum  \n",
       "0                                             9483.0     \n",
       "1                                             9261.0     \n",
       "2                                             8956.0     \n",
       "3                                             7795.0     \n",
       "4                                             7566.0     "
      ]
     },
     "execution_count": 56,
     "metadata": {},
     "output_type": "execute_result"
    }
   ],
   "source": [
    "pov_refugee_asylum.head()"
   ]
  },
  {
   "attachments": {},
   "cell_type": "markdown",
   "metadata": {},
   "source": [
    "We check the size of the dataset: "
   ]
  },
  {
   "cell_type": "code",
   "execution_count": 57,
   "metadata": {},
   "outputs": [
    {
     "data": {
      "text/plain": [
       "(4505, 5)"
      ]
     },
     "execution_count": 57,
     "metadata": {},
     "output_type": "execute_result"
    }
   ],
   "source": [
    "pov_refugee_asylum.shape"
   ]
  },
  {
   "attachments": {},
   "cell_type": "markdown",
   "metadata": {},
   "source": [
    "We review the amount of null values and the type of data each column has:"
   ]
  },
  {
   "cell_type": "code",
   "execution_count": 58,
   "metadata": {},
   "outputs": [
    {
     "name": "stdout",
     "output_type": "stream",
     "text": [
      "<class 'pandas.core.frame.DataFrame'>\n",
      "RangeIndex: 4505 entries, 0 to 4504\n",
      "Data columns (total 5 columns):\n",
      " #   Column                                                Non-Null Count  Dtype  \n",
      "---  ------                                                --------------  -----  \n",
      " 0   economy                                               4505 non-null   object \n",
      " 1   time                                                  4505 non-null   object \n",
      " 2   Country                                               4505 non-null   object \n",
      " 3   Time                                                  4505 non-null   object \n",
      " 4   Refugee population by country or territory of asylum  4505 non-null   float64\n",
      "dtypes: float64(1), object(4)\n",
      "memory usage: 176.1+ KB\n"
     ]
    }
   ],
   "source": [
    "pov_refugee_asylum.info()"
   ]
  },
  {
   "cell_type": "code",
   "execution_count": 59,
   "metadata": {},
   "outputs": [
    {
     "data": {
      "text/html": [
       "<div>\n",
       "<style scoped>\n",
       "    .dataframe tbody tr th:only-of-type {\n",
       "        vertical-align: middle;\n",
       "    }\n",
       "\n",
       "    .dataframe tbody tr th {\n",
       "        vertical-align: top;\n",
       "    }\n",
       "\n",
       "    .dataframe thead th {\n",
       "        text-align: right;\n",
       "    }\n",
       "</style>\n",
       "<table border=\"1\" class=\"dataframe\">\n",
       "  <thead>\n",
       "    <tr style=\"text-align: right;\">\n",
       "      <th></th>\n",
       "      <th>Refugee population by country or territory of asylum</th>\n",
       "    </tr>\n",
       "  </thead>\n",
       "  <tbody>\n",
       "    <tr>\n",
       "      <th>count</th>\n",
       "      <td>4.505000e+03</td>\n",
       "    </tr>\n",
       "    <tr>\n",
       "      <th>mean</th>\n",
       "      <td>1.037694e+06</td>\n",
       "    </tr>\n",
       "    <tr>\n",
       "      <th>std</th>\n",
       "      <td>2.785809e+06</td>\n",
       "    </tr>\n",
       "    <tr>\n",
       "      <th>min</th>\n",
       "      <td>5.000000e+00</td>\n",
       "    </tr>\n",
       "    <tr>\n",
       "      <th>25%</th>\n",
       "      <td>1.076000e+03</td>\n",
       "    </tr>\n",
       "    <tr>\n",
       "      <th>50%</th>\n",
       "      <td>1.788300e+04</td>\n",
       "    </tr>\n",
       "    <tr>\n",
       "      <th>75%</th>\n",
       "      <td>3.664910e+05</td>\n",
       "    </tr>\n",
       "    <tr>\n",
       "      <th>max</th>\n",
       "      <td>2.711982e+07</td>\n",
       "    </tr>\n",
       "  </tbody>\n",
       "</table>\n",
       "</div>"
      ],
      "text/plain": [
       "       Refugee population by country or territory of asylum\n",
       "count                                       4.505000e+03   \n",
       "mean                                        1.037694e+06   \n",
       "std                                         2.785809e+06   \n",
       "min                                         5.000000e+00   \n",
       "25%                                         1.076000e+03   \n",
       "50%                                         1.788300e+04   \n",
       "75%                                         3.664910e+05   \n",
       "max                                         2.711982e+07   "
      ]
     },
     "execution_count": 59,
     "metadata": {},
     "output_type": "execute_result"
    }
   ],
   "source": [
    "pov_refugee_asylum.describe()"
   ]
  },
  {
   "attachments": {},
   "cell_type": "markdown",
   "metadata": {},
   "source": [
    "We check for duplicates:"
   ]
  },
  {
   "cell_type": "code",
   "execution_count": 60,
   "metadata": {},
   "outputs": [
    {
     "data": {
      "text/html": [
       "<div>\n",
       "<style scoped>\n",
       "    .dataframe tbody tr th:only-of-type {\n",
       "        vertical-align: middle;\n",
       "    }\n",
       "\n",
       "    .dataframe tbody tr th {\n",
       "        vertical-align: top;\n",
       "    }\n",
       "\n",
       "    .dataframe thead th {\n",
       "        text-align: right;\n",
       "    }\n",
       "</style>\n",
       "<table border=\"1\" class=\"dataframe\">\n",
       "  <thead>\n",
       "    <tr style=\"text-align: right;\">\n",
       "      <th></th>\n",
       "      <th>economy</th>\n",
       "      <th>time</th>\n",
       "      <th>Country</th>\n",
       "      <th>Time</th>\n",
       "      <th>Refugee population by country or territory of asylum</th>\n",
       "    </tr>\n",
       "  </thead>\n",
       "  <tbody>\n",
       "  </tbody>\n",
       "</table>\n",
       "</div>"
      ],
      "text/plain": [
       "Empty DataFrame\n",
       "Columns: [economy, time, Country, Time, Refugee population by country or territory of asylum]\n",
       "Index: []"
      ]
     },
     "execution_count": 60,
     "metadata": {},
     "output_type": "execute_result"
    }
   ],
   "source": [
    "pov_refugee_asylum[pov_refugee_asylum.duplicated(subset=['Country', 'Time'])]"
   ]
  },
  {
   "attachments": {},
   "cell_type": "markdown",
   "metadata": {},
   "source": [
    "We check it has the years needed:"
   ]
  },
  {
   "cell_type": "code",
   "execution_count": 61,
   "metadata": {},
   "outputs": [
    {
     "data": {
      "text/plain": [
       "array(['2021', '2020', '2019', '2018', '2017', '2016', '2015', '2014',\n",
       "       '2013', '2012', '2011', '2010', '2009', '2008', '2007', '2006',\n",
       "       '2005', '2004', '2003', '2002', '2001', '2000'], dtype=object)"
      ]
     },
     "execution_count": 61,
     "metadata": {},
     "output_type": "execute_result"
    }
   ],
   "source": [
    "pov_refugee_asylum['Time'].unique()"
   ]
  },
  {
   "attachments": {},
   "cell_type": "markdown",
   "metadata": {},
   "source": [
    "We check the amount of countries and which onces it has:"
   ]
  },
  {
   "cell_type": "code",
   "execution_count": 62,
   "metadata": {},
   "outputs": [
    {
     "data": {
      "text/plain": [
       "array(['Zimbabwe', 'Zambia', 'Yemen, Rep.', 'West Bank and Gaza',\n",
       "       'Vietnam', 'Venezuela, RB', 'Vanuatu', 'Uzbekistan', 'Uruguay',\n",
       "       'United States', 'United Kingdom', 'United Arab Emirates',\n",
       "       'Ukraine', 'Uganda', 'Turks and Caicos Islands', 'Turkmenistan',\n",
       "       'Turkiye', 'Tunisia', 'Trinidad and Tobago', 'Togo', 'Thailand',\n",
       "       'Tanzania', 'Tajikistan', 'Syrian Arab Republic', 'Switzerland',\n",
       "       'Sweden', 'Suriname', 'Sudan', 'St. Lucia', 'St. Kitts and Nevis',\n",
       "       'Sri Lanka', 'Spain', 'South Sudan', 'South Africa', 'Somalia',\n",
       "       'Solomon Islands', 'Slovenia', 'Slovak Republic',\n",
       "       'Sint Maarten (Dutch part)', 'Singapore', 'Sierra Leone', 'Serbia',\n",
       "       'Senegal', 'Saudi Arabia', 'Samoa', 'Rwanda', 'Russian Federation',\n",
       "       'Romania', 'Qatar', 'Portugal', 'Poland', 'Philippines', 'Peru',\n",
       "       'Paraguay', 'Papua New Guinea', 'Panama', 'Palau', 'Pakistan',\n",
       "       'Oman', 'Norway', 'North Macedonia', 'Nigeria', 'Niger',\n",
       "       'Nicaragua', 'New Zealand', 'Netherlands', 'Nepal', 'Nauru',\n",
       "       'Namibia', 'Mozambique', 'Morocco', 'Montenegro', 'Mongolia',\n",
       "       'Monaco', 'Moldova', 'Micronesia, Fed. Sts.', 'Mexico',\n",
       "       'Mauritius', 'Mauritania', 'Malta', 'Mali', 'Malaysia', 'Malawi',\n",
       "       'Madagascar', 'Macao SAR, China', 'Luxembourg', 'Lithuania',\n",
       "       'Liechtenstein', 'Libya', 'Liberia', 'Lesotho', 'Lebanon',\n",
       "       'Latvia', 'Kyrgyz Republic', 'Kuwait', 'Korea, Rep.', 'Kenya',\n",
       "       'Kazakhstan', 'Jordan', 'Japan', 'Jamaica', 'Italy', 'Israel',\n",
       "       'Ireland', 'Iraq', 'Iran, Islamic Rep.', 'Indonesia', 'India',\n",
       "       'Iceland', 'Hungary', 'Hong Kong SAR, China', 'Honduras', 'Haiti',\n",
       "       'Guyana', 'Guinea-Bissau', 'Guinea', 'Guatemala', 'Grenada',\n",
       "       'Greece', 'Ghana', 'Germany', 'Georgia', 'Gambia, The', 'Gabon',\n",
       "       'France', 'Finland', 'Fiji', 'Ethiopia', 'Eswatini', 'Estonia',\n",
       "       'Eritrea', 'El Salvador', 'Egypt, Arab Rep.', 'Ecuador',\n",
       "       'Dominican Republic', 'Djibouti', 'Denmark', 'Czechia', 'Cyprus',\n",
       "       'Curacao', 'Cuba', 'Croatia', \"Cote d'Ivoire\", 'Costa Rica',\n",
       "       'Congo, Rep.', 'Congo, Dem. Rep.', 'Comoros', 'Colombia', 'China',\n",
       "       'Chile', 'Chad', 'Central African Republic', 'Cayman Islands',\n",
       "       'Canada', 'Cameroon', 'Cambodia', 'Burundi', 'Burkina Faso',\n",
       "       'Bulgaria', 'Brazil', 'Botswana', 'Bosnia and Herzegovina',\n",
       "       'Bolivia', 'Benin', 'Belize', 'Belgium', 'Belarus', 'Bangladesh',\n",
       "       'Bahrain', 'Bahamas, The', 'Azerbaijan', 'Austria', 'Australia',\n",
       "       'Armenia', 'Argentina', 'Antigua and Barbuda', 'Angola', 'Algeria',\n",
       "       'Albania', 'Afghanistan', 'World', 'Upper middle income',\n",
       "       'Sub-Saharan Africa (IDA & IBRD countries)',\n",
       "       'Sub-Saharan Africa (excluding high income)', 'Sub-Saharan Africa',\n",
       "       'South Asia (IDA & IBRD)', 'South Asia', 'Small states',\n",
       "       'Pre-demographic dividend', 'Post-demographic dividend',\n",
       "       'Pacific island small states', 'Other small states',\n",
       "       'OECD members', 'North America', 'Middle income',\n",
       "       'Middle East & North Africa (IDA & IBRD countries)',\n",
       "       'Middle East & North Africa (excluding high income)',\n",
       "       'Middle East & North Africa', 'Lower middle income', 'Low income',\n",
       "       'Low & middle income',\n",
       "       'Least developed countries: UN classification',\n",
       "       'Latin America & the Caribbean (IDA & IBRD countries)',\n",
       "       'Latin America & Caribbean (excluding high income)',\n",
       "       'Latin America & Caribbean', 'Late-demographic dividend',\n",
       "       'IDA total', 'IDA only', 'IDA blend', 'IDA & IBRD total',\n",
       "       'IBRD only', 'High income',\n",
       "       'Heavily indebted poor countries (HIPC)',\n",
       "       'Fragile and conflict affected situations', 'European Union',\n",
       "       'Europe & Central Asia (IDA & IBRD countries)',\n",
       "       'Europe & Central Asia (excluding high income)',\n",
       "       'Europe & Central Asia', 'Euro area',\n",
       "       'East Asia & Pacific (IDA & IBRD countries)',\n",
       "       'East Asia & Pacific (excluding high income)',\n",
       "       'East Asia & Pacific', 'Early-demographic dividend',\n",
       "       'Central Europe and the Baltics', 'Caribbean small states',\n",
       "       'Arab World', 'Africa Western and Central',\n",
       "       'Africa Eastern and Southern'], dtype=object)"
      ]
     },
     "execution_count": 62,
     "metadata": {},
     "output_type": "execute_result"
    }
   ],
   "source": [
    "pov_refugee_asylum['Country'].unique()"
   ]
  },
  {
   "cell_type": "code",
   "execution_count": 63,
   "metadata": {},
   "outputs": [
    {
     "data": {
      "text/plain": [
       "228"
      ]
     },
     "execution_count": 63,
     "metadata": {},
     "output_type": "execute_result"
    }
   ],
   "source": [
    "pov_refugee_asylum['Country'].nunique()"
   ]
  },
  {
   "attachments": {},
   "cell_type": "markdown",
   "metadata": {},
   "source": [
    "---"
   ]
  },
  {
   "attachments": {},
   "cell_type": "markdown",
   "metadata": {},
   "source": [
    "🔹 Conclusions on: **Refugee population by country or territory of asylum** <br>\n",
    "\n",
    "* Does not contain duplicates. \n",
    "* Does not contain null values.  \n",
    "* It has all the years needed. \n",
    "* It has an extra column, called 'time', that will be removed. \n",
    "* The column named 'Time' will be renamed and it's tipe of data will be changed into int. \n",
    "* The column 'economy' will be renamed into 'Country Code'\n",
    "* THe column 'Country' will be renamed into 'Country Name'\n",
    "* It has more unique in 'Country' than needed. "
   ]
  },
  {
   "attachments": {},
   "cell_type": "markdown",
   "metadata": {},
   "source": [
    "---"
   ]
  },
  {
   "attachments": {},
   "cell_type": "markdown",
   "metadata": {},
   "source": [
    "## General conclusions on Poverty: \n",
    "    Two out of the three datasets for this category need the same treatment. \n",
    "    The third dataset needs different treatment. \n",
    "    We have enough data for the years we need. \n",
    "    They are clean enough to start working on them.  "
   ]
  },
  {
   "attachments": {},
   "cell_type": "markdown",
   "metadata": {},
   "source": [
    "---"
   ]
  },
  {
   "attachments": {},
   "cell_type": "markdown",
   "metadata": {},
   "source": [
    "## ⟐ States:\n",
    "• Mobile cellular subscriptions <br>\n",
    "• Population Total <br>\n",
    "• Research and development expenditure (PCT of GDP) <br>\n",
    "• Labour force, total <br>\n",
    "• GDP per capita"
   ]
  },
  {
   "attachments": {},
   "cell_type": "markdown",
   "metadata": {},
   "source": [
    "We load the databases into variables:"
   ]
  },
  {
   "cell_type": "code",
   "execution_count": 64,
   "metadata": {},
   "outputs": [],
   "source": [
    "# Mobile Subscription\n",
    "sta_mobile = wb.data.DataFrame('IT.CEL.SETS.P2', labels = True, time=range(2000, year), skipBlanks=True, columns='series').reset_index()\n",
    "sta_mobile.rename(columns={'IT.CEL.SETS.P2': 'Mobile Subs.'}, inplace=True)\n",
    "\n",
    "# Population Total\n",
    "sta_population = wb.data.DataFrame('SP.POP.TOTL', labels = True, time=range(2000, year), skipBlanks=True, columns='series').reset_index()\n",
    "sta_population.rename(columns={'SP.POP.TOTL': 'Population Total'}, inplace=True)\n",
    "\n",
    "# Research and development expenditure (PCT of GDP)\n",
    "sta_research = wb.data.DataFrame('GB.XPD.RSDV.GD.ZS', labels = True, time=range(2000, year), skipBlanks=True, columns='series').reset_index()\n",
    "sta_research.rename(columns={'GB.XPD.RSDV.GD.ZS': 'Research and development expenditure (PCT of GDP)'}, inplace=True)\n",
    "\n",
    "# Labour force, total\n",
    "sta_labour = wb.data.DataFrame('SL.TLF.TOTL.IN', labels = True, time=range(2000, year), skipBlanks=True, columns='series').reset_index()\n",
    "sta_labour.rename(columns={'SL.TLF.TOTL.IN': 'Labour force, total'}, inplace=True)\n",
    "\n",
    "#GDP per capita\n",
    "data_url = 'https://datahub.io/world-bank/ny.gdp.pcap.pp.cd/datapackage.json'   # Storing the dataset into a generic variable\n",
    "package = datapackage.Package(data_url)                                         # Loading Data Package into storage\n",
    "resources = package.resources\n",
    "for resource in resources:\n",
    "    if resource.tabular:\n",
    "        sta_gdp_percapita = pd.read_csv(resource.descriptor['path'])            # Loading only tabular data"
   ]
  },
  {
   "attachments": {},
   "cell_type": "markdown",
   "metadata": {},
   "source": [
    "---"
   ]
  },
  {
   "attachments": {},
   "cell_type": "markdown",
   "metadata": {},
   "source": [
    "We start checking the basics of each one of them:"
   ]
  },
  {
   "attachments": {},
   "cell_type": "markdown",
   "metadata": {},
   "source": [
    "### Mobile Subscription\n",
    "     This dataset refers to subscriptions to a public mobile telephone service that provide access to the PSTN using cellular technology. The indicator includes (and is split into) the number of postpaid subscriptions, and the number of active prepaid accounts (i.e. that have been used during the last three months). The indicator applies to all mobile cellular subscriptions that offer voice communications. It excludes subscriptions via data cards or USB modems, subscriptions to public mobile data services, private trunked mobile radio, telepoint, radio paging and telemetry services. "
   ]
  },
  {
   "cell_type": "code",
   "execution_count": 65,
   "metadata": {},
   "outputs": [
    {
     "data": {
      "text/html": [
       "<div>\n",
       "<style scoped>\n",
       "    .dataframe tbody tr th:only-of-type {\n",
       "        vertical-align: middle;\n",
       "    }\n",
       "\n",
       "    .dataframe tbody tr th {\n",
       "        vertical-align: top;\n",
       "    }\n",
       "\n",
       "    .dataframe thead th {\n",
       "        text-align: right;\n",
       "    }\n",
       "</style>\n",
       "<table border=\"1\" class=\"dataframe\">\n",
       "  <thead>\n",
       "    <tr style=\"text-align: right;\">\n",
       "      <th></th>\n",
       "      <th>economy</th>\n",
       "      <th>time</th>\n",
       "      <th>Country</th>\n",
       "      <th>Time</th>\n",
       "      <th>Mobile Subs.</th>\n",
       "    </tr>\n",
       "  </thead>\n",
       "  <tbody>\n",
       "    <tr>\n",
       "      <th>0</th>\n",
       "      <td>ZWE</td>\n",
       "      <td>YR2021</td>\n",
       "      <td>Zimbabwe</td>\n",
       "      <td>2021</td>\n",
       "      <td>89.146019</td>\n",
       "    </tr>\n",
       "    <tr>\n",
       "      <th>1</th>\n",
       "      <td>ZWE</td>\n",
       "      <td>YR2020</td>\n",
       "      <td>Zimbabwe</td>\n",
       "      <td>2020</td>\n",
       "      <td>84.186274</td>\n",
       "    </tr>\n",
       "    <tr>\n",
       "      <th>2</th>\n",
       "      <td>ZWE</td>\n",
       "      <td>YR2019</td>\n",
       "      <td>Zimbabwe</td>\n",
       "      <td>2019</td>\n",
       "      <td>85.940989</td>\n",
       "    </tr>\n",
       "    <tr>\n",
       "      <th>3</th>\n",
       "      <td>ZWE</td>\n",
       "      <td>YR2018</td>\n",
       "      <td>Zimbabwe</td>\n",
       "      <td>2018</td>\n",
       "      <td>85.761588</td>\n",
       "    </tr>\n",
       "    <tr>\n",
       "      <th>4</th>\n",
       "      <td>ZWE</td>\n",
       "      <td>YR2017</td>\n",
       "      <td>Zimbabwe</td>\n",
       "      <td>2017</td>\n",
       "      <td>95.532557</td>\n",
       "    </tr>\n",
       "  </tbody>\n",
       "</table>\n",
       "</div>"
      ],
      "text/plain": [
       "  economy    time   Country  Time  Mobile Subs.\n",
       "0     ZWE  YR2021  Zimbabwe  2021     89.146019\n",
       "1     ZWE  YR2020  Zimbabwe  2020     84.186274\n",
       "2     ZWE  YR2019  Zimbabwe  2019     85.940989\n",
       "3     ZWE  YR2018  Zimbabwe  2018     85.761588\n",
       "4     ZWE  YR2017  Zimbabwe  2017     95.532557"
      ]
     },
     "execution_count": 65,
     "metadata": {},
     "output_type": "execute_result"
    }
   ],
   "source": [
    "sta_mobile.head()"
   ]
  },
  {
   "attachments": {},
   "cell_type": "markdown",
   "metadata": {},
   "source": [
    "We check the size of the dataset:"
   ]
  },
  {
   "cell_type": "code",
   "execution_count": 66,
   "metadata": {},
   "outputs": [
    {
     "data": {
      "text/plain": [
       "(5491, 5)"
      ]
     },
     "execution_count": 66,
     "metadata": {},
     "output_type": "execute_result"
    }
   ],
   "source": [
    "sta_mobile.shape"
   ]
  },
  {
   "attachments": {},
   "cell_type": "markdown",
   "metadata": {},
   "source": [
    "\n",
    "We review the amount of null values and the type of data each column has: \n"
   ]
  },
  {
   "cell_type": "code",
   "execution_count": 67,
   "metadata": {},
   "outputs": [
    {
     "name": "stdout",
     "output_type": "stream",
     "text": [
      "<class 'pandas.core.frame.DataFrame'>\n",
      "RangeIndex: 5491 entries, 0 to 5490\n",
      "Data columns (total 5 columns):\n",
      " #   Column        Non-Null Count  Dtype  \n",
      "---  ------        --------------  -----  \n",
      " 0   economy       5491 non-null   object \n",
      " 1   time          5491 non-null   object \n",
      " 2   Country       5491 non-null   object \n",
      " 3   Time          5491 non-null   object \n",
      " 4   Mobile Subs.  5491 non-null   float64\n",
      "dtypes: float64(1), object(4)\n",
      "memory usage: 214.6+ KB\n"
     ]
    }
   ],
   "source": [
    "sta_mobile.info()"
   ]
  },
  {
   "cell_type": "code",
   "execution_count": 68,
   "metadata": {},
   "outputs": [
    {
     "data": {
      "text/html": [
       "<div>\n",
       "<style scoped>\n",
       "    .dataframe tbody tr th:only-of-type {\n",
       "        vertical-align: middle;\n",
       "    }\n",
       "\n",
       "    .dataframe tbody tr th {\n",
       "        vertical-align: top;\n",
       "    }\n",
       "\n",
       "    .dataframe thead th {\n",
       "        text-align: right;\n",
       "    }\n",
       "</style>\n",
       "<table border=\"1\" class=\"dataframe\">\n",
       "  <thead>\n",
       "    <tr style=\"text-align: right;\">\n",
       "      <th></th>\n",
       "      <th>Mobile Subs.</th>\n",
       "    </tr>\n",
       "  </thead>\n",
       "  <tbody>\n",
       "    <tr>\n",
       "      <th>count</th>\n",
       "      <td>5491.000000</td>\n",
       "    </tr>\n",
       "    <tr>\n",
       "      <th>mean</th>\n",
       "      <td>75.106348</td>\n",
       "    </tr>\n",
       "    <tr>\n",
       "      <th>std</th>\n",
       "      <td>49.260799</td>\n",
       "    </tr>\n",
       "    <tr>\n",
       "      <th>min</th>\n",
       "      <td>0.000000</td>\n",
       "    </tr>\n",
       "    <tr>\n",
       "      <th>25%</th>\n",
       "      <td>31.792328</td>\n",
       "    </tr>\n",
       "    <tr>\n",
       "      <th>50%</th>\n",
       "      <td>79.196269</td>\n",
       "    </tr>\n",
       "    <tr>\n",
       "      <th>75%</th>\n",
       "      <td>112.055832</td>\n",
       "    </tr>\n",
       "    <tr>\n",
       "      <th>max</th>\n",
       "      <td>420.853098</td>\n",
       "    </tr>\n",
       "  </tbody>\n",
       "</table>\n",
       "</div>"
      ],
      "text/plain": [
       "       Mobile Subs.\n",
       "count   5491.000000\n",
       "mean      75.106348\n",
       "std       49.260799\n",
       "min        0.000000\n",
       "25%       31.792328\n",
       "50%       79.196269\n",
       "75%      112.055832\n",
       "max      420.853098"
      ]
     },
     "execution_count": 68,
     "metadata": {},
     "output_type": "execute_result"
    }
   ],
   "source": [
    "sta_mobile.describe()"
   ]
  },
  {
   "attachments": {},
   "cell_type": "markdown",
   "metadata": {},
   "source": [
    "\n",
    "We check for duplicates: \n"
   ]
  },
  {
   "cell_type": "code",
   "execution_count": 69,
   "metadata": {},
   "outputs": [
    {
     "data": {
      "text/html": [
       "<div>\n",
       "<style scoped>\n",
       "    .dataframe tbody tr th:only-of-type {\n",
       "        vertical-align: middle;\n",
       "    }\n",
       "\n",
       "    .dataframe tbody tr th {\n",
       "        vertical-align: top;\n",
       "    }\n",
       "\n",
       "    .dataframe thead th {\n",
       "        text-align: right;\n",
       "    }\n",
       "</style>\n",
       "<table border=\"1\" class=\"dataframe\">\n",
       "  <thead>\n",
       "    <tr style=\"text-align: right;\">\n",
       "      <th></th>\n",
       "      <th>economy</th>\n",
       "      <th>time</th>\n",
       "      <th>Country</th>\n",
       "      <th>Time</th>\n",
       "      <th>Mobile Subs.</th>\n",
       "    </tr>\n",
       "  </thead>\n",
       "  <tbody>\n",
       "  </tbody>\n",
       "</table>\n",
       "</div>"
      ],
      "text/plain": [
       "Empty DataFrame\n",
       "Columns: [economy, time, Country, Time, Mobile Subs.]\n",
       "Index: []"
      ]
     },
     "execution_count": 69,
     "metadata": {},
     "output_type": "execute_result"
    }
   ],
   "source": [
    "sta_mobile[sta_mobile.duplicated(subset=['Country', 'Time'])]"
   ]
  },
  {
   "attachments": {},
   "cell_type": "markdown",
   "metadata": {},
   "source": [
    "We check it has the years needed:"
   ]
  },
  {
   "cell_type": "code",
   "execution_count": 72,
   "metadata": {},
   "outputs": [
    {
     "name": "stdout",
     "output_type": "stream",
     "text": [
      "['2000' '2001' '2002' '2003' '2004' '2005' '2006' '2007' '2008' '2009'\n",
      " '2010' '2011' '2012' '2013' '2014' '2015' '2016' '2017' '2018' '2019'\n",
      " '2020' '2021']\n"
     ]
    }
   ],
   "source": [
    "sorted_years = np.sort(sta_mobile['Time'].unique())\n",
    "print(sorted_years)"
   ]
  },
  {
   "attachments": {},
   "cell_type": "markdown",
   "metadata": {},
   "source": [
    "We check the amount of countries and which onces it has:"
   ]
  },
  {
   "cell_type": "code",
   "execution_count": 73,
   "metadata": {},
   "outputs": [
    {
     "data": {
      "text/plain": [
       "array(['Zimbabwe', 'Zambia', 'Yemen, Rep.', 'West Bank and Gaza',\n",
       "       'Virgin Islands (U.S.)', 'Vietnam', 'Venezuela, RB', 'Vanuatu',\n",
       "       'Uzbekistan', 'Uruguay', 'United States', 'United Kingdom',\n",
       "       'United Arab Emirates', 'Ukraine', 'Uganda', 'Tuvalu',\n",
       "       'Turks and Caicos Islands', 'Turkmenistan', 'Turkiye', 'Tunisia',\n",
       "       'Trinidad and Tobago', 'Tonga', 'Togo', 'Timor-Leste', 'Thailand',\n",
       "       'Tanzania', 'Tajikistan', 'Syrian Arab Republic', 'Switzerland',\n",
       "       'Sweden', 'Suriname', 'Sudan', 'St. Vincent and the Grenadines',\n",
       "       'St. Lucia', 'St. Kitts and Nevis', 'Sri Lanka', 'Spain',\n",
       "       'South Sudan', 'South Africa', 'Somalia', 'Solomon Islands',\n",
       "       'Slovenia', 'Slovak Republic', 'Sint Maarten (Dutch part)',\n",
       "       'Singapore', 'Sierra Leone', 'Seychelles', 'Serbia', 'Senegal',\n",
       "       'Saudi Arabia', 'Sao Tome and Principe', 'San Marino', 'Samoa',\n",
       "       'Rwanda', 'Russian Federation', 'Romania', 'Qatar', 'Puerto Rico',\n",
       "       'Portugal', 'Poland', 'Philippines', 'Peru', 'Paraguay',\n",
       "       'Papua New Guinea', 'Panama', 'Palau', 'Pakistan', 'Oman',\n",
       "       'Norway', 'Northern Mariana Islands', 'North Macedonia', 'Nigeria',\n",
       "       'Niger', 'Nicaragua', 'New Zealand', 'New Caledonia',\n",
       "       'Netherlands', 'Nepal', 'Nauru', 'Namibia', 'Myanmar',\n",
       "       'Mozambique', 'Morocco', 'Montenegro', 'Mongolia', 'Monaco',\n",
       "       'Moldova', 'Micronesia, Fed. Sts.', 'Mexico', 'Mauritius',\n",
       "       'Mauritania', 'Marshall Islands', 'Malta', 'Mali', 'Maldives',\n",
       "       'Malaysia', 'Malawi', 'Madagascar', 'Macao SAR, China',\n",
       "       'Luxembourg', 'Lithuania', 'Liechtenstein', 'Libya', 'Liberia',\n",
       "       'Lesotho', 'Lebanon', 'Latvia', 'Lao PDR', 'Kyrgyz Republic',\n",
       "       'Kuwait', 'Kosovo', 'Korea, Rep.', \"Korea, Dem. People's Rep.\",\n",
       "       'Kiribati', 'Kenya', 'Kazakhstan', 'Jordan', 'Japan', 'Jamaica',\n",
       "       'Italy', 'Israel', 'Ireland', 'Iraq', 'Iran, Islamic Rep.',\n",
       "       'Indonesia', 'India', 'Iceland', 'Hungary', 'Hong Kong SAR, China',\n",
       "       'Honduras', 'Haiti', 'Guyana', 'Guinea-Bissau', 'Guinea',\n",
       "       'Guatemala', 'Guam', 'Grenada', 'Greenland', 'Greece', 'Gibraltar',\n",
       "       'Ghana', 'Germany', 'Georgia', 'Gambia, The', 'Gabon',\n",
       "       'French Polynesia', 'France', 'Finland', 'Fiji', 'Faroe Islands',\n",
       "       'Ethiopia', 'Eswatini', 'Estonia', 'Eritrea', 'Equatorial Guinea',\n",
       "       'El Salvador', 'Egypt, Arab Rep.', 'Ecuador', 'Dominican Republic',\n",
       "       'Dominica', 'Djibouti', 'Denmark', 'Czechia', 'Cyprus', 'Curacao',\n",
       "       'Cuba', 'Croatia', \"Cote d'Ivoire\", 'Costa Rica', 'Congo, Rep.',\n",
       "       'Congo, Dem. Rep.', 'Comoros', 'Colombia', 'China', 'Chile',\n",
       "       'Chad', 'Central African Republic', 'Cayman Islands', 'Canada',\n",
       "       'Cameroon', 'Cambodia', 'Cabo Verde', 'Burundi', 'Burkina Faso',\n",
       "       'Bulgaria', 'Brunei Darussalam', 'British Virgin Islands',\n",
       "       'Brazil', 'Botswana', 'Bosnia and Herzegovina', 'Bolivia',\n",
       "       'Bhutan', 'Bermuda', 'Benin', 'Belize', 'Belgium', 'Belarus',\n",
       "       'Barbados', 'Bangladesh', 'Bahrain', 'Bahamas, The', 'Azerbaijan',\n",
       "       'Austria', 'Australia', 'Aruba', 'Armenia', 'Argentina',\n",
       "       'Antigua and Barbuda', 'Angola', 'Andorra', 'American Samoa',\n",
       "       'Algeria', 'Albania', 'Afghanistan', 'World',\n",
       "       'Upper middle income', 'Sub-Saharan Africa (IDA & IBRD countries)',\n",
       "       'Sub-Saharan Africa (excluding high income)', 'Sub-Saharan Africa',\n",
       "       'South Asia (IDA & IBRD)', 'South Asia', 'Small states',\n",
       "       'Pre-demographic dividend', 'Post-demographic dividend',\n",
       "       'Pacific island small states', 'Other small states',\n",
       "       'OECD members', 'North America', 'Middle income',\n",
       "       'Middle East & North Africa (IDA & IBRD countries)',\n",
       "       'Middle East & North Africa (excluding high income)',\n",
       "       'Middle East & North Africa', 'Lower middle income', 'Low income',\n",
       "       'Low & middle income',\n",
       "       'Least developed countries: UN classification',\n",
       "       'Latin America & the Caribbean (IDA & IBRD countries)',\n",
       "       'Latin America & Caribbean (excluding high income)',\n",
       "       'Latin America & Caribbean', 'Late-demographic dividend',\n",
       "       'IDA total', 'IDA only', 'IDA blend', 'IDA & IBRD total',\n",
       "       'IBRD only', 'High income',\n",
       "       'Heavily indebted poor countries (HIPC)',\n",
       "       'Fragile and conflict affected situations', 'European Union',\n",
       "       'Europe & Central Asia (IDA & IBRD countries)',\n",
       "       'Europe & Central Asia (excluding high income)',\n",
       "       'Europe & Central Asia', 'Euro area',\n",
       "       'East Asia & Pacific (IDA & IBRD countries)',\n",
       "       'East Asia & Pacific (excluding high income)',\n",
       "       'East Asia & Pacific', 'Early-demographic dividend',\n",
       "       'Central Europe and the Baltics', 'Caribbean small states',\n",
       "       'Arab World', 'Africa Western and Central',\n",
       "       'Africa Eastern and Southern'], dtype=object)"
      ]
     },
     "execution_count": 73,
     "metadata": {},
     "output_type": "execute_result"
    }
   ],
   "source": [
    "sta_mobile['Country'].unique()"
   ]
  },
  {
   "cell_type": "code",
   "execution_count": 74,
   "metadata": {},
   "outputs": [
    {
     "data": {
      "text/plain": [
       "262"
      ]
     },
     "execution_count": 74,
     "metadata": {},
     "output_type": "execute_result"
    }
   ],
   "source": [
    "sta_mobile['Country'].nunique()"
   ]
  },
  {
   "attachments": {},
   "cell_type": "markdown",
   "metadata": {},
   "source": [
    "---"
   ]
  },
  {
   "attachments": {},
   "cell_type": "markdown",
   "metadata": {},
   "source": [
    "🔹 Conclusions on: **Mobile Subscription** <br>\n",
    "* Does not contain duplicates. \n",
    "* Does not contain null values.  \n",
    "* Does not have all the years needed. \n",
    "* Too small, will not be used. "
   ]
  },
  {
   "attachments": {},
   "cell_type": "markdown",
   "metadata": {},
   "source": [
    "---"
   ]
  },
  {
   "attachments": {},
   "cell_type": "markdown",
   "metadata": {},
   "source": [
    "### Population Total\n",
    "    This dataset bases on the facto definition of population, which counts all residents regardless of legal status or citizenship."
   ]
  },
  {
   "cell_type": "code",
   "execution_count": 75,
   "metadata": {},
   "outputs": [
    {
     "data": {
      "text/html": [
       "<div>\n",
       "<style scoped>\n",
       "    .dataframe tbody tr th:only-of-type {\n",
       "        vertical-align: middle;\n",
       "    }\n",
       "\n",
       "    .dataframe tbody tr th {\n",
       "        vertical-align: top;\n",
       "    }\n",
       "\n",
       "    .dataframe thead th {\n",
       "        text-align: right;\n",
       "    }\n",
       "</style>\n",
       "<table border=\"1\" class=\"dataframe\">\n",
       "  <thead>\n",
       "    <tr style=\"text-align: right;\">\n",
       "      <th></th>\n",
       "      <th>economy</th>\n",
       "      <th>time</th>\n",
       "      <th>Country</th>\n",
       "      <th>Time</th>\n",
       "      <th>Population Total</th>\n",
       "    </tr>\n",
       "  </thead>\n",
       "  <tbody>\n",
       "    <tr>\n",
       "      <th>0</th>\n",
       "      <td>ZWE</td>\n",
       "      <td>YR2021</td>\n",
       "      <td>Zimbabwe</td>\n",
       "      <td>2021</td>\n",
       "      <td>15993524.0</td>\n",
       "    </tr>\n",
       "    <tr>\n",
       "      <th>1</th>\n",
       "      <td>ZWE</td>\n",
       "      <td>YR2020</td>\n",
       "      <td>Zimbabwe</td>\n",
       "      <td>2020</td>\n",
       "      <td>15669666.0</td>\n",
       "    </tr>\n",
       "    <tr>\n",
       "      <th>2</th>\n",
       "      <td>ZWE</td>\n",
       "      <td>YR2019</td>\n",
       "      <td>Zimbabwe</td>\n",
       "      <td>2019</td>\n",
       "      <td>15354608.0</td>\n",
       "    </tr>\n",
       "    <tr>\n",
       "      <th>3</th>\n",
       "      <td>ZWE</td>\n",
       "      <td>YR2018</td>\n",
       "      <td>Zimbabwe</td>\n",
       "      <td>2018</td>\n",
       "      <td>15052184.0</td>\n",
       "    </tr>\n",
       "    <tr>\n",
       "      <th>4</th>\n",
       "      <td>ZWE</td>\n",
       "      <td>YR2017</td>\n",
       "      <td>Zimbabwe</td>\n",
       "      <td>2017</td>\n",
       "      <td>14751101.0</td>\n",
       "    </tr>\n",
       "  </tbody>\n",
       "</table>\n",
       "</div>"
      ],
      "text/plain": [
       "  economy    time   Country  Time  Population Total\n",
       "0     ZWE  YR2021  Zimbabwe  2021        15993524.0\n",
       "1     ZWE  YR2020  Zimbabwe  2020        15669666.0\n",
       "2     ZWE  YR2019  Zimbabwe  2019        15354608.0\n",
       "3     ZWE  YR2018  Zimbabwe  2018        15052184.0\n",
       "4     ZWE  YR2017  Zimbabwe  2017        14751101.0"
      ]
     },
     "execution_count": 75,
     "metadata": {},
     "output_type": "execute_result"
    }
   ],
   "source": [
    "sta_population.head()"
   ]
  },
  {
   "attachments": {},
   "cell_type": "markdown",
   "metadata": {},
   "source": [
    "We check the size of the dataset:\n"
   ]
  },
  {
   "cell_type": "code",
   "execution_count": 76,
   "metadata": {},
   "outputs": [
    {
     "data": {
      "text/plain": [
       "(5830, 5)"
      ]
     },
     "execution_count": 76,
     "metadata": {},
     "output_type": "execute_result"
    }
   ],
   "source": [
    "sta_population.shape"
   ]
  },
  {
   "attachments": {},
   "cell_type": "markdown",
   "metadata": {},
   "source": [
    "\n",
    "We review the amount of null values and the type of data each column has: \n"
   ]
  },
  {
   "cell_type": "code",
   "execution_count": 77,
   "metadata": {},
   "outputs": [
    {
     "name": "stdout",
     "output_type": "stream",
     "text": [
      "<class 'pandas.core.frame.DataFrame'>\n",
      "RangeIndex: 5830 entries, 0 to 5829\n",
      "Data columns (total 5 columns):\n",
      " #   Column            Non-Null Count  Dtype  \n",
      "---  ------            --------------  -----  \n",
      " 0   economy           5830 non-null   object \n",
      " 1   time              5830 non-null   object \n",
      " 2   Country           5830 non-null   object \n",
      " 3   Time              5830 non-null   object \n",
      " 4   Population Total  5830 non-null   float64\n",
      "dtypes: float64(1), object(4)\n",
      "memory usage: 227.9+ KB\n"
     ]
    }
   ],
   "source": [
    "sta_population.info()"
   ]
  },
  {
   "cell_type": "code",
   "execution_count": 78,
   "metadata": {},
   "outputs": [
    {
     "data": {
      "text/html": [
       "<div>\n",
       "<style scoped>\n",
       "    .dataframe tbody tr th:only-of-type {\n",
       "        vertical-align: middle;\n",
       "    }\n",
       "\n",
       "    .dataframe tbody tr th {\n",
       "        vertical-align: top;\n",
       "    }\n",
       "\n",
       "    .dataframe thead th {\n",
       "        text-align: right;\n",
       "    }\n",
       "</style>\n",
       "<table border=\"1\" class=\"dataframe\">\n",
       "  <thead>\n",
       "    <tr style=\"text-align: right;\">\n",
       "      <th></th>\n",
       "      <th>Population Total</th>\n",
       "    </tr>\n",
       "  </thead>\n",
       "  <tbody>\n",
       "    <tr>\n",
       "      <th>count</th>\n",
       "      <td>5.830000e+03</td>\n",
       "    </tr>\n",
       "    <tr>\n",
       "      <th>mean</th>\n",
       "      <td>2.836396e+08</td>\n",
       "    </tr>\n",
       "    <tr>\n",
       "      <th>std</th>\n",
       "      <td>8.931106e+08</td>\n",
       "    </tr>\n",
       "    <tr>\n",
       "      <th>min</th>\n",
       "      <td>9.609000e+03</td>\n",
       "    </tr>\n",
       "    <tr>\n",
       "      <th>25%</th>\n",
       "      <td>1.450669e+06</td>\n",
       "    </tr>\n",
       "    <tr>\n",
       "      <th>50%</th>\n",
       "      <td>9.511978e+06</td>\n",
       "    </tr>\n",
       "    <tr>\n",
       "      <th>75%</th>\n",
       "      <td>5.923798e+07</td>\n",
       "    </tr>\n",
       "    <tr>\n",
       "      <th>max</th>\n",
       "      <td>7.888409e+09</td>\n",
       "    </tr>\n",
       "  </tbody>\n",
       "</table>\n",
       "</div>"
      ],
      "text/plain": [
       "       Population Total\n",
       "count      5.830000e+03\n",
       "mean       2.836396e+08\n",
       "std        8.931106e+08\n",
       "min        9.609000e+03\n",
       "25%        1.450669e+06\n",
       "50%        9.511978e+06\n",
       "75%        5.923798e+07\n",
       "max        7.888409e+09"
      ]
     },
     "execution_count": 78,
     "metadata": {},
     "output_type": "execute_result"
    }
   ],
   "source": [
    "sta_population.describe()"
   ]
  },
  {
   "attachments": {},
   "cell_type": "markdown",
   "metadata": {},
   "source": [
    "We check for duplicates: \n"
   ]
  },
  {
   "cell_type": "code",
   "execution_count": 79,
   "metadata": {},
   "outputs": [
    {
     "data": {
      "text/html": [
       "<div>\n",
       "<style scoped>\n",
       "    .dataframe tbody tr th:only-of-type {\n",
       "        vertical-align: middle;\n",
       "    }\n",
       "\n",
       "    .dataframe tbody tr th {\n",
       "        vertical-align: top;\n",
       "    }\n",
       "\n",
       "    .dataframe thead th {\n",
       "        text-align: right;\n",
       "    }\n",
       "</style>\n",
       "<table border=\"1\" class=\"dataframe\">\n",
       "  <thead>\n",
       "    <tr style=\"text-align: right;\">\n",
       "      <th></th>\n",
       "      <th>economy</th>\n",
       "      <th>time</th>\n",
       "      <th>Country</th>\n",
       "      <th>Time</th>\n",
       "      <th>Population Total</th>\n",
       "    </tr>\n",
       "  </thead>\n",
       "  <tbody>\n",
       "  </tbody>\n",
       "</table>\n",
       "</div>"
      ],
      "text/plain": [
       "Empty DataFrame\n",
       "Columns: [economy, time, Country, Time, Population Total]\n",
       "Index: []"
      ]
     },
     "execution_count": 79,
     "metadata": {},
     "output_type": "execute_result"
    }
   ],
   "source": [
    "sta_population[sta_population.duplicated(subset=['Country', 'Time'])]"
   ]
  },
  {
   "attachments": {},
   "cell_type": "markdown",
   "metadata": {},
   "source": [
    "We check it has the years needed:"
   ]
  },
  {
   "cell_type": "code",
   "execution_count": 80,
   "metadata": {},
   "outputs": [
    {
     "name": "stdout",
     "output_type": "stream",
     "text": [
      "['2000' '2001' '2002' '2003' '2004' '2005' '2006' '2007' '2008' '2009'\n",
      " '2010' '2011' '2012' '2013' '2014' '2015' '2016' '2017' '2018' '2019'\n",
      " '2020' '2021']\n"
     ]
    }
   ],
   "source": [
    "sorted_years = np.sort(sta_population['Time'].unique())\n",
    "print(sorted_years)"
   ]
  },
  {
   "attachments": {},
   "cell_type": "markdown",
   "metadata": {},
   "source": [
    "We check the amount of countries and which onces it has:"
   ]
  },
  {
   "cell_type": "code",
   "execution_count": 81,
   "metadata": {},
   "outputs": [
    {
     "data": {
      "text/plain": [
       "array(['Zimbabwe', 'Zambia', 'Yemen, Rep.', 'West Bank and Gaza',\n",
       "       'Virgin Islands (U.S.)', 'Vietnam', 'Venezuela, RB', 'Vanuatu',\n",
       "       'Uzbekistan', 'Uruguay', 'United States', 'United Kingdom',\n",
       "       'United Arab Emirates', 'Ukraine', 'Uganda', 'Tuvalu',\n",
       "       'Turks and Caicos Islands', 'Turkmenistan', 'Turkiye', 'Tunisia',\n",
       "       'Trinidad and Tobago', 'Tonga', 'Togo', 'Timor-Leste', 'Thailand',\n",
       "       'Tanzania', 'Tajikistan', 'Syrian Arab Republic', 'Switzerland',\n",
       "       'Sweden', 'Suriname', 'Sudan', 'St. Vincent and the Grenadines',\n",
       "       'St. Martin (French part)', 'St. Lucia', 'St. Kitts and Nevis',\n",
       "       'Sri Lanka', 'Spain', 'South Sudan', 'South Africa', 'Somalia',\n",
       "       'Solomon Islands', 'Slovenia', 'Slovak Republic',\n",
       "       'Sint Maarten (Dutch part)', 'Singapore', 'Sierra Leone',\n",
       "       'Seychelles', 'Serbia', 'Senegal', 'Saudi Arabia',\n",
       "       'Sao Tome and Principe', 'San Marino', 'Samoa', 'Rwanda',\n",
       "       'Russian Federation', 'Romania', 'Qatar', 'Puerto Rico',\n",
       "       'Portugal', 'Poland', 'Philippines', 'Peru', 'Paraguay',\n",
       "       'Papua New Guinea', 'Panama', 'Palau', 'Pakistan', 'Oman',\n",
       "       'Norway', 'Northern Mariana Islands', 'North Macedonia', 'Nigeria',\n",
       "       'Niger', 'Nicaragua', 'New Zealand', 'New Caledonia',\n",
       "       'Netherlands', 'Nepal', 'Nauru', 'Namibia', 'Myanmar',\n",
       "       'Mozambique', 'Morocco', 'Montenegro', 'Mongolia', 'Monaco',\n",
       "       'Moldova', 'Micronesia, Fed. Sts.', 'Mexico', 'Mauritius',\n",
       "       'Mauritania', 'Marshall Islands', 'Malta', 'Mali', 'Maldives',\n",
       "       'Malaysia', 'Malawi', 'Madagascar', 'Macao SAR, China',\n",
       "       'Luxembourg', 'Lithuania', 'Liechtenstein', 'Libya', 'Liberia',\n",
       "       'Lesotho', 'Lebanon', 'Latvia', 'Lao PDR', 'Kyrgyz Republic',\n",
       "       'Kuwait', 'Kosovo', 'Korea, Rep.', \"Korea, Dem. People's Rep.\",\n",
       "       'Kiribati', 'Kenya', 'Kazakhstan', 'Jordan', 'Japan', 'Jamaica',\n",
       "       'Italy', 'Israel', 'Isle of Man', 'Ireland', 'Iraq',\n",
       "       'Iran, Islamic Rep.', 'Indonesia', 'India', 'Iceland', 'Hungary',\n",
       "       'Hong Kong SAR, China', 'Honduras', 'Haiti', 'Guyana',\n",
       "       'Guinea-Bissau', 'Guinea', 'Guatemala', 'Guam', 'Grenada',\n",
       "       'Greenland', 'Greece', 'Gibraltar', 'Ghana', 'Germany', 'Georgia',\n",
       "       'Gambia, The', 'Gabon', 'French Polynesia', 'France', 'Finland',\n",
       "       'Fiji', 'Faroe Islands', 'Ethiopia', 'Eswatini', 'Estonia',\n",
       "       'Eritrea', 'Equatorial Guinea', 'El Salvador', 'Egypt, Arab Rep.',\n",
       "       'Ecuador', 'Dominican Republic', 'Dominica', 'Djibouti', 'Denmark',\n",
       "       'Czechia', 'Cyprus', 'Curacao', 'Cuba', 'Croatia', \"Cote d'Ivoire\",\n",
       "       'Costa Rica', 'Congo, Rep.', 'Congo, Dem. Rep.', 'Comoros',\n",
       "       'Colombia', 'China', 'Chile', 'Channel Islands', 'Chad',\n",
       "       'Central African Republic', 'Cayman Islands', 'Canada', 'Cameroon',\n",
       "       'Cambodia', 'Cabo Verde', 'Burundi', 'Burkina Faso', 'Bulgaria',\n",
       "       'Brunei Darussalam', 'British Virgin Islands', 'Brazil',\n",
       "       'Botswana', 'Bosnia and Herzegovina', 'Bolivia', 'Bhutan',\n",
       "       'Bermuda', 'Benin', 'Belize', 'Belgium', 'Belarus', 'Barbados',\n",
       "       'Bangladesh', 'Bahrain', 'Bahamas, The', 'Azerbaijan', 'Austria',\n",
       "       'Australia', 'Aruba', 'Armenia', 'Argentina',\n",
       "       'Antigua and Barbuda', 'Angola', 'Andorra', 'American Samoa',\n",
       "       'Algeria', 'Albania', 'Afghanistan', 'World',\n",
       "       'Upper middle income', 'Sub-Saharan Africa (IDA & IBRD countries)',\n",
       "       'Sub-Saharan Africa (excluding high income)', 'Sub-Saharan Africa',\n",
       "       'South Asia (IDA & IBRD)', 'South Asia', 'Small states',\n",
       "       'Pre-demographic dividend', 'Post-demographic dividend',\n",
       "       'Pacific island small states', 'Other small states',\n",
       "       'OECD members', 'North America', 'Middle income',\n",
       "       'Middle East & North Africa (IDA & IBRD countries)',\n",
       "       'Middle East & North Africa (excluding high income)',\n",
       "       'Middle East & North Africa', 'Lower middle income', 'Low income',\n",
       "       'Low & middle income',\n",
       "       'Least developed countries: UN classification',\n",
       "       'Latin America & the Caribbean (IDA & IBRD countries)',\n",
       "       'Latin America & Caribbean (excluding high income)',\n",
       "       'Latin America & Caribbean', 'Late-demographic dividend',\n",
       "       'IDA total', 'IDA only', 'IDA blend', 'IDA & IBRD total',\n",
       "       'IBRD only', 'High income',\n",
       "       'Heavily indebted poor countries (HIPC)',\n",
       "       'Fragile and conflict affected situations', 'European Union',\n",
       "       'Europe & Central Asia (IDA & IBRD countries)',\n",
       "       'Europe & Central Asia (excluding high income)',\n",
       "       'Europe & Central Asia', 'Euro area',\n",
       "       'East Asia & Pacific (IDA & IBRD countries)',\n",
       "       'East Asia & Pacific (excluding high income)',\n",
       "       'East Asia & Pacific', 'Early-demographic dividend',\n",
       "       'Central Europe and the Baltics', 'Caribbean small states',\n",
       "       'Arab World', 'Africa Western and Central',\n",
       "       'Africa Eastern and Southern'], dtype=object)"
      ]
     },
     "execution_count": 81,
     "metadata": {},
     "output_type": "execute_result"
    }
   ],
   "source": [
    "sta_population['Country'].unique()"
   ]
  },
  {
   "cell_type": "code",
   "execution_count": 82,
   "metadata": {},
   "outputs": [
    {
     "data": {
      "text/plain": [
       "265"
      ]
     },
     "execution_count": 82,
     "metadata": {},
     "output_type": "execute_result"
    }
   ],
   "source": [
    "sta_population['Country'].nunique()"
   ]
  },
  {
   "attachments": {},
   "cell_type": "markdown",
   "metadata": {},
   "source": [
    "---"
   ]
  },
  {
   "attachments": {},
   "cell_type": "markdown",
   "metadata": {},
   "source": [
    "🔹 Conclusions on: **Population Total** <br>\n",
    "* Does not contain duplicates. \n",
    "* Does not contain null values.  \n",
    "* It has all the years needed. \n",
    "* It has an extra column, called 'time', that will be removed. \n",
    "* The column named 'Time' will be renamed and it's tipe of data will be changed into int. \n",
    "* The column 'economy' will be renamed into 'Country Code'\n",
    "* THe column 'Country' will be renamed into 'Country Name'"
   ]
  },
  {
   "attachments": {},
   "cell_type": "markdown",
   "metadata": {},
   "source": [
    "---"
   ]
  },
  {
   "attachments": {},
   "cell_type": "markdown",
   "metadata": {},
   "source": [
    "### Research and development expenditure (PCT of GDP)\n",
    "    This dataset shows information related to Gloss domestic expenditure on research and development. Include capital and current expenditure in 4 main sectors: business enterprise, government, higher education and private non-profit. Covers basic research, applied research, and experimental development(PCT of GDP)"
   ]
  },
  {
   "cell_type": "code",
   "execution_count": 83,
   "metadata": {},
   "outputs": [
    {
     "data": {
      "text/html": [
       "<div>\n",
       "<style scoped>\n",
       "    .dataframe tbody tr th:only-of-type {\n",
       "        vertical-align: middle;\n",
       "    }\n",
       "\n",
       "    .dataframe tbody tr th {\n",
       "        vertical-align: top;\n",
       "    }\n",
       "\n",
       "    .dataframe thead th {\n",
       "        text-align: right;\n",
       "    }\n",
       "</style>\n",
       "<table border=\"1\" class=\"dataframe\">\n",
       "  <thead>\n",
       "    <tr style=\"text-align: right;\">\n",
       "      <th></th>\n",
       "      <th>economy</th>\n",
       "      <th>time</th>\n",
       "      <th>Country</th>\n",
       "      <th>Time</th>\n",
       "      <th>Research and development expenditure (PCT of GDP)</th>\n",
       "    </tr>\n",
       "  </thead>\n",
       "  <tbody>\n",
       "    <tr>\n",
       "      <th>0</th>\n",
       "      <td>ZMB</td>\n",
       "      <td>YR2008</td>\n",
       "      <td>Zambia</td>\n",
       "      <td>2008</td>\n",
       "      <td>0.27819</td>\n",
       "    </tr>\n",
       "    <tr>\n",
       "      <th>1</th>\n",
       "      <td>ZMB</td>\n",
       "      <td>YR2005</td>\n",
       "      <td>Zambia</td>\n",
       "      <td>2005</td>\n",
       "      <td>0.02493</td>\n",
       "    </tr>\n",
       "    <tr>\n",
       "      <th>2</th>\n",
       "      <td>ZMB</td>\n",
       "      <td>YR2004</td>\n",
       "      <td>Zambia</td>\n",
       "      <td>2004</td>\n",
       "      <td>0.02223</td>\n",
       "    </tr>\n",
       "    <tr>\n",
       "      <th>3</th>\n",
       "      <td>ZMB</td>\n",
       "      <td>YR2003</td>\n",
       "      <td>Zambia</td>\n",
       "      <td>2003</td>\n",
       "      <td>0.00847</td>\n",
       "    </tr>\n",
       "    <tr>\n",
       "      <th>4</th>\n",
       "      <td>ZMB</td>\n",
       "      <td>YR2002</td>\n",
       "      <td>Zambia</td>\n",
       "      <td>2002</td>\n",
       "      <td>0.00544</td>\n",
       "    </tr>\n",
       "  </tbody>\n",
       "</table>\n",
       "</div>"
      ],
      "text/plain": [
       "  economy    time Country  Time  \\\n",
       "0     ZMB  YR2008  Zambia  2008   \n",
       "1     ZMB  YR2005  Zambia  2005   \n",
       "2     ZMB  YR2004  Zambia  2004   \n",
       "3     ZMB  YR2003  Zambia  2003   \n",
       "4     ZMB  YR2002  Zambia  2002   \n",
       "\n",
       "   Research and development expenditure (PCT of GDP)  \n",
       "0                                            0.27819  \n",
       "1                                            0.02493  \n",
       "2                                            0.02223  \n",
       "3                                            0.00847  \n",
       "4                                            0.00544  "
      ]
     },
     "execution_count": 83,
     "metadata": {},
     "output_type": "execute_result"
    }
   ],
   "source": [
    "sta_research.head()"
   ]
  },
  {
   "attachments": {},
   "cell_type": "markdown",
   "metadata": {},
   "source": [
    "We check the size of the dataset:\n"
   ]
  },
  {
   "cell_type": "code",
   "execution_count": 84,
   "metadata": {},
   "outputs": [
    {
     "data": {
      "text/plain": [
       "(2449, 5)"
      ]
     },
     "execution_count": 84,
     "metadata": {},
     "output_type": "execute_result"
    }
   ],
   "source": [
    "sta_research.shape"
   ]
  },
  {
   "attachments": {},
   "cell_type": "markdown",
   "metadata": {},
   "source": [
    "We review the amount of null values and the type of data each column has: \n"
   ]
  },
  {
   "cell_type": "code",
   "execution_count": 85,
   "metadata": {},
   "outputs": [
    {
     "name": "stdout",
     "output_type": "stream",
     "text": [
      "<class 'pandas.core.frame.DataFrame'>\n",
      "RangeIndex: 2449 entries, 0 to 2448\n",
      "Data columns (total 5 columns):\n",
      " #   Column                                             Non-Null Count  Dtype  \n",
      "---  ------                                             --------------  -----  \n",
      " 0   economy                                            2449 non-null   object \n",
      " 1   time                                               2449 non-null   object \n",
      " 2   Country                                            2449 non-null   object \n",
      " 3   Time                                               2449 non-null   object \n",
      " 4   Research and development expenditure (PCT of GDP)  2449 non-null   float64\n",
      "dtypes: float64(1), object(4)\n",
      "memory usage: 95.8+ KB\n"
     ]
    }
   ],
   "source": [
    "sta_research.info()"
   ]
  },
  {
   "cell_type": "code",
   "execution_count": 86,
   "metadata": {},
   "outputs": [
    {
     "data": {
      "text/html": [
       "<div>\n",
       "<style scoped>\n",
       "    .dataframe tbody tr th:only-of-type {\n",
       "        vertical-align: middle;\n",
       "    }\n",
       "\n",
       "    .dataframe tbody tr th {\n",
       "        vertical-align: top;\n",
       "    }\n",
       "\n",
       "    .dataframe thead th {\n",
       "        text-align: right;\n",
       "    }\n",
       "</style>\n",
       "<table border=\"1\" class=\"dataframe\">\n",
       "  <thead>\n",
       "    <tr style=\"text-align: right;\">\n",
       "      <th></th>\n",
       "      <th>Research and development expenditure (PCT of GDP)</th>\n",
       "    </tr>\n",
       "  </thead>\n",
       "  <tbody>\n",
       "    <tr>\n",
       "      <th>count</th>\n",
       "      <td>2449.000000</td>\n",
       "    </tr>\n",
       "    <tr>\n",
       "      <th>mean</th>\n",
       "      <td>1.048454</td>\n",
       "    </tr>\n",
       "    <tr>\n",
       "      <th>std</th>\n",
       "      <td>0.934187</td>\n",
       "    </tr>\n",
       "    <tr>\n",
       "      <th>min</th>\n",
       "      <td>0.005440</td>\n",
       "    </tr>\n",
       "    <tr>\n",
       "      <th>25%</th>\n",
       "      <td>0.313120</td>\n",
       "    </tr>\n",
       "    <tr>\n",
       "      <th>50%</th>\n",
       "      <td>0.735320</td>\n",
       "    </tr>\n",
       "    <tr>\n",
       "      <th>75%</th>\n",
       "      <td>1.614790</td>\n",
       "    </tr>\n",
       "    <tr>\n",
       "      <th>max</th>\n",
       "      <td>5.435620</td>\n",
       "    </tr>\n",
       "  </tbody>\n",
       "</table>\n",
       "</div>"
      ],
      "text/plain": [
       "       Research and development expenditure (PCT of GDP)\n",
       "count                                        2449.000000\n",
       "mean                                            1.048454\n",
       "std                                             0.934187\n",
       "min                                             0.005440\n",
       "25%                                             0.313120\n",
       "50%                                             0.735320\n",
       "75%                                             1.614790\n",
       "max                                             5.435620"
      ]
     },
     "execution_count": 86,
     "metadata": {},
     "output_type": "execute_result"
    }
   ],
   "source": [
    "sta_research.describe()"
   ]
  },
  {
   "attachments": {},
   "cell_type": "markdown",
   "metadata": {},
   "source": [
    "We check for duplicates: \n"
   ]
  },
  {
   "cell_type": "code",
   "execution_count": 88,
   "metadata": {},
   "outputs": [
    {
     "data": {
      "text/html": [
       "<div>\n",
       "<style scoped>\n",
       "    .dataframe tbody tr th:only-of-type {\n",
       "        vertical-align: middle;\n",
       "    }\n",
       "\n",
       "    .dataframe tbody tr th {\n",
       "        vertical-align: top;\n",
       "    }\n",
       "\n",
       "    .dataframe thead th {\n",
       "        text-align: right;\n",
       "    }\n",
       "</style>\n",
       "<table border=\"1\" class=\"dataframe\">\n",
       "  <thead>\n",
       "    <tr style=\"text-align: right;\">\n",
       "      <th></th>\n",
       "      <th>economy</th>\n",
       "      <th>time</th>\n",
       "      <th>Country</th>\n",
       "      <th>Time</th>\n",
       "      <th>Research and development expenditure (PCT of GDP)</th>\n",
       "    </tr>\n",
       "  </thead>\n",
       "  <tbody>\n",
       "  </tbody>\n",
       "</table>\n",
       "</div>"
      ],
      "text/plain": [
       "Empty DataFrame\n",
       "Columns: [economy, time, Country, Time, Research and development expenditure (PCT of GDP)]\n",
       "Index: []"
      ]
     },
     "execution_count": 88,
     "metadata": {},
     "output_type": "execute_result"
    }
   ],
   "source": [
    "sta_research[sta_research.duplicated(subset=['Country', 'Time'])]"
   ]
  },
  {
   "attachments": {},
   "cell_type": "markdown",
   "metadata": {},
   "source": [
    "We check it has the years needed:"
   ]
  },
  {
   "cell_type": "code",
   "execution_count": 92,
   "metadata": {},
   "outputs": [
    {
     "name": "stdout",
     "output_type": "stream",
     "text": [
      "['2000' '2001' '2002' '2003' '2004' '2005' '2006' '2007' '2008' '2009'\n",
      " '2010' '2011' '2012' '2013' '2014' '2015' '2016' '2017' '2018' '2019'\n",
      " '2020' '2021']\n"
     ]
    }
   ],
   "source": [
    "sorted_years = np.sort(sta_research['Time'].unique())\n",
    "print(sorted_years)"
   ]
  },
  {
   "attachments": {},
   "cell_type": "markdown",
   "metadata": {},
   "source": [
    "We check the amount of countries and which onces it has:"
   ]
  },
  {
   "cell_type": "code",
   "execution_count": 94,
   "metadata": {},
   "outputs": [
    {
     "data": {
      "text/plain": [
       "array(['Zambia', 'West Bank and Gaza', 'Virgin Islands (U.S.)', 'Vietnam',\n",
       "       'Venezuela, RB', 'Uzbekistan', 'Uruguay', 'United States',\n",
       "       'United Kingdom', 'United Arab Emirates', 'Ukraine', 'Uganda',\n",
       "       'Turkiye', 'Tunisia', 'Trinidad and Tobago', 'Togo', 'Thailand',\n",
       "       'Tanzania', 'Tajikistan', 'Syrian Arab Republic', 'Switzerland',\n",
       "       'Sweden', 'Sudan', 'St. Vincent and the Grenadines', 'Sri Lanka',\n",
       "       'Spain', 'South Africa', 'Slovenia', 'Slovak Republic',\n",
       "       'Singapore', 'Seychelles', 'Serbia', 'Senegal', 'Saudi Arabia',\n",
       "       'Rwanda', 'Russian Federation', 'Romania', 'Qatar', 'Puerto Rico',\n",
       "       'Portugal', 'Poland', 'Philippines', 'Peru', 'Paraguay',\n",
       "       'Papua New Guinea', 'Panama', 'Pakistan', 'Oman', 'Norway',\n",
       "       'North Macedonia', 'Nigeria', 'Nicaragua', 'New Zealand',\n",
       "       'Netherlands', 'Nepal', 'Namibia', 'Myanmar', 'Mozambique',\n",
       "       'Morocco', 'Montenegro', 'Mongolia', 'Monaco', 'Moldova', 'Mexico',\n",
       "       'Mauritius', 'Mauritania', 'Malta', 'Mali', 'Malaysia',\n",
       "       'Madagascar', 'Macao SAR, China', 'Luxembourg', 'Lithuania',\n",
       "       'Lesotho', 'Latvia', 'Lao PDR', 'Kyrgyz Republic', 'Kuwait',\n",
       "       'Korea, Rep.', 'Kenya', 'Kazakhstan', 'Jordan', 'Japan', 'Jamaica',\n",
       "       'Italy', 'Israel', 'Ireland', 'Iraq', 'Iran, Islamic Rep.',\n",
       "       'Indonesia', 'India', 'Iceland', 'Hungary', 'Hong Kong SAR, China',\n",
       "       'Honduras', 'Guatemala', 'Guam', 'Greenland', 'Greece', 'Ghana',\n",
       "       'Germany', 'Georgia', 'Gambia, The', 'Gabon', 'France', 'Finland',\n",
       "       'Faroe Islands', 'Ethiopia', 'Eswatini', 'Estonia', 'El Salvador',\n",
       "       'Egypt, Arab Rep.', 'Ecuador', 'Denmark', 'Czechia', 'Cyprus',\n",
       "       'Cuba', 'Croatia', \"Cote d'Ivoire\", 'Costa Rica',\n",
       "       'Congo, Dem. Rep.', 'Colombia', 'China', 'Chile', 'Chad', 'Canada',\n",
       "       'Cambodia', 'Cabo Verde', 'Burundi', 'Burkina Faso', 'Bulgaria',\n",
       "       'Brunei Darussalam', 'Brazil', 'Botswana',\n",
       "       'Bosnia and Herzegovina', 'Bolivia', 'Bermuda', 'Belgium',\n",
       "       'Belarus', 'Bahrain', 'Azerbaijan', 'Austria', 'Australia',\n",
       "       'Armenia', 'Argentina', 'Angola', 'American Samoa', 'Algeria',\n",
       "       'Albania', 'World', 'Upper middle income',\n",
       "       'Sub-Saharan Africa (IDA & IBRD countries)',\n",
       "       'Sub-Saharan Africa (excluding high income)', 'Sub-Saharan Africa',\n",
       "       'South Asia (IDA & IBRD)', 'South Asia',\n",
       "       'Post-demographic dividend', 'Other small states', 'OECD members',\n",
       "       'North America', 'Middle income',\n",
       "       'Middle East & North Africa (IDA & IBRD countries)',\n",
       "       'Middle East & North Africa (excluding high income)',\n",
       "       'Middle East & North Africa', 'Lower middle income',\n",
       "       'Low & middle income',\n",
       "       'Latin America & the Caribbean (IDA & IBRD countries)',\n",
       "       'Latin America & Caribbean (excluding high income)',\n",
       "       'Latin America & Caribbean', 'Late-demographic dividend',\n",
       "       'IDA blend', 'IDA & IBRD total', 'IBRD only', 'High income',\n",
       "       'European Union', 'Europe & Central Asia (IDA & IBRD countries)',\n",
       "       'Europe & Central Asia (excluding high income)',\n",
       "       'Europe & Central Asia', 'Euro area',\n",
       "       'East Asia & Pacific (IDA & IBRD countries)',\n",
       "       'East Asia & Pacific (excluding high income)',\n",
       "       'East Asia & Pacific', 'Early-demographic dividend',\n",
       "       'Central Europe and the Baltics', 'Arab World',\n",
       "       'Africa Western and Central', 'Africa Eastern and Southern'],\n",
       "      dtype=object)"
      ]
     },
     "execution_count": 94,
     "metadata": {},
     "output_type": "execute_result"
    }
   ],
   "source": [
    "sta_research['Country'].unique()"
   ]
  },
  {
   "cell_type": "code",
   "execution_count": 93,
   "metadata": {},
   "outputs": [
    {
     "data": {
      "text/plain": [
       "187"
      ]
     },
     "execution_count": 93,
     "metadata": {},
     "output_type": "execute_result"
    }
   ],
   "source": [
    "sta_research['Country'].nunique()"
   ]
  },
  {
   "attachments": {},
   "cell_type": "markdown",
   "metadata": {},
   "source": [
    "---"
   ]
  },
  {
   "attachments": {},
   "cell_type": "markdown",
   "metadata": {},
   "source": [
    "🔹 Conclusions on: **Research and development expenditure (PCT of GDP)** <br>\n",
    "\n",
    "* Does not contain duplicates. \n",
    "* Does not contain null values.  \n",
    "* It has all the years needed. \n",
    "* It has an extra column, called 'time', that will be removed. \n",
    "* The column named 'Time' will be renamed and it's tipe of data will be changed into int. \n",
    "* The column 'economy' will be renamed into 'Country Code'\n",
    "* THe column 'Country' will be renamed into 'Country Name'"
   ]
  },
  {
   "attachments": {},
   "cell_type": "markdown",
   "metadata": {},
   "source": [
    "---"
   ]
  },
  {
   "attachments": {},
   "cell_type": "markdown",
   "metadata": {},
   "source": [
    "### Labour force, total\n",
    "    This dataset refers to total amount of people capable to work."
   ]
  },
  {
   "cell_type": "code",
   "execution_count": 95,
   "metadata": {},
   "outputs": [
    {
     "data": {
      "text/html": [
       "<div>\n",
       "<style scoped>\n",
       "    .dataframe tbody tr th:only-of-type {\n",
       "        vertical-align: middle;\n",
       "    }\n",
       "\n",
       "    .dataframe tbody tr th {\n",
       "        vertical-align: top;\n",
       "    }\n",
       "\n",
       "    .dataframe thead th {\n",
       "        text-align: right;\n",
       "    }\n",
       "</style>\n",
       "<table border=\"1\" class=\"dataframe\">\n",
       "  <thead>\n",
       "    <tr style=\"text-align: right;\">\n",
       "      <th></th>\n",
       "      <th>economy</th>\n",
       "      <th>time</th>\n",
       "      <th>Country</th>\n",
       "      <th>Time</th>\n",
       "      <th>Labour force, total</th>\n",
       "    </tr>\n",
       "  </thead>\n",
       "  <tbody>\n",
       "    <tr>\n",
       "      <th>0</th>\n",
       "      <td>ZWE</td>\n",
       "      <td>YR2021</td>\n",
       "      <td>Zimbabwe</td>\n",
       "      <td>2021</td>\n",
       "      <td>7915768.0</td>\n",
       "    </tr>\n",
       "    <tr>\n",
       "      <th>1</th>\n",
       "      <td>ZWE</td>\n",
       "      <td>YR2020</td>\n",
       "      <td>Zimbabwe</td>\n",
       "      <td>2020</td>\n",
       "      <td>7693983.0</td>\n",
       "    </tr>\n",
       "    <tr>\n",
       "      <th>2</th>\n",
       "      <td>ZWE</td>\n",
       "      <td>YR2019</td>\n",
       "      <td>Zimbabwe</td>\n",
       "      <td>2019</td>\n",
       "      <td>7591946.0</td>\n",
       "    </tr>\n",
       "    <tr>\n",
       "      <th>3</th>\n",
       "      <td>ZWE</td>\n",
       "      <td>YR2018</td>\n",
       "      <td>Zimbabwe</td>\n",
       "      <td>2018</td>\n",
       "      <td>7403981.0</td>\n",
       "    </tr>\n",
       "    <tr>\n",
       "      <th>4</th>\n",
       "      <td>ZWE</td>\n",
       "      <td>YR2017</td>\n",
       "      <td>Zimbabwe</td>\n",
       "      <td>2017</td>\n",
       "      <td>7214627.0</td>\n",
       "    </tr>\n",
       "  </tbody>\n",
       "</table>\n",
       "</div>"
      ],
      "text/plain": [
       "  economy    time   Country  Time  Labour force, total\n",
       "0     ZWE  YR2021  Zimbabwe  2021            7915768.0\n",
       "1     ZWE  YR2020  Zimbabwe  2020            7693983.0\n",
       "2     ZWE  YR2019  Zimbabwe  2019            7591946.0\n",
       "3     ZWE  YR2018  Zimbabwe  2018            7403981.0\n",
       "4     ZWE  YR2017  Zimbabwe  2017            7214627.0"
      ]
     },
     "execution_count": 95,
     "metadata": {},
     "output_type": "execute_result"
    }
   ],
   "source": [
    "sta_labour.head()"
   ]
  },
  {
   "attachments": {},
   "cell_type": "markdown",
   "metadata": {},
   "source": [
    "We check the size of the dataset:\n"
   ]
  },
  {
   "cell_type": "code",
   "execution_count": 96,
   "metadata": {},
   "outputs": [
    {
     "data": {
      "text/plain": [
       "(5170, 5)"
      ]
     },
     "execution_count": 96,
     "metadata": {},
     "output_type": "execute_result"
    }
   ],
   "source": [
    "sta_labour.shape"
   ]
  },
  {
   "attachments": {},
   "cell_type": "markdown",
   "metadata": {},
   "source": [
    "\n",
    "We review the amount of null values and the type of data each column has: \n"
   ]
  },
  {
   "cell_type": "code",
   "execution_count": 97,
   "metadata": {},
   "outputs": [
    {
     "name": "stdout",
     "output_type": "stream",
     "text": [
      "<class 'pandas.core.frame.DataFrame'>\n",
      "RangeIndex: 5170 entries, 0 to 5169\n",
      "Data columns (total 5 columns):\n",
      " #   Column               Non-Null Count  Dtype  \n",
      "---  ------               --------------  -----  \n",
      " 0   economy              5170 non-null   object \n",
      " 1   time                 5170 non-null   object \n",
      " 2   Country              5170 non-null   object \n",
      " 3   Time                 5170 non-null   object \n",
      " 4   Labour force, total  5170 non-null   float64\n",
      "dtypes: float64(1), object(4)\n",
      "memory usage: 202.1+ KB\n"
     ]
    }
   ],
   "source": [
    "sta_labour.info()"
   ]
  },
  {
   "cell_type": "code",
   "execution_count": 98,
   "metadata": {},
   "outputs": [
    {
     "data": {
      "text/html": [
       "<div>\n",
       "<style scoped>\n",
       "    .dataframe tbody tr th:only-of-type {\n",
       "        vertical-align: middle;\n",
       "    }\n",
       "\n",
       "    .dataframe tbody tr th {\n",
       "        vertical-align: top;\n",
       "    }\n",
       "\n",
       "    .dataframe thead th {\n",
       "        text-align: right;\n",
       "    }\n",
       "</style>\n",
       "<table border=\"1\" class=\"dataframe\">\n",
       "  <thead>\n",
       "    <tr style=\"text-align: right;\">\n",
       "      <th></th>\n",
       "      <th>Labour force, total</th>\n",
       "    </tr>\n",
       "  </thead>\n",
       "  <tbody>\n",
       "    <tr>\n",
       "      <th>count</th>\n",
       "      <td>5.170000e+03</td>\n",
       "    </tr>\n",
       "    <tr>\n",
       "      <th>mean</th>\n",
       "      <td>1.419111e+08</td>\n",
       "    </tr>\n",
       "    <tr>\n",
       "      <th>std</th>\n",
       "      <td>4.242960e+08</td>\n",
       "    </tr>\n",
       "    <tr>\n",
       "      <th>min</th>\n",
       "      <td>3.148500e+04</td>\n",
       "    </tr>\n",
       "    <tr>\n",
       "      <th>25%</th>\n",
       "      <td>1.435772e+06</td>\n",
       "    </tr>\n",
       "    <tr>\n",
       "      <th>50%</th>\n",
       "      <td>5.180552e+06</td>\n",
       "    </tr>\n",
       "    <tr>\n",
       "      <th>75%</th>\n",
       "      <td>3.824319e+07</td>\n",
       "    </tr>\n",
       "    <tr>\n",
       "      <th>max</th>\n",
       "      <td>3.467593e+09</td>\n",
       "    </tr>\n",
       "  </tbody>\n",
       "</table>\n",
       "</div>"
      ],
      "text/plain": [
       "       Labour force, total\n",
       "count         5.170000e+03\n",
       "mean          1.419111e+08\n",
       "std           4.242960e+08\n",
       "min           3.148500e+04\n",
       "25%           1.435772e+06\n",
       "50%           5.180552e+06\n",
       "75%           3.824319e+07\n",
       "max           3.467593e+09"
      ]
     },
     "execution_count": 98,
     "metadata": {},
     "output_type": "execute_result"
    }
   ],
   "source": [
    "sta_labour.describe()"
   ]
  },
  {
   "attachments": {},
   "cell_type": "markdown",
   "metadata": {},
   "source": [
    "\n",
    "We check for duplicates: \n"
   ]
  },
  {
   "cell_type": "code",
   "execution_count": 100,
   "metadata": {},
   "outputs": [
    {
     "data": {
      "text/html": [
       "<div>\n",
       "<style scoped>\n",
       "    .dataframe tbody tr th:only-of-type {\n",
       "        vertical-align: middle;\n",
       "    }\n",
       "\n",
       "    .dataframe tbody tr th {\n",
       "        vertical-align: top;\n",
       "    }\n",
       "\n",
       "    .dataframe thead th {\n",
       "        text-align: right;\n",
       "    }\n",
       "</style>\n",
       "<table border=\"1\" class=\"dataframe\">\n",
       "  <thead>\n",
       "    <tr style=\"text-align: right;\">\n",
       "      <th></th>\n",
       "      <th>economy</th>\n",
       "      <th>time</th>\n",
       "      <th>Country</th>\n",
       "      <th>Time</th>\n",
       "      <th>Labour force, total</th>\n",
       "    </tr>\n",
       "  </thead>\n",
       "  <tbody>\n",
       "  </tbody>\n",
       "</table>\n",
       "</div>"
      ],
      "text/plain": [
       "Empty DataFrame\n",
       "Columns: [economy, time, Country, Time, Labour force, total]\n",
       "Index: []"
      ]
     },
     "execution_count": 100,
     "metadata": {},
     "output_type": "execute_result"
    }
   ],
   "source": [
    "sta_labour[sta_labour.duplicated(subset=['Country', 'Time'])]"
   ]
  },
  {
   "attachments": {},
   "cell_type": "markdown",
   "metadata": {},
   "source": [
    "We check it has the years needed:"
   ]
  },
  {
   "cell_type": "code",
   "execution_count": 101,
   "metadata": {},
   "outputs": [
    {
     "name": "stdout",
     "output_type": "stream",
     "text": [
      "['2000' '2001' '2002' '2003' '2004' '2005' '2006' '2007' '2008' '2009'\n",
      " '2010' '2011' '2012' '2013' '2014' '2015' '2016' '2017' '2018' '2019'\n",
      " '2020' '2021']\n"
     ]
    }
   ],
   "source": [
    "sorted_years = np.sort(sta_labour['Time'].unique())\n",
    "print(sorted_years)"
   ]
  },
  {
   "attachments": {},
   "cell_type": "markdown",
   "metadata": {},
   "source": [
    "We check the amount of countries and which onces it has:"
   ]
  },
  {
   "cell_type": "code",
   "execution_count": 102,
   "metadata": {},
   "outputs": [
    {
     "data": {
      "text/plain": [
       "array(['Zimbabwe', 'Zambia', 'Yemen, Rep.', 'West Bank and Gaza',\n",
       "       'Virgin Islands (U.S.)', 'Vietnam', 'Venezuela, RB', 'Vanuatu',\n",
       "       'Uzbekistan', 'Uruguay', 'United States', 'United Kingdom',\n",
       "       'United Arab Emirates', 'Ukraine', 'Uganda', 'Turkmenistan',\n",
       "       'Turkiye', 'Tunisia', 'Trinidad and Tobago', 'Tonga', 'Togo',\n",
       "       'Timor-Leste', 'Thailand', 'Tanzania', 'Tajikistan',\n",
       "       'Syrian Arab Republic', 'Switzerland', 'Sweden', 'Suriname',\n",
       "       'Sudan', 'St. Vincent and the Grenadines', 'St. Lucia',\n",
       "       'Sri Lanka', 'Spain', 'South Sudan', 'South Africa', 'Somalia',\n",
       "       'Solomon Islands', 'Slovenia', 'Slovak Republic', 'Singapore',\n",
       "       'Sierra Leone', 'Serbia', 'Senegal', 'Saudi Arabia',\n",
       "       'Sao Tome and Principe', 'Samoa', 'Rwanda', 'Russian Federation',\n",
       "       'Romania', 'Qatar', 'Puerto Rico', 'Portugal', 'Poland',\n",
       "       'Philippines', 'Peru', 'Paraguay', 'Papua New Guinea', 'Panama',\n",
       "       'Pakistan', 'Oman', 'Norway', 'North Macedonia', 'Nigeria',\n",
       "       'Niger', 'Nicaragua', 'New Zealand', 'New Caledonia',\n",
       "       'Netherlands', 'Nepal', 'Namibia', 'Myanmar', 'Mozambique',\n",
       "       'Morocco', 'Montenegro', 'Mongolia', 'Moldova', 'Mexico',\n",
       "       'Mauritius', 'Mauritania', 'Malta', 'Mali', 'Maldives', 'Malaysia',\n",
       "       'Malawi', 'Madagascar', 'Macao SAR, China', 'Luxembourg',\n",
       "       'Lithuania', 'Libya', 'Liberia', 'Lesotho', 'Lebanon', 'Latvia',\n",
       "       'Lao PDR', 'Kyrgyz Republic', 'Kuwait', 'Korea, Rep.',\n",
       "       \"Korea, Dem. People's Rep.\", 'Kenya', 'Kazakhstan', 'Jordan',\n",
       "       'Japan', 'Jamaica', 'Italy', 'Israel', 'Ireland', 'Iraq',\n",
       "       'Iran, Islamic Rep.', 'Indonesia', 'India', 'Iceland', 'Hungary',\n",
       "       'Hong Kong SAR, China', 'Honduras', 'Haiti', 'Guyana',\n",
       "       'Guinea-Bissau', 'Guinea', 'Guatemala', 'Guam', 'Greece', 'Ghana',\n",
       "       'Germany', 'Georgia', 'Gambia, The', 'Gabon', 'French Polynesia',\n",
       "       'France', 'Finland', 'Fiji', 'Ethiopia', 'Eswatini', 'Estonia',\n",
       "       'Eritrea', 'Equatorial Guinea', 'El Salvador', 'Egypt, Arab Rep.',\n",
       "       'Ecuador', 'Dominican Republic', 'Djibouti', 'Denmark', 'Czechia',\n",
       "       'Cyprus', 'Cuba', 'Croatia', \"Cote d'Ivoire\", 'Costa Rica',\n",
       "       'Congo, Rep.', 'Congo, Dem. Rep.', 'Comoros', 'Colombia', 'China',\n",
       "       'Chile', 'Channel Islands', 'Chad', 'Central African Republic',\n",
       "       'Canada', 'Cameroon', 'Cambodia', 'Cabo Verde', 'Burundi',\n",
       "       'Burkina Faso', 'Bulgaria', 'Brunei Darussalam', 'Brazil',\n",
       "       'Botswana', 'Bosnia and Herzegovina', 'Bolivia', 'Bhutan', 'Benin',\n",
       "       'Belize', 'Belgium', 'Belarus', 'Barbados', 'Bangladesh',\n",
       "       'Bahrain', 'Bahamas, The', 'Azerbaijan', 'Austria', 'Australia',\n",
       "       'Armenia', 'Argentina', 'Angola', 'Algeria', 'Albania',\n",
       "       'Afghanistan', 'World', 'Upper middle income',\n",
       "       'Sub-Saharan Africa (IDA & IBRD countries)',\n",
       "       'Sub-Saharan Africa (excluding high income)', 'Sub-Saharan Africa',\n",
       "       'South Asia (IDA & IBRD)', 'South Asia', 'Small states',\n",
       "       'Pre-demographic dividend', 'Post-demographic dividend',\n",
       "       'Pacific island small states', 'Other small states',\n",
       "       'OECD members', 'North America', 'Middle income',\n",
       "       'Middle East & North Africa (IDA & IBRD countries)',\n",
       "       'Middle East & North Africa (excluding high income)',\n",
       "       'Middle East & North Africa', 'Lower middle income', 'Low income',\n",
       "       'Low & middle income',\n",
       "       'Least developed countries: UN classification',\n",
       "       'Latin America & the Caribbean (IDA & IBRD countries)',\n",
       "       'Latin America & Caribbean (excluding high income)',\n",
       "       'Latin America & Caribbean', 'Late-demographic dividend',\n",
       "       'IDA total', 'IDA only', 'IDA blend', 'IDA & IBRD total',\n",
       "       'IBRD only', 'High income',\n",
       "       'Heavily indebted poor countries (HIPC)',\n",
       "       'Fragile and conflict affected situations', 'European Union',\n",
       "       'Europe & Central Asia (IDA & IBRD countries)',\n",
       "       'Europe & Central Asia (excluding high income)',\n",
       "       'Europe & Central Asia', 'Euro area',\n",
       "       'East Asia & Pacific (IDA & IBRD countries)',\n",
       "       'East Asia & Pacific (excluding high income)',\n",
       "       'East Asia & Pacific', 'Early-demographic dividend',\n",
       "       'Central Europe and the Baltics', 'Caribbean small states',\n",
       "       'Arab World', 'Africa Western and Central',\n",
       "       'Africa Eastern and Southern'], dtype=object)"
      ]
     },
     "execution_count": 102,
     "metadata": {},
     "output_type": "execute_result"
    }
   ],
   "source": [
    "sta_labour['Country'].unique()"
   ]
  },
  {
   "cell_type": "code",
   "execution_count": 103,
   "metadata": {},
   "outputs": [
    {
     "data": {
      "text/plain": [
       "235"
      ]
     },
     "execution_count": 103,
     "metadata": {},
     "output_type": "execute_result"
    }
   ],
   "source": [
    "sta_labour['Country'].nunique()"
   ]
  },
  {
   "attachments": {},
   "cell_type": "markdown",
   "metadata": {},
   "source": [
    "---"
   ]
  },
  {
   "attachments": {},
   "cell_type": "markdown",
   "metadata": {},
   "source": [
    "🔹 Conclusions on: **Labour force, total** <br>\n",
    "* Does not contain duplicates. \n",
    "* Does not contain null values.  \n",
    "* It has all the years needed. \n",
    "* It has an extra column, called 'time', that will be removed. \n",
    "* The column named 'Time' will be renamed and it's tipe of data will be changed into int. \n",
    "* The column 'economy' will be renamed into 'Country Code'\n",
    "* THe column 'Country' will be renamed into 'Country Name'\n",
    "* It has more unique in 'Country' than needed."
   ]
  },
  {
   "attachments": {},
   "cell_type": "markdown",
   "metadata": {},
   "source": [
    "---"
   ]
  },
  {
   "attachments": {},
   "cell_type": "markdown",
   "metadata": {},
   "source": [
    "### GDP per Capita\n",
    "    This dataset shows information related to Total gross value added by all resident producers in the economy of each country in U$D."
   ]
  },
  {
   "cell_type": "code",
   "execution_count": 104,
   "metadata": {},
   "outputs": [
    {
     "data": {
      "text/html": [
       "<div>\n",
       "<style scoped>\n",
       "    .dataframe tbody tr th:only-of-type {\n",
       "        vertical-align: middle;\n",
       "    }\n",
       "\n",
       "    .dataframe tbody tr th {\n",
       "        vertical-align: top;\n",
       "    }\n",
       "\n",
       "    .dataframe thead th {\n",
       "        text-align: right;\n",
       "    }\n",
       "</style>\n",
       "<table border=\"1\" class=\"dataframe\">\n",
       "  <thead>\n",
       "    <tr style=\"text-align: right;\">\n",
       "      <th></th>\n",
       "      <th>Country Name</th>\n",
       "      <th>Country Code</th>\n",
       "      <th>Year</th>\n",
       "      <th>Value</th>\n",
       "    </tr>\n",
       "  </thead>\n",
       "  <tbody>\n",
       "    <tr>\n",
       "      <th>0</th>\n",
       "      <td>Arab World</td>\n",
       "      <td>ARB</td>\n",
       "      <td>1990</td>\n",
       "      <td>6759.785391</td>\n",
       "    </tr>\n",
       "    <tr>\n",
       "      <th>1</th>\n",
       "      <td>Arab World</td>\n",
       "      <td>ARB</td>\n",
       "      <td>1991</td>\n",
       "      <td>6821.770961</td>\n",
       "    </tr>\n",
       "    <tr>\n",
       "      <th>2</th>\n",
       "      <td>Arab World</td>\n",
       "      <td>ARB</td>\n",
       "      <td>1992</td>\n",
       "      <td>7193.242012</td>\n",
       "    </tr>\n",
       "    <tr>\n",
       "      <th>3</th>\n",
       "      <td>Arab World</td>\n",
       "      <td>ARB</td>\n",
       "      <td>1993</td>\n",
       "      <td>7394.499977</td>\n",
       "    </tr>\n",
       "    <tr>\n",
       "      <th>4</th>\n",
       "      <td>Arab World</td>\n",
       "      <td>ARB</td>\n",
       "      <td>1994</td>\n",
       "      <td>7583.281922</td>\n",
       "    </tr>\n",
       "  </tbody>\n",
       "</table>\n",
       "</div>"
      ],
      "text/plain": [
       "  Country Name Country Code  Year        Value\n",
       "0   Arab World          ARB  1990  6759.785391\n",
       "1   Arab World          ARB  1991  6821.770961\n",
       "2   Arab World          ARB  1992  7193.242012\n",
       "3   Arab World          ARB  1993  7394.499977\n",
       "4   Arab World          ARB  1994  7583.281922"
      ]
     },
     "execution_count": 104,
     "metadata": {},
     "output_type": "execute_result"
    }
   ],
   "source": [
    "sta_gdp_percapita.head()"
   ]
  },
  {
   "attachments": {},
   "cell_type": "markdown",
   "metadata": {},
   "source": [
    "We check the size of the dataset:"
   ]
  },
  {
   "cell_type": "code",
   "execution_count": 105,
   "metadata": {},
   "outputs": [
    {
     "data": {
      "text/plain": [
       "(6194, 4)"
      ]
     },
     "execution_count": 105,
     "metadata": {},
     "output_type": "execute_result"
    }
   ],
   "source": [
    "sta_gdp_percapita.shape"
   ]
  },
  {
   "attachments": {},
   "cell_type": "markdown",
   "metadata": {},
   "source": [
    "We review the amount of null values and the type of data each column has: "
   ]
  },
  {
   "cell_type": "code",
   "execution_count": 106,
   "metadata": {},
   "outputs": [
    {
     "name": "stdout",
     "output_type": "stream",
     "text": [
      "<class 'pandas.core.frame.DataFrame'>\n",
      "RangeIndex: 6194 entries, 0 to 6193\n",
      "Data columns (total 4 columns):\n",
      " #   Column        Non-Null Count  Dtype  \n",
      "---  ------        --------------  -----  \n",
      " 0   Country Name  6194 non-null   object \n",
      " 1   Country Code  6194 non-null   object \n",
      " 2   Year          6194 non-null   int64  \n",
      " 3   Value         6194 non-null   float64\n",
      "dtypes: float64(1), int64(1), object(2)\n",
      "memory usage: 193.7+ KB\n"
     ]
    }
   ],
   "source": [
    "sta_gdp_percapita.info()"
   ]
  },
  {
   "cell_type": "code",
   "execution_count": 107,
   "metadata": {},
   "outputs": [
    {
     "data": {
      "text/html": [
       "<div>\n",
       "<style scoped>\n",
       "    .dataframe tbody tr th:only-of-type {\n",
       "        vertical-align: middle;\n",
       "    }\n",
       "\n",
       "    .dataframe tbody tr th {\n",
       "        vertical-align: top;\n",
       "    }\n",
       "\n",
       "    .dataframe thead th {\n",
       "        text-align: right;\n",
       "    }\n",
       "</style>\n",
       "<table border=\"1\" class=\"dataframe\">\n",
       "  <thead>\n",
       "    <tr style=\"text-align: right;\">\n",
       "      <th></th>\n",
       "      <th>Year</th>\n",
       "      <th>Value</th>\n",
       "    </tr>\n",
       "  </thead>\n",
       "  <tbody>\n",
       "    <tr>\n",
       "      <th>count</th>\n",
       "      <td>6194.000000</td>\n",
       "      <td>6194.000000</td>\n",
       "    </tr>\n",
       "    <tr>\n",
       "      <th>mean</th>\n",
       "      <td>2003.270746</td>\n",
       "      <td>12780.054466</td>\n",
       "    </tr>\n",
       "    <tr>\n",
       "      <th>std</th>\n",
       "      <td>7.704633</td>\n",
       "      <td>16032.009169</td>\n",
       "    </tr>\n",
       "    <tr>\n",
       "      <th>min</th>\n",
       "      <td>1990.000000</td>\n",
       "      <td>242.001214</td>\n",
       "    </tr>\n",
       "    <tr>\n",
       "      <th>25%</th>\n",
       "      <td>1997.000000</td>\n",
       "      <td>2459.438806</td>\n",
       "    </tr>\n",
       "    <tr>\n",
       "      <th>50%</th>\n",
       "      <td>2003.000000</td>\n",
       "      <td>6641.198256</td>\n",
       "    </tr>\n",
       "    <tr>\n",
       "      <th>75%</th>\n",
       "      <td>2010.000000</td>\n",
       "      <td>16734.318820</td>\n",
       "    </tr>\n",
       "    <tr>\n",
       "      <th>max</th>\n",
       "      <td>2016.000000</td>\n",
       "      <td>140037.223791</td>\n",
       "    </tr>\n",
       "  </tbody>\n",
       "</table>\n",
       "</div>"
      ],
      "text/plain": [
       "              Year          Value\n",
       "count  6194.000000    6194.000000\n",
       "mean   2003.270746   12780.054466\n",
       "std       7.704633   16032.009169\n",
       "min    1990.000000     242.001214\n",
       "25%    1997.000000    2459.438806\n",
       "50%    2003.000000    6641.198256\n",
       "75%    2010.000000   16734.318820\n",
       "max    2016.000000  140037.223791"
      ]
     },
     "execution_count": 107,
     "metadata": {},
     "output_type": "execute_result"
    }
   ],
   "source": [
    "sta_gdp_percapita.describe()"
   ]
  },
  {
   "attachments": {},
   "cell_type": "markdown",
   "metadata": {},
   "source": [
    "We check for duplicates: "
   ]
  },
  {
   "cell_type": "code",
   "execution_count": 109,
   "metadata": {},
   "outputs": [
    {
     "data": {
      "text/html": [
       "<div>\n",
       "<style scoped>\n",
       "    .dataframe tbody tr th:only-of-type {\n",
       "        vertical-align: middle;\n",
       "    }\n",
       "\n",
       "    .dataframe tbody tr th {\n",
       "        vertical-align: top;\n",
       "    }\n",
       "\n",
       "    .dataframe thead th {\n",
       "        text-align: right;\n",
       "    }\n",
       "</style>\n",
       "<table border=\"1\" class=\"dataframe\">\n",
       "  <thead>\n",
       "    <tr style=\"text-align: right;\">\n",
       "      <th></th>\n",
       "      <th>Country Name</th>\n",
       "      <th>Country Code</th>\n",
       "      <th>Year</th>\n",
       "      <th>Value</th>\n",
       "    </tr>\n",
       "  </thead>\n",
       "  <tbody>\n",
       "  </tbody>\n",
       "</table>\n",
       "</div>"
      ],
      "text/plain": [
       "Empty DataFrame\n",
       "Columns: [Country Name, Country Code, Year, Value]\n",
       "Index: []"
      ]
     },
     "execution_count": 109,
     "metadata": {},
     "output_type": "execute_result"
    }
   ],
   "source": [
    "sta_gdp_percapita[sta_gdp_percapita.duplicated(subset=['Country Name', 'Year'])]"
   ]
  },
  {
   "attachments": {},
   "cell_type": "markdown",
   "metadata": {},
   "source": [
    "We check it has the years needed:"
   ]
  },
  {
   "cell_type": "code",
   "execution_count": 110,
   "metadata": {},
   "outputs": [
    {
     "data": {
      "text/plain": [
       "array([1990, 1991, 1992, 1993, 1994, 1995, 1996, 1997, 1998, 1999, 2000,\n",
       "       2001, 2002, 2003, 2004, 2005, 2006, 2007, 2008, 2009, 2010, 2011,\n",
       "       2012, 2013, 2014, 2015, 2016], dtype=int64)"
      ]
     },
     "execution_count": 110,
     "metadata": {},
     "output_type": "execute_result"
    }
   ],
   "source": [
    "sta_gdp_percapita['Year'].unique()"
   ]
  },
  {
   "attachments": {},
   "cell_type": "markdown",
   "metadata": {},
   "source": [
    "We check the amount of countries and which onces it has:"
   ]
  },
  {
   "cell_type": "code",
   "execution_count": 111,
   "metadata": {},
   "outputs": [
    {
     "data": {
      "text/plain": [
       "array(['Arab World', 'Caribbean small states',\n",
       "       'Central Europe and the Baltics', 'Early-demographic dividend',\n",
       "       'East Asia & Pacific',\n",
       "       'East Asia & Pacific (excluding high income)',\n",
       "       'East Asia & Pacific (IDA & IBRD countries)', 'Euro area',\n",
       "       'Europe & Central Asia',\n",
       "       'Europe & Central Asia (excluding high income)',\n",
       "       'Europe & Central Asia (IDA & IBRD countries)', 'European Union',\n",
       "       'Fragile and conflict affected situations',\n",
       "       'Heavily indebted poor countries (HIPC)', 'High income',\n",
       "       'IBRD only', 'IDA & IBRD total', 'IDA blend', 'IDA only',\n",
       "       'IDA total', 'Late-demographic dividend',\n",
       "       'Latin America & Caribbean',\n",
       "       'Latin America & Caribbean (excluding high income)',\n",
       "       'Latin America & the Caribbean (IDA & IBRD countries)',\n",
       "       'Least developed countries: UN classification',\n",
       "       'Low & middle income', 'Low income', 'Lower middle income',\n",
       "       'Middle East & North Africa',\n",
       "       'Middle East & North Africa (excluding high income)',\n",
       "       'Middle East & North Africa (IDA & IBRD countries)',\n",
       "       'Middle income', 'North America', 'OECD members',\n",
       "       'Other small states', 'Pacific island small states',\n",
       "       'Post-demographic dividend', 'Pre-demographic dividend',\n",
       "       'Small states', 'South Asia', 'South Asia (IDA & IBRD)',\n",
       "       'Sub-Saharan Africa', 'Sub-Saharan Africa (excluding high income)',\n",
       "       'Sub-Saharan Africa (IDA & IBRD countries)', 'Upper middle income',\n",
       "       'World', 'Afghanistan', 'Albania', 'Algeria', 'Angola',\n",
       "       'Antigua and Barbuda', 'Argentina', 'Armenia', 'Aruba',\n",
       "       'Australia', 'Austria', 'Azerbaijan', 'Bahamas, The', 'Bahrain',\n",
       "       'Bangladesh', 'Barbados', 'Belarus', 'Belgium', 'Belize', 'Benin',\n",
       "       'Bermuda', 'Bhutan', 'Bolivia', 'Bosnia and Herzegovina',\n",
       "       'Botswana', 'Brazil', 'Brunei Darussalam', 'Bulgaria',\n",
       "       'Burkina Faso', 'Burundi', 'Cabo Verde', 'Cambodia', 'Cameroon',\n",
       "       'Canada', 'Cayman Islands', 'Central African Republic', 'Chad',\n",
       "       'Chile', 'China', 'Colombia', 'Comoros', 'Congo, Dem. Rep.',\n",
       "       'Congo, Rep.', 'Costa Rica', \"Cote d'Ivoire\", 'Croatia', 'Cyprus',\n",
       "       'Czech Republic', 'Denmark', 'Djibouti', 'Dominica',\n",
       "       'Dominican Republic', 'Ecuador', 'Egypt, Arab Rep.', 'El Salvador',\n",
       "       'Equatorial Guinea', 'Eritrea', 'Estonia', 'Ethiopia', 'Fiji',\n",
       "       'Finland', 'France', 'Gabon', 'Gambia, The', 'Georgia', 'Germany',\n",
       "       'Ghana', 'Greece', 'Grenada', 'Guatemala', 'Guinea',\n",
       "       'Guinea-Bissau', 'Guyana', 'Haiti', 'Honduras',\n",
       "       'Hong Kong SAR, China', 'Hungary', 'Iceland', 'India', 'Indonesia',\n",
       "       'Iran, Islamic Rep.', 'Iraq', 'Ireland', 'Israel', 'Italy',\n",
       "       'Jamaica', 'Japan', 'Jordan', 'Kazakhstan', 'Kenya', 'Kiribati',\n",
       "       'Korea, Rep.', 'Kosovo', 'Kuwait', 'Kyrgyz Republic', 'Lao PDR',\n",
       "       'Latvia', 'Lebanon', 'Lesotho', 'Liberia', 'Libya', 'Lithuania',\n",
       "       'Luxembourg', 'Macao SAR, China', 'Macedonia, FYR', 'Madagascar',\n",
       "       'Malawi', 'Malaysia', 'Maldives', 'Mali', 'Malta',\n",
       "       'Marshall Islands', 'Mauritania', 'Mauritius', 'Mexico',\n",
       "       'Micronesia, Fed. Sts.', 'Moldova', 'Mongolia', 'Montenegro',\n",
       "       'Morocco', 'Mozambique', 'Myanmar', 'Namibia', 'Nauru', 'Nepal',\n",
       "       'Netherlands', 'New Zealand', 'Nicaragua', 'Niger', 'Nigeria',\n",
       "       'Norway', 'Oman', 'Pakistan', 'Palau', 'Panama',\n",
       "       'Papua New Guinea', 'Paraguay', 'Peru', 'Philippines', 'Poland',\n",
       "       'Portugal', 'Puerto Rico', 'Qatar', 'Romania',\n",
       "       'Russian Federation', 'Rwanda', 'Samoa', 'San Marino',\n",
       "       'Sao Tome and Principe', 'Saudi Arabia', 'Senegal', 'Serbia',\n",
       "       'Seychelles', 'Sierra Leone', 'Singapore',\n",
       "       'Sint Maarten (Dutch part)', 'Slovak Republic', 'Slovenia',\n",
       "       'Solomon Islands', 'South Africa', 'South Sudan', 'Spain',\n",
       "       'Sri Lanka', 'St. Kitts and Nevis', 'St. Lucia',\n",
       "       'St. Vincent and the Grenadines', 'Sudan', 'Suriname', 'Swaziland',\n",
       "       'Sweden', 'Switzerland', 'Tajikistan', 'Tanzania', 'Thailand',\n",
       "       'Timor-Leste', 'Togo', 'Tonga', 'Trinidad and Tobago', 'Tunisia',\n",
       "       'Turkey', 'Turkmenistan', 'Tuvalu', 'Uganda', 'Ukraine',\n",
       "       'United Arab Emirates', 'United Kingdom', 'United States',\n",
       "       'Uruguay', 'Uzbekistan', 'Vanuatu', 'Venezuela, RB', 'Vietnam',\n",
       "       'West Bank and Gaza', 'Yemen, Rep.', 'Zambia', 'Zimbabwe'],\n",
       "      dtype=object)"
      ]
     },
     "execution_count": 111,
     "metadata": {},
     "output_type": "execute_result"
    }
   ],
   "source": [
    "sta_gdp_percapita['Country Name'].unique()"
   ]
  },
  {
   "cell_type": "code",
   "execution_count": 112,
   "metadata": {},
   "outputs": [
    {
     "data": {
      "text/plain": [
       "241"
      ]
     },
     "execution_count": 112,
     "metadata": {},
     "output_type": "execute_result"
    }
   ],
   "source": [
    "sta_gdp_percapita['Country Name'].nunique()"
   ]
  },
  {
   "attachments": {},
   "cell_type": "markdown",
   "metadata": {},
   "source": [
    "---"
   ]
  },
  {
   "attachments": {},
   "cell_type": "markdown",
   "metadata": {},
   "source": [
    "🔹 Conclusions on: **GDP per Capita** <br>\n",
    "\n",
    "* Does not contain duplicates. \n",
    "* Does not contain null values.  \n",
    "* It has all the years needed.\n",
    "    * We will remove the years prior to 2000.\n",
    "* The column named 'Value' will be renamed.\n",
    "* It has more unique in 'Country' than needed. "
   ]
  },
  {
   "attachments": {},
   "cell_type": "markdown",
   "metadata": {},
   "source": [
    "---"
   ]
  },
  {
   "attachments": {},
   "cell_type": "markdown",
   "metadata": {},
   "source": [
    "## General conclusions on States: \n",
    "    Three out of the four datasets for this category need the same treatment. \n",
    "    The fourth dataset needs different treatment. \n",
    "    We have enough data for the years we need. \n",
    "    They are clean enough to start working on them.  "
   ]
  },
  {
   "attachments": {},
   "cell_type": "markdown",
   "metadata": {},
   "source": [
    "---"
   ]
  },
  {
   "attachments": {},
   "cell_type": "markdown",
   "metadata": {},
   "source": [
    "## ⟐ Migration:\n",
    "•\tCountry Migration<br>\n",
    "•\tSkill migration<br>\n",
    "•\tDemographic Indicators"
   ]
  },
  {
   "attachments": {},
   "cell_type": "markdown",
   "metadata": {},
   "source": [
    "We load the databases into variables:"
   ]
  },
  {
   "cell_type": "code",
   "execution_count": 113,
   "metadata": {},
   "outputs": [],
   "source": [
    "mig_country = pd.read_csv(\"migration-country_migration.csv\")\n",
    "\n",
    "mig_skill = pd.read_csv(\"migration-skill_migration.csv\")\n",
    "\n",
    "mig_demo_url = 'https://population.un.org/wpp/Download/Files/1_Indicators%20(Standard)/EXCEL_FILES/1_General/WPP2022_GEN_F01_DEMOGRAPHIC_INDICATORS_REV1.xlsx'\n",
    "    # Storing the link in a variable to make the code cleaner.\n",
    "mig_demo  = pd.read_excel(mig_demo_url, skiprows=15 , header=1 , index_col=False)\n",
    "    # Importing the excel, indicating we want to skip the first 15 rows, keep row 16 as header, and removing the index column. "
   ]
  },
  {
   "attachments": {},
   "cell_type": "markdown",
   "metadata": {},
   "source": [
    "---"
   ]
  },
  {
   "attachments": {},
   "cell_type": "markdown",
   "metadata": {},
   "source": [
    "We start checking the basics of each one of them: "
   ]
  },
  {
   "attachments": {},
   "cell_type": "markdown",
   "metadata": {},
   "source": [
    "### Country Migration\n",
    "    This dataset shows the information of from which country to which country, and the net value of each year."
   ]
  },
  {
   "cell_type": "code",
   "execution_count": 115,
   "metadata": {},
   "outputs": [
    {
     "data": {
      "text/html": [
       "<div>\n",
       "<style scoped>\n",
       "    .dataframe tbody tr th:only-of-type {\n",
       "        vertical-align: middle;\n",
       "    }\n",
       "\n",
       "    .dataframe tbody tr th {\n",
       "        vertical-align: top;\n",
       "    }\n",
       "\n",
       "    .dataframe thead th {\n",
       "        text-align: right;\n",
       "    }\n",
       "</style>\n",
       "<table border=\"1\" class=\"dataframe\">\n",
       "  <thead>\n",
       "    <tr style=\"text-align: right;\">\n",
       "      <th></th>\n",
       "      <th>base_country_code</th>\n",
       "      <th>base_country_name</th>\n",
       "      <th>base_lat</th>\n",
       "      <th>base_long</th>\n",
       "      <th>base_country_wb_income</th>\n",
       "      <th>base_country_wb_region</th>\n",
       "      <th>target_country_code</th>\n",
       "      <th>target_country_name</th>\n",
       "      <th>target_lat</th>\n",
       "      <th>target_long</th>\n",
       "      <th>...</th>\n",
       "      <th>net_per_10K_2019</th>\n",
       "      <th>Unnamed: 17</th>\n",
       "      <th>Unnamed: 18</th>\n",
       "      <th>Unnamed: 19</th>\n",
       "      <th>Unnamed: 20</th>\n",
       "      <th>Unnamed: 21</th>\n",
       "      <th>Unnamed: 22</th>\n",
       "      <th>Unnamed: 23</th>\n",
       "      <th>Unnamed: 24</th>\n",
       "      <th>Unnamed: 25</th>\n",
       "    </tr>\n",
       "  </thead>\n",
       "  <tbody>\n",
       "    <tr>\n",
       "      <th>0</th>\n",
       "      <td>ae</td>\n",
       "      <td>United Arab Emirates</td>\n",
       "      <td>23.424076</td>\n",
       "      <td>53.847818</td>\n",
       "      <td>High Income</td>\n",
       "      <td>Middle East &amp; North Africa</td>\n",
       "      <td>af</td>\n",
       "      <td>Afghanistan</td>\n",
       "      <td>33.939110</td>\n",
       "      <td>67.709953</td>\n",
       "      <td>...</td>\n",
       "      <td>-0.02</td>\n",
       "      <td>NaN</td>\n",
       "      <td>NaN</td>\n",
       "      <td>NaN</td>\n",
       "      <td>NaN</td>\n",
       "      <td>NaN</td>\n",
       "      <td>NaN</td>\n",
       "      <td>NaN</td>\n",
       "      <td>NaN</td>\n",
       "      <td>NaN</td>\n",
       "    </tr>\n",
       "    <tr>\n",
       "      <th>1</th>\n",
       "      <td>ae</td>\n",
       "      <td>United Arab Emirates</td>\n",
       "      <td>23.424076</td>\n",
       "      <td>53.847818</td>\n",
       "      <td>High Income</td>\n",
       "      <td>Middle East &amp; North Africa</td>\n",
       "      <td>dz</td>\n",
       "      <td>Algeria</td>\n",
       "      <td>28.033886</td>\n",
       "      <td>1.659626</td>\n",
       "      <td>...</td>\n",
       "      <td>0.78</td>\n",
       "      <td>NaN</td>\n",
       "      <td>NaN</td>\n",
       "      <td>NaN</td>\n",
       "      <td>NaN</td>\n",
       "      <td>NaN</td>\n",
       "      <td>NaN</td>\n",
       "      <td>NaN</td>\n",
       "      <td>NaN</td>\n",
       "      <td>NaN</td>\n",
       "    </tr>\n",
       "    <tr>\n",
       "      <th>2</th>\n",
       "      <td>ae</td>\n",
       "      <td>United Arab Emirates</td>\n",
       "      <td>23.424076</td>\n",
       "      <td>53.847818</td>\n",
       "      <td>High Income</td>\n",
       "      <td>Middle East &amp; North Africa</td>\n",
       "      <td>ao</td>\n",
       "      <td>Angola</td>\n",
       "      <td>-11.202692</td>\n",
       "      <td>17.873887</td>\n",
       "      <td>...</td>\n",
       "      <td>-0.06</td>\n",
       "      <td>NaN</td>\n",
       "      <td>NaN</td>\n",
       "      <td>NaN</td>\n",
       "      <td>NaN</td>\n",
       "      <td>NaN</td>\n",
       "      <td>NaN</td>\n",
       "      <td>NaN</td>\n",
       "      <td>NaN</td>\n",
       "      <td>NaN</td>\n",
       "    </tr>\n",
       "    <tr>\n",
       "      <th>3</th>\n",
       "      <td>ae</td>\n",
       "      <td>United Arab Emirates</td>\n",
       "      <td>23.424076</td>\n",
       "      <td>53.847818</td>\n",
       "      <td>High Income</td>\n",
       "      <td>Middle East &amp; North Africa</td>\n",
       "      <td>ar</td>\n",
       "      <td>Argentina</td>\n",
       "      <td>-38.416097</td>\n",
       "      <td>-63.616672</td>\n",
       "      <td>...</td>\n",
       "      <td>0.23</td>\n",
       "      <td>NaN</td>\n",
       "      <td>NaN</td>\n",
       "      <td>NaN</td>\n",
       "      <td>NaN</td>\n",
       "      <td>NaN</td>\n",
       "      <td>NaN</td>\n",
       "      <td>NaN</td>\n",
       "      <td>NaN</td>\n",
       "      <td>NaN</td>\n",
       "    </tr>\n",
       "    <tr>\n",
       "      <th>4</th>\n",
       "      <td>ae</td>\n",
       "      <td>United Arab Emirates</td>\n",
       "      <td>23.424076</td>\n",
       "      <td>53.847818</td>\n",
       "      <td>High Income</td>\n",
       "      <td>Middle East &amp; North Africa</td>\n",
       "      <td>am</td>\n",
       "      <td>Armenia</td>\n",
       "      <td>40.069099</td>\n",
       "      <td>45.038189</td>\n",
       "      <td>...</td>\n",
       "      <td>0.02</td>\n",
       "      <td>NaN</td>\n",
       "      <td>NaN</td>\n",
       "      <td>NaN</td>\n",
       "      <td>NaN</td>\n",
       "      <td>NaN</td>\n",
       "      <td>NaN</td>\n",
       "      <td>NaN</td>\n",
       "      <td>NaN</td>\n",
       "      <td>NaN</td>\n",
       "    </tr>\n",
       "  </tbody>\n",
       "</table>\n",
       "<p>5 rows × 26 columns</p>\n",
       "</div>"
      ],
      "text/plain": [
       "  base_country_code     base_country_name   base_lat  base_long  \\\n",
       "0                ae  United Arab Emirates  23.424076  53.847818   \n",
       "1                ae  United Arab Emirates  23.424076  53.847818   \n",
       "2                ae  United Arab Emirates  23.424076  53.847818   \n",
       "3                ae  United Arab Emirates  23.424076  53.847818   \n",
       "4                ae  United Arab Emirates  23.424076  53.847818   \n",
       "\n",
       "  base_country_wb_income      base_country_wb_region target_country_code  \\\n",
       "0            High Income  Middle East & North Africa                  af   \n",
       "1            High Income  Middle East & North Africa                  dz   \n",
       "2            High Income  Middle East & North Africa                  ao   \n",
       "3            High Income  Middle East & North Africa                  ar   \n",
       "4            High Income  Middle East & North Africa                  am   \n",
       "\n",
       "  target_country_name  target_lat  target_long  ... net_per_10K_2019  \\\n",
       "0         Afghanistan   33.939110    67.709953  ...            -0.02   \n",
       "1             Algeria   28.033886     1.659626  ...             0.78   \n",
       "2              Angola  -11.202692    17.873887  ...            -0.06   \n",
       "3           Argentina  -38.416097   -63.616672  ...             0.23   \n",
       "4             Armenia   40.069099    45.038189  ...             0.02   \n",
       "\n",
       "  Unnamed: 17  Unnamed: 18  Unnamed: 19  Unnamed: 20  Unnamed: 21  \\\n",
       "0         NaN          NaN          NaN          NaN          NaN   \n",
       "1         NaN          NaN          NaN          NaN          NaN   \n",
       "2         NaN          NaN          NaN          NaN          NaN   \n",
       "3         NaN          NaN          NaN          NaN          NaN   \n",
       "4         NaN          NaN          NaN          NaN          NaN   \n",
       "\n",
       "   Unnamed: 22  Unnamed: 23  Unnamed: 24  Unnamed: 25  \n",
       "0          NaN          NaN          NaN          NaN  \n",
       "1          NaN          NaN          NaN          NaN  \n",
       "2          NaN          NaN          NaN          NaN  \n",
       "3          NaN          NaN          NaN          NaN  \n",
       "4          NaN          NaN          NaN          NaN  \n",
       "\n",
       "[5 rows x 26 columns]"
      ]
     },
     "execution_count": 115,
     "metadata": {},
     "output_type": "execute_result"
    }
   ],
   "source": [
    "mig_country.head()"
   ]
  },
  {
   "attachments": {},
   "cell_type": "markdown",
   "metadata": {},
   "source": [
    "We check the size of the dataset:\n"
   ]
  },
  {
   "cell_type": "code",
   "execution_count": 116,
   "metadata": {},
   "outputs": [
    {
     "data": {
      "text/plain": [
       "(4148, 26)"
      ]
     },
     "execution_count": 116,
     "metadata": {},
     "output_type": "execute_result"
    }
   ],
   "source": [
    "mig_country.shape"
   ]
  },
  {
   "attachments": {},
   "cell_type": "markdown",
   "metadata": {},
   "source": [
    "\n",
    "We review the amount of null values and the type of data each column has: \n"
   ]
  },
  {
   "cell_type": "code",
   "execution_count": 117,
   "metadata": {},
   "outputs": [
    {
     "name": "stdout",
     "output_type": "stream",
     "text": [
      "<class 'pandas.core.frame.DataFrame'>\n",
      "RangeIndex: 4148 entries, 0 to 4147\n",
      "Data columns (total 26 columns):\n",
      " #   Column                    Non-Null Count  Dtype  \n",
      "---  ------                    --------------  -----  \n",
      " 0   base_country_code         4148 non-null   object \n",
      " 1   base_country_name         4148 non-null   object \n",
      " 2   base_lat                  4148 non-null   float64\n",
      " 3   base_long                 4148 non-null   float64\n",
      " 4   base_country_wb_income    4148 non-null   object \n",
      " 5   base_country_wb_region    4148 non-null   object \n",
      " 6   target_country_code       4148 non-null   object \n",
      " 7   target_country_name       4148 non-null   object \n",
      " 8   target_lat                4148 non-null   float64\n",
      " 9   target_long               4148 non-null   float64\n",
      " 10  target_country_wb_income  4148 non-null   object \n",
      " 11  target_country_wb_region  4148 non-null   object \n",
      " 12  net_per_10K_2015          4148 non-null   float64\n",
      " 13  net_per_10K_2016          4148 non-null   float64\n",
      " 14  net_per_10K_2017          4148 non-null   float64\n",
      " 15  net_per_10K_2018          4148 non-null   float64\n",
      " 16  net_per_10K_2019          4148 non-null   float64\n",
      " 17  Unnamed: 17               0 non-null      float64\n",
      " 18  Unnamed: 18               0 non-null      float64\n",
      " 19  Unnamed: 19               0 non-null      float64\n",
      " 20  Unnamed: 20               0 non-null      float64\n",
      " 21  Unnamed: 21               0 non-null      float64\n",
      " 22  Unnamed: 22               0 non-null      float64\n",
      " 23  Unnamed: 23               0 non-null      float64\n",
      " 24  Unnamed: 24               0 non-null      float64\n",
      " 25  Unnamed: 25               0 non-null      float64\n",
      "dtypes: float64(18), object(8)\n",
      "memory usage: 842.7+ KB\n"
     ]
    }
   ],
   "source": [
    "mig_country.info()"
   ]
  },
  {
   "cell_type": "code",
   "execution_count": 118,
   "metadata": {},
   "outputs": [
    {
     "data": {
      "text/html": [
       "<div>\n",
       "<style scoped>\n",
       "    .dataframe tbody tr th:only-of-type {\n",
       "        vertical-align: middle;\n",
       "    }\n",
       "\n",
       "    .dataframe tbody tr th {\n",
       "        vertical-align: top;\n",
       "    }\n",
       "\n",
       "    .dataframe thead th {\n",
       "        text-align: right;\n",
       "    }\n",
       "</style>\n",
       "<table border=\"1\" class=\"dataframe\">\n",
       "  <thead>\n",
       "    <tr style=\"text-align: right;\">\n",
       "      <th></th>\n",
       "      <th>base_lat</th>\n",
       "      <th>base_long</th>\n",
       "      <th>target_lat</th>\n",
       "      <th>target_long</th>\n",
       "      <th>net_per_10K_2015</th>\n",
       "      <th>net_per_10K_2016</th>\n",
       "      <th>net_per_10K_2017</th>\n",
       "      <th>net_per_10K_2018</th>\n",
       "      <th>net_per_10K_2019</th>\n",
       "      <th>Unnamed: 17</th>\n",
       "      <th>Unnamed: 18</th>\n",
       "      <th>Unnamed: 19</th>\n",
       "      <th>Unnamed: 20</th>\n",
       "      <th>Unnamed: 21</th>\n",
       "      <th>Unnamed: 22</th>\n",
       "      <th>Unnamed: 23</th>\n",
       "      <th>Unnamed: 24</th>\n",
       "      <th>Unnamed: 25</th>\n",
       "    </tr>\n",
       "  </thead>\n",
       "  <tbody>\n",
       "    <tr>\n",
       "      <th>count</th>\n",
       "      <td>4148.000000</td>\n",
       "      <td>4148.000000</td>\n",
       "      <td>4148.000000</td>\n",
       "      <td>4148.000000</td>\n",
       "      <td>4148.000000</td>\n",
       "      <td>4148.000000</td>\n",
       "      <td>4148.000000</td>\n",
       "      <td>4148.000000</td>\n",
       "      <td>4148.000000</td>\n",
       "      <td>0.0</td>\n",
       "      <td>0.0</td>\n",
       "      <td>0.0</td>\n",
       "      <td>0.0</td>\n",
       "      <td>0.0</td>\n",
       "      <td>0.0</td>\n",
       "      <td>0.0</td>\n",
       "      <td>0.0</td>\n",
       "      <td>0.0</td>\n",
       "    </tr>\n",
       "    <tr>\n",
       "      <th>mean</th>\n",
       "      <td>28.418022</td>\n",
       "      <td>21.698305</td>\n",
       "      <td>28.418022</td>\n",
       "      <td>21.698305</td>\n",
       "      <td>0.461757</td>\n",
       "      <td>0.150248</td>\n",
       "      <td>-0.080272</td>\n",
       "      <td>-0.040591</td>\n",
       "      <td>-0.022743</td>\n",
       "      <td>NaN</td>\n",
       "      <td>NaN</td>\n",
       "      <td>NaN</td>\n",
       "      <td>NaN</td>\n",
       "      <td>NaN</td>\n",
       "      <td>NaN</td>\n",
       "      <td>NaN</td>\n",
       "      <td>NaN</td>\n",
       "      <td>NaN</td>\n",
       "    </tr>\n",
       "    <tr>\n",
       "      <th>std</th>\n",
       "      <td>25.086012</td>\n",
       "      <td>61.937381</td>\n",
       "      <td>25.086012</td>\n",
       "      <td>61.937381</td>\n",
       "      <td>5.006530</td>\n",
       "      <td>4.201118</td>\n",
       "      <td>3.203092</td>\n",
       "      <td>3.593876</td>\n",
       "      <td>3.633247</td>\n",
       "      <td>NaN</td>\n",
       "      <td>NaN</td>\n",
       "      <td>NaN</td>\n",
       "      <td>NaN</td>\n",
       "      <td>NaN</td>\n",
       "      <td>NaN</td>\n",
       "      <td>NaN</td>\n",
       "      <td>NaN</td>\n",
       "      <td>NaN</td>\n",
       "    </tr>\n",
       "    <tr>\n",
       "      <th>min</th>\n",
       "      <td>-40.900557</td>\n",
       "      <td>-106.346771</td>\n",
       "      <td>-40.900557</td>\n",
       "      <td>-106.346771</td>\n",
       "      <td>-37.010000</td>\n",
       "      <td>-40.890000</td>\n",
       "      <td>-43.660000</td>\n",
       "      <td>-56.220000</td>\n",
       "      <td>-50.330000</td>\n",
       "      <td>NaN</td>\n",
       "      <td>NaN</td>\n",
       "      <td>NaN</td>\n",
       "      <td>NaN</td>\n",
       "      <td>NaN</td>\n",
       "      <td>NaN</td>\n",
       "      <td>NaN</td>\n",
       "      <td>NaN</td>\n",
       "      <td>NaN</td>\n",
       "    </tr>\n",
       "    <tr>\n",
       "      <th>25%</th>\n",
       "      <td>14.058324</td>\n",
       "      <td>-3.435973</td>\n",
       "      <td>14.058324</td>\n",
       "      <td>-3.435973</td>\n",
       "      <td>-0.150000</td>\n",
       "      <td>-0.190000</td>\n",
       "      <td>-0.210000</td>\n",
       "      <td>-0.210000</td>\n",
       "      <td>-0.210000</td>\n",
       "      <td>NaN</td>\n",
       "      <td>NaN</td>\n",
       "      <td>NaN</td>\n",
       "      <td>NaN</td>\n",
       "      <td>NaN</td>\n",
       "      <td>NaN</td>\n",
       "      <td>NaN</td>\n",
       "      <td>NaN</td>\n",
       "      <td>NaN</td>\n",
       "    </tr>\n",
       "    <tr>\n",
       "      <th>50%</th>\n",
       "      <td>35.861660</td>\n",
       "      <td>19.145136</td>\n",
       "      <td>35.861660</td>\n",
       "      <td>19.145136</td>\n",
       "      <td>0.000000</td>\n",
       "      <td>0.000000</td>\n",
       "      <td>0.000000</td>\n",
       "      <td>0.000000</td>\n",
       "      <td>0.000000</td>\n",
       "      <td>NaN</td>\n",
       "      <td>NaN</td>\n",
       "      <td>NaN</td>\n",
       "      <td>NaN</td>\n",
       "      <td>NaN</td>\n",
       "      <td>NaN</td>\n",
       "      <td>NaN</td>\n",
       "      <td>NaN</td>\n",
       "      <td>NaN</td>\n",
       "    </tr>\n",
       "    <tr>\n",
       "      <th>75%</th>\n",
       "      <td>47.516231</td>\n",
       "      <td>53.688046</td>\n",
       "      <td>47.516231</td>\n",
       "      <td>53.688046</td>\n",
       "      <td>0.240000</td>\n",
       "      <td>0.220000</td>\n",
       "      <td>0.160000</td>\n",
       "      <td>0.170000</td>\n",
       "      <td>0.180000</td>\n",
       "      <td>NaN</td>\n",
       "      <td>NaN</td>\n",
       "      <td>NaN</td>\n",
       "      <td>NaN</td>\n",
       "      <td>NaN</td>\n",
       "      <td>NaN</td>\n",
       "      <td>NaN</td>\n",
       "      <td>NaN</td>\n",
       "      <td>NaN</td>\n",
       "    </tr>\n",
       "    <tr>\n",
       "      <th>max</th>\n",
       "      <td>64.963051</td>\n",
       "      <td>179.414413</td>\n",
       "      <td>64.963051</td>\n",
       "      <td>179.414413</td>\n",
       "      <td>150.680000</td>\n",
       "      <td>124.480000</td>\n",
       "      <td>87.000000</td>\n",
       "      <td>91.410000</td>\n",
       "      <td>87.710000</td>\n",
       "      <td>NaN</td>\n",
       "      <td>NaN</td>\n",
       "      <td>NaN</td>\n",
       "      <td>NaN</td>\n",
       "      <td>NaN</td>\n",
       "      <td>NaN</td>\n",
       "      <td>NaN</td>\n",
       "      <td>NaN</td>\n",
       "      <td>NaN</td>\n",
       "    </tr>\n",
       "  </tbody>\n",
       "</table>\n",
       "</div>"
      ],
      "text/plain": [
       "          base_lat    base_long   target_lat  target_long  net_per_10K_2015  \\\n",
       "count  4148.000000  4148.000000  4148.000000  4148.000000       4148.000000   \n",
       "mean     28.418022    21.698305    28.418022    21.698305          0.461757   \n",
       "std      25.086012    61.937381    25.086012    61.937381          5.006530   \n",
       "min     -40.900557  -106.346771   -40.900557  -106.346771        -37.010000   \n",
       "25%      14.058324    -3.435973    14.058324    -3.435973         -0.150000   \n",
       "50%      35.861660    19.145136    35.861660    19.145136          0.000000   \n",
       "75%      47.516231    53.688046    47.516231    53.688046          0.240000   \n",
       "max      64.963051   179.414413    64.963051   179.414413        150.680000   \n",
       "\n",
       "       net_per_10K_2016  net_per_10K_2017  net_per_10K_2018  net_per_10K_2019  \\\n",
       "count       4148.000000       4148.000000       4148.000000       4148.000000   \n",
       "mean           0.150248         -0.080272         -0.040591         -0.022743   \n",
       "std            4.201118          3.203092          3.593876          3.633247   \n",
       "min          -40.890000        -43.660000        -56.220000        -50.330000   \n",
       "25%           -0.190000         -0.210000         -0.210000         -0.210000   \n",
       "50%            0.000000          0.000000          0.000000          0.000000   \n",
       "75%            0.220000          0.160000          0.170000          0.180000   \n",
       "max          124.480000         87.000000         91.410000         87.710000   \n",
       "\n",
       "       Unnamed: 17  Unnamed: 18  Unnamed: 19  Unnamed: 20  Unnamed: 21  \\\n",
       "count          0.0          0.0          0.0          0.0          0.0   \n",
       "mean           NaN          NaN          NaN          NaN          NaN   \n",
       "std            NaN          NaN          NaN          NaN          NaN   \n",
       "min            NaN          NaN          NaN          NaN          NaN   \n",
       "25%            NaN          NaN          NaN          NaN          NaN   \n",
       "50%            NaN          NaN          NaN          NaN          NaN   \n",
       "75%            NaN          NaN          NaN          NaN          NaN   \n",
       "max            NaN          NaN          NaN          NaN          NaN   \n",
       "\n",
       "       Unnamed: 22  Unnamed: 23  Unnamed: 24  Unnamed: 25  \n",
       "count          0.0          0.0          0.0          0.0  \n",
       "mean           NaN          NaN          NaN          NaN  \n",
       "std            NaN          NaN          NaN          NaN  \n",
       "min            NaN          NaN          NaN          NaN  \n",
       "25%            NaN          NaN          NaN          NaN  \n",
       "50%            NaN          NaN          NaN          NaN  \n",
       "75%            NaN          NaN          NaN          NaN  \n",
       "max            NaN          NaN          NaN          NaN  "
      ]
     },
     "execution_count": 118,
     "metadata": {},
     "output_type": "execute_result"
    }
   ],
   "source": [
    "mig_country.describe()"
   ]
  },
  {
   "attachments": {},
   "cell_type": "markdown",
   "metadata": {},
   "source": [
    "We check the columns to see if it has the years we need:"
   ]
  },
  {
   "cell_type": "code",
   "execution_count": 119,
   "metadata": {},
   "outputs": [
    {
     "data": {
      "text/plain": [
       "Index(['base_country_code', 'base_country_name', 'base_lat', 'base_long',\n",
       "       'base_country_wb_income', 'base_country_wb_region',\n",
       "       'target_country_code', 'target_country_name', 'target_lat',\n",
       "       'target_long', 'target_country_wb_income', 'target_country_wb_region',\n",
       "       'net_per_10K_2015', 'net_per_10K_2016', 'net_per_10K_2017',\n",
       "       'net_per_10K_2018', 'net_per_10K_2019', 'Unnamed: 17', 'Unnamed: 18',\n",
       "       'Unnamed: 19', 'Unnamed: 20', 'Unnamed: 21', 'Unnamed: 22',\n",
       "       'Unnamed: 23', 'Unnamed: 24', 'Unnamed: 25'],\n",
       "      dtype='object')"
      ]
     },
     "execution_count": 119,
     "metadata": {},
     "output_type": "execute_result"
    }
   ],
   "source": [
    "mig_country.columns"
   ]
  },
  {
   "attachments": {},
   "cell_type": "markdown",
   "metadata": {},
   "source": [
    "---"
   ]
  },
  {
   "attachments": {},
   "cell_type": "markdown",
   "metadata": {},
   "source": [
    "🔹 Conclusions on: **Country Migration** <br>\n",
    "* Does not contain null values.\n",
    "* Very difficult to check for duplicates. \n",
    "* Some columns will be deleted since they do not have information.\n",
    "* Will be used separately from the other datasets. "
   ]
  },
  {
   "attachments": {},
   "cell_type": "markdown",
   "metadata": {},
   "source": [
    "---"
   ]
  },
  {
   "attachments": {},
   "cell_type": "markdown",
   "metadata": {},
   "source": [
    "### Skill migration\n",
    "    This dataset refers to the migration of people having some level of high education. "
   ]
  },
  {
   "cell_type": "code",
   "execution_count": 120,
   "metadata": {},
   "outputs": [
    {
     "data": {
      "text/html": [
       "<div>\n",
       "<style scoped>\n",
       "    .dataframe tbody tr th:only-of-type {\n",
       "        vertical-align: middle;\n",
       "    }\n",
       "\n",
       "    .dataframe tbody tr th {\n",
       "        vertical-align: top;\n",
       "    }\n",
       "\n",
       "    .dataframe thead th {\n",
       "        text-align: right;\n",
       "    }\n",
       "</style>\n",
       "<table border=\"1\" class=\"dataframe\">\n",
       "  <thead>\n",
       "    <tr style=\"text-align: right;\">\n",
       "      <th></th>\n",
       "      <th>country_code</th>\n",
       "      <th>country_name</th>\n",
       "      <th>wb_income</th>\n",
       "      <th>wb_region</th>\n",
       "      <th>skill_group_id</th>\n",
       "      <th>skill_group_category</th>\n",
       "      <th>skill_group_name</th>\n",
       "      <th>net_per_10K_2015</th>\n",
       "      <th>net_per_10K_2016</th>\n",
       "      <th>net_per_10K_2017</th>\n",
       "      <th>...</th>\n",
       "      <th>Unnamed: 19</th>\n",
       "      <th>Unnamed: 20</th>\n",
       "      <th>Unnamed: 21</th>\n",
       "      <th>Unnamed: 22</th>\n",
       "      <th>Unnamed: 23</th>\n",
       "      <th>Unnamed: 24</th>\n",
       "      <th>Unnamed: 25</th>\n",
       "      <th>Unnamed: 26</th>\n",
       "      <th>Unnamed: 27</th>\n",
       "      <th>Unnamed: 28</th>\n",
       "    </tr>\n",
       "  </thead>\n",
       "  <tbody>\n",
       "    <tr>\n",
       "      <th>0</th>\n",
       "      <td>af</td>\n",
       "      <td>Afghanistan</td>\n",
       "      <td>Low income</td>\n",
       "      <td>South Asia</td>\n",
       "      <td>2549.0</td>\n",
       "      <td>Tech Skills</td>\n",
       "      <td>Information Management</td>\n",
       "      <td>-791.59</td>\n",
       "      <td>-705.88</td>\n",
       "      <td>-550.04</td>\n",
       "      <td>...</td>\n",
       "      <td>NaN</td>\n",
       "      <td>NaN</td>\n",
       "      <td>NaN</td>\n",
       "      <td>NaN</td>\n",
       "      <td>NaN</td>\n",
       "      <td>NaN</td>\n",
       "      <td>NaN</td>\n",
       "      <td>NaN</td>\n",
       "      <td>NaN</td>\n",
       "      <td>NaN</td>\n",
       "    </tr>\n",
       "    <tr>\n",
       "      <th>1</th>\n",
       "      <td>af</td>\n",
       "      <td>Afghanistan</td>\n",
       "      <td>Low income</td>\n",
       "      <td>South Asia</td>\n",
       "      <td>2608.0</td>\n",
       "      <td>Business Skills</td>\n",
       "      <td>Operational Efficiency</td>\n",
       "      <td>-1610.25</td>\n",
       "      <td>-933.55</td>\n",
       "      <td>-776.06</td>\n",
       "      <td>...</td>\n",
       "      <td>NaN</td>\n",
       "      <td>NaN</td>\n",
       "      <td>NaN</td>\n",
       "      <td>NaN</td>\n",
       "      <td>NaN</td>\n",
       "      <td>NaN</td>\n",
       "      <td>NaN</td>\n",
       "      <td>NaN</td>\n",
       "      <td>NaN</td>\n",
       "      <td>NaN</td>\n",
       "    </tr>\n",
       "    <tr>\n",
       "      <th>2</th>\n",
       "      <td>af</td>\n",
       "      <td>Afghanistan</td>\n",
       "      <td>Low income</td>\n",
       "      <td>South Asia</td>\n",
       "      <td>3806.0</td>\n",
       "      <td>Specialized Industry Skills</td>\n",
       "      <td>National Security</td>\n",
       "      <td>-1731.45</td>\n",
       "      <td>-769.68</td>\n",
       "      <td>-756.59</td>\n",
       "      <td>...</td>\n",
       "      <td>NaN</td>\n",
       "      <td>NaN</td>\n",
       "      <td>NaN</td>\n",
       "      <td>NaN</td>\n",
       "      <td>NaN</td>\n",
       "      <td>NaN</td>\n",
       "      <td>NaN</td>\n",
       "      <td>NaN</td>\n",
       "      <td>NaN</td>\n",
       "      <td>NaN</td>\n",
       "    </tr>\n",
       "    <tr>\n",
       "      <th>3</th>\n",
       "      <td>af</td>\n",
       "      <td>Afghanistan</td>\n",
       "      <td>Low income</td>\n",
       "      <td>South Asia</td>\n",
       "      <td>50321.0</td>\n",
       "      <td>Tech Skills</td>\n",
       "      <td>Software Testing</td>\n",
       "      <td>-957.50</td>\n",
       "      <td>-828.54</td>\n",
       "      <td>-964.73</td>\n",
       "      <td>...</td>\n",
       "      <td>NaN</td>\n",
       "      <td>NaN</td>\n",
       "      <td>NaN</td>\n",
       "      <td>NaN</td>\n",
       "      <td>NaN</td>\n",
       "      <td>NaN</td>\n",
       "      <td>NaN</td>\n",
       "      <td>NaN</td>\n",
       "      <td>NaN</td>\n",
       "      <td>NaN</td>\n",
       "    </tr>\n",
       "    <tr>\n",
       "      <th>4</th>\n",
       "      <td>af</td>\n",
       "      <td>Afghanistan</td>\n",
       "      <td>Low income</td>\n",
       "      <td>South Asia</td>\n",
       "      <td>1606.0</td>\n",
       "      <td>Specialized Industry Skills</td>\n",
       "      <td>Navy</td>\n",
       "      <td>-1510.71</td>\n",
       "      <td>-841.17</td>\n",
       "      <td>-842.32</td>\n",
       "      <td>...</td>\n",
       "      <td>NaN</td>\n",
       "      <td>NaN</td>\n",
       "      <td>NaN</td>\n",
       "      <td>NaN</td>\n",
       "      <td>NaN</td>\n",
       "      <td>NaN</td>\n",
       "      <td>NaN</td>\n",
       "      <td>NaN</td>\n",
       "      <td>NaN</td>\n",
       "      <td>NaN</td>\n",
       "    </tr>\n",
       "  </tbody>\n",
       "</table>\n",
       "<p>5 rows × 29 columns</p>\n",
       "</div>"
      ],
      "text/plain": [
       "  country_code country_name   wb_income   wb_region  skill_group_id  \\\n",
       "0           af  Afghanistan  Low income  South Asia          2549.0   \n",
       "1           af  Afghanistan  Low income  South Asia          2608.0   \n",
       "2           af  Afghanistan  Low income  South Asia          3806.0   \n",
       "3           af  Afghanistan  Low income  South Asia         50321.0   \n",
       "4           af  Afghanistan  Low income  South Asia          1606.0   \n",
       "\n",
       "          skill_group_category        skill_group_name  net_per_10K_2015  \\\n",
       "0                  Tech Skills  Information Management           -791.59   \n",
       "1              Business Skills  Operational Efficiency          -1610.25   \n",
       "2  Specialized Industry Skills       National Security          -1731.45   \n",
       "3                  Tech Skills        Software Testing           -957.50   \n",
       "4  Specialized Industry Skills                    Navy          -1510.71   \n",
       "\n",
       "   net_per_10K_2016  net_per_10K_2017  ...  Unnamed: 19  Unnamed: 20  \\\n",
       "0           -705.88           -550.04  ...          NaN          NaN   \n",
       "1           -933.55           -776.06  ...          NaN          NaN   \n",
       "2           -769.68           -756.59  ...          NaN          NaN   \n",
       "3           -828.54           -964.73  ...          NaN          NaN   \n",
       "4           -841.17           -842.32  ...          NaN          NaN   \n",
       "\n",
       "   Unnamed: 21  Unnamed: 22  Unnamed: 23  Unnamed: 24  Unnamed: 25  \\\n",
       "0          NaN          NaN          NaN          NaN          NaN   \n",
       "1          NaN          NaN          NaN          NaN          NaN   \n",
       "2          NaN          NaN          NaN          NaN          NaN   \n",
       "3          NaN          NaN          NaN          NaN          NaN   \n",
       "4          NaN          NaN          NaN          NaN          NaN   \n",
       "\n",
       "   Unnamed: 26  Unnamed: 27  Unnamed: 28  \n",
       "0          NaN          NaN          NaN  \n",
       "1          NaN          NaN          NaN  \n",
       "2          NaN          NaN          NaN  \n",
       "3          NaN          NaN          NaN  \n",
       "4          NaN          NaN          NaN  \n",
       "\n",
       "[5 rows x 29 columns]"
      ]
     },
     "execution_count": 120,
     "metadata": {},
     "output_type": "execute_result"
    }
   ],
   "source": [
    "mig_skill.head()"
   ]
  },
  {
   "attachments": {},
   "cell_type": "markdown",
   "metadata": {},
   "source": [
    "We check the size of the dataset:"
   ]
  },
  {
   "cell_type": "code",
   "execution_count": 121,
   "metadata": {},
   "outputs": [
    {
     "data": {
      "text/plain": [
       "(20647, 29)"
      ]
     },
     "execution_count": 121,
     "metadata": {},
     "output_type": "execute_result"
    }
   ],
   "source": [
    "mig_skill.shape"
   ]
  },
  {
   "attachments": {},
   "cell_type": "markdown",
   "metadata": {},
   "source": [
    "We review the amount of null values and the type of data each column has: "
   ]
  },
  {
   "cell_type": "code",
   "execution_count": 122,
   "metadata": {},
   "outputs": [
    {
     "name": "stdout",
     "output_type": "stream",
     "text": [
      "<class 'pandas.core.frame.DataFrame'>\n",
      "RangeIndex: 20647 entries, 0 to 20646\n",
      "Data columns (total 29 columns):\n",
      " #   Column                Non-Null Count  Dtype  \n",
      "---  ------                --------------  -----  \n",
      " 0   country_code          17617 non-null  object \n",
      " 1   country_name          17617 non-null  object \n",
      " 2   wb_income             17617 non-null  object \n",
      " 3   wb_region             17617 non-null  object \n",
      " 4   skill_group_id        17617 non-null  float64\n",
      " 5   skill_group_category  17617 non-null  object \n",
      " 6   skill_group_name      17617 non-null  object \n",
      " 7   net_per_10K_2015      17617 non-null  float64\n",
      " 8   net_per_10K_2016      17617 non-null  float64\n",
      " 9   net_per_10K_2017      17617 non-null  float64\n",
      " 10  net_per_10K_2018      17617 non-null  float64\n",
      " 11  net_per_10K_2019      17617 non-null  float64\n",
      " 12  Unnamed: 12           0 non-null      float64\n",
      " 13  Unnamed: 13           0 non-null      float64\n",
      " 14  Unnamed: 14           0 non-null      float64\n",
      " 15  Unnamed: 15           0 non-null      float64\n",
      " 16  Unnamed: 16           0 non-null      float64\n",
      " 17  Unnamed: 17           0 non-null      float64\n",
      " 18  Unnamed: 18           0 non-null      float64\n",
      " 19  Unnamed: 19           0 non-null      float64\n",
      " 20  Unnamed: 20           0 non-null      float64\n",
      " 21  Unnamed: 21           0 non-null      float64\n",
      " 22  Unnamed: 22           0 non-null      float64\n",
      " 23  Unnamed: 23           0 non-null      float64\n",
      " 24  Unnamed: 24           0 non-null      float64\n",
      " 25  Unnamed: 25           0 non-null      float64\n",
      " 26  Unnamed: 26           0 non-null      float64\n",
      " 27  Unnamed: 27           0 non-null      float64\n",
      " 28  Unnamed: 28           0 non-null      float64\n",
      "dtypes: float64(23), object(6)\n",
      "memory usage: 4.6+ MB\n"
     ]
    }
   ],
   "source": [
    "mig_skill.info()"
   ]
  },
  {
   "cell_type": "code",
   "execution_count": 127,
   "metadata": {},
   "outputs": [
    {
     "data": {
      "text/html": [
       "<div>\n",
       "<style scoped>\n",
       "    .dataframe tbody tr th:only-of-type {\n",
       "        vertical-align: middle;\n",
       "    }\n",
       "\n",
       "    .dataframe tbody tr th {\n",
       "        vertical-align: top;\n",
       "    }\n",
       "\n",
       "    .dataframe thead th {\n",
       "        text-align: right;\n",
       "    }\n",
       "</style>\n",
       "<table border=\"1\" class=\"dataframe\">\n",
       "  <thead>\n",
       "    <tr style=\"text-align: right;\">\n",
       "      <th></th>\n",
       "      <th>skill_group_id</th>\n",
       "      <th>net_per_10K_2015</th>\n",
       "      <th>net_per_10K_2016</th>\n",
       "      <th>net_per_10K_2017</th>\n",
       "      <th>net_per_10K_2018</th>\n",
       "      <th>net_per_10K_2019</th>\n",
       "      <th>Unnamed: 12</th>\n",
       "      <th>Unnamed: 13</th>\n",
       "      <th>Unnamed: 14</th>\n",
       "      <th>Unnamed: 15</th>\n",
       "      <th>...</th>\n",
       "      <th>Unnamed: 19</th>\n",
       "      <th>Unnamed: 20</th>\n",
       "      <th>Unnamed: 21</th>\n",
       "      <th>Unnamed: 22</th>\n",
       "      <th>Unnamed: 23</th>\n",
       "      <th>Unnamed: 24</th>\n",
       "      <th>Unnamed: 25</th>\n",
       "      <th>Unnamed: 26</th>\n",
       "      <th>Unnamed: 27</th>\n",
       "      <th>Unnamed: 28</th>\n",
       "    </tr>\n",
       "  </thead>\n",
       "  <tbody>\n",
       "    <tr>\n",
       "      <th>count</th>\n",
       "      <td>17617.000000</td>\n",
       "      <td>17617.000000</td>\n",
       "      <td>17617.00000</td>\n",
       "      <td>17617.000000</td>\n",
       "      <td>17617.000000</td>\n",
       "      <td>17617.000000</td>\n",
       "      <td>0.0</td>\n",
       "      <td>0.0</td>\n",
       "      <td>0.0</td>\n",
       "      <td>0.0</td>\n",
       "      <td>...</td>\n",
       "      <td>0.0</td>\n",
       "      <td>0.0</td>\n",
       "      <td>0.0</td>\n",
       "      <td>0.0</td>\n",
       "      <td>0.0</td>\n",
       "      <td>0.0</td>\n",
       "      <td>0.0</td>\n",
       "      <td>0.0</td>\n",
       "      <td>0.0</td>\n",
       "      <td>0.0</td>\n",
       "    </tr>\n",
       "    <tr>\n",
       "      <th>mean</th>\n",
       "      <td>6768.889368</td>\n",
       "      <td>-14.600256</td>\n",
       "      <td>-39.20081</td>\n",
       "      <td>-54.772238</td>\n",
       "      <td>-36.081342</td>\n",
       "      <td>-34.782431</td>\n",
       "      <td>NaN</td>\n",
       "      <td>NaN</td>\n",
       "      <td>NaN</td>\n",
       "      <td>NaN</td>\n",
       "      <td>...</td>\n",
       "      <td>NaN</td>\n",
       "      <td>NaN</td>\n",
       "      <td>NaN</td>\n",
       "      <td>NaN</td>\n",
       "      <td>NaN</td>\n",
       "      <td>NaN</td>\n",
       "      <td>NaN</td>\n",
       "      <td>NaN</td>\n",
       "      <td>NaN</td>\n",
       "      <td>NaN</td>\n",
       "    </tr>\n",
       "    <tr>\n",
       "      <th>std</th>\n",
       "      <td>11609.744113</td>\n",
       "      <td>255.690007</td>\n",
       "      <td>252.33377</td>\n",
       "      <td>256.931197</td>\n",
       "      <td>265.209723</td>\n",
       "      <td>239.798934</td>\n",
       "      <td>NaN</td>\n",
       "      <td>NaN</td>\n",
       "      <td>NaN</td>\n",
       "      <td>NaN</td>\n",
       "      <td>...</td>\n",
       "      <td>NaN</td>\n",
       "      <td>NaN</td>\n",
       "      <td>NaN</td>\n",
       "      <td>NaN</td>\n",
       "      <td>NaN</td>\n",
       "      <td>NaN</td>\n",
       "      <td>NaN</td>\n",
       "      <td>NaN</td>\n",
       "      <td>NaN</td>\n",
       "      <td>NaN</td>\n",
       "    </tr>\n",
       "    <tr>\n",
       "      <th>min</th>\n",
       "      <td>44.000000</td>\n",
       "      <td>-3037.380000</td>\n",
       "      <td>-2435.26000</td>\n",
       "      <td>-6604.670000</td>\n",
       "      <td>-3629.020000</td>\n",
       "      <td>-4022.040000</td>\n",
       "      <td>NaN</td>\n",
       "      <td>NaN</td>\n",
       "      <td>NaN</td>\n",
       "      <td>NaN</td>\n",
       "      <td>...</td>\n",
       "      <td>NaN</td>\n",
       "      <td>NaN</td>\n",
       "      <td>NaN</td>\n",
       "      <td>NaN</td>\n",
       "      <td>NaN</td>\n",
       "      <td>NaN</td>\n",
       "      <td>NaN</td>\n",
       "      <td>NaN</td>\n",
       "      <td>NaN</td>\n",
       "      <td>NaN</td>\n",
       "    </tr>\n",
       "    <tr>\n",
       "      <th>25%</th>\n",
       "      <td>618.000000</td>\n",
       "      <td>-106.160000</td>\n",
       "      <td>-119.24000</td>\n",
       "      <td>-121.460000</td>\n",
       "      <td>-111.440000</td>\n",
       "      <td>-111.740000</td>\n",
       "      <td>NaN</td>\n",
       "      <td>NaN</td>\n",
       "      <td>NaN</td>\n",
       "      <td>NaN</td>\n",
       "      <td>...</td>\n",
       "      <td>NaN</td>\n",
       "      <td>NaN</td>\n",
       "      <td>NaN</td>\n",
       "      <td>NaN</td>\n",
       "      <td>NaN</td>\n",
       "      <td>NaN</td>\n",
       "      <td>NaN</td>\n",
       "      <td>NaN</td>\n",
       "      <td>NaN</td>\n",
       "      <td>NaN</td>\n",
       "    </tr>\n",
       "    <tr>\n",
       "      <th>50%</th>\n",
       "      <td>2091.000000</td>\n",
       "      <td>-11.500000</td>\n",
       "      <td>-27.04000</td>\n",
       "      <td>-31.810000</td>\n",
       "      <td>-15.170000</td>\n",
       "      <td>-17.430000</td>\n",
       "      <td>NaN</td>\n",
       "      <td>NaN</td>\n",
       "      <td>NaN</td>\n",
       "      <td>NaN</td>\n",
       "      <td>...</td>\n",
       "      <td>NaN</td>\n",
       "      <td>NaN</td>\n",
       "      <td>NaN</td>\n",
       "      <td>NaN</td>\n",
       "      <td>NaN</td>\n",
       "      <td>NaN</td>\n",
       "      <td>NaN</td>\n",
       "      <td>NaN</td>\n",
       "      <td>NaN</td>\n",
       "      <td>NaN</td>\n",
       "    </tr>\n",
       "    <tr>\n",
       "      <th>75%</th>\n",
       "      <td>6189.000000</td>\n",
       "      <td>72.120000</td>\n",
       "      <td>58.85000</td>\n",
       "      <td>47.480000</td>\n",
       "      <td>65.940000</td>\n",
       "      <td>65.920000</td>\n",
       "      <td>NaN</td>\n",
       "      <td>NaN</td>\n",
       "      <td>NaN</td>\n",
       "      <td>NaN</td>\n",
       "      <td>...</td>\n",
       "      <td>NaN</td>\n",
       "      <td>NaN</td>\n",
       "      <td>NaN</td>\n",
       "      <td>NaN</td>\n",
       "      <td>NaN</td>\n",
       "      <td>NaN</td>\n",
       "      <td>NaN</td>\n",
       "      <td>NaN</td>\n",
       "      <td>NaN</td>\n",
       "      <td>NaN</td>\n",
       "    </tr>\n",
       "    <tr>\n",
       "      <th>max</th>\n",
       "      <td>50415.000000</td>\n",
       "      <td>2824.970000</td>\n",
       "      <td>1796.89000</td>\n",
       "      <td>1906.140000</td>\n",
       "      <td>1515.790000</td>\n",
       "      <td>1901.990000</td>\n",
       "      <td>NaN</td>\n",
       "      <td>NaN</td>\n",
       "      <td>NaN</td>\n",
       "      <td>NaN</td>\n",
       "      <td>...</td>\n",
       "      <td>NaN</td>\n",
       "      <td>NaN</td>\n",
       "      <td>NaN</td>\n",
       "      <td>NaN</td>\n",
       "      <td>NaN</td>\n",
       "      <td>NaN</td>\n",
       "      <td>NaN</td>\n",
       "      <td>NaN</td>\n",
       "      <td>NaN</td>\n",
       "      <td>NaN</td>\n",
       "    </tr>\n",
       "  </tbody>\n",
       "</table>\n",
       "<p>8 rows × 23 columns</p>\n",
       "</div>"
      ],
      "text/plain": [
       "       skill_group_id  net_per_10K_2015  net_per_10K_2016  net_per_10K_2017  \\\n",
       "count    17617.000000      17617.000000       17617.00000      17617.000000   \n",
       "mean      6768.889368        -14.600256         -39.20081        -54.772238   \n",
       "std      11609.744113        255.690007         252.33377        256.931197   \n",
       "min         44.000000      -3037.380000       -2435.26000      -6604.670000   \n",
       "25%        618.000000       -106.160000        -119.24000       -121.460000   \n",
       "50%       2091.000000        -11.500000         -27.04000        -31.810000   \n",
       "75%       6189.000000         72.120000          58.85000         47.480000   \n",
       "max      50415.000000       2824.970000        1796.89000       1906.140000   \n",
       "\n",
       "       net_per_10K_2018  net_per_10K_2019  Unnamed: 12  Unnamed: 13  \\\n",
       "count      17617.000000      17617.000000          0.0          0.0   \n",
       "mean         -36.081342        -34.782431          NaN          NaN   \n",
       "std          265.209723        239.798934          NaN          NaN   \n",
       "min        -3629.020000      -4022.040000          NaN          NaN   \n",
       "25%         -111.440000       -111.740000          NaN          NaN   \n",
       "50%          -15.170000        -17.430000          NaN          NaN   \n",
       "75%           65.940000         65.920000          NaN          NaN   \n",
       "max         1515.790000       1901.990000          NaN          NaN   \n",
       "\n",
       "       Unnamed: 14  Unnamed: 15  ...  Unnamed: 19  Unnamed: 20  Unnamed: 21  \\\n",
       "count          0.0          0.0  ...          0.0          0.0          0.0   \n",
       "mean           NaN          NaN  ...          NaN          NaN          NaN   \n",
       "std            NaN          NaN  ...          NaN          NaN          NaN   \n",
       "min            NaN          NaN  ...          NaN          NaN          NaN   \n",
       "25%            NaN          NaN  ...          NaN          NaN          NaN   \n",
       "50%            NaN          NaN  ...          NaN          NaN          NaN   \n",
       "75%            NaN          NaN  ...          NaN          NaN          NaN   \n",
       "max            NaN          NaN  ...          NaN          NaN          NaN   \n",
       "\n",
       "       Unnamed: 22  Unnamed: 23  Unnamed: 24  Unnamed: 25  Unnamed: 26  \\\n",
       "count          0.0          0.0          0.0          0.0          0.0   \n",
       "mean           NaN          NaN          NaN          NaN          NaN   \n",
       "std            NaN          NaN          NaN          NaN          NaN   \n",
       "min            NaN          NaN          NaN          NaN          NaN   \n",
       "25%            NaN          NaN          NaN          NaN          NaN   \n",
       "50%            NaN          NaN          NaN          NaN          NaN   \n",
       "75%            NaN          NaN          NaN          NaN          NaN   \n",
       "max            NaN          NaN          NaN          NaN          NaN   \n",
       "\n",
       "       Unnamed: 27  Unnamed: 28  \n",
       "count          0.0          0.0  \n",
       "mean           NaN          NaN  \n",
       "std            NaN          NaN  \n",
       "min            NaN          NaN  \n",
       "25%            NaN          NaN  \n",
       "50%            NaN          NaN  \n",
       "75%            NaN          NaN  \n",
       "max            NaN          NaN  \n",
       "\n",
       "[8 rows x 23 columns]"
      ]
     },
     "execution_count": 127,
     "metadata": {},
     "output_type": "execute_result"
    }
   ],
   "source": [
    "mig_skill.describe()"
   ]
  },
  {
   "attachments": {},
   "cell_type": "markdown",
   "metadata": {},
   "source": [
    "🔹 Conclusions on: **Skill Migration** <br>\n",
    "* Does not contain null values.\n",
    "* Very difficult to check for duplicates. \n",
    "* Some columns will be deleted since they do not have information.\n",
    "* Will be used separately from the other datasets. "
   ]
  },
  {
   "attachments": {},
   "cell_type": "markdown",
   "metadata": {},
   "source": [
    "---"
   ]
  },
  {
   "attachments": {},
   "cell_type": "markdown",
   "metadata": {},
   "source": [
    "### Demographic Indicator\n",
    "    This dataset contains a vast amount of information. "
   ]
  },
  {
   "cell_type": "code",
   "execution_count": 123,
   "metadata": {},
   "outputs": [
    {
     "data": {
      "text/html": [
       "<div>\n",
       "<style scoped>\n",
       "    .dataframe tbody tr th:only-of-type {\n",
       "        vertical-align: middle;\n",
       "    }\n",
       "\n",
       "    .dataframe tbody tr th {\n",
       "        vertical-align: top;\n",
       "    }\n",
       "\n",
       "    .dataframe thead th {\n",
       "        text-align: right;\n",
       "    }\n",
       "</style>\n",
       "<table border=\"1\" class=\"dataframe\">\n",
       "  <thead>\n",
       "    <tr style=\"text-align: right;\">\n",
       "      <th></th>\n",
       "      <th>Index</th>\n",
       "      <th>Variant</th>\n",
       "      <th>Region, subregion, country or area *</th>\n",
       "      <th>Notes</th>\n",
       "      <th>Location code</th>\n",
       "      <th>ISO3 Alpha-code</th>\n",
       "      <th>ISO2 Alpha-code</th>\n",
       "      <th>SDMX code**</th>\n",
       "      <th>Type</th>\n",
       "      <th>Parent code</th>\n",
       "      <th>...</th>\n",
       "      <th>Male Mortality before Age 60 (deaths under age 60 per 1,000 male live births)</th>\n",
       "      <th>Female Mortality before Age 60 (deaths under age 60 per 1,000 female live births)</th>\n",
       "      <th>Mortality between Age 15 and 50, both sexes (deaths under age 50 per 1,000 alive at age 15)</th>\n",
       "      <th>Male Mortality between Age 15 and 50 (deaths under age 50 per 1,000 males alive at age 15)</th>\n",
       "      <th>Female Mortality between Age 15 and 50 (deaths under age 50 per 1,000 females alive at age 15)</th>\n",
       "      <th>Mortality between Age 15 and 60, both sexes (deaths under age 60 per 1,000 alive at age 15)</th>\n",
       "      <th>Male Mortality between Age 15 and 60 (deaths under age 60 per 1,000 males alive at age 15)</th>\n",
       "      <th>Female Mortality between Age 15 and 60 (deaths under age 60 per 1,000 females alive at age 15)</th>\n",
       "      <th>Net Number of Migrants (thousands)</th>\n",
       "      <th>Net Migration Rate (per 1,000 population)</th>\n",
       "    </tr>\n",
       "  </thead>\n",
       "  <tbody>\n",
       "    <tr>\n",
       "      <th>0</th>\n",
       "      <td>1</td>\n",
       "      <td>Estimates</td>\n",
       "      <td>WORLD</td>\n",
       "      <td>NaN</td>\n",
       "      <td>900</td>\n",
       "      <td>NaN</td>\n",
       "      <td>NaN</td>\n",
       "      <td>1.0</td>\n",
       "      <td>World</td>\n",
       "      <td>0</td>\n",
       "      <td>...</td>\n",
       "      <td>580.75</td>\n",
       "      <td>498.04</td>\n",
       "      <td>240.316</td>\n",
       "      <td>271.625</td>\n",
       "      <td>208.192</td>\n",
       "      <td>378.697</td>\n",
       "      <td>430.259</td>\n",
       "      <td>324.931</td>\n",
       "      <td>0</td>\n",
       "      <td>0</td>\n",
       "    </tr>\n",
       "    <tr>\n",
       "      <th>1</th>\n",
       "      <td>2</td>\n",
       "      <td>Estimates</td>\n",
       "      <td>WORLD</td>\n",
       "      <td>NaN</td>\n",
       "      <td>900</td>\n",
       "      <td>NaN</td>\n",
       "      <td>NaN</td>\n",
       "      <td>1.0</td>\n",
       "      <td>World</td>\n",
       "      <td>0</td>\n",
       "      <td>...</td>\n",
       "      <td>566.728</td>\n",
       "      <td>490.199</td>\n",
       "      <td>231.177</td>\n",
       "      <td>258.09</td>\n",
       "      <td>203.78</td>\n",
       "      <td>368.319</td>\n",
       "      <td>415.836</td>\n",
       "      <td>319.336</td>\n",
       "      <td>0</td>\n",
       "      <td>0</td>\n",
       "    </tr>\n",
       "    <tr>\n",
       "      <th>2</th>\n",
       "      <td>3</td>\n",
       "      <td>Estimates</td>\n",
       "      <td>WORLD</td>\n",
       "      <td>NaN</td>\n",
       "      <td>900</td>\n",
       "      <td>NaN</td>\n",
       "      <td>NaN</td>\n",
       "      <td>1.0</td>\n",
       "      <td>World</td>\n",
       "      <td>0</td>\n",
       "      <td>...</td>\n",
       "      <td>546.317</td>\n",
       "      <td>477.264</td>\n",
       "      <td>218.674</td>\n",
       "      <td>240.034</td>\n",
       "      <td>197.142</td>\n",
       "      <td>353.055</td>\n",
       "      <td>395.533</td>\n",
       "      <td>309.91</td>\n",
       "      <td>0</td>\n",
       "      <td>0</td>\n",
       "    </tr>\n",
       "    <tr>\n",
       "      <th>3</th>\n",
       "      <td>4</td>\n",
       "      <td>Estimates</td>\n",
       "      <td>WORLD</td>\n",
       "      <td>NaN</td>\n",
       "      <td>900</td>\n",
       "      <td>NaN</td>\n",
       "      <td>NaN</td>\n",
       "      <td>1.0</td>\n",
       "      <td>World</td>\n",
       "      <td>0</td>\n",
       "      <td>...</td>\n",
       "      <td>535.829</td>\n",
       "      <td>469.532</td>\n",
       "      <td>212.872</td>\n",
       "      <td>232.602</td>\n",
       "      <td>193.049</td>\n",
       "      <td>345.083</td>\n",
       "      <td>385.843</td>\n",
       "      <td>303.905</td>\n",
       "      <td>0</td>\n",
       "      <td>0</td>\n",
       "    </tr>\n",
       "    <tr>\n",
       "      <th>4</th>\n",
       "      <td>5</td>\n",
       "      <td>Estimates</td>\n",
       "      <td>WORLD</td>\n",
       "      <td>NaN</td>\n",
       "      <td>900</td>\n",
       "      <td>NaN</td>\n",
       "      <td>NaN</td>\n",
       "      <td>1.0</td>\n",
       "      <td>World</td>\n",
       "      <td>0</td>\n",
       "      <td>...</td>\n",
       "      <td>523.124</td>\n",
       "      <td>458.484</td>\n",
       "      <td>205.762</td>\n",
       "      <td>224.05</td>\n",
       "      <td>187.444</td>\n",
       "      <td>335.442</td>\n",
       "      <td>374.658</td>\n",
       "      <td>295.994</td>\n",
       "      <td>0</td>\n",
       "      <td>0</td>\n",
       "    </tr>\n",
       "  </tbody>\n",
       "</table>\n",
       "<p>5 rows × 65 columns</p>\n",
       "</div>"
      ],
      "text/plain": [
       "   Index    Variant Region, subregion, country or area * Notes  Location code  \\\n",
       "0      1  Estimates                                WORLD   NaN            900   \n",
       "1      2  Estimates                                WORLD   NaN            900   \n",
       "2      3  Estimates                                WORLD   NaN            900   \n",
       "3      4  Estimates                                WORLD   NaN            900   \n",
       "4      5  Estimates                                WORLD   NaN            900   \n",
       "\n",
       "  ISO3 Alpha-code ISO2 Alpha-code  SDMX code**   Type  Parent code  ...  \\\n",
       "0             NaN             NaN          1.0  World            0  ...   \n",
       "1             NaN             NaN          1.0  World            0  ...   \n",
       "2             NaN             NaN          1.0  World            0  ...   \n",
       "3             NaN             NaN          1.0  World            0  ...   \n",
       "4             NaN             NaN          1.0  World            0  ...   \n",
       "\n",
       "   Male Mortality before Age 60 (deaths under age 60 per 1,000 male live births)  \\\n",
       "0                                             580.75                               \n",
       "1                                            566.728                               \n",
       "2                                            546.317                               \n",
       "3                                            535.829                               \n",
       "4                                            523.124                               \n",
       "\n",
       "  Female Mortality before Age 60 (deaths under age 60 per 1,000 female live births)  \\\n",
       "0                                             498.04                                  \n",
       "1                                            490.199                                  \n",
       "2                                            477.264                                  \n",
       "3                                            469.532                                  \n",
       "4                                            458.484                                  \n",
       "\n",
       "  Mortality between Age 15 and 50, both sexes (deaths under age 50 per 1,000 alive at age 15)  \\\n",
       "0                                            240.316                                            \n",
       "1                                            231.177                                            \n",
       "2                                            218.674                                            \n",
       "3                                            212.872                                            \n",
       "4                                            205.762                                            \n",
       "\n",
       "  Male Mortality between Age 15 and 50 (deaths under age 50 per 1,000 males alive at age 15)  \\\n",
       "0                                            271.625                                           \n",
       "1                                             258.09                                           \n",
       "2                                            240.034                                           \n",
       "3                                            232.602                                           \n",
       "4                                             224.05                                           \n",
       "\n",
       "  Female Mortality between Age 15 and 50 (deaths under age 50 per 1,000 females alive at age 15)  \\\n",
       "0                                            208.192                                               \n",
       "1                                             203.78                                               \n",
       "2                                            197.142                                               \n",
       "3                                            193.049                                               \n",
       "4                                            187.444                                               \n",
       "\n",
       "  Mortality between Age 15 and 60, both sexes (deaths under age 60 per 1,000 alive at age 15)  \\\n",
       "0                                            378.697                                            \n",
       "1                                            368.319                                            \n",
       "2                                            353.055                                            \n",
       "3                                            345.083                                            \n",
       "4                                            335.442                                            \n",
       "\n",
       "  Male Mortality between Age 15 and 60 (deaths under age 60 per 1,000 males alive at age 15)  \\\n",
       "0                                            430.259                                           \n",
       "1                                            415.836                                           \n",
       "2                                            395.533                                           \n",
       "3                                            385.843                                           \n",
       "4                                            374.658                                           \n",
       "\n",
       "  Female Mortality between Age 15 and 60 (deaths under age 60 per 1,000 females alive at age 15)  \\\n",
       "0                                            324.931                                               \n",
       "1                                            319.336                                               \n",
       "2                                             309.91                                               \n",
       "3                                            303.905                                               \n",
       "4                                            295.994                                               \n",
       "\n",
       "  Net Number of Migrants (thousands) Net Migration Rate (per 1,000 population)  \n",
       "0                                  0                                         0  \n",
       "1                                  0                                         0  \n",
       "2                                  0                                         0  \n",
       "3                                  0                                         0  \n",
       "4                                  0                                         0  \n",
       "\n",
       "[5 rows x 65 columns]"
      ]
     },
     "execution_count": 123,
     "metadata": {},
     "output_type": "execute_result"
    }
   ],
   "source": [
    "mig_demo.head()"
   ]
  },
  {
   "cell_type": "code",
   "execution_count": 124,
   "metadata": {},
   "outputs": [
    {
     "data": {
      "text/plain": [
       "(20596, 65)"
      ]
     },
     "execution_count": 124,
     "metadata": {},
     "output_type": "execute_result"
    }
   ],
   "source": [
    "mig_demo.shape"
   ]
  },
  {
   "cell_type": "code",
   "execution_count": 125,
   "metadata": {},
   "outputs": [
    {
     "name": "stdout",
     "output_type": "stream",
     "text": [
      "<class 'pandas.core.frame.DataFrame'>\n",
      "RangeIndex: 20596 entries, 0 to 20595\n",
      "Data columns (total 65 columns):\n",
      " #   Column                                                                                          Non-Null Count  Dtype  \n",
      "---  ------                                                                                          --------------  -----  \n",
      " 0   Index                                                                                           20596 non-null  int64  \n",
      " 1   Variant                                                                                         20596 non-null  object \n",
      " 2   Region, subregion, country or area *                                                            20596 non-null  object \n",
      " 3   Notes                                                                                           5475 non-null   object \n",
      " 4   Location code                                                                                   20596 non-null  int64  \n",
      " 5   ISO3 Alpha-code                                                                                 17064 non-null  object \n",
      " 6   ISO2 Alpha-code                                                                                 16992 non-null  object \n",
      " 7   SDMX code**                                                                                     20304 non-null  float64\n",
      " 8   Type                                                                                            20596 non-null  object \n",
      " 9   Parent code                                                                                     20596 non-null  int64  \n",
      " 10  Year                                                                                            20592 non-null  float64\n",
      " 11  Total Population, as of 1 January (thousands)                                                   20596 non-null  object \n",
      " 12  Total Population, as of 1 July (thousands)                                                      20596 non-null  object \n",
      " 13  Male Population, as of 1 July (thousands)                                                       20596 non-null  object \n",
      " 14  Female Population, as of 1 July (thousands)                                                     20596 non-null  object \n",
      " 15  Population Density, as of 1 July (persons per square km)                                        20596 non-null  object \n",
      " 16  Population Sex Ratio, as of 1 July (males per 100 females)                                      20596 non-null  object \n",
      " 17  Median Age, as of 1 July (years)                                                                20596 non-null  object \n",
      " 18  Natural Change, Births minus Deaths (thousands)                                                 20596 non-null  object \n",
      " 19  Rate of Natural Change (per 1,000 population)                                                   20596 non-null  object \n",
      " 20  Population Change (thousands)                                                                   20596 non-null  object \n",
      " 21  Population Growth Rate (percentage)                                                             20596 non-null  object \n",
      " 22  Population Annual Doubling Time (years)                                                         20596 non-null  object \n",
      " 23  Births (thousands)                                                                              20596 non-null  object \n",
      " 24  Births by women aged 15 to 19 (thousands)                                                       20596 non-null  object \n",
      " 25  Crude Birth Rate (births per 1,000 population)                                                  20596 non-null  object \n",
      " 26  Total Fertility Rate (live births per woman)                                                    20596 non-null  object \n",
      " 27  Net Reproduction Rate (surviving daughters per woman)                                           20596 non-null  object \n",
      " 28  Mean Age Childbearing (years)                                                                   20596 non-null  object \n",
      " 29  Sex Ratio at Birth (males per 100 female births)                                                20596 non-null  object \n",
      " 30  Total Deaths (thousands)                                                                        20596 non-null  object \n",
      " 31  Male Deaths (thousands)                                                                         20596 non-null  object \n",
      " 32  Female Deaths (thousands)                                                                       20596 non-null  object \n",
      " 33  Crude Death Rate (deaths per 1,000 population)                                                  20596 non-null  object \n",
      " 34  Life Expectancy at Birth, both sexes (years)                                                    20596 non-null  object \n",
      " 35  Male Life Expectancy at Birth (years)                                                           20596 non-null  object \n",
      " 36  Female Life Expectancy at Birth (years)                                                         20596 non-null  object \n",
      " 37  Life Expectancy at Age 15, both sexes (years)                                                   20596 non-null  object \n",
      " 38  Male Life Expectancy at Age 15 (years)                                                          20596 non-null  object \n",
      " 39  Female Life Expectancy at Age 15 (years)                                                        20596 non-null  object \n",
      " 40  Life Expectancy at Age 65, both sexes (years)                                                   20596 non-null  object \n",
      " 41  Male Life Expectancy at Age 65 (years)                                                          20596 non-null  object \n",
      " 42  Female Life Expectancy at Age 65 (years)                                                        20596 non-null  object \n",
      " 43  Life Expectancy at Age 80, both sexes (years)                                                   20596 non-null  object \n",
      " 44  Male Life Expectancy at Age 80 (years)                                                          20596 non-null  object \n",
      " 45  Female Life Expectancy at Age 80 (years)                                                        20596 non-null  object \n",
      " 46  Infant Deaths, under age 1 (thousands)                                                          20596 non-null  object \n",
      " 47  Infant Mortality Rate (infant deaths per 1,000 live births)                                     20596 non-null  object \n",
      " 48  Live Births Surviving to Age 1 (thousands)                                                      20596 non-null  object \n",
      " 49  Under-Five Deaths, under age 5 (thousands)                                                      20596 non-null  object \n",
      " 50  Under-Five Mortality (deaths under age 5 per 1,000 live births)                                 20596 non-null  object \n",
      " 51  Mortality before Age 40, both sexes (deaths under age 40 per 1,000 live births)                 20596 non-null  object \n",
      " 52  Male Mortality before Age 40 (deaths under age 40 per 1,000 male live births)                   20596 non-null  object \n",
      " 53  Female Mortality before Age 40 (deaths under age 40 per 1,000 female live births)               20596 non-null  object \n",
      " 54  Mortality before Age 60, both sexes (deaths under age 60 per 1,000 live births)                 20596 non-null  object \n",
      " 55  Male Mortality before Age 60 (deaths under age 60 per 1,000 male live births)                   20596 non-null  object \n",
      " 56  Female Mortality before Age 60 (deaths under age 60 per 1,000 female live births)               20596 non-null  object \n",
      " 57  Mortality between Age 15 and 50, both sexes (deaths under age 50 per 1,000 alive at age 15)     20596 non-null  object \n",
      " 58  Male Mortality between Age 15 and 50 (deaths under age 50 per 1,000 males alive at age 15)      20596 non-null  object \n",
      " 59  Female Mortality between Age 15 and 50 (deaths under age 50 per 1,000 females alive at age 15)  20596 non-null  object \n",
      " 60  Mortality between Age 15 and 60, both sexes (deaths under age 60 per 1,000 alive at age 15)     20596 non-null  object \n",
      " 61  Male Mortality between Age 15 and 60 (deaths under age 60 per 1,000 males alive at age 15)      20596 non-null  object \n",
      " 62  Female Mortality between Age 15 and 60 (deaths under age 60 per 1,000 females alive at age 15)  20596 non-null  object \n",
      " 63  Net Number of Migrants (thousands)                                                              20596 non-null  object \n",
      " 64  Net Migration Rate (per 1,000 population)                                                       20596 non-null  object \n",
      "dtypes: float64(2), int64(3), object(60)\n",
      "memory usage: 10.2+ MB\n"
     ]
    }
   ],
   "source": [
    "mig_demo.info()"
   ]
  },
  {
   "cell_type": "code",
   "execution_count": 126,
   "metadata": {},
   "outputs": [
    {
     "data": {
      "text/html": [
       "<div>\n",
       "<style scoped>\n",
       "    .dataframe tbody tr th:only-of-type {\n",
       "        vertical-align: middle;\n",
       "    }\n",
       "\n",
       "    .dataframe tbody tr th {\n",
       "        vertical-align: top;\n",
       "    }\n",
       "\n",
       "    .dataframe thead th {\n",
       "        text-align: right;\n",
       "    }\n",
       "</style>\n",
       "<table border=\"1\" class=\"dataframe\">\n",
       "  <thead>\n",
       "    <tr style=\"text-align: right;\">\n",
       "      <th></th>\n",
       "      <th>Index</th>\n",
       "      <th>Location code</th>\n",
       "      <th>SDMX code**</th>\n",
       "      <th>Parent code</th>\n",
       "      <th>Year</th>\n",
       "    </tr>\n",
       "  </thead>\n",
       "  <tbody>\n",
       "    <tr>\n",
       "      <th>count</th>\n",
       "      <td>20596.000000</td>\n",
       "      <td>20596.000000</td>\n",
       "      <td>20304.000000</td>\n",
       "      <td>20596.000000</td>\n",
       "      <td>20592.00000</td>\n",
       "    </tr>\n",
       "    <tr>\n",
       "      <th>mean</th>\n",
       "      <td>10298.500000</td>\n",
       "      <td>597.600748</td>\n",
       "      <td>410.088652</td>\n",
       "      <td>1217.669062</td>\n",
       "      <td>1985.50000</td>\n",
       "    </tr>\n",
       "    <tr>\n",
       "      <th>std</th>\n",
       "      <td>5945.697408</td>\n",
       "      <td>565.832272</td>\n",
       "      <td>268.841860</td>\n",
       "      <td>1004.610463</td>\n",
       "      <td>20.78311</td>\n",
       "    </tr>\n",
       "    <tr>\n",
       "      <th>min</th>\n",
       "      <td>1.000000</td>\n",
       "      <td>4.000000</td>\n",
       "      <td>1.000000</td>\n",
       "      <td>0.000000</td>\n",
       "      <td>1950.00000</td>\n",
       "    </tr>\n",
       "    <tr>\n",
       "      <th>25%</th>\n",
       "      <td>5149.750000</td>\n",
       "      <td>266.000000</td>\n",
       "      <td>158.000000</td>\n",
       "      <td>913.000000</td>\n",
       "      <td>1967.75000</td>\n",
       "    </tr>\n",
       "    <tr>\n",
       "      <th>50%</th>\n",
       "      <td>10298.500000</td>\n",
       "      <td>531.000000</td>\n",
       "      <td>415.500000</td>\n",
       "      <td>922.000000</td>\n",
       "      <td>1985.50000</td>\n",
       "    </tr>\n",
       "    <tr>\n",
       "      <th>75%</th>\n",
       "      <td>15447.250000</td>\n",
       "      <td>792.000000</td>\n",
       "      <td>643.000000</td>\n",
       "      <td>931.000000</td>\n",
       "      <td>2003.25000</td>\n",
       "    </tr>\n",
       "    <tr>\n",
       "      <th>max</th>\n",
       "      <td>20596.000000</td>\n",
       "      <td>5501.000000</td>\n",
       "      <td>914.000000</td>\n",
       "      <td>5501.000000</td>\n",
       "      <td>2021.00000</td>\n",
       "    </tr>\n",
       "  </tbody>\n",
       "</table>\n",
       "</div>"
      ],
      "text/plain": [
       "              Index  Location code   SDMX code**   Parent code         Year\n",
       "count  20596.000000   20596.000000  20304.000000  20596.000000  20592.00000\n",
       "mean   10298.500000     597.600748    410.088652   1217.669062   1985.50000\n",
       "std     5945.697408     565.832272    268.841860   1004.610463     20.78311\n",
       "min        1.000000       4.000000      1.000000      0.000000   1950.00000\n",
       "25%     5149.750000     266.000000    158.000000    913.000000   1967.75000\n",
       "50%    10298.500000     531.000000    415.500000    922.000000   1985.50000\n",
       "75%    15447.250000     792.000000    643.000000    931.000000   2003.25000\n",
       "max    20596.000000    5501.000000    914.000000   5501.000000   2021.00000"
      ]
     },
     "execution_count": 126,
     "metadata": {},
     "output_type": "execute_result"
    }
   ],
   "source": [
    "mig_demo.describe()"
   ]
  },
  {
   "attachments": {},
   "cell_type": "markdown",
   "metadata": {},
   "source": [
    "We check if the columns we want have null values: "
   ]
  },
  {
   "cell_type": "code",
   "execution_count": 128,
   "metadata": {},
   "outputs": [
    {
     "name": "stdout",
     "output_type": "stream",
     "text": [
      "Natural Change, Births minus Deaths (thousands)                0\n",
      "Rate of Natural Change (per 1,000 population)                  0\n",
      "Population Growth Rate (percentage)                            0\n",
      "Crude Birth Rate (births per 1,000 population)                 0\n",
      "Median Age, as of 1 July (years)                               0\n",
      "Life Expectancy at Birth, both sexes (years)                   0\n",
      "Net Number of Migrants (thousands)                             0\n",
      "Net Migration Rate (per 1,000 population)                      0\n",
      "Infant Mortality Rate (infant deaths per 1,000 live births)    0\n",
      "Infant Deaths, under age 1 (thousands)                         0\n",
      "dtype: int64\n"
     ]
    }
   ],
   "source": [
    "check_nulls = mig_demo[['Natural Change, Births minus Deaths (thousands)', 'Rate of Natural Change (per 1,000 population)', 'Population Growth Rate (percentage)', 'Crude Birth Rate (births per 1,000 population)', \n",
    "                        'Median Age, as of 1 July (years)', 'Life Expectancy at Birth, both sexes (years)', 'Net Number of Migrants (thousands)', 'Net Migration Rate (per 1,000 population)',\n",
    "                        'Infant Mortality Rate (infant deaths per 1,000 live births)', 'Infant Deaths, under age 1 (thousands)']].isnull().sum()\n",
    "print(check_nulls)"
   ]
  },
  {
   "attachments": {},
   "cell_type": "markdown",
   "metadata": {},
   "source": [
    "We check it has the years needed:"
   ]
  },
  {
   "cell_type": "code",
   "execution_count": 129,
   "metadata": {},
   "outputs": [
    {
     "data": {
      "text/plain": [
       "array([1950., 1951., 1952., 1953., 1954., 1955., 1956., 1957., 1958.,\n",
       "       1959., 1960., 1961., 1962., 1963., 1964., 1965., 1966., 1967.,\n",
       "       1968., 1969., 1970., 1971., 1972., 1973., 1974., 1975., 1976.,\n",
       "       1977., 1978., 1979., 1980., 1981., 1982., 1983., 1984., 1985.,\n",
       "       1986., 1987., 1988., 1989., 1990., 1991., 1992., 1993., 1994.,\n",
       "       1995., 1996., 1997., 1998., 1999., 2000., 2001., 2002., 2003.,\n",
       "       2004., 2005., 2006., 2007., 2008., 2009., 2010., 2011., 2012.,\n",
       "       2013., 2014., 2015., 2016., 2017., 2018., 2019., 2020., 2021.,\n",
       "         nan])"
      ]
     },
     "execution_count": 129,
     "metadata": {},
     "output_type": "execute_result"
    }
   ],
   "source": [
    "mig_demo['Year'].unique()"
   ]
  },
  {
   "attachments": {},
   "cell_type": "markdown",
   "metadata": {},
   "source": [
    "We check the amount of countries and which onces it has:"
   ]
  },
  {
   "cell_type": "code",
   "execution_count": 131,
   "metadata": {},
   "outputs": [
    {
     "data": {
      "text/plain": [
       "array(['WORLD', 'Sustainable Development Goal (SDG) regions',\n",
       "       'Sub-Saharan Africa', 'Northern Africa and Western Asia',\n",
       "       'Central and Southern Asia', 'Eastern and South-Eastern Asia',\n",
       "       'Latin America and the Caribbean',\n",
       "       'Oceania (excluding Australia and New Zealand)',\n",
       "       'Australia/New Zealand', 'Europe and Northern America',\n",
       "       'UN development groups', 'More developed regions',\n",
       "       'Less developed regions', 'Least developed countries',\n",
       "       'Less developed regions, excluding least developed countries',\n",
       "       'Less developed regions, excluding China',\n",
       "       'Land-locked Developing Countries (LLDC)',\n",
       "       'Small Island Developing States (SIDS)',\n",
       "       'World Bank income groups', 'High-income countries',\n",
       "       'Middle-income countries', 'Upper-middle-income countries',\n",
       "       'Lower-middle-income countries', 'Low-income countries',\n",
       "       'No income group available', 'Geographic regions', 'AFRICA',\n",
       "       'Eastern Africa', 'Burundi', 'Comoros', 'Djibouti', 'Eritrea',\n",
       "       'Ethiopia', 'Kenya', 'Madagascar', 'Malawi', 'Mauritius',\n",
       "       'Mayotte', 'Mozambique', 'Réunion', 'Rwanda', 'Seychelles',\n",
       "       'Somalia', 'South Sudan', 'Uganda', 'United Republic of Tanzania',\n",
       "       'Zambia', 'Zimbabwe', 'Middle Africa', 'Angola', 'Cameroon',\n",
       "       'Central African Republic', 'Chad', 'Congo',\n",
       "       'Democratic Republic of the Congo', 'Equatorial Guinea', 'Gabon',\n",
       "       'Sao Tome and Principe', 'Northern Africa', 'Algeria', 'Egypt',\n",
       "       'Libya', 'Morocco', 'Sudan', 'Tunisia', 'Western Sahara',\n",
       "       'Southern Africa', 'Botswana', 'Eswatini', 'Lesotho', 'Namibia',\n",
       "       'South Africa', 'Western Africa', 'Benin', 'Burkina Faso',\n",
       "       'Cabo Verde', \"Côte d'Ivoire\", 'Gambia', 'Ghana', 'Guinea',\n",
       "       'Guinea-Bissau', 'Liberia', 'Mali', 'Mauritania', 'Niger',\n",
       "       'Nigeria', 'Saint Helena', 'Senegal', 'Sierra Leone', 'Togo',\n",
       "       'ASIA', 'Central Asia', 'Kazakhstan', 'Kyrgyzstan', 'Tajikistan',\n",
       "       'Turkmenistan', 'Uzbekistan', 'Eastern Asia', 'China',\n",
       "       'China, Hong Kong SAR', 'China, Macao SAR',\n",
       "       'China, Taiwan Province of China',\n",
       "       \"Dem. People's Republic of Korea\", 'Japan', 'Mongolia',\n",
       "       'Republic of Korea', 'Southern Asia', 'Afghanistan', 'Bangladesh',\n",
       "       'Bhutan', 'India', 'Iran (Islamic Republic of)', 'Maldives',\n",
       "       'Nepal', 'Pakistan', 'Sri Lanka', 'South-Eastern Asia',\n",
       "       'Brunei Darussalam', 'Cambodia', 'Indonesia',\n",
       "       \"Lao People's Democratic Republic\", 'Malaysia', 'Myanmar',\n",
       "       'Philippines', 'Singapore', 'Thailand', 'Timor-Leste', 'Viet Nam',\n",
       "       'Western Asia', 'Armenia', 'Azerbaijan', 'Bahrain', 'Cyprus',\n",
       "       'Georgia', 'Iraq', 'Israel', 'Jordan', 'Kuwait', 'Lebanon', 'Oman',\n",
       "       'Qatar', 'Saudi Arabia', 'State of Palestine',\n",
       "       'Syrian Arab Republic', 'Türkiye', 'United Arab Emirates', 'Yemen',\n",
       "       'EUROPE', 'Eastern Europe', 'Belarus', 'Bulgaria', 'Czechia',\n",
       "       'Hungary', 'Poland', 'Republic of Moldova', 'Romania',\n",
       "       'Russian Federation', 'Slovakia', 'Ukraine', 'Northern Europe',\n",
       "       'Denmark', 'Estonia', 'Faroe Islands', 'Finland', 'Guernsey',\n",
       "       'Iceland', 'Ireland', 'Isle of Man', 'Jersey', 'Latvia',\n",
       "       'Lithuania', 'Norway', 'Sweden', 'United Kingdom',\n",
       "       'Southern Europe', 'Albania', 'Andorra', 'Bosnia and Herzegovina',\n",
       "       'Croatia', 'Gibraltar', 'Greece', 'Holy See', 'Italy',\n",
       "       'Kosovo (under UNSC res. 1244)', 'Malta', 'Montenegro',\n",
       "       'North Macedonia', 'Portugal', 'San Marino', 'Serbia', 'Slovenia',\n",
       "       'Spain', 'Western Europe', 'Austria', 'Belgium', 'France',\n",
       "       'Germany', 'Liechtenstein', 'Luxembourg', 'Monaco', 'Netherlands',\n",
       "       'Switzerland', 'LATIN AMERICA AND THE CARIBBEAN', 'Caribbean',\n",
       "       'Anguilla', 'Antigua and Barbuda', 'Aruba', 'Bahamas', 'Barbados',\n",
       "       'Bonaire, Sint Eustatius and Saba', 'British Virgin Islands',\n",
       "       'Cayman Islands', 'Cuba', 'Curaçao', 'Dominica',\n",
       "       'Dominican Republic', 'Grenada', 'Guadeloupe', 'Haiti', 'Jamaica',\n",
       "       'Martinique', 'Montserrat', 'Puerto Rico', 'Saint Barthélemy',\n",
       "       'Saint Kitts and Nevis', 'Saint Lucia',\n",
       "       'Saint Martin (French part)', 'Saint Vincent and the Grenadines',\n",
       "       'Sint Maarten (Dutch part)', 'Trinidad and Tobago',\n",
       "       'Turks and Caicos Islands', 'United States Virgin Islands',\n",
       "       'Central America', 'Belize', 'Costa Rica', 'El Salvador',\n",
       "       'Guatemala', 'Honduras', 'Mexico', 'Nicaragua', 'Panama',\n",
       "       'South America', 'Argentina', 'Bolivia (Plurinational State of)',\n",
       "       'Brazil', 'Chile', 'Colombia', 'Ecuador',\n",
       "       'Falkland Islands (Malvinas)', 'French Guiana', 'Guyana',\n",
       "       'Paraguay', 'Peru', 'Suriname', 'Uruguay',\n",
       "       'Venezuela (Bolivarian Republic of)', 'NORTHERN AMERICA',\n",
       "       'Bermuda', 'Canada', 'Greenland', 'Saint Pierre and Miquelon',\n",
       "       'United States of America', 'OCEANIA', 'Australia', 'New Zealand',\n",
       "       'Melanesia', 'Fiji', 'New Caledonia', 'Papua New Guinea',\n",
       "       'Solomon Islands', 'Vanuatu', 'Micronesia', 'Guam', 'Kiribati',\n",
       "       'Marshall Islands', 'Micronesia (Fed. States of)', 'Nauru',\n",
       "       'Northern Mariana Islands', 'Palau', 'Polynesia', 'American Samoa',\n",
       "       'Cook Islands', 'French Polynesia', 'Niue', 'Samoa', 'Tokelau',\n",
       "       'Tonga', 'Tuvalu', 'Wallis and Futuna Islands'], dtype=object)"
      ]
     },
     "execution_count": 131,
     "metadata": {},
     "output_type": "execute_result"
    }
   ],
   "source": [
    "mig_demo['Region, subregion, country or area *'].unique()"
   ]
  },
  {
   "cell_type": "code",
   "execution_count": 130,
   "metadata": {},
   "outputs": [
    {
     "data": {
      "text/plain": [
       "289"
      ]
     },
     "execution_count": 130,
     "metadata": {},
     "output_type": "execute_result"
    }
   ],
   "source": [
    "mig_demo['Region, subregion, country or area *'].nunique()"
   ]
  },
  {
   "attachments": {},
   "cell_type": "markdown",
   "metadata": {},
   "source": [
    "---"
   ]
  },
  {
   "attachments": {},
   "cell_type": "markdown",
   "metadata": {},
   "source": [
    "🔹 Conclusions on: **Demographic Indicator** <br>\n",
    "\n",
    "* Does not contain duplicates.\n",
    "* Does not contain null values.\n",
    "* Has all the years needed.\n",
    "    * We will have to remove the years prior 2000. \n",
    "    * We will have to remove the extra dot.\n",
    "* It has more unique in 'Country' than needed. "
   ]
  },
  {
   "attachments": {},
   "cell_type": "markdown",
   "metadata": {},
   "source": [
    "---"
   ]
  },
  {
   "attachments": {},
   "cell_type": "markdown",
   "metadata": {},
   "source": [
    "---"
   ]
  },
  {
   "attachments": {},
   "cell_type": "markdown",
   "metadata": {},
   "source": [
    "## General conclusions on Migration: \n",
    "    One of them will be merged with the rest of the datasets. \n",
    "    The other two will probably be used separetely."
   ]
  },
  {
   "attachments": {},
   "cell_type": "markdown",
   "metadata": {},
   "source": [
    "---"
   ]
  },
  {
   "attachments": {},
   "cell_type": "markdown",
   "metadata": {},
   "source": [
    "# Final conclusions: "
   ]
  },
  {
   "attachments": {},
   "cell_type": "markdown",
   "metadata": {},
   "source": [
    "Datasets can be split in three groups, so working with them will be simple.  <br>\n",
    "Normalizing is a must, because of how different they are between groups, we need to have them in the same format. <br>"
   ]
  },
  {
   "attachments": {},
   "cell_type": "markdown",
   "metadata": {},
   "source": [
    "---"
   ]
  },
  {
   "attachments": {},
   "cell_type": "markdown",
   "metadata": {},
   "source": [
    "Version: 2023/02/28"
   ]
  }
 ],
 "metadata": {
  "kernelspec": {
   "display_name": "Python 3",
   "language": "python",
   "name": "python3"
  },
  "language_info": {
   "codemirror_mode": {
    "name": "ipython",
    "version": 3
   },
   "file_extension": ".py",
   "mimetype": "text/x-python",
   "name": "python",
   "nbconvert_exporter": "python",
   "pygments_lexer": "ipython3",
   "version": "3.10.10"
  },
  "orig_nbformat": 4,
  "vscode": {
   "interpreter": {
    "hash": "aede9838c29d69ce6b598b7cc2904da6f01b3369fa6af2d4895c2504da873163"
   }
  }
 },
 "nbformat": 4,
 "nbformat_minor": 2
}
